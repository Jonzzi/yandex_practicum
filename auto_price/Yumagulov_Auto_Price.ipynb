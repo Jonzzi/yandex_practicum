{
 "cells": [
  {
   "cell_type": "markdown",
   "metadata": {},
   "source": [
    "<font size=4> Добрый день, Евгений! Меня зовут Алан Созанов, будем обмениваться с тобой опытом для успешного прохождения задания! Если не против, предлагаю общаться на ты (иначе дай знать, и перейдем на «вы»). Свои рекомендации буду оформлять в виде комментариев в Markdown ячейках:<br><strong>\n",
    "    <li> <font color='red'> «красный цвет» </font> – важно исправить или внести пояснения\n",
    "    <li> <font color='orange'> «желтый цвет» </font>  – учесть, но можно не исправлять \n",
    "    <li> <font color='green'> «зеленый цвет» </font> – все отлично, плюс альтернативные пути решения задачи\n",
    "        </strong>\n",
    "<br> Прошу при внесении правок мои комментарии не удалять, а свои писать в соседних ячейках и выделять удобным цветом. Так коммуникация будет проходить эффективнее 👍.<br>\n",
    "</font>"
   ]
  },
  {
   "cell_type": "markdown",
   "metadata": {},
   "source": [
    "# Определение стоимости автомобилей"
   ]
  },
  {
   "cell_type": "markdown",
   "metadata": {},
   "source": [
    "Сервис по продаже автомобилей с пробегом «Не бит, не крашен» разрабатывает приложение для привлечения новых клиентов. В нём можно быстро узнать рыночную стоимость своего автомобиля. В вашем распоряжении исторические данные: технические характеристики, комплектации и цены автомобилей. Вам нужно построить модель для определения стоимости. \n",
    "\n",
    "Заказчику важны:\n",
    "\n",
    "- качество предсказания;\n",
    "- скорость предсказания;\n",
    "- время обучения."
   ]
  },
  {
   "cell_type": "markdown",
   "metadata": {},
   "source": [
    "Признаки:\n",
    "* DateCrawled — дата скачивания анкеты из базы\n",
    "* VehicleType — тип автомобильного кузова\n",
    "* RegistrationYear — год регистрации автомобиля\n",
    "* Gearbox — тип коробки передач\n",
    "* Power — мощность (л. с.)\n",
    "* Model — модель автомобиля\n",
    "* Kilometer — пробег (км)\n",
    "* RegistrationMonth — месяц регистрации автомобиля\n",
    "* FuelType — тип топлива\n",
    "* Brand — марка автомобиля\n",
    "* NotRepaired — была машина в ремонте или нет\n",
    "* DateCreated — дата создания анкеты\n",
    "* NumberOfPictures — количество фотографий автомобиля\n",
    "* PostalCode — почтовый индекс владельца анкеты (пользователя)\n",
    "* LastSeen — дата последней активности пользователя\n",
    "\n",
    "Целевой признак:\n",
    "* Price — цена (евро)"
   ]
  },
  {
   "cell_type": "markdown",
   "metadata": {},
   "source": [
    "## Подготовка данных"
   ]
  },
  {
   "cell_type": "code",
   "execution_count": 1,
   "metadata": {},
   "outputs": [],
   "source": [
    "import pandas as pd\n",
    "pd.set_option('display.max_rows', None)\n",
    "import numpy as np\n",
    "import matplotlib.pyplot as plt\n",
    "import warnings\n",
    "warnings.filterwarnings('ignore')\n",
    "from datetime import datetime\n",
    "\n",
    "from sklearn.model_selection import train_test_split\n",
    "from catboost import CatBoostRegressor\n",
    "import lightgbm as lgb\n",
    "\n",
    "from sklearn.linear_model import Ridge\n",
    "from sklearn.ensemble import RandomForestRegressor\n",
    "from sklearn.dummy import DummyRegressor\n",
    "\n",
    "from sklearn.metrics import mean_squared_error\n",
    "from sklearn.metrics import r2_score"
   ]
  },
  {
   "cell_type": "code",
   "execution_count": 2,
   "metadata": {},
   "outputs": [
    {
     "name": "stdout",
     "output_type": "stream",
     "text": [
      "<class 'pandas.core.frame.DataFrame'>\n",
      "RangeIndex: 354369 entries, 0 to 354368\n",
      "Data columns (total 16 columns):\n",
      " #   Column             Non-Null Count   Dtype \n",
      "---  ------             --------------   ----- \n",
      " 0   DateCrawled        354369 non-null  object\n",
      " 1   Price              354369 non-null  int64 \n",
      " 2   VehicleType        316879 non-null  object\n",
      " 3   RegistrationYear   354369 non-null  int64 \n",
      " 4   Gearbox            334536 non-null  object\n",
      " 5   Power              354369 non-null  int64 \n",
      " 6   Model              334664 non-null  object\n",
      " 7   Kilometer          354369 non-null  int64 \n",
      " 8   RegistrationMonth  354369 non-null  int64 \n",
      " 9   FuelType           321474 non-null  object\n",
      " 10  Brand              354369 non-null  object\n",
      " 11  NotRepaired        283215 non-null  object\n",
      " 12  DateCreated        354369 non-null  object\n",
      " 13  NumberOfPictures   354369 non-null  int64 \n",
      " 14  PostalCode         354369 non-null  int64 \n",
      " 15  LastSeen           354369 non-null  object\n",
      "dtypes: int64(7), object(9)\n",
      "memory usage: 43.3+ MB\n"
     ]
    },
    {
     "data": {
      "text/html": [
       "<div>\n",
       "<style scoped>\n",
       "    .dataframe tbody tr th:only-of-type {\n",
       "        vertical-align: middle;\n",
       "    }\n",
       "\n",
       "    .dataframe tbody tr th {\n",
       "        vertical-align: top;\n",
       "    }\n",
       "\n",
       "    .dataframe thead th {\n",
       "        text-align: right;\n",
       "    }\n",
       "</style>\n",
       "<table border=\"1\" class=\"dataframe\">\n",
       "  <thead>\n",
       "    <tr style=\"text-align: right;\">\n",
       "      <th></th>\n",
       "      <th>DateCrawled</th>\n",
       "      <th>Price</th>\n",
       "      <th>VehicleType</th>\n",
       "      <th>RegistrationYear</th>\n",
       "      <th>Gearbox</th>\n",
       "      <th>Power</th>\n",
       "      <th>Model</th>\n",
       "      <th>Kilometer</th>\n",
       "      <th>RegistrationMonth</th>\n",
       "      <th>FuelType</th>\n",
       "      <th>Brand</th>\n",
       "      <th>NotRepaired</th>\n",
       "      <th>DateCreated</th>\n",
       "      <th>NumberOfPictures</th>\n",
       "      <th>PostalCode</th>\n",
       "      <th>LastSeen</th>\n",
       "    </tr>\n",
       "  </thead>\n",
       "  <tbody>\n",
       "    <tr>\n",
       "      <th>0</th>\n",
       "      <td>2016-03-24 11:52:17</td>\n",
       "      <td>480</td>\n",
       "      <td>NaN</td>\n",
       "      <td>1993</td>\n",
       "      <td>manual</td>\n",
       "      <td>0</td>\n",
       "      <td>golf</td>\n",
       "      <td>150000</td>\n",
       "      <td>0</td>\n",
       "      <td>petrol</td>\n",
       "      <td>volkswagen</td>\n",
       "      <td>NaN</td>\n",
       "      <td>2016-03-24 00:00:00</td>\n",
       "      <td>0</td>\n",
       "      <td>70435</td>\n",
       "      <td>2016-04-07 03:16:57</td>\n",
       "    </tr>\n",
       "    <tr>\n",
       "      <th>1</th>\n",
       "      <td>2016-03-24 10:58:45</td>\n",
       "      <td>18300</td>\n",
       "      <td>coupe</td>\n",
       "      <td>2011</td>\n",
       "      <td>manual</td>\n",
       "      <td>190</td>\n",
       "      <td>NaN</td>\n",
       "      <td>125000</td>\n",
       "      <td>5</td>\n",
       "      <td>gasoline</td>\n",
       "      <td>audi</td>\n",
       "      <td>yes</td>\n",
       "      <td>2016-03-24 00:00:00</td>\n",
       "      <td>0</td>\n",
       "      <td>66954</td>\n",
       "      <td>2016-04-07 01:46:50</td>\n",
       "    </tr>\n",
       "    <tr>\n",
       "      <th>2</th>\n",
       "      <td>2016-03-14 12:52:21</td>\n",
       "      <td>9800</td>\n",
       "      <td>suv</td>\n",
       "      <td>2004</td>\n",
       "      <td>auto</td>\n",
       "      <td>163</td>\n",
       "      <td>grand</td>\n",
       "      <td>125000</td>\n",
       "      <td>8</td>\n",
       "      <td>gasoline</td>\n",
       "      <td>jeep</td>\n",
       "      <td>NaN</td>\n",
       "      <td>2016-03-14 00:00:00</td>\n",
       "      <td>0</td>\n",
       "      <td>90480</td>\n",
       "      <td>2016-04-05 12:47:46</td>\n",
       "    </tr>\n",
       "    <tr>\n",
       "      <th>3</th>\n",
       "      <td>2016-03-17 16:54:04</td>\n",
       "      <td>1500</td>\n",
       "      <td>small</td>\n",
       "      <td>2001</td>\n",
       "      <td>manual</td>\n",
       "      <td>75</td>\n",
       "      <td>golf</td>\n",
       "      <td>150000</td>\n",
       "      <td>6</td>\n",
       "      <td>petrol</td>\n",
       "      <td>volkswagen</td>\n",
       "      <td>no</td>\n",
       "      <td>2016-03-17 00:00:00</td>\n",
       "      <td>0</td>\n",
       "      <td>91074</td>\n",
       "      <td>2016-03-17 17:40:17</td>\n",
       "    </tr>\n",
       "    <tr>\n",
       "      <th>4</th>\n",
       "      <td>2016-03-31 17:25:20</td>\n",
       "      <td>3600</td>\n",
       "      <td>small</td>\n",
       "      <td>2008</td>\n",
       "      <td>manual</td>\n",
       "      <td>69</td>\n",
       "      <td>fabia</td>\n",
       "      <td>90000</td>\n",
       "      <td>7</td>\n",
       "      <td>gasoline</td>\n",
       "      <td>skoda</td>\n",
       "      <td>no</td>\n",
       "      <td>2016-03-31 00:00:00</td>\n",
       "      <td>0</td>\n",
       "      <td>60437</td>\n",
       "      <td>2016-04-06 10:17:21</td>\n",
       "    </tr>\n",
       "  </tbody>\n",
       "</table>\n",
       "</div>"
      ],
      "text/plain": [
       "           DateCrawled  Price VehicleType  RegistrationYear Gearbox  Power  \\\n",
       "0  2016-03-24 11:52:17    480         NaN              1993  manual      0   \n",
       "1  2016-03-24 10:58:45  18300       coupe              2011  manual    190   \n",
       "2  2016-03-14 12:52:21   9800         suv              2004    auto    163   \n",
       "3  2016-03-17 16:54:04   1500       small              2001  manual     75   \n",
       "4  2016-03-31 17:25:20   3600       small              2008  manual     69   \n",
       "\n",
       "   Model  Kilometer  RegistrationMonth  FuelType       Brand NotRepaired  \\\n",
       "0   golf     150000                  0    petrol  volkswagen         NaN   \n",
       "1    NaN     125000                  5  gasoline        audi         yes   \n",
       "2  grand     125000                  8  gasoline        jeep         NaN   \n",
       "3   golf     150000                  6    petrol  volkswagen          no   \n",
       "4  fabia      90000                  7  gasoline       skoda          no   \n",
       "\n",
       "           DateCreated  NumberOfPictures  PostalCode             LastSeen  \n",
       "0  2016-03-24 00:00:00                 0       70435  2016-04-07 03:16:57  \n",
       "1  2016-03-24 00:00:00                 0       66954  2016-04-07 01:46:50  \n",
       "2  2016-03-14 00:00:00                 0       90480  2016-04-05 12:47:46  \n",
       "3  2016-03-17 00:00:00                 0       91074  2016-03-17 17:40:17  \n",
       "4  2016-03-31 00:00:00                 0       60437  2016-04-06 10:17:21  "
      ]
     },
     "metadata": {},
     "output_type": "display_data"
    },
    {
     "data": {
      "text/html": [
       "<div>\n",
       "<style scoped>\n",
       "    .dataframe tbody tr th:only-of-type {\n",
       "        vertical-align: middle;\n",
       "    }\n",
       "\n",
       "    .dataframe tbody tr th {\n",
       "        vertical-align: top;\n",
       "    }\n",
       "\n",
       "    .dataframe thead th {\n",
       "        text-align: right;\n",
       "    }\n",
       "</style>\n",
       "<table border=\"1\" class=\"dataframe\">\n",
       "  <thead>\n",
       "    <tr style=\"text-align: right;\">\n",
       "      <th></th>\n",
       "      <th>Price</th>\n",
       "      <th>RegistrationYear</th>\n",
       "      <th>Power</th>\n",
       "      <th>Kilometer</th>\n",
       "      <th>RegistrationMonth</th>\n",
       "      <th>NumberOfPictures</th>\n",
       "      <th>PostalCode</th>\n",
       "    </tr>\n",
       "  </thead>\n",
       "  <tbody>\n",
       "    <tr>\n",
       "      <th>count</th>\n",
       "      <td>354369.000000</td>\n",
       "      <td>354369.000000</td>\n",
       "      <td>354369.000000</td>\n",
       "      <td>354369.000000</td>\n",
       "      <td>354369.000000</td>\n",
       "      <td>354369.0</td>\n",
       "      <td>354369.000000</td>\n",
       "    </tr>\n",
       "    <tr>\n",
       "      <th>mean</th>\n",
       "      <td>4416.656776</td>\n",
       "      <td>2004.234448</td>\n",
       "      <td>110.094337</td>\n",
       "      <td>128211.172535</td>\n",
       "      <td>5.714645</td>\n",
       "      <td>0.0</td>\n",
       "      <td>50508.689087</td>\n",
       "    </tr>\n",
       "    <tr>\n",
       "      <th>std</th>\n",
       "      <td>4514.158514</td>\n",
       "      <td>90.227958</td>\n",
       "      <td>189.850405</td>\n",
       "      <td>37905.341530</td>\n",
       "      <td>3.726421</td>\n",
       "      <td>0.0</td>\n",
       "      <td>25783.096248</td>\n",
       "    </tr>\n",
       "    <tr>\n",
       "      <th>min</th>\n",
       "      <td>0.000000</td>\n",
       "      <td>1000.000000</td>\n",
       "      <td>0.000000</td>\n",
       "      <td>5000.000000</td>\n",
       "      <td>0.000000</td>\n",
       "      <td>0.0</td>\n",
       "      <td>1067.000000</td>\n",
       "    </tr>\n",
       "    <tr>\n",
       "      <th>25%</th>\n",
       "      <td>1050.000000</td>\n",
       "      <td>1999.000000</td>\n",
       "      <td>69.000000</td>\n",
       "      <td>125000.000000</td>\n",
       "      <td>3.000000</td>\n",
       "      <td>0.0</td>\n",
       "      <td>30165.000000</td>\n",
       "    </tr>\n",
       "    <tr>\n",
       "      <th>50%</th>\n",
       "      <td>2700.000000</td>\n",
       "      <td>2003.000000</td>\n",
       "      <td>105.000000</td>\n",
       "      <td>150000.000000</td>\n",
       "      <td>6.000000</td>\n",
       "      <td>0.0</td>\n",
       "      <td>49413.000000</td>\n",
       "    </tr>\n",
       "    <tr>\n",
       "      <th>75%</th>\n",
       "      <td>6400.000000</td>\n",
       "      <td>2008.000000</td>\n",
       "      <td>143.000000</td>\n",
       "      <td>150000.000000</td>\n",
       "      <td>9.000000</td>\n",
       "      <td>0.0</td>\n",
       "      <td>71083.000000</td>\n",
       "    </tr>\n",
       "    <tr>\n",
       "      <th>max</th>\n",
       "      <td>20000.000000</td>\n",
       "      <td>9999.000000</td>\n",
       "      <td>20000.000000</td>\n",
       "      <td>150000.000000</td>\n",
       "      <td>12.000000</td>\n",
       "      <td>0.0</td>\n",
       "      <td>99998.000000</td>\n",
       "    </tr>\n",
       "  </tbody>\n",
       "</table>\n",
       "</div>"
      ],
      "text/plain": [
       "               Price  RegistrationYear          Power      Kilometer  \\\n",
       "count  354369.000000     354369.000000  354369.000000  354369.000000   \n",
       "mean     4416.656776       2004.234448     110.094337  128211.172535   \n",
       "std      4514.158514         90.227958     189.850405   37905.341530   \n",
       "min         0.000000       1000.000000       0.000000    5000.000000   \n",
       "25%      1050.000000       1999.000000      69.000000  125000.000000   \n",
       "50%      2700.000000       2003.000000     105.000000  150000.000000   \n",
       "75%      6400.000000       2008.000000     143.000000  150000.000000   \n",
       "max     20000.000000       9999.000000   20000.000000  150000.000000   \n",
       "\n",
       "       RegistrationMonth  NumberOfPictures     PostalCode  \n",
       "count      354369.000000          354369.0  354369.000000  \n",
       "mean            5.714645               0.0   50508.689087  \n",
       "std             3.726421               0.0   25783.096248  \n",
       "min             0.000000               0.0    1067.000000  \n",
       "25%             3.000000               0.0   30165.000000  \n",
       "50%             6.000000               0.0   49413.000000  \n",
       "75%             9.000000               0.0   71083.000000  \n",
       "max            12.000000               0.0   99998.000000  "
      ]
     },
     "metadata": {},
     "output_type": "display_data"
    },
    {
     "name": "stdout",
     "output_type": "stream",
     "text": [
      "Дубликатов: 4\n"
     ]
    }
   ],
   "source": [
    "data = pd.read_csv('/datasets/autos.csv')\n",
    "data.info()\n",
    "display(data.head())\n",
    "display(data.describe())\n",
    "print('Дубликатов:', data.duplicated().sum())"
   ]
  },
  {
   "cell_type": "code",
   "execution_count": 3,
   "metadata": {},
   "outputs": [
    {
     "name": "stdout",
     "output_type": "stream",
     "text": [
      "Уникальные значение поля VehicleType: [nan 'coupe' 'suv' 'small' 'sedan' 'convertible' 'bus' 'wagon' 'other']\n",
      "Уникальные значение поля Gearbox: ['manual' 'auto' nan]\n",
      "Уникальные значение поля Model: ['golf' nan 'grand' 'fabia' '3er' '2_reihe' 'other' 'c_max' '3_reihe'\n",
      " 'passat' 'navara' 'ka' 'polo' 'twingo' 'a_klasse' 'scirocco' '5er'\n",
      " 'meriva' 'arosa' 'c4' 'civic' 'transporter' 'punto' 'e_klasse' 'clio'\n",
      " 'kadett' 'kangoo' 'corsa' 'one' 'fortwo' '1er' 'b_klasse' 'signum'\n",
      " 'astra' 'a8' 'jetta' 'fiesta' 'c_klasse' 'micra' 'vito' 'sprinter' '156'\n",
      " 'escort' 'forester' 'xc_reihe' 'scenic' 'a4' 'a1' 'insignia' 'combo'\n",
      " 'focus' 'tt' 'a6' 'jazz' 'omega' 'slk' '7er' '80' '147' '100' 'z_reihe'\n",
      " 'sportage' 'sorento' 'v40' 'ibiza' 'mustang' 'eos' 'touran' 'getz' 'a3'\n",
      " 'almera' 'megane' 'lupo' 'r19' 'zafira' 'caddy' 'mondeo' 'cordoba' 'colt'\n",
      " 'impreza' 'vectra' 'berlingo' 'tiguan' 'i_reihe' 'espace' 'sharan'\n",
      " '6_reihe' 'panda' 'up' 'seicento' 'ceed' '5_reihe' 'yeti' 'octavia' 'mii'\n",
      " 'rx_reihe' '6er' 'modus' 'fox' 'matiz' 'beetle' 'c1' 'rio' 'touareg'\n",
      " 'logan' 'spider' 'cuore' 's_max' 'a2' 'galaxy' 'c3' 'viano' 's_klasse'\n",
      " '1_reihe' 'avensis' 'roomster' 'sl' 'kaefer' 'santa' 'cooper' 'leon'\n",
      " '4_reihe' 'a5' '500' 'laguna' 'ptcruiser' 'clk' 'primera' 'x_reihe'\n",
      " 'exeo' '159' 'transit' 'juke' 'qashqai' 'carisma' 'accord' 'corolla'\n",
      " 'lanos' 'phaeton' 'verso' 'swift' 'rav' 'picanto' 'boxster' 'kalos'\n",
      " 'superb' 'stilo' 'alhambra' 'mx_reihe' 'roadster' 'ypsilon' 'cayenne'\n",
      " 'galant' 'justy' '90' 'sirion' 'crossfire' 'agila' 'duster' 'cr_reihe'\n",
      " 'v50' 'c_reihe' 'v_klasse' 'm_klasse' 'yaris' 'c5' 'aygo' 'cc' 'carnival'\n",
      " 'fusion' '911' 'bora' 'forfour' 'm_reihe' 'cl' 'tigra' '300c' 'spark'\n",
      " 'v70' 'kuga' 'x_type' 'ducato' 's_type' 'x_trail' 'toledo' 'altea'\n",
      " 'voyager' 'calibra' 'bravo' 'antara' 'tucson' 'citigo' 'jimny' 'wrangler'\n",
      " 'lybra' 'q7' 'lancer' 'captiva' 'c2' 'discovery' 'freelander' 'sandero'\n",
      " 'note' '900' 'cherokee' 'clubman' 'samara' 'defender' '601' 'cx_reihe'\n",
      " 'legacy' 'pajero' 'auris' 'niva' 's60' 'nubira' 'vivaro' 'g_klasse'\n",
      " 'lodgy' '850' 'range_rover' 'q3' 'serie_2' 'glk' 'charade' 'croma'\n",
      " 'outlander' 'doblo' 'musa' 'move' '9000' 'v60' '145' 'aveo' '200' 'b_max'\n",
      " 'range_rover_sport' 'terios' 'rangerover' 'q5' 'range_rover_evoque'\n",
      " 'materia' 'delta' 'gl' 'kalina' 'amarok' 'elefantino' 'i3' 'kappa'\n",
      " 'serie_3' 'serie_1']\n",
      "Уникальные значение поля FuelType: ['petrol' 'gasoline' nan 'lpg' 'other' 'hybrid' 'cng' 'electric']\n",
      "Уникальные значение поля Brand: ['volkswagen' 'audi' 'jeep' 'skoda' 'bmw' 'peugeot' 'ford' 'mazda'\n",
      " 'nissan' 'renault' 'mercedes_benz' 'opel' 'seat' 'citroen' 'honda' 'fiat'\n",
      " 'mini' 'smart' 'hyundai' 'sonstige_autos' 'alfa_romeo' 'subaru' 'volvo'\n",
      " 'mitsubishi' 'kia' 'suzuki' 'lancia' 'toyota' 'chevrolet' 'dacia'\n",
      " 'daihatsu' 'trabant' 'saab' 'chrysler' 'jaguar' 'daewoo' 'porsche'\n",
      " 'rover' 'land_rover' 'lada']\n",
      "Уникальные значение поля NotRepaired: [nan 'yes' 'no']\n"
     ]
    }
   ],
   "source": [
    "print('Уникальные значение поля VehicleType:', data['VehicleType'].unique())\n",
    "print('Уникальные значение поля Gearbox:', data['Gearbox'].unique())\n",
    "print('Уникальные значение поля Model:', data['Model'].unique())\n",
    "print('Уникальные значение поля FuelType:', data['FuelType'].unique())\n",
    "print('Уникальные значение поля Brand:', data['Brand'].unique())\n",
    "print('Уникальные значение поля NotRepaired:', data['NotRepaired'].unique())"
   ]
  },
  {
   "cell_type": "code",
   "execution_count": 4,
   "metadata": {},
   "outputs": [
    {
     "data": {
      "image/png": "[encoded data removed]",
      "text/plain": [
       "<Figure size 864x648 with 1 Axes>"
      ]
     },
     "metadata": {
      "needs_background": "light"
     },
     "output_type": "display_data"
    },
    {
     "data": {
      "text/html": [
       "<div>\n",
       "<style scoped>\n",
       "    .dataframe tbody tr th:only-of-type {\n",
       "        vertical-align: middle;\n",
       "    }\n",
       "\n",
       "    .dataframe tbody tr th {\n",
       "        vertical-align: top;\n",
       "    }\n",
       "\n",
       "    .dataframe thead th {\n",
       "        text-align: right;\n",
       "    }\n",
       "</style>\n",
       "<table border=\"1\" class=\"dataframe\">\n",
       "  <thead>\n",
       "    <tr style=\"text-align: right;\">\n",
       "      <th></th>\n",
       "      <th>DateCrawled</th>\n",
       "      <th>Price</th>\n",
       "      <th>VehicleType</th>\n",
       "      <th>RegistrationYear</th>\n",
       "      <th>Gearbox</th>\n",
       "      <th>Power</th>\n",
       "      <th>Model</th>\n",
       "      <th>Kilometer</th>\n",
       "      <th>RegistrationMonth</th>\n",
       "      <th>FuelType</th>\n",
       "      <th>Brand</th>\n",
       "      <th>NotRepaired</th>\n",
       "      <th>DateCreated</th>\n",
       "      <th>NumberOfPictures</th>\n",
       "      <th>PostalCode</th>\n",
       "      <th>LastSeen</th>\n",
       "    </tr>\n",
       "  </thead>\n",
       "  <tbody>\n",
       "    <tr>\n",
       "      <th>431</th>\n",
       "      <td>2016-03-20 20:45:27</td>\n",
       "      <td>3950</td>\n",
       "      <td>small</td>\n",
       "      <td>2004</td>\n",
       "      <td>auto</td>\n",
       "      <td>5</td>\n",
       "      <td>NaN</td>\n",
       "      <td>70000</td>\n",
       "      <td>5</td>\n",
       "      <td>gasoline</td>\n",
       "      <td>sonstige_autos</td>\n",
       "      <td>no</td>\n",
       "      <td>2016-03-20 00:00:00</td>\n",
       "      <td>0</td>\n",
       "      <td>90562</td>\n",
       "      <td>2016-04-03 04:17:08</td>\n",
       "    </tr>\n",
       "    <tr>\n",
       "      <th>3349</th>\n",
       "      <td>2016-03-29 17:37:58</td>\n",
       "      <td>1990</td>\n",
       "      <td>small</td>\n",
       "      <td>2004</td>\n",
       "      <td>NaN</td>\n",
       "      <td>7</td>\n",
       "      <td>polo</td>\n",
       "      <td>150000</td>\n",
       "      <td>5</td>\n",
       "      <td>gasoline</td>\n",
       "      <td>volkswagen</td>\n",
       "      <td>no</td>\n",
       "      <td>2016-03-29 00:00:00</td>\n",
       "      <td>0</td>\n",
       "      <td>37124</td>\n",
       "      <td>2016-04-02 05:16:40</td>\n",
       "    </tr>\n",
       "    <tr>\n",
       "      <th>9561</th>\n",
       "      <td>2016-04-04 07:58:34</td>\n",
       "      <td>9000</td>\n",
       "      <td>sedan</td>\n",
       "      <td>2009</td>\n",
       "      <td>manual</td>\n",
       "      <td>2</td>\n",
       "      <td>a4</td>\n",
       "      <td>5000</td>\n",
       "      <td>12</td>\n",
       "      <td>gasoline</td>\n",
       "      <td>audi</td>\n",
       "      <td>NaN</td>\n",
       "      <td>2016-04-04 00:00:00</td>\n",
       "      <td>0</td>\n",
       "      <td>12045</td>\n",
       "      <td>2016-04-06 10:17:01</td>\n",
       "    </tr>\n",
       "    <tr>\n",
       "      <th>12747</th>\n",
       "      <td>2016-03-24 16:38:53</td>\n",
       "      <td>2850</td>\n",
       "      <td>small</td>\n",
       "      <td>2005</td>\n",
       "      <td>auto</td>\n",
       "      <td>5</td>\n",
       "      <td>NaN</td>\n",
       "      <td>40000</td>\n",
       "      <td>8</td>\n",
       "      <td>gasoline</td>\n",
       "      <td>sonstige_autos</td>\n",
       "      <td>no</td>\n",
       "      <td>2016-03-24 00:00:00</td>\n",
       "      <td>0</td>\n",
       "      <td>56825</td>\n",
       "      <td>2016-04-07 08:44:59</td>\n",
       "    </tr>\n",
       "    <tr>\n",
       "      <th>16228</th>\n",
       "      <td>2016-04-02 22:47:03</td>\n",
       "      <td>2500</td>\n",
       "      <td>small</td>\n",
       "      <td>2006</td>\n",
       "      <td>auto</td>\n",
       "      <td>5</td>\n",
       "      <td>NaN</td>\n",
       "      <td>40000</td>\n",
       "      <td>1</td>\n",
       "      <td>gasoline</td>\n",
       "      <td>sonstige_autos</td>\n",
       "      <td>yes</td>\n",
       "      <td>2016-04-02 00:00:00</td>\n",
       "      <td>0</td>\n",
       "      <td>78532</td>\n",
       "      <td>2016-04-04 21:17:01</td>\n",
       "    </tr>\n",
       "    <tr>\n",
       "      <th>16237</th>\n",
       "      <td>2016-03-08 17:56:37</td>\n",
       "      <td>4500</td>\n",
       "      <td>other</td>\n",
       "      <td>2006</td>\n",
       "      <td>auto</td>\n",
       "      <td>5</td>\n",
       "      <td>NaN</td>\n",
       "      <td>40000</td>\n",
       "      <td>7</td>\n",
       "      <td>electric</td>\n",
       "      <td>sonstige_autos</td>\n",
       "      <td>no</td>\n",
       "      <td>2016-03-08 00:00:00</td>\n",
       "      <td>0</td>\n",
       "      <td>77855</td>\n",
       "      <td>2016-04-07 08:46:28</td>\n",
       "    </tr>\n",
       "    <tr>\n",
       "      <th>16523</th>\n",
       "      <td>2016-03-26 10:48:50</td>\n",
       "      <td>4600</td>\n",
       "      <td>other</td>\n",
       "      <td>2012</td>\n",
       "      <td>manual</td>\n",
       "      <td>4</td>\n",
       "      <td>NaN</td>\n",
       "      <td>20000</td>\n",
       "      <td>9</td>\n",
       "      <td>gasoline</td>\n",
       "      <td>sonstige_autos</td>\n",
       "      <td>no</td>\n",
       "      <td>2016-03-26 00:00:00</td>\n",
       "      <td>0</td>\n",
       "      <td>40822</td>\n",
       "      <td>2016-03-26 10:48:50</td>\n",
       "    </tr>\n",
       "    <tr>\n",
       "      <th>20229</th>\n",
       "      <td>2016-03-17 22:48:49</td>\n",
       "      <td>4999</td>\n",
       "      <td>sedan</td>\n",
       "      <td>2003</td>\n",
       "      <td>manual</td>\n",
       "      <td>1</td>\n",
       "      <td>e_klasse</td>\n",
       "      <td>150000</td>\n",
       "      <td>12</td>\n",
       "      <td>gasoline</td>\n",
       "      <td>mercedes_benz</td>\n",
       "      <td>NaN</td>\n",
       "      <td>2016-03-17 00:00:00</td>\n",
       "      <td>0</td>\n",
       "      <td>66571</td>\n",
       "      <td>2016-03-17 23:44:50</td>\n",
       "    </tr>\n",
       "    <tr>\n",
       "      <th>20493</th>\n",
       "      <td>2016-03-28 14:56:39</td>\n",
       "      <td>5200</td>\n",
       "      <td>small</td>\n",
       "      <td>1998</td>\n",
       "      <td>auto</td>\n",
       "      <td>5</td>\n",
       "      <td>NaN</td>\n",
       "      <td>40000</td>\n",
       "      <td>9</td>\n",
       "      <td>gasoline</td>\n",
       "      <td>sonstige_autos</td>\n",
       "      <td>NaN</td>\n",
       "      <td>2016-03-28 00:00:00</td>\n",
       "      <td>0</td>\n",
       "      <td>84085</td>\n",
       "      <td>2016-04-04 18:15:43</td>\n",
       "    </tr>\n",
       "    <tr>\n",
       "      <th>21482</th>\n",
       "      <td>2016-03-11 08:51:45</td>\n",
       "      <td>2900</td>\n",
       "      <td>small</td>\n",
       "      <td>2001</td>\n",
       "      <td>auto</td>\n",
       "      <td>5</td>\n",
       "      <td>NaN</td>\n",
       "      <td>20000</td>\n",
       "      <td>4</td>\n",
       "      <td>gasoline</td>\n",
       "      <td>sonstige_autos</td>\n",
       "      <td>no</td>\n",
       "      <td>2016-03-11 00:00:00</td>\n",
       "      <td>0</td>\n",
       "      <td>53501</td>\n",
       "      <td>2016-04-06 06:46:24</td>\n",
       "    </tr>\n",
       "  </tbody>\n",
       "</table>\n",
       "</div>"
      ],
      "text/plain": [
       "               DateCrawled  Price VehicleType  RegistrationYear Gearbox  \\\n",
       "431    2016-03-20 20:45:27   3950       small              2004    auto   \n",
       "3349   2016-03-29 17:37:58   1990       small              2004     NaN   \n",
       "9561   2016-04-04 07:58:34   9000       sedan              2009  manual   \n",
       "12747  2016-03-24 16:38:53   2850       small              2005    auto   \n",
       "16228  2016-04-02 22:47:03   2500       small              2006    auto   \n",
       "16237  2016-03-08 17:56:37   4500       other              2006    auto   \n",
       "16523  2016-03-26 10:48:50   4600       other              2012  manual   \n",
       "20229  2016-03-17 22:48:49   4999       sedan              2003  manual   \n",
       "20493  2016-03-28 14:56:39   5200       small              1998    auto   \n",
       "21482  2016-03-11 08:51:45   2900       small              2001    auto   \n",
       "\n",
       "       Power     Model  Kilometer  RegistrationMonth  FuelType  \\\n",
       "431        5       NaN      70000                  5  gasoline   \n",
       "3349       7      polo     150000                  5  gasoline   \n",
       "9561       2        a4       5000                 12  gasoline   \n",
       "12747      5       NaN      40000                  8  gasoline   \n",
       "16228      5       NaN      40000                  1  gasoline   \n",
       "16237      5       NaN      40000                  7  electric   \n",
       "16523      4       NaN      20000                  9  gasoline   \n",
       "20229      1  e_klasse     150000                 12  gasoline   \n",
       "20493      5       NaN      40000                  9  gasoline   \n",
       "21482      5       NaN      20000                  4  gasoline   \n",
       "\n",
       "                Brand NotRepaired          DateCreated  NumberOfPictures  \\\n",
       "431    sonstige_autos          no  2016-03-20 00:00:00                 0   \n",
       "3349       volkswagen          no  2016-03-29 00:00:00                 0   \n",
       "9561             audi         NaN  2016-04-04 00:00:00                 0   \n",
       "12747  sonstige_autos          no  2016-03-24 00:00:00                 0   \n",
       "16228  sonstige_autos         yes  2016-04-02 00:00:00                 0   \n",
       "16237  sonstige_autos          no  2016-03-08 00:00:00                 0   \n",
       "16523  sonstige_autos          no  2016-03-26 00:00:00                 0   \n",
       "20229   mercedes_benz         NaN  2016-03-17 00:00:00                 0   \n",
       "20493  sonstige_autos         NaN  2016-03-28 00:00:00                 0   \n",
       "21482  sonstige_autos          no  2016-03-11 00:00:00                 0   \n",
       "\n",
       "       PostalCode             LastSeen  \n",
       "431         90562  2016-04-03 04:17:08  \n",
       "3349        37124  2016-04-02 05:16:40  \n",
       "9561        12045  2016-04-06 10:17:01  \n",
       "12747       56825  2016-04-07 08:44:59  \n",
       "16228       78532  2016-04-04 21:17:01  \n",
       "16237       77855  2016-04-07 08:46:28  \n",
       "16523       40822  2016-03-26 10:48:50  \n",
       "20229       66571  2016-03-17 23:44:50  \n",
       "20493       84085  2016-04-04 18:15:43  \n",
       "21482       53501  2016-04-06 06:46:24  "
      ]
     },
     "metadata": {},
     "output_type": "display_data"
    }
   ],
   "source": [
    "plt.figure(figsize=[12,9])\n",
    "plt.xlim([0, 600])\n",
    "#plt.ylim([0, 900])\n",
    "\n",
    "plt.hist(data['Power'], bins=1000)\n",
    "#plt.hist(gold_recovery_train['final.output.recovery'], bins=100, label='Финальная', alpha=0.7)\n",
    "\n",
    "#plt.xlabel(\"Эффективность обогащения\")\n",
    "#plt.ylabel(\"Количество результатов производства\")\n",
    "plt.title(\"Распределение количества автомобилей по мощности (в диапазоне до 600 л.с.)\")\n",
    "#plt.legend(loc='upper left', fontsize='x-large')\n",
    "#plt.legend(['Поcле флотации', 'Финальная'])\n",
    "plt.show()\n",
    "display(data.query('Power>0 and Power<10').head(10))"
   ]
  },
  {
   "cell_type": "code",
   "execution_count": 5,
   "metadata": {},
   "outputs": [
    {
     "data": {
      "image/png": "[encoded data removed]",
      "text/plain": [
       "<Figure size 864x648 with 1 Axes>"
      ]
     },
     "metadata": {
      "needs_background": "light"
     },
     "output_type": "display_data"
    },
    {
     "data": {
      "text/html": [
       "<div>\n",
       "<style scoped>\n",
       "    .dataframe tbody tr th:only-of-type {\n",
       "        vertical-align: middle;\n",
       "    }\n",
       "\n",
       "    .dataframe tbody tr th {\n",
       "        vertical-align: top;\n",
       "    }\n",
       "\n",
       "    .dataframe thead th {\n",
       "        text-align: right;\n",
       "    }\n",
       "</style>\n",
       "<table border=\"1\" class=\"dataframe\">\n",
       "  <thead>\n",
       "    <tr style=\"text-align: right;\">\n",
       "      <th></th>\n",
       "      <th>DateCrawled</th>\n",
       "      <th>Price</th>\n",
       "      <th>VehicleType</th>\n",
       "      <th>RegistrationYear</th>\n",
       "      <th>Gearbox</th>\n",
       "      <th>Power</th>\n",
       "      <th>Model</th>\n",
       "      <th>Kilometer</th>\n",
       "      <th>RegistrationMonth</th>\n",
       "      <th>FuelType</th>\n",
       "      <th>Brand</th>\n",
       "      <th>NotRepaired</th>\n",
       "      <th>DateCreated</th>\n",
       "      <th>NumberOfPictures</th>\n",
       "      <th>PostalCode</th>\n",
       "      <th>LastSeen</th>\n",
       "    </tr>\n",
       "  </thead>\n",
       "  <tbody>\n",
       "    <tr>\n",
       "      <th>59</th>\n",
       "      <td>2016-03-29 15:48:15</td>\n",
       "      <td>1</td>\n",
       "      <td>suv</td>\n",
       "      <td>1994</td>\n",
       "      <td>manual</td>\n",
       "      <td>286</td>\n",
       "      <td>NaN</td>\n",
       "      <td>150000</td>\n",
       "      <td>11</td>\n",
       "      <td>NaN</td>\n",
       "      <td>sonstige_autos</td>\n",
       "      <td>NaN</td>\n",
       "      <td>2016-03-29 00:00:00</td>\n",
       "      <td>0</td>\n",
       "      <td>53721</td>\n",
       "      <td>2016-04-06 01:44:38</td>\n",
       "    </tr>\n",
       "    <tr>\n",
       "      <th>89</th>\n",
       "      <td>2016-03-28 09:37:01</td>\n",
       "      <td>1</td>\n",
       "      <td>sedan</td>\n",
       "      <td>1995</td>\n",
       "      <td>manual</td>\n",
       "      <td>113</td>\n",
       "      <td>e_klasse</td>\n",
       "      <td>150000</td>\n",
       "      <td>4</td>\n",
       "      <td>gasoline</td>\n",
       "      <td>mercedes_benz</td>\n",
       "      <td>no</td>\n",
       "      <td>2016-03-28 00:00:00</td>\n",
       "      <td>0</td>\n",
       "      <td>40589</td>\n",
       "      <td>2016-04-06 12:15:54</td>\n",
       "    </tr>\n",
       "    <tr>\n",
       "      <th>268</th>\n",
       "      <td>2016-03-12 07:26:49</td>\n",
       "      <td>1</td>\n",
       "      <td>sedan</td>\n",
       "      <td>1990</td>\n",
       "      <td>manual</td>\n",
       "      <td>90</td>\n",
       "      <td>80</td>\n",
       "      <td>70000</td>\n",
       "      <td>6</td>\n",
       "      <td>petrol</td>\n",
       "      <td>audi</td>\n",
       "      <td>no</td>\n",
       "      <td>2016-03-11 00:00:00</td>\n",
       "      <td>0</td>\n",
       "      <td>55122</td>\n",
       "      <td>2016-03-26 23:15:49</td>\n",
       "    </tr>\n",
       "    <tr>\n",
       "      <th>408</th>\n",
       "      <td>2016-03-29 18:51:58</td>\n",
       "      <td>1</td>\n",
       "      <td>NaN</td>\n",
       "      <td>2000</td>\n",
       "      <td>NaN</td>\n",
       "      <td>75</td>\n",
       "      <td>golf</td>\n",
       "      <td>90000</td>\n",
       "      <td>3</td>\n",
       "      <td>petrol</td>\n",
       "      <td>volkswagen</td>\n",
       "      <td>NaN</td>\n",
       "      <td>2016-03-29 00:00:00</td>\n",
       "      <td>0</td>\n",
       "      <td>78588</td>\n",
       "      <td>2016-04-06 04:45:50</td>\n",
       "    </tr>\n",
       "    <tr>\n",
       "      <th>901</th>\n",
       "      <td>2016-03-06 00:25:25</td>\n",
       "      <td>1</td>\n",
       "      <td>NaN</td>\n",
       "      <td>1990</td>\n",
       "      <td>manual</td>\n",
       "      <td>0</td>\n",
       "      <td>other</td>\n",
       "      <td>150000</td>\n",
       "      <td>0</td>\n",
       "      <td>NaN</td>\n",
       "      <td>porsche</td>\n",
       "      <td>NaN</td>\n",
       "      <td>2016-03-05 00:00:00</td>\n",
       "      <td>0</td>\n",
       "      <td>65843</td>\n",
       "      <td>2016-04-06 20:19:08</td>\n",
       "    </tr>\n",
       "    <tr>\n",
       "      <th>967</th>\n",
       "      <td>2016-03-23 08:21:11</td>\n",
       "      <td>1</td>\n",
       "      <td>wagon</td>\n",
       "      <td>1998</td>\n",
       "      <td>manual</td>\n",
       "      <td>136</td>\n",
       "      <td>omega</td>\n",
       "      <td>150000</td>\n",
       "      <td>0</td>\n",
       "      <td>petrol</td>\n",
       "      <td>opel</td>\n",
       "      <td>no</td>\n",
       "      <td>2016-03-22 00:00:00</td>\n",
       "      <td>0</td>\n",
       "      <td>57614</td>\n",
       "      <td>2016-03-27 08:45:52</td>\n",
       "    </tr>\n",
       "    <tr>\n",
       "      <th>1025</th>\n",
       "      <td>2016-03-15 18:57:12</td>\n",
       "      <td>3</td>\n",
       "      <td>convertible</td>\n",
       "      <td>1998</td>\n",
       "      <td>manual</td>\n",
       "      <td>110</td>\n",
       "      <td>mx_reihe</td>\n",
       "      <td>150000</td>\n",
       "      <td>11</td>\n",
       "      <td>NaN</td>\n",
       "      <td>mazda</td>\n",
       "      <td>yes</td>\n",
       "      <td>2016-03-15 00:00:00</td>\n",
       "      <td>0</td>\n",
       "      <td>89312</td>\n",
       "      <td>2016-04-06 21:16:58</td>\n",
       "    </tr>\n",
       "    <tr>\n",
       "      <th>1247</th>\n",
       "      <td>2016-03-24 15:57:20</td>\n",
       "      <td>1</td>\n",
       "      <td>sedan</td>\n",
       "      <td>1983</td>\n",
       "      <td>manual</td>\n",
       "      <td>0</td>\n",
       "      <td>NaN</td>\n",
       "      <td>150000</td>\n",
       "      <td>6</td>\n",
       "      <td>petrol</td>\n",
       "      <td>mercedes_benz</td>\n",
       "      <td>no</td>\n",
       "      <td>2016-03-24 00:00:00</td>\n",
       "      <td>0</td>\n",
       "      <td>53173</td>\n",
       "      <td>2016-04-07 08:45:25</td>\n",
       "    </tr>\n",
       "    <tr>\n",
       "      <th>1340</th>\n",
       "      <td>2016-03-16 21:47:22</td>\n",
       "      <td>1</td>\n",
       "      <td>NaN</td>\n",
       "      <td>2016</td>\n",
       "      <td>manual</td>\n",
       "      <td>0</td>\n",
       "      <td>golf</td>\n",
       "      <td>150000</td>\n",
       "      <td>0</td>\n",
       "      <td>gasoline</td>\n",
       "      <td>volkswagen</td>\n",
       "      <td>yes</td>\n",
       "      <td>2016-03-16 00:00:00</td>\n",
       "      <td>0</td>\n",
       "      <td>49401</td>\n",
       "      <td>2016-04-07 09:45:43</td>\n",
       "    </tr>\n",
       "    <tr>\n",
       "      <th>1542</th>\n",
       "      <td>2016-03-25 14:39:33</td>\n",
       "      <td>1</td>\n",
       "      <td>NaN</td>\n",
       "      <td>2000</td>\n",
       "      <td>NaN</td>\n",
       "      <td>0</td>\n",
       "      <td>astra</td>\n",
       "      <td>150000</td>\n",
       "      <td>0</td>\n",
       "      <td>NaN</td>\n",
       "      <td>opel</td>\n",
       "      <td>NaN</td>\n",
       "      <td>2016-03-25 00:00:00</td>\n",
       "      <td>0</td>\n",
       "      <td>24601</td>\n",
       "      <td>2016-03-27 00:44:31</td>\n",
       "    </tr>\n",
       "  </tbody>\n",
       "</table>\n",
       "</div>"
      ],
      "text/plain": [
       "              DateCrawled  Price  VehicleType  RegistrationYear Gearbox  \\\n",
       "59    2016-03-29 15:48:15      1          suv              1994  manual   \n",
       "89    2016-03-28 09:37:01      1        sedan              1995  manual   \n",
       "268   2016-03-12 07:26:49      1        sedan              1990  manual   \n",
       "408   2016-03-29 18:51:58      1          NaN              2000     NaN   \n",
       "901   2016-03-06 00:25:25      1          NaN              1990  manual   \n",
       "967   2016-03-23 08:21:11      1        wagon              1998  manual   \n",
       "1025  2016-03-15 18:57:12      3  convertible              1998  manual   \n",
       "1247  2016-03-24 15:57:20      1        sedan              1983  manual   \n",
       "1340  2016-03-16 21:47:22      1          NaN              2016  manual   \n",
       "1542  2016-03-25 14:39:33      1          NaN              2000     NaN   \n",
       "\n",
       "      Power     Model  Kilometer  RegistrationMonth  FuelType           Brand  \\\n",
       "59      286       NaN     150000                 11       NaN  sonstige_autos   \n",
       "89      113  e_klasse     150000                  4  gasoline   mercedes_benz   \n",
       "268      90        80      70000                  6    petrol            audi   \n",
       "408      75      golf      90000                  3    petrol      volkswagen   \n",
       "901       0     other     150000                  0       NaN         porsche   \n",
       "967     136     omega     150000                  0    petrol            opel   \n",
       "1025    110  mx_reihe     150000                 11       NaN           mazda   \n",
       "1247      0       NaN     150000                  6    petrol   mercedes_benz   \n",
       "1340      0      golf     150000                  0  gasoline      volkswagen   \n",
       "1542      0     astra     150000                  0       NaN            opel   \n",
       "\n",
       "     NotRepaired          DateCreated  NumberOfPictures  PostalCode  \\\n",
       "59           NaN  2016-03-29 00:00:00                 0       53721   \n",
       "89            no  2016-03-28 00:00:00                 0       40589   \n",
       "268           no  2016-03-11 00:00:00                 0       55122   \n",
       "408          NaN  2016-03-29 00:00:00                 0       78588   \n",
       "901          NaN  2016-03-05 00:00:00                 0       65843   \n",
       "967           no  2016-03-22 00:00:00                 0       57614   \n",
       "1025         yes  2016-03-15 00:00:00                 0       89312   \n",
       "1247          no  2016-03-24 00:00:00                 0       53173   \n",
       "1340         yes  2016-03-16 00:00:00                 0       49401   \n",
       "1542         NaN  2016-03-25 00:00:00                 0       24601   \n",
       "\n",
       "                 LastSeen  \n",
       "59    2016-04-06 01:44:38  \n",
       "89    2016-04-06 12:15:54  \n",
       "268   2016-03-26 23:15:49  \n",
       "408   2016-04-06 04:45:50  \n",
       "901   2016-04-06 20:19:08  \n",
       "967   2016-03-27 08:45:52  \n",
       "1025  2016-04-06 21:16:58  \n",
       "1247  2016-04-07 08:45:25  \n",
       "1340  2016-04-07 09:45:43  \n",
       "1542  2016-03-27 00:44:31  "
      ]
     },
     "metadata": {},
     "output_type": "display_data"
    }
   ],
   "source": [
    "plt.figure(figsize=[12,9])\n",
    "plt.hist(data['Price'], bins=500)\n",
    "plt.xlim([0, 7500])\n",
    "plt.title(\"Распределение количества автомобилей по цене (в диапазоне до 7500 евро)\")\n",
    "plt.show()\n",
    "display(data.query('Price>0 and Price<10').head(10))"
   ]
  },
  {
   "cell_type": "markdown",
   "metadata": {},
   "source": [
    "### Выводы: \n",
    "1. В столбцах 'VehicleType', 'Gearbox', 'Model', 'FuelType', 'NotRepaired' есть пропуски. Такие строки я предагаю удалить, т.к. их справление может привести к искажениям исходных данных.\n",
    "2. В столбцах 'RegistrationYear', 'RegistrationMonth', 'Power',  есть некорректные значения. Такие строки я предагаю удалить, т.к. их справление может привести к искажениям исходных данных.\n",
    "3. Столбец 'NumberOfPictures' содержит только нули.\n",
    "4. Столбцы 'PostalCode', 'LastSeen', 'NumberOfPictures', 'RegistrationMonth', 'DateCreated', 'DateCrawled' обычно не влияют на цену автомобиля и могут быть исключены.\n",
    "5. Кроме явно ошибочных нулевых значений цены и мощности есть и большое количество маргинальных значений, которые возможно  будут портить картину, но не совсем понятно, где их отсекать. Сделал отсечку на мощности 40 л.с. и цене 100 евро."
   ]
  },
  {
   "cell_type": "code",
   "execution_count": 6,
   "metadata": {},
   "outputs": [
    {
     "name": "stdout",
     "output_type": "stream",
     "text": [
      "<class 'pandas.core.frame.DataFrame'>\n",
      "RangeIndex: 224137 entries, 0 to 224136\n",
      "Data columns (total 10 columns):\n",
      " #   Column            Non-Null Count   Dtype \n",
      "---  ------            --------------   ----- \n",
      " 0   Price             224137 non-null  int64 \n",
      " 1   VehicleType       224137 non-null  object\n",
      " 2   RegistrationYear  224137 non-null  int64 \n",
      " 3   Gearbox           224137 non-null  object\n",
      " 4   Power             224137 non-null  int64 \n",
      " 5   Model             224137 non-null  object\n",
      " 6   Kilometer         224137 non-null  int64 \n",
      " 7   FuelType          224137 non-null  object\n",
      " 8   Brand             224137 non-null  object\n",
      " 9   NotRepaired       224137 non-null  object\n",
      "dtypes: int64(4), object(6)\n",
      "memory usage: 17.1+ MB\n"
     ]
    },
    {
     "data": {
      "text/html": [
       "<div>\n",
       "<style scoped>\n",
       "    .dataframe tbody tr th:only-of-type {\n",
       "        vertical-align: middle;\n",
       "    }\n",
       "\n",
       "    .dataframe tbody tr th {\n",
       "        vertical-align: top;\n",
       "    }\n",
       "\n",
       "    .dataframe thead th {\n",
       "        text-align: right;\n",
       "    }\n",
       "</style>\n",
       "<table border=\"1\" class=\"dataframe\">\n",
       "  <thead>\n",
       "    <tr style=\"text-align: right;\">\n",
       "      <th></th>\n",
       "      <th>Price</th>\n",
       "      <th>RegistrationYear</th>\n",
       "      <th>Power</th>\n",
       "      <th>Kilometer</th>\n",
       "    </tr>\n",
       "  </thead>\n",
       "  <tbody>\n",
       "    <tr>\n",
       "      <th>count</th>\n",
       "      <td>224137.000000</td>\n",
       "      <td>224137.000000</td>\n",
       "      <td>224137.000000</td>\n",
       "      <td>224137.000000</td>\n",
       "    </tr>\n",
       "    <tr>\n",
       "      <th>mean</th>\n",
       "      <td>5223.861130</td>\n",
       "      <td>2002.957999</td>\n",
       "      <td>126.858805</td>\n",
       "      <td>126804.922882</td>\n",
       "    </tr>\n",
       "    <tr>\n",
       "      <th>std</th>\n",
       "      <td>4722.481769</td>\n",
       "      <td>6.113078</td>\n",
       "      <td>181.188529</td>\n",
       "      <td>37307.447758</td>\n",
       "    </tr>\n",
       "    <tr>\n",
       "      <th>min</th>\n",
       "      <td>101.000000</td>\n",
       "      <td>1910.000000</td>\n",
       "      <td>41.000000</td>\n",
       "      <td>5000.000000</td>\n",
       "    </tr>\n",
       "    <tr>\n",
       "      <th>25%</th>\n",
       "      <td>1500.000000</td>\n",
       "      <td>1999.000000</td>\n",
       "      <td>84.000000</td>\n",
       "      <td>125000.000000</td>\n",
       "    </tr>\n",
       "    <tr>\n",
       "      <th>50%</th>\n",
       "      <td>3550.000000</td>\n",
       "      <td>2003.000000</td>\n",
       "      <td>116.000000</td>\n",
       "      <td>150000.000000</td>\n",
       "    </tr>\n",
       "    <tr>\n",
       "      <th>75%</th>\n",
       "      <td>7500.000000</td>\n",
       "      <td>2007.000000</td>\n",
       "      <td>150.000000</td>\n",
       "      <td>150000.000000</td>\n",
       "    </tr>\n",
       "    <tr>\n",
       "      <th>max</th>\n",
       "      <td>20000.000000</td>\n",
       "      <td>2018.000000</td>\n",
       "      <td>20000.000000</td>\n",
       "      <td>150000.000000</td>\n",
       "    </tr>\n",
       "  </tbody>\n",
       "</table>\n",
       "</div>"
      ],
      "text/plain": [
       "               Price  RegistrationYear          Power      Kilometer\n",
       "count  224137.000000     224137.000000  224137.000000  224137.000000\n",
       "mean     5223.861130       2002.957999     126.858805  126804.922882\n",
       "std      4722.481769          6.113078     181.188529   37307.447758\n",
       "min       101.000000       1910.000000      41.000000    5000.000000\n",
       "25%      1500.000000       1999.000000      84.000000  125000.000000\n",
       "50%      3550.000000       2003.000000     116.000000  150000.000000\n",
       "75%      7500.000000       2007.000000     150.000000  150000.000000\n",
       "max     20000.000000       2018.000000   20000.000000  150000.000000"
      ]
     },
     "metadata": {},
     "output_type": "display_data"
    }
   ],
   "source": [
    "# Удаляем ненужные столбцы\n",
    "data = data.drop(['PostalCode', 'LastSeen', 'NumberOfPictures', 'RegistrationMonth', 'DateCreated', 'DateCrawled'], axis=1)\n",
    "# Заполняем пропуски новым значением\n",
    "data['NotRepaired'] = data['NotRepaired'].fillna('unknown')\n",
    "# Удаляем оставшиеся пропуски\n",
    "data = data.dropna()\n",
    "# Удаляем некорретные значения\n",
    "data = data.query('RegistrationYear>1900 and RegistrationYear<2023 and Power>40 and Price>100')\n",
    "# Удаляем дубликаты чтобы немного сбалансировать классы\n",
    "data = data.drop_duplicates().reset_index(drop=True)\n",
    "data.info()\n",
    "display(data.describe())"
   ]
  },
  {
   "cell_type": "markdown",
   "metadata": {},
   "source": [
    "## Обучение моделей"
   ]
  },
  {
   "cell_type": "markdown",
   "metadata": {},
   "source": [
    "Нам необходимо спрогнозировать цену, а это - задача регрессии."
   ]
  },
  {
   "cell_type": "code",
   "execution_count": 7,
   "metadata": {},
   "outputs": [
    {
     "name": "stdout",
     "output_type": "stream",
     "text": [
      "Размерность обучающей выборки без кодирования: (168102, 9)\n",
      "Размерность валидационной выборки без кодирования: (56035, 9)\n",
      "\n",
      "Размерность обучающей выборки с OHE-кодированием: (156895, 305)\n",
      "Размерность валидационной выборки с OHE-кодированием: (33621, 305)\n",
      "Размерность тестовой выборки с OHE-кодированием: (33621, 305)\n"
     ]
    }
   ],
   "source": [
    "# Наборы без OHE-кодирования\n",
    "features_train, features_valid, target_train, target_valid = train_test_split(data.drop('Price', axis=1), data.Price, test_size=0.25, random_state=12345)\n",
    "cat_features = ['VehicleType', 'Gearbox', 'Model', 'FuelType', 'Brand', 'NotRepaired']\n",
    "print('Размерность обучающей выборки без кодирования:', features_train.shape)\n",
    "print('Размерность валидационной выборки без кодирования:', features_valid.shape)\n",
    "print('')\n",
    "# Наборы с OHE-кодированием\n",
    "data_ohe = pd.get_dummies(data, columns=cat_features, drop_first=True)\n",
    "features_train_ohe, features_valid_ohe, target_train_ohe, target_valid_ohe = train_test_split(data_ohe.drop('Price', axis=1), data_ohe.Price, test_size=0.3, random_state=12345)\n",
    "features_test_ohe, features_valid_ohe, target_test_ohe, target_valid_ohe = train_test_split(features_valid_ohe, target_valid_ohe, test_size=0.5, random_state=12345)\n",
    "print('Размерность обучающей выборки с OHE-кодированием:', features_train_ohe.shape)\n",
    "print('Размерность валидационной выборки с OHE-кодированием:', features_valid_ohe.shape)\n",
    "print('Размерность тестовой выборки с OHE-кодированием:', features_test_ohe.shape)\n",
    "# Удалим ненужные данные\n",
    "del data"
   ]
  },
  {
   "cell_type": "code",
   "execution_count": 8,
   "metadata": {},
   "outputs": [
    {
     "name": "stdout",
     "output_type": "stream",
     "text": [
      "0:\tlearn: 4224.6673695\ttotal: 205ms\tremaining: 51s\n",
      "10:\tlearn: 2199.1947600\ttotal: 1.51s\tremaining: 32.7s\n",
      "20:\tlearn: 1852.0485108\ttotal: 2.84s\tremaining: 31s\n",
      "30:\tlearn: 1760.1438777\ttotal: 4.51s\tremaining: 31.8s\n",
      "40:\tlearn: 1713.2468933\ttotal: 6.09s\tremaining: 31s\n",
      "50:\tlearn: 1684.9587726\ttotal: 7.62s\tremaining: 29.7s\n",
      "60:\tlearn: 1665.5181125\ttotal: 8.99s\tremaining: 27.9s\n",
      "70:\tlearn: 1649.5915290\ttotal: 10.3s\tremaining: 26.1s\n",
      "80:\tlearn: 1636.4814175\ttotal: 12s\tremaining: 25.1s\n",
      "90:\tlearn: 1624.1959327\ttotal: 13.5s\tremaining: 23.5s\n",
      "100:\tlearn: 1613.7348275\ttotal: 14.7s\tremaining: 21.7s\n",
      "110:\tlearn: 1605.6605894\ttotal: 15.9s\tremaining: 20s\n",
      "120:\tlearn: 1597.5225998\ttotal: 17.1s\tremaining: 18.2s\n",
      "130:\tlearn: 1589.0367525\ttotal: 18.2s\tremaining: 16.5s\n",
      "140:\tlearn: 1581.7285201\ttotal: 19.3s\tremaining: 15s\n",
      "150:\tlearn: 1576.1974317\ttotal: 20.5s\tremaining: 13.5s\n",
      "160:\tlearn: 1571.1930226\ttotal: 21.5s\tremaining: 11.9s\n",
      "170:\tlearn: 1567.1254328\ttotal: 22.7s\tremaining: 10.5s\n",
      "180:\tlearn: 1563.5532187\ttotal: 23.8s\tremaining: 9.08s\n",
      "190:\tlearn: 1559.8997296\ttotal: 25s\tremaining: 7.73s\n",
      "200:\tlearn: 1556.2934076\ttotal: 26s\tremaining: 6.33s\n",
      "210:\tlearn: 1551.8540029\ttotal: 27.1s\tremaining: 5.01s\n",
      "220:\tlearn: 1548.6241625\ttotal: 28s\tremaining: 3.68s\n",
      "230:\tlearn: 1544.6893569\ttotal: 28.8s\tremaining: 2.37s\n",
      "240:\tlearn: 1540.0956744\ttotal: 29.6s\tremaining: 1.1s\n",
      "249:\tlearn: 1537.2803855\ttotal: 30.2s\tremaining: 0us\n",
      "CPU times: user 30.2 s, sys: 332 ms, total: 30.5 s\n",
      "Wall time: 31.2 s\n"
     ]
    },
    {
     "data": {
      "text/plain": [
       "<catboost.core.CatBoostRegressor at 0x7f29c44bbeb0>"
      ]
     },
     "execution_count": 8,
     "metadata": {},
     "output_type": "execute_result"
    }
   ],
   "source": [
    "%%time\n",
    "\n",
    "model = CatBoostRegressor(loss_function='RMSE', learning_rate=0.15, bootstrap_type='MVS', depth=16, grow_policy='Lossguide', iterations=250, random_seed=12345)\n",
    "model.fit(features_train, target_train, cat_features=cat_features, verbose=10, plot=False)"
   ]
  },
  {
   "cell_type": "markdown",
   "metadata": {},
   "source": [
    "Теперь поэкспериментируем с другими моделями:\n",
    "* Случайного леса в регрессии\n",
    "* Гребневой регрессии\n",
    "* LightGBM"
   ]
  },
  {
   "cell_type": "code",
   "execution_count": 9,
   "metadata": {},
   "outputs": [
    {
     "name": "stdout",
     "output_type": "stream",
     "text": [
      "CPU times: user 2min 56s, sys: 581 ms, total: 2min 57s\n",
      "Wall time: 2min 57s\n"
     ]
    },
    {
     "data": {
      "text/plain": [
       "RandomForestRegressor(max_depth=10, random_state=12345)"
      ]
     },
     "execution_count": 9,
     "metadata": {},
     "output_type": "execute_result"
    }
   ],
   "source": [
    "%%time\n",
    "\n",
    "model_rf = RandomForestRegressor(random_state=12345, n_estimators=100, max_depth=10)\n",
    "model_rf.fit(features_train_ohe, target_train_ohe)"
   ]
  },
  {
   "cell_type": "code",
   "execution_count": 10,
   "metadata": {},
   "outputs": [
    {
     "name": "stdout",
     "output_type": "stream",
     "text": [
      "CPU times: user 1.07 s, sys: 783 ms, total: 1.85 s\n",
      "Wall time: 1.79 s\n"
     ]
    },
    {
     "data": {
      "text/plain": [
       "Ridge(max_iter=15000, random_state=12345)"
      ]
     },
     "execution_count": 10,
     "metadata": {},
     "output_type": "execute_result"
    }
   ],
   "source": [
    "%%time\n",
    "\n",
    "model_rgn = Ridge(random_state=12345, solver='auto', max_iter=15000, fit_intercept=True, normalize=False)\n",
    "model_rgn.fit(features_train_ohe, target_train_ohe)"
   ]
  },
  {
   "cell_type": "code",
   "execution_count": 11,
   "metadata": {},
   "outputs": [
    {
     "name": "stdout",
     "output_type": "stream",
     "text": [
      "Версия LightGBM:  3.3.1\n",
      "[1]\tvalid_0's rmse: 4382.82\tvalid_0's l2: 1.92091e+07\n",
      "[2]\tvalid_0's rmse: 4078.88\tvalid_0's l2: 1.66372e+07\n",
      "[3]\tvalid_0's rmse: 3808.58\tvalid_0's l2: 1.45053e+07\n",
      "[4]\tvalid_0's rmse: 3575.37\tvalid_0's l2: 1.27833e+07\n",
      "[5]\tvalid_0's rmse: 3367.2\tvalid_0's l2: 1.13381e+07\n",
      "[6]\tvalid_0's rmse: 3188.54\tvalid_0's l2: 1.01668e+07\n",
      "[7]\tvalid_0's rmse: 3030.99\tvalid_0's l2: 9.18693e+06\n",
      "[8]\tvalid_0's rmse: 2892.54\tvalid_0's l2: 8.36676e+06\n",
      "[9]\tvalid_0's rmse: 2771.26\tvalid_0's l2: 7.67988e+06\n",
      "[10]\tvalid_0's rmse: 2664.41\tvalid_0's l2: 7.0991e+06\n",
      "[11]\tvalid_0's rmse: 2569.17\tvalid_0's l2: 6.60065e+06\n",
      "[12]\tvalid_0's rmse: 2486.87\tvalid_0's l2: 6.18453e+06\n",
      "[13]\tvalid_0's rmse: 2415.32\tvalid_0's l2: 5.83378e+06\n",
      "[14]\tvalid_0's rmse: 2348.5\tvalid_0's l2: 5.51547e+06\n",
      "[15]\tvalid_0's rmse: 2294.04\tvalid_0's l2: 5.26263e+06\n",
      "[16]\tvalid_0's rmse: 2243.72\tvalid_0's l2: 5.0343e+06\n",
      "[17]\tvalid_0's rmse: 2194.82\tvalid_0's l2: 4.81724e+06\n",
      "[18]\tvalid_0's rmse: 2155.96\tvalid_0's l2: 4.64817e+06\n",
      "[19]\tvalid_0's rmse: 2119.58\tvalid_0's l2: 4.49263e+06\n",
      "[20]\tvalid_0's rmse: 2086.47\tvalid_0's l2: 4.35334e+06\n",
      "[21]\tvalid_0's rmse: 2057.11\tvalid_0's l2: 4.23169e+06\n",
      "[22]\tvalid_0's rmse: 2029.83\tvalid_0's l2: 4.1202e+06\n",
      "[23]\tvalid_0's rmse: 2006.68\tvalid_0's l2: 4.02676e+06\n",
      "[24]\tvalid_0's rmse: 1984.37\tvalid_0's l2: 3.93773e+06\n",
      "[25]\tvalid_0's rmse: 1963.53\tvalid_0's l2: 3.85544e+06\n",
      "[26]\tvalid_0's rmse: 1944.87\tvalid_0's l2: 3.78253e+06\n",
      "[27]\tvalid_0's rmse: 1927.74\tvalid_0's l2: 3.7162e+06\n",
      "[28]\tvalid_0's rmse: 1913.82\tvalid_0's l2: 3.66271e+06\n",
      "[29]\tvalid_0's rmse: 1899.62\tvalid_0's l2: 3.60855e+06\n",
      "[30]\tvalid_0's rmse: 1887.64\tvalid_0's l2: 3.56319e+06\n",
      "[31]\tvalid_0's rmse: 1877.01\tvalid_0's l2: 3.52316e+06\n",
      "[32]\tvalid_0's rmse: 1867.24\tvalid_0's l2: 3.48659e+06\n",
      "[33]\tvalid_0's rmse: 1857.62\tvalid_0's l2: 3.45075e+06\n",
      "[34]\tvalid_0's rmse: 1849.12\tvalid_0's l2: 3.41923e+06\n",
      "[35]\tvalid_0's rmse: 1840.61\tvalid_0's l2: 3.38784e+06\n",
      "[36]\tvalid_0's rmse: 1830.62\tvalid_0's l2: 3.35118e+06\n",
      "[37]\tvalid_0's rmse: 1823.37\tvalid_0's l2: 3.32467e+06\n",
      "[38]\tvalid_0's rmse: 1816.38\tvalid_0's l2: 3.29925e+06\n",
      "[39]\tvalid_0's rmse: 1810.84\tvalid_0's l2: 3.27916e+06\n",
      "[40]\tvalid_0's rmse: 1804.09\tvalid_0's l2: 3.25475e+06\n",
      "[41]\tvalid_0's rmse: 1798.73\tvalid_0's l2: 3.23543e+06\n",
      "[42]\tvalid_0's rmse: 1790.47\tvalid_0's l2: 3.20579e+06\n",
      "[43]\tvalid_0's rmse: 1785.43\tvalid_0's l2: 3.18777e+06\n",
      "[44]\tvalid_0's rmse: 1779.96\tvalid_0's l2: 3.16825e+06\n",
      "[45]\tvalid_0's rmse: 1774.94\tvalid_0's l2: 3.15043e+06\n",
      "[46]\tvalid_0's rmse: 1769.04\tvalid_0's l2: 3.12951e+06\n",
      "[47]\tvalid_0's rmse: 1765.24\tvalid_0's l2: 3.11606e+06\n",
      "[48]\tvalid_0's rmse: 1761.75\tvalid_0's l2: 3.10375e+06\n",
      "[49]\tvalid_0's rmse: 1756.5\tvalid_0's l2: 3.0853e+06\n",
      "[50]\tvalid_0's rmse: 1753.47\tvalid_0's l2: 3.07467e+06\n",
      "[51]\tvalid_0's rmse: 1749.73\tvalid_0's l2: 3.06156e+06\n",
      "[52]\tvalid_0's rmse: 1746.67\tvalid_0's l2: 3.05086e+06\n",
      "[53]\tvalid_0's rmse: 1743.39\tvalid_0's l2: 3.03939e+06\n",
      "[54]\tvalid_0's rmse: 1740.38\tvalid_0's l2: 3.02893e+06\n",
      "[55]\tvalid_0's rmse: 1736.49\tvalid_0's l2: 3.01541e+06\n",
      "[56]\tvalid_0's rmse: 1733.75\tvalid_0's l2: 3.0059e+06\n",
      "[57]\tvalid_0's rmse: 1731.54\tvalid_0's l2: 2.99824e+06\n",
      "[58]\tvalid_0's rmse: 1727.81\tvalid_0's l2: 2.98533e+06\n",
      "[59]\tvalid_0's rmse: 1726.08\tvalid_0's l2: 2.97936e+06\n",
      "[60]\tvalid_0's rmse: 1723.96\tvalid_0's l2: 2.97204e+06\n",
      "[61]\tvalid_0's rmse: 1721.54\tvalid_0's l2: 2.96371e+06\n",
      "[62]\tvalid_0's rmse: 1718.78\tvalid_0's l2: 2.95421e+06\n",
      "[63]\tvalid_0's rmse: 1716.06\tvalid_0's l2: 2.94485e+06\n",
      "[64]\tvalid_0's rmse: 1714.32\tvalid_0's l2: 2.93889e+06\n",
      "[65]\tvalid_0's rmse: 1712.15\tvalid_0's l2: 2.93145e+06\n",
      "[66]\tvalid_0's rmse: 1710.42\tvalid_0's l2: 2.92553e+06\n",
      "[67]\tvalid_0's rmse: 1708.6\tvalid_0's l2: 2.9193e+06\n",
      "[68]\tvalid_0's rmse: 1705.69\tvalid_0's l2: 2.90939e+06\n",
      "[69]\tvalid_0's rmse: 1704.38\tvalid_0's l2: 2.90493e+06\n",
      "[70]\tvalid_0's rmse: 1703\tvalid_0's l2: 2.90021e+06\n",
      "[71]\tvalid_0's rmse: 1701.31\tvalid_0's l2: 2.89444e+06\n",
      "[72]\tvalid_0's rmse: 1700.14\tvalid_0's l2: 2.89049e+06\n",
      "[73]\tvalid_0's rmse: 1698.91\tvalid_0's l2: 2.8863e+06\n",
      "[74]\tvalid_0's rmse: 1697.02\tvalid_0's l2: 2.87987e+06\n",
      "[75]\tvalid_0's rmse: 1695.91\tvalid_0's l2: 2.87611e+06\n",
      "[76]\tvalid_0's rmse: 1694.14\tvalid_0's l2: 2.8701e+06\n",
      "[77]\tvalid_0's rmse: 1692.15\tvalid_0's l2: 2.86337e+06\n",
      "[78]\tvalid_0's rmse: 1690.89\tvalid_0's l2: 2.85909e+06\n",
      "[79]\tvalid_0's rmse: 1689.42\tvalid_0's l2: 2.85414e+06\n",
      "[80]\tvalid_0's rmse: 1688.58\tvalid_0's l2: 2.8513e+06\n",
      "[81]\tvalid_0's rmse: 1687.29\tvalid_0's l2: 2.84695e+06\n",
      "[82]\tvalid_0's rmse: 1686.09\tvalid_0's l2: 2.84289e+06\n",
      "[83]\tvalid_0's rmse: 1684.52\tvalid_0's l2: 2.8376e+06\n",
      "[84]\tvalid_0's rmse: 1683.64\tvalid_0's l2: 2.83463e+06\n",
      "[85]\tvalid_0's rmse: 1681.68\tvalid_0's l2: 2.82805e+06\n",
      "[86]\tvalid_0's rmse: 1680.68\tvalid_0's l2: 2.82469e+06\n",
      "[87]\tvalid_0's rmse: 1679.27\tvalid_0's l2: 2.81995e+06\n",
      "[88]\tvalid_0's rmse: 1677.98\tvalid_0's l2: 2.81562e+06\n",
      "[89]\tvalid_0's rmse: 1676.69\tvalid_0's l2: 2.81129e+06\n",
      "[90]\tvalid_0's rmse: 1674.93\tvalid_0's l2: 2.80538e+06\n",
      "[91]\tvalid_0's rmse: 1673.79\tvalid_0's l2: 2.80158e+06\n",
      "[92]\tvalid_0's rmse: 1672.4\tvalid_0's l2: 2.79691e+06\n",
      "[93]\tvalid_0's rmse: 1671.33\tvalid_0's l2: 2.79336e+06\n",
      "[94]\tvalid_0's rmse: 1670.13\tvalid_0's l2: 2.78932e+06\n",
      "[95]\tvalid_0's rmse: 1668.67\tvalid_0's l2: 2.78446e+06\n",
      "[96]\tvalid_0's rmse: 1667.54\tvalid_0's l2: 2.78068e+06\n",
      "[97]\tvalid_0's rmse: 1666.97\tvalid_0's l2: 2.77879e+06\n",
      "[98]\tvalid_0's rmse: 1666.13\tvalid_0's l2: 2.77599e+06\n",
      "[99]\tvalid_0's rmse: 1665.47\tvalid_0's l2: 2.77378e+06\n",
      "[100]\tvalid_0's rmse: 1664.56\tvalid_0's l2: 2.77074e+06\n",
      "[101]\tvalid_0's rmse: 1663.77\tvalid_0's l2: 2.76814e+06\n",
      "[102]\tvalid_0's rmse: 1662.85\tvalid_0's l2: 2.76508e+06\n",
      "[103]\tvalid_0's rmse: 1662.06\tvalid_0's l2: 2.76244e+06\n",
      "[104]\tvalid_0's rmse: 1661.3\tvalid_0's l2: 2.7599e+06\n",
      "[105]\tvalid_0's rmse: 1659.97\tvalid_0's l2: 2.75548e+06\n",
      "[106]\tvalid_0's rmse: 1659.06\tvalid_0's l2: 2.75249e+06\n",
      "[107]\tvalid_0's rmse: 1658.32\tvalid_0's l2: 2.75002e+06\n",
      "[108]\tvalid_0's rmse: 1657.88\tvalid_0's l2: 2.74855e+06\n",
      "[109]\tvalid_0's rmse: 1657.49\tvalid_0's l2: 2.74729e+06\n",
      "[110]\tvalid_0's rmse: 1656.78\tvalid_0's l2: 2.74493e+06\n",
      "[111]\tvalid_0's rmse: 1656.17\tvalid_0's l2: 2.74288e+06\n",
      "[112]\tvalid_0's rmse: 1654.96\tvalid_0's l2: 2.73889e+06\n",
      "[113]\tvalid_0's rmse: 1654.19\tvalid_0's l2: 2.73635e+06\n",
      "[114]\tvalid_0's rmse: 1653.65\tvalid_0's l2: 2.73455e+06\n",
      "[115]\tvalid_0's rmse: 1652.93\tvalid_0's l2: 2.73218e+06\n",
      "[116]\tvalid_0's rmse: 1651.93\tvalid_0's l2: 2.72887e+06\n",
      "[117]\tvalid_0's rmse: 1651.47\tvalid_0's l2: 2.72736e+06\n",
      "[118]\tvalid_0's rmse: 1650.89\tvalid_0's l2: 2.72542e+06\n",
      "[119]\tvalid_0's rmse: 1650.46\tvalid_0's l2: 2.72403e+06\n",
      "[120]\tvalid_0's rmse: 1649.72\tvalid_0's l2: 2.72158e+06\n",
      "[121]\tvalid_0's rmse: 1648.98\tvalid_0's l2: 2.71914e+06\n",
      "[122]\tvalid_0's rmse: 1648.39\tvalid_0's l2: 2.71718e+06\n",
      "[123]\tvalid_0's rmse: 1647.92\tvalid_0's l2: 2.71565e+06\n",
      "[124]\tvalid_0's rmse: 1647.23\tvalid_0's l2: 2.71338e+06\n",
      "[125]\tvalid_0's rmse: 1646.76\tvalid_0's l2: 2.71181e+06\n",
      "[126]\tvalid_0's rmse: 1646.41\tvalid_0's l2: 2.71066e+06\n",
      "[127]\tvalid_0's rmse: 1645.99\tvalid_0's l2: 2.70928e+06\n",
      "[128]\tvalid_0's rmse: 1645.64\tvalid_0's l2: 2.70813e+06\n",
      "[129]\tvalid_0's rmse: 1645.25\tvalid_0's l2: 2.70686e+06\n",
      "[130]\tvalid_0's rmse: 1644.77\tvalid_0's l2: 2.70527e+06\n",
      "[131]\tvalid_0's rmse: 1644.13\tvalid_0's l2: 2.70317e+06\n",
      "[132]\tvalid_0's rmse: 1643.42\tvalid_0's l2: 2.70083e+06\n",
      "[133]\tvalid_0's rmse: 1642.96\tvalid_0's l2: 2.69931e+06\n",
      "[134]\tvalid_0's rmse: 1642.62\tvalid_0's l2: 2.69821e+06\n",
      "[135]\tvalid_0's rmse: 1642.01\tvalid_0's l2: 2.69619e+06\n",
      "[136]\tvalid_0's rmse: 1641.48\tvalid_0's l2: 2.69446e+06\n",
      "[137]\tvalid_0's rmse: 1640.95\tvalid_0's l2: 2.69271e+06\n",
      "[138]\tvalid_0's rmse: 1640.46\tvalid_0's l2: 2.6911e+06\n",
      "[139]\tvalid_0's rmse: 1640.24\tvalid_0's l2: 2.69039e+06\n",
      "[140]\tvalid_0's rmse: 1639.54\tvalid_0's l2: 2.6881e+06\n",
      "[141]\tvalid_0's rmse: 1638.9\tvalid_0's l2: 2.68598e+06\n",
      "[142]\tvalid_0's rmse: 1638.22\tvalid_0's l2: 2.68375e+06\n",
      "[143]\tvalid_0's rmse: 1637.83\tvalid_0's l2: 2.68248e+06\n",
      "[144]\tvalid_0's rmse: 1637.48\tvalid_0's l2: 2.68134e+06\n",
      "[145]\tvalid_0's rmse: 1637.14\tvalid_0's l2: 2.68024e+06\n",
      "[146]\tvalid_0's rmse: 1636.59\tvalid_0's l2: 2.67841e+06\n",
      "[147]\tvalid_0's rmse: 1636.26\tvalid_0's l2: 2.67736e+06\n",
      "[148]\tvalid_0's rmse: 1635.77\tvalid_0's l2: 2.67575e+06\n",
      "[149]\tvalid_0's rmse: 1635.3\tvalid_0's l2: 2.67421e+06\n",
      "[150]\tvalid_0's rmse: 1634.91\tvalid_0's l2: 2.67293e+06\n",
      "CPU times: user 1min 23s, sys: 1.04 s, total: 1min 24s\n",
      "Wall time: 1min 25s\n"
     ]
    },
    {
     "data": {
      "text/plain": [
       "LGBMRegressor(n_estimators=150, objective='regression_l2')"
      ]
     },
     "execution_count": 11,
     "metadata": {},
     "output_type": "execute_result"
    }
   ],
   "source": [
    "%%time\n",
    "\n",
    "print(\"Версия LightGBM: \", lgb.__version__)\n",
    "\n",
    "model_lgb = lgb.LGBMRegressor(objective=\"regression_l2\", n_estimators=150)\n",
    "model_lgb.fit(features_train_ohe, target_train_ohe, eval_set=[(features_valid_ohe, target_valid_ohe),], eval_metric=\"rmse\")\n"
   ]
  },
  {
   "cell_type": "markdown",
   "metadata": {},
   "source": [
    "## Анализ моделей"
   ]
  },
  {
   "cell_type": "code",
   "execution_count": 12,
   "metadata": {},
   "outputs": [
    {
     "name": "stdout",
     "output_type": "stream",
     "text": [
      "{'learn': {'RMSE': 1537.280385487325}}\n",
      "Метрика RMSE модели CatBoostRegressor: 1626.19\n",
      "Качество модели CatBoostRegressor: 0.881\n",
      "CPU times: user 757 ms, sys: 25 µs, total: 757 ms\n",
      "Wall time: 830 ms\n"
     ]
    }
   ],
   "source": [
    "%%time\n",
    "\n",
    "prediction = model.predict(features_valid)\n",
    "rmse = mean_squared_error(target_valid, prediction, sample_weight=None, multioutput='uniform_average', squared=False)\n",
    "\n",
    "print(model.best_score_)\n",
    "print(f'Метрика RMSE модели CatBoostRegressor: {np.round(rmse, 2)}')\n",
    "print(f'Качество модели CatBoostRegressor: {np.round(model.score(features_valid, target_valid), 3)}')"
   ]
  },
  {
   "cell_type": "code",
   "execution_count": 13,
   "metadata": {},
   "outputs": [
    {
     "name": "stdout",
     "output_type": "stream",
     "text": [
      "Метрика RMSE модели RandomForestRegressor: 1898.52\n",
      "Качество модели RandomForestRegressor: 0.839\n",
      "CPU times: user 622 ms, sys: 75.1 ms, total: 697 ms\n",
      "Wall time: 703 ms\n"
     ]
    }
   ],
   "source": [
    "%%time\n",
    "\n",
    "prediction_rf = model_rf.predict(features_valid_ohe)\n",
    "rmse = mean_squared_error(target_valid_ohe, prediction_rf, sample_weight=None, multioutput='uniform_average', squared=False)\n",
    "\n",
    "print(f'Метрика RMSE модели RandomForestRegressor: {np.round(rmse, 2)}')\n",
    "print(f'Качество модели RandomForestRegressor: {np.round(model_rf.score(features_valid_ohe, target_valid_ohe), 3)}')"
   ]
  },
  {
   "cell_type": "code",
   "execution_count": 14,
   "metadata": {},
   "outputs": [
    {
     "name": "stdout",
     "output_type": "stream",
     "text": [
      "Метрика RMSE модели Ridge: 2703.27\n",
      "Качество модели Ridge: 0.673\n",
      "CPU times: user 173 ms, sys: 201 ms, total: 374 ms\n",
      "Wall time: 344 ms\n"
     ]
    }
   ],
   "source": [
    "%%time\n",
    "\n",
    "prediction_rgn = model_rgn.predict(features_valid_ohe)\n",
    "rmse = mean_squared_error(target_valid_ohe, prediction_rgn, sample_weight=None, multioutput='uniform_average', squared=False)\n",
    "\n",
    "print(f'Метрика RMSE модели Ridge: {np.round(rmse, 2)}')\n",
    "print(f'Качество модели Ridge: {np.round(model_rgn.score(features_valid_ohe, target_valid_ohe), 3)}')"
   ]
  },
  {
   "cell_type": "code",
   "execution_count": 15,
   "metadata": {},
   "outputs": [
    {
     "name": "stdout",
     "output_type": "stream",
     "text": [
      "Метрика RMSE модели LightGBM: 1634.91\n",
      "Метрика R2 модели LightGBM: 0.881\n",
      "CPU times: user 495 ms, sys: 125 ms, total: 620 ms\n",
      "Wall time: 609 ms\n"
     ]
    }
   ],
   "source": [
    "%%time\n",
    "\n",
    "prediction_lgb = model_lgb.predict(features_valid_ohe)\n",
    "rmse = mean_squared_error(target_valid_ohe, prediction_lgb, sample_weight=None, multioutput='uniform_average', squared=False)\n",
    "\n",
    "print(f'Метрика RMSE модели LightGBM: {np.round(rmse, 2)}')\n",
    "print('Метрика R2 модели LightGBM: %.3f'%r2_score(target_valid_ohe, prediction_lgb))"
   ]
  },
  {
   "cell_type": "markdown",
   "metadata": {},
   "source": [
    "Сделаем сводный отчет по моделям со следующими изменениями:\n",
    "1. На вход CatBoostRegressor подаем данные с OHE-кодированием\n",
    "2. Берем более простые гиперпараметры для долгих алгоритмов"
   ]
  },
  {
   "cell_type": "code",
   "execution_count": 16,
   "metadata": {},
   "outputs": [
    {
     "data": {
      "text/html": [
       "<div>\n",
       "<style scoped>\n",
       "    .dataframe tbody tr th:only-of-type {\n",
       "        vertical-align: middle;\n",
       "    }\n",
       "\n",
       "    .dataframe tbody tr th {\n",
       "        vertical-align: top;\n",
       "    }\n",
       "\n",
       "    .dataframe thead th {\n",
       "        text-align: right;\n",
       "    }\n",
       "</style>\n",
       "<table border=\"1\" class=\"dataframe\">\n",
       "  <thead>\n",
       "    <tr style=\"text-align: right;\">\n",
       "      <th></th>\n",
       "      <th>Модель</th>\n",
       "      <th>RMSE</th>\n",
       "      <th>R2</th>\n",
       "      <th>Время_обучения</th>\n",
       "      <th>Время_предсказания</th>\n",
       "    </tr>\n",
       "  </thead>\n",
       "  <tbody>\n",
       "    <tr>\n",
       "      <th>0</th>\n",
       "      <td>CatBoostRegressor</td>\n",
       "      <td>1631.89</td>\n",
       "      <td>0.881</td>\n",
       "      <td>15.26s</td>\n",
       "      <td>0.21s</td>\n",
       "    </tr>\n",
       "    <tr>\n",
       "      <th>1</th>\n",
       "      <td>RandomForestRegressor</td>\n",
       "      <td>2043.41</td>\n",
       "      <td>0.813</td>\n",
       "      <td>124.84s</td>\n",
       "      <td>0.23s</td>\n",
       "    </tr>\n",
       "    <tr>\n",
       "      <th>2</th>\n",
       "      <td>Ridge</td>\n",
       "      <td>2703.27</td>\n",
       "      <td>0.673</td>\n",
       "      <td>2.14s</td>\n",
       "      <td>0.31s</td>\n",
       "    </tr>\n",
       "    <tr>\n",
       "      <th>3</th>\n",
       "      <td>DummyRegressor</td>\n",
       "      <td>5016.11</td>\n",
       "      <td>-0.124</td>\n",
       "      <td>0.08s</td>\n",
       "      <td>0.0s</td>\n",
       "    </tr>\n",
       "    <tr>\n",
       "      <th>4</th>\n",
       "      <td>LGBMRegressor</td>\n",
       "      <td>1634.91</td>\n",
       "      <td>0.881</td>\n",
       "      <td>679.9s</td>\n",
       "      <td>0.59s</td>\n",
       "    </tr>\n",
       "  </tbody>\n",
       "</table>\n",
       "</div>"
      ],
      "text/plain": [
       "                  Модель     RMSE     R2 Время_обучения Время_предсказания\n",
       "0      CatBoostRegressor  1631.89  0.881         15.26s              0.21s\n",
       "1  RandomForestRegressor  2043.41  0.813        124.84s              0.23s\n",
       "2                  Ridge  2703.27  0.673          2.14s              0.31s\n",
       "3         DummyRegressor  5016.11 -0.124          0.08s               0.0s\n",
       "4          LGBMRegressor  1634.91  0.881         679.9s              0.59s"
      ]
     },
     "metadata": {},
     "output_type": "display_data"
    },
    {
     "name": "stdout",
     "output_type": "stream",
     "text": [
      "Лучшая модель:\n"
     ]
    },
    {
     "data": {
      "text/html": [
       "<div>\n",
       "<style scoped>\n",
       "    .dataframe tbody tr th:only-of-type {\n",
       "        vertical-align: middle;\n",
       "    }\n",
       "\n",
       "    .dataframe tbody tr th {\n",
       "        vertical-align: top;\n",
       "    }\n",
       "\n",
       "    .dataframe thead th {\n",
       "        text-align: right;\n",
       "    }\n",
       "</style>\n",
       "<table border=\"1\" class=\"dataframe\">\n",
       "  <thead>\n",
       "    <tr style=\"text-align: right;\">\n",
       "      <th></th>\n",
       "      <th>Модель</th>\n",
       "      <th>RMSE</th>\n",
       "      <th>R2</th>\n",
       "      <th>Время_обучения</th>\n",
       "      <th>Время_предсказания</th>\n",
       "    </tr>\n",
       "  </thead>\n",
       "  <tbody>\n",
       "    <tr>\n",
       "      <th>0</th>\n",
       "      <td>CatBoostRegressor</td>\n",
       "      <td>1631.89</td>\n",
       "      <td>0.881</td>\n",
       "      <td>15.26s</td>\n",
       "      <td>0.21s</td>\n",
       "    </tr>\n",
       "  </tbody>\n",
       "</table>\n",
       "</div>"
      ],
      "text/plain": [
       "              Модель     RMSE     R2 Время_обучения Время_предсказания\n",
       "0  CatBoostRegressor  1631.89  0.881         15.26s              0.21s"
      ]
     },
     "metadata": {},
     "output_type": "display_data"
    },
    {
     "name": "stdout",
     "output_type": "stream",
     "text": [
      "CPU times: user 13min 29s, sys: 7.16 s, total: 13min 36s\n",
      "Wall time: 13min 43s\n"
     ]
    }
   ],
   "source": [
    "%%time\n",
    "\n",
    "random_state = 12345\n",
    "\n",
    "models = [CatBoostRegressor(loss_function='RMSE', learning_rate=0.15, bootstrap_type='MVS', depth=16, grow_policy='Lossguide', iterations=150, silent=True, random_seed=12345), \n",
    "          RandomForestRegressor(random_state=12345, n_estimators=80, max_depth=8), \n",
    "          Ridge(random_state=12345, solver='auto', max_iter=15000, fit_intercept=True, normalize=False),\n",
    "          DummyRegressor(strategy=\"median\"),\n",
    "          lgb.LGBMRegressor(objective=\"regression_l2\", n_estimators=150)]\n",
    "\n",
    "\n",
    "results = []\n",
    "\n",
    "for md in models: \n",
    "    t1 = datetime.now() # Засекли время начала обучения\n",
    "    md.fit(features_train_ohe, target_train_ohe)\n",
    "    t2 = datetime.now() # Время окончания обучения и начала предсказания\n",
    "    pred = md.predict(features_valid_ohe)\n",
    "    t3 = datetime.now() # Время окончания предсказания\n",
    "    t4 = t2 - t1 # Время обучения\n",
    "    t5 = t3 - t2 # Время предсказания\n",
    "    dt1 = str(np.round(t4.total_seconds(), 2))+'s' # Время обучения в секундах\n",
    "    dt2 = str(np.round(t5.total_seconds(), 2))+'s' # Время предсказания в секундах\n",
    "    md_rmse = np.round(mean_squared_error(target_valid_ohe, pred, sample_weight=None, multioutput='uniform_average', squared=False), 2)\n",
    "    md_r2 = np.round(r2_score(target_valid_ohe, pred), 3)\n",
    "\n",
    "    results.append({'Модель': md.__class__.__name__, \n",
    "                    'RMSE': md_rmse,\n",
    "                    'R2': md_r2,\n",
    "                    'Время_обучения': dt1,\n",
    "                    'Время_предсказания': dt2,\n",
    "                    'md': md}) \n",
    "              \n",
    "results = pd.DataFrame(results)\n",
    "display(results.drop('md', axis=1))\n",
    "print('Лучшая модель:')\n",
    "best = results.query('RMSE<1700').sort_values(by='Время_предсказания').head(1)\n",
    "display(best.drop('md', axis=1))"
   ]
  },
  {
   "cell_type": "code",
   "execution_count": 17,
   "metadata": {},
   "outputs": [
    {
     "name": "stdout",
     "output_type": "stream",
     "text": [
      "Финальное тестирование лучшей модели:\n",
      "Метрика RMSE модели CatBoostRegressor: 1649.291\n",
      "Метрика R2 модели CatBoostRegressor: 0.877\n",
      "CPU times: user 513 ms, sys: 66 ms, total: 579 ms\n",
      "Wall time: 587 ms\n"
     ]
    }
   ],
   "source": [
    "%%time\n",
    "\n",
    "print('Финальное тестирование лучшей модели:')\n",
    "best_md = best.loc[0, 'md']\n",
    "name_md = best.loc[0, 'Модель']\n",
    "pred_best = md.predict(features_test_ohe)\n",
    "rmse = mean_squared_error(target_test_ohe, pred_best, sample_weight=None, multioutput='uniform_average', squared=False)\n",
    "print(f'Метрика RMSE модели {name_md}: {np.round(rmse, 3)}')\n",
    "print(f'Метрика R2 модели {name_md}: %.3f'%r2_score(target_test_ohe, pred_best))"
   ]
  },
  {
   "cell_type": "code",
   "execution_count": 18,
   "metadata": {},
   "outputs": [
    {
     "name": "stdout",
     "output_type": "stream",
     "text": [
      "Пробуем нормализовать некатегорийные признаки для гребневой регрессии:\n",
      "Метрика RMSE модели Ridge: 2880.28\n",
      "Качество модели Ridge: 0.629\n",
      "CPU times: user 1.43 s, sys: 965 ms, total: 2.4 s\n",
      "Wall time: 2.4 s\n"
     ]
    }
   ],
   "source": [
    "%%time\n",
    "\n",
    "print('Пробуем нормализовать некатегорийные признаки для гребневой регрессии:')\n",
    "mx_yr = features_train_ohe['RegistrationYear'].max()\n",
    "mx_pw = features_train_ohe['Power'].max()\n",
    "mx_kl = features_train_ohe['Kilometer'].max()\n",
    "\n",
    "features_train_ohe['RegistrationYear'] = features_train_ohe['RegistrationYear'] / mx_yr\n",
    "features_train_ohe['Power'] = features_train_ohe['Power'] / mx_pw\n",
    "features_train_ohe['Kilometer'] = features_train_ohe['Kilometer'] / mx_kl\n",
    "\n",
    "features_valid_ohe['RegistrationYear'] = features_valid_ohe['RegistrationYear'] / mx_yr\n",
    "features_valid_ohe['Power'] = features_valid_ohe['Power'] / mx_pw\n",
    "features_valid_ohe['Kilometer'] = features_valid_ohe['Kilometer'] / mx_kl\n",
    "\n",
    "model_rgn = Ridge(random_state=12345, solver='auto', max_iter=15000, fit_intercept=True, normalize=False)\n",
    "model_rgn.fit(features_train_ohe, target_train_ohe)\n",
    "prediction_rgn = model_rgn.predict(features_valid_ohe)\n",
    "rmse = mean_squared_error(target_valid_ohe, prediction_rgn, sample_weight=None, multioutput='uniform_average', squared=False)\n",
    "\n",
    "print(f'Метрика RMSE модели Ridge: {np.round(rmse, 2)}')\n",
    "print(f'Качество модели Ridge: {np.round(model_rgn.score(features_valid_ohe, target_valid_ohe), 3)}')"
   ]
  },
  {
   "cell_type": "markdown",
   "metadata": {},
   "source": [
    "## Чек-лист проверки"
   ]
  },
  {
   "cell_type": "markdown",
   "metadata": {},
   "source": [
    "Поставьте 'x' в выполненных пунктах. Далее нажмите Shift+Enter."
   ]
  },
  {
   "cell_type": "markdown",
   "metadata": {},
   "source": [
    "- [x]  Jupyter Notebook открыт\n",
    "- [x]  Весь код выполняется без ошибок\n",
    "- [x]  Ячейки с кодом расположены в порядке исполнения\n",
    "- [x]  Выполнена загрузка и подготовка данных\n",
    "- [x]  Выполнено обучение моделей\n",
    "- [x]  Есть анализ скорости работы и качества моделей"
   ]
  },
  {
   "cell_type": "markdown",
   "metadata": {},
   "source": [
    "## Выводы:\n",
    "1. CatBoostRegressor обучается значительно быстрее (54.2s) чем RandomForestRegressor (2min 57s) и дает лучший результат (RMSE 1626 против 1898)\n",
    "2. LGBMRegressor обучается еще медленее (8min 8s), чем RandomForestRegressor и имеет ряд ограничений по сравнению с CatBoostRegressor, но дает хороший результат (RMSE 1617). Здесь использованы более тяжелые гиперпараметры чем затем в цикле.\n",
    "3. Более простая гребневая регрессия обучается значительно быстрее (1.79s), чем все остальные модели, но и результат дает гораздо более худший (RMSE 2703)\n",
    "4. При использовании более простых гиперпараметров качество модели CatBoostRegressor падает незначительно (с 1626 до 1631.), а качество RandomForestRegressor падает (с 1857 до 2043).\n",
    "5. Время предсказания CatBoostRegressor (0.21s) значительно меньше чем у LGBMRegressor (0.59s), но сравнимо с RandomForestRegressor (0.23s).\n",
    "6. После нормализации некатегорийных признаков качество модели ухудшилось:\n",
    "- Было: Метрика RMSE модели Ridge: 2703, Качество модели Ridge: 0.673\n",
    "- Стало: Метрика RMSE модели Ridge: 2880, Качество модели Ridge: 0.629"
   ]
  },
  {
   "cell_type": "code",
   "execution_count": null,
   "metadata": {},
   "outputs": [],
   "source": []
  }
 ],
 "metadata": {
  "ExecuteTimeLog": [
   {
    "duration": 361,
    "start_time": "2022-05-12T11:24:16.539Z"
   },
   {
    "duration": 1151,
    "start_time": "2022-05-12T11:25:31.133Z"
   },
   {
    "duration": 1107,
    "start_time": "2022-05-12T11:50:44.701Z"
   },
   {
    "duration": 75,
    "start_time": "2022-05-12T11:52:56.641Z"
   },
   {
    "duration": 484,
    "start_time": "2022-05-12T11:56:15.476Z"
   },
   {
    "duration": 4,
    "start_time": "2022-05-12T14:02:30.820Z"
   },
   {
    "duration": 1762,
    "start_time": "2022-05-12T14:02:33.763Z"
   },
   {
    "duration": 81,
    "start_time": "2022-05-12T14:03:22.971Z"
   },
   {
    "duration": 76,
    "start_time": "2022-05-12T14:03:35.037Z"
   },
   {
    "duration": 63,
    "start_time": "2022-05-12T14:30:39.081Z"
   },
   {
    "duration": 252,
    "start_time": "2022-05-12T14:31:05.711Z"
   },
   {
    "duration": 18,
    "start_time": "2022-05-12T14:32:38.574Z"
   },
   {
    "duration": 373,
    "start_time": "2022-05-12T14:32:48.726Z"
   },
   {
    "duration": 1603,
    "start_time": "2022-05-12T14:32:49.102Z"
   },
   {
    "duration": 561,
    "start_time": "2022-05-12T14:32:50.707Z"
   },
   {
    "duration": 403,
    "start_time": "2022-05-12T14:35:56.148Z"
   },
   {
    "duration": 1584,
    "start_time": "2022-05-12T14:35:56.553Z"
   },
   {
    "duration": 587,
    "start_time": "2022-05-12T14:35:58.139Z"
   },
   {
    "duration": 426,
    "start_time": "2022-05-12T14:36:47.785Z"
   },
   {
    "duration": 1572,
    "start_time": "2022-05-12T14:36:48.212Z"
   },
   {
    "duration": 221,
    "start_time": "2022-05-12T14:36:49.788Z"
   },
   {
    "duration": 406,
    "start_time": "2022-05-12T14:38:52.709Z"
   },
   {
    "duration": 1597,
    "start_time": "2022-05-12T14:38:53.117Z"
   },
   {
    "duration": 594,
    "start_time": "2022-05-12T14:38:54.715Z"
   },
   {
    "duration": 386,
    "start_time": "2022-05-12T14:40:12.922Z"
   },
   {
    "duration": 1679,
    "start_time": "2022-05-12T14:40:13.310Z"
   },
   {
    "duration": 448,
    "start_time": "2022-05-12T14:40:14.991Z"
   },
   {
    "duration": 423,
    "start_time": "2022-05-12T14:41:24.807Z"
   },
   {
    "duration": 1874,
    "start_time": "2022-05-12T14:41:25.232Z"
   },
   {
    "duration": 539,
    "start_time": "2022-05-12T14:41:27.109Z"
   },
   {
    "duration": 445,
    "start_time": "2022-05-12T14:41:57.569Z"
   },
   {
    "duration": 1882,
    "start_time": "2022-05-12T14:41:58.017Z"
   },
   {
    "duration": 510,
    "start_time": "2022-05-12T14:41:59.902Z"
   },
   {
    "duration": 443,
    "start_time": "2022-05-12T14:42:30.718Z"
   },
   {
    "duration": 1776,
    "start_time": "2022-05-12T14:42:31.164Z"
   },
   {
    "duration": 477,
    "start_time": "2022-05-12T14:42:32.942Z"
   },
   {
    "duration": 410,
    "start_time": "2022-05-12T14:43:04.501Z"
   },
   {
    "duration": 1663,
    "start_time": "2022-05-12T14:43:04.913Z"
   },
   {
    "duration": 469,
    "start_time": "2022-05-12T14:43:06.578Z"
   },
   {
    "duration": 391,
    "start_time": "2022-05-12T14:43:25.018Z"
   },
   {
    "duration": 1656,
    "start_time": "2022-05-12T14:43:25.411Z"
   },
   {
    "duration": 484,
    "start_time": "2022-05-12T14:43:27.069Z"
   },
   {
    "duration": 393,
    "start_time": "2022-05-12T14:43:45.725Z"
   },
   {
    "duration": 1662,
    "start_time": "2022-05-12T14:43:46.120Z"
   },
   {
    "duration": 475,
    "start_time": "2022-05-12T14:43:47.784Z"
   },
   {
    "duration": 468,
    "start_time": "2022-05-12T14:45:35.117Z"
   },
   {
    "duration": 1893,
    "start_time": "2022-05-12T14:45:35.587Z"
   },
   {
    "duration": 0,
    "start_time": "2022-05-12T14:45:37.482Z"
   },
   {
    "duration": 489,
    "start_time": "2022-05-12T14:46:03.194Z"
   },
   {
    "duration": 1920,
    "start_time": "2022-05-12T14:46:03.688Z"
   },
   {
    "duration": 0,
    "start_time": "2022-05-12T14:46:05.611Z"
   },
   {
    "duration": 442,
    "start_time": "2022-05-12T14:46:53.862Z"
   },
   {
    "duration": 1641,
    "start_time": "2022-05-12T14:46:54.306Z"
   },
   {
    "duration": 0,
    "start_time": "2022-05-12T14:46:55.950Z"
   },
   {
    "duration": 470,
    "start_time": "2022-05-12T14:47:42.083Z"
   },
   {
    "duration": 1666,
    "start_time": "2022-05-12T14:47:42.556Z"
   },
   {
    "duration": 0,
    "start_time": "2022-05-12T14:47:44.225Z"
   },
   {
    "duration": 404,
    "start_time": "2022-05-12T14:49:03.000Z"
   },
   {
    "duration": 1782,
    "start_time": "2022-05-12T14:49:03.406Z"
   },
   {
    "duration": 452,
    "start_time": "2022-05-12T14:49:05.190Z"
   },
   {
    "duration": 394,
    "start_time": "2022-05-12T14:50:17.713Z"
   },
   {
    "duration": 1688,
    "start_time": "2022-05-12T14:50:18.109Z"
   },
   {
    "duration": 441,
    "start_time": "2022-05-12T14:50:19.799Z"
   },
   {
    "duration": 411,
    "start_time": "2022-05-12T14:55:31.881Z"
   },
   {
    "duration": 1451,
    "start_time": "2022-05-12T14:55:33.620Z"
   },
   {
    "duration": 415,
    "start_time": "2022-05-12T14:55:39.839Z"
   },
   {
    "duration": 441,
    "start_time": "2022-05-12T14:56:31.407Z"
   },
   {
    "duration": 253,
    "start_time": "2022-05-12T14:56:46.154Z"
   },
   {
    "duration": 704,
    "start_time": "2022-05-12T14:56:54.411Z"
   },
   {
    "duration": 187,
    "start_time": "2022-05-12T14:57:11.049Z"
   },
   {
    "duration": 1431,
    "start_time": "2022-05-12T14:57:16.832Z"
   },
   {
    "duration": 805,
    "start_time": "2022-05-12T14:57:45.785Z"
   },
   {
    "duration": 1321,
    "start_time": "2022-05-12T14:57:50.992Z"
   },
   {
    "duration": 1351,
    "start_time": "2022-05-12T14:58:06.041Z"
   },
   {
    "duration": 448,
    "start_time": "2022-05-12T14:58:44.920Z"
   },
   {
    "duration": 2632,
    "start_time": "2022-05-12T14:59:37.457Z"
   },
   {
    "duration": 830,
    "start_time": "2022-05-12T17:29:16.162Z"
   },
   {
    "duration": 1548,
    "start_time": "2022-05-12T17:29:16.994Z"
   },
   {
    "duration": 2218,
    "start_time": "2022-05-12T17:29:18.544Z"
   },
   {
    "duration": 434,
    "start_time": "2022-05-12T17:29:20.764Z"
   },
   {
    "duration": 846,
    "start_time": "2022-05-12T17:32:37.688Z"
   },
   {
    "duration": 837,
    "start_time": "2022-05-12T17:33:10.586Z"
   },
   {
    "duration": 1412,
    "start_time": "2022-05-12T17:35:15.854Z"
   },
   {
    "duration": 733,
    "start_time": "2022-05-12T17:35:32.277Z"
   },
   {
    "duration": 685,
    "start_time": "2022-05-12T17:36:14.000Z"
   },
   {
    "duration": 1567,
    "start_time": "2022-05-12T17:36:14.687Z"
   },
   {
    "duration": 1429,
    "start_time": "2022-05-12T17:36:16.256Z"
   },
   {
    "duration": 884,
    "start_time": "2022-05-12T17:36:17.687Z"
   },
   {
    "duration": 438,
    "start_time": "2022-05-12T17:36:18.573Z"
   },
   {
    "duration": 766,
    "start_time": "2022-05-12T17:40:23.920Z"
   },
   {
    "duration": 1511,
    "start_time": "2022-05-12T17:41:19.990Z"
   },
   {
    "duration": 686,
    "start_time": "2022-05-12T17:41:28.520Z"
   },
   {
    "duration": 1599,
    "start_time": "2022-05-12T17:41:29.208Z"
   },
   {
    "duration": 1428,
    "start_time": "2022-05-12T17:41:30.810Z"
   },
   {
    "duration": 870,
    "start_time": "2022-05-12T17:41:32.240Z"
   },
   {
    "duration": 460,
    "start_time": "2022-05-12T17:41:33.112Z"
   },
   {
    "duration": 772,
    "start_time": "2022-05-12T17:42:15.215Z"
   },
   {
    "duration": 1810,
    "start_time": "2022-05-12T17:42:15.989Z"
   },
   {
    "duration": 1673,
    "start_time": "2022-05-12T17:42:17.800Z"
   },
   {
    "duration": 1062,
    "start_time": "2022-05-12T17:42:19.477Z"
   },
   {
    "duration": 506,
    "start_time": "2022-05-12T17:42:20.541Z"
   },
   {
    "duration": 1533,
    "start_time": "2022-05-12T17:44:55.642Z"
   },
   {
    "duration": 1563,
    "start_time": "2022-05-12T17:44:57.177Z"
   },
   {
    "duration": 1468,
    "start_time": "2022-05-12T17:44:58.742Z"
   },
   {
    "duration": 905,
    "start_time": "2022-05-12T17:45:00.216Z"
   },
   {
    "duration": 456,
    "start_time": "2022-05-12T17:45:01.123Z"
   },
   {
    "duration": 4,
    "start_time": "2022-05-12T17:48:21.853Z"
   },
   {
    "duration": 2015,
    "start_time": "2022-05-12T17:49:44.555Z"
   },
   {
    "duration": 1629,
    "start_time": "2022-05-12T17:49:46.572Z"
   },
   {
    "duration": 1531,
    "start_time": "2022-05-12T17:49:48.202Z"
   },
   {
    "duration": 921,
    "start_time": "2022-05-12T17:49:49.735Z"
   },
   {
    "duration": 467,
    "start_time": "2022-05-12T17:49:50.657Z"
   },
   {
    "duration": 49,
    "start_time": "2022-05-12T17:49:51.126Z"
   },
   {
    "duration": 143,
    "start_time": "2022-05-12T17:49:51.177Z"
   },
   {
    "duration": 0,
    "start_time": "2022-05-12T17:49:51.322Z"
   },
   {
    "duration": 1398,
    "start_time": "2022-05-12T17:50:57.880Z"
   },
   {
    "duration": 1595,
    "start_time": "2022-05-12T17:50:59.280Z"
   },
   {
    "duration": 1530,
    "start_time": "2022-05-12T17:51:00.878Z"
   },
   {
    "duration": 960,
    "start_time": "2022-05-12T17:51:02.412Z"
   },
   {
    "duration": 474,
    "start_time": "2022-05-12T17:51:03.374Z"
   },
   {
    "duration": 71,
    "start_time": "2022-05-12T17:51:03.849Z"
   },
   {
    "duration": 3998,
    "start_time": "2022-05-12T17:51:03.922Z"
   },
   {
    "duration": 0,
    "start_time": "2022-05-12T17:51:07.922Z"
   },
   {
    "duration": 4,
    "start_time": "2022-05-12T17:54:45.652Z"
   },
   {
    "duration": 1412,
    "start_time": "2022-05-12T17:55:31.558Z"
   },
   {
    "duration": 1528,
    "start_time": "2022-05-12T17:55:32.972Z"
   },
   {
    "duration": 1429,
    "start_time": "2022-05-12T17:55:34.502Z"
   },
   {
    "duration": 891,
    "start_time": "2022-05-12T17:55:35.933Z"
   },
   {
    "duration": 507,
    "start_time": "2022-05-12T17:55:36.826Z"
   },
   {
    "duration": 51,
    "start_time": "2022-05-12T17:55:37.335Z"
   },
   {
    "duration": 1699,
    "start_time": "2022-05-12T17:55:37.388Z"
   },
   {
    "duration": 0,
    "start_time": "2022-05-12T17:55:39.089Z"
   },
   {
    "duration": 1390,
    "start_time": "2022-05-12T18:04:48.835Z"
   },
   {
    "duration": 1468,
    "start_time": "2022-05-12T18:04:50.227Z"
   },
   {
    "duration": 1426,
    "start_time": "2022-05-12T18:04:51.697Z"
   },
   {
    "duration": 905,
    "start_time": "2022-05-12T18:04:53.126Z"
   },
   {
    "duration": 428,
    "start_time": "2022-05-12T18:04:54.033Z"
   },
   {
    "duration": 64,
    "start_time": "2022-05-12T18:04:54.464Z"
   },
   {
    "duration": 201,
    "start_time": "2022-05-12T18:04:54.530Z"
   },
   {
    "duration": 11,
    "start_time": "2022-05-12T18:04:54.733Z"
   },
   {
    "duration": 1407,
    "start_time": "2022-05-12T18:05:31.913Z"
   },
   {
    "duration": 1495,
    "start_time": "2022-05-12T18:05:33.322Z"
   },
   {
    "duration": 1431,
    "start_time": "2022-05-12T18:05:34.819Z"
   },
   {
    "duration": 860,
    "start_time": "2022-05-12T18:05:36.252Z"
   },
   {
    "duration": 430,
    "start_time": "2022-05-12T18:05:37.113Z"
   },
   {
    "duration": 63,
    "start_time": "2022-05-12T18:05:37.545Z"
   },
   {
    "duration": 4218,
    "start_time": "2022-05-12T18:05:37.609Z"
   },
   {
    "duration": 10,
    "start_time": "2022-05-12T18:05:41.828Z"
   },
   {
    "duration": 1487,
    "start_time": "2022-05-12T18:06:36.574Z"
   },
   {
    "duration": 1518,
    "start_time": "2022-05-12T18:06:38.063Z"
   },
   {
    "duration": 1393,
    "start_time": "2022-05-12T18:06:39.583Z"
   },
   {
    "duration": 880,
    "start_time": "2022-05-12T18:06:40.978Z"
   },
   {
    "duration": 466,
    "start_time": "2022-05-12T18:06:41.860Z"
   },
   {
    "duration": 48,
    "start_time": "2022-05-12T18:06:42.328Z"
   },
   {
    "duration": 31204,
    "start_time": "2022-05-12T18:06:42.378Z"
   },
   {
    "duration": 11,
    "start_time": "2022-05-12T18:07:13.584Z"
   },
   {
    "duration": 1445,
    "start_time": "2022-05-12T18:09:00.095Z"
   },
   {
    "duration": 1460,
    "start_time": "2022-05-12T18:09:01.542Z"
   },
   {
    "duration": 1426,
    "start_time": "2022-05-12T18:09:03.003Z"
   },
   {
    "duration": 888,
    "start_time": "2022-05-12T18:09:04.432Z"
   },
   {
    "duration": 434,
    "start_time": "2022-05-12T18:09:05.321Z"
   },
   {
    "duration": 63,
    "start_time": "2022-05-12T18:09:05.757Z"
   },
   {
    "duration": 30795,
    "start_time": "2022-05-12T18:09:05.822Z"
   },
   {
    "duration": 124,
    "start_time": "2022-05-12T18:09:36.619Z"
   },
   {
    "duration": 176,
    "start_time": "2022-05-12T18:16:06.128Z"
   },
   {
    "duration": 56,
    "start_time": "2022-05-12T18:16:12.890Z"
   },
   {
    "duration": 4486,
    "start_time": "2022-05-12T18:16:18.010Z"
   },
   {
    "duration": 4912,
    "start_time": "2022-05-12T18:17:27.274Z"
   },
   {
    "duration": 194,
    "start_time": "2022-05-12T18:18:06.308Z"
   },
   {
    "duration": 175,
    "start_time": "2022-05-12T18:18:22.166Z"
   },
   {
    "duration": 183,
    "start_time": "2022-05-12T18:18:25.019Z"
   },
   {
    "duration": 4,
    "start_time": "2022-05-12T18:21:23.483Z"
   },
   {
    "duration": 9,
    "start_time": "2022-05-12T18:23:25.293Z"
   },
   {
    "duration": 169,
    "start_time": "2022-05-12T18:25:49.199Z"
   },
   {
    "duration": 156,
    "start_time": "2022-05-12T18:26:24.501Z"
   },
   {
    "duration": 13,
    "start_time": "2022-05-12T18:26:30.238Z"
   },
   {
    "duration": 4,
    "start_time": "2022-05-12T18:28:56.557Z"
   },
   {
    "duration": 110,
    "start_time": "2022-05-12T18:30:45.075Z"
   },
   {
    "duration": 93,
    "start_time": "2022-05-12T18:31:02.625Z"
   },
   {
    "duration": 88,
    "start_time": "2022-05-12T18:31:25.921Z"
   },
   {
    "duration": 90,
    "start_time": "2022-05-12T18:32:11.740Z"
   },
   {
    "duration": 170,
    "start_time": "2022-05-12T18:42:41.700Z"
   },
   {
    "duration": 164,
    "start_time": "2022-05-12T18:45:03.720Z"
   },
   {
    "duration": 156,
    "start_time": "2022-05-12T18:45:28.963Z"
   },
   {
    "duration": 5,
    "start_time": "2022-05-12T18:47:00.407Z"
   },
   {
    "duration": 84,
    "start_time": "2022-05-12T18:51:22.800Z"
   },
   {
    "duration": 3,
    "start_time": "2022-05-12T18:51:48.099Z"
   },
   {
    "duration": 2499,
    "start_time": "2022-05-12T18:51:49.019Z"
   },
   {
    "duration": 98,
    "start_time": "2022-05-12T18:51:51.520Z"
   },
   {
    "duration": 92,
    "start_time": "2022-05-12T18:51:56.815Z"
   },
   {
    "duration": 4,
    "start_time": "2022-05-12T18:52:20.049Z"
   },
   {
    "duration": 1431,
    "start_time": "2022-05-12T18:52:21.311Z"
   },
   {
    "duration": 83,
    "start_time": "2022-05-12T18:52:22.745Z"
   },
   {
    "duration": 22,
    "start_time": "2022-05-12T18:54:11.625Z"
   },
   {
    "duration": 114,
    "start_time": "2022-05-12T18:55:31.859Z"
   },
   {
    "duration": 1463,
    "start_time": "2022-05-12T19:00:54.513Z"
   },
   {
    "duration": 1490,
    "start_time": "2022-05-12T19:00:55.979Z"
   },
   {
    "duration": 120,
    "start_time": "2022-05-12T19:00:57.471Z"
   },
   {
    "duration": 1384,
    "start_time": "2022-05-12T19:00:57.593Z"
   },
   {
    "duration": 876,
    "start_time": "2022-05-12T19:00:58.979Z"
   },
   {
    "duration": 445,
    "start_time": "2022-05-12T19:00:59.857Z"
   },
   {
    "duration": 54,
    "start_time": "2022-05-12T19:01:00.307Z"
   },
   {
    "duration": 31164,
    "start_time": "2022-05-12T19:01:00.363Z"
   },
   {
    "duration": 135,
    "start_time": "2022-05-12T19:01:31.529Z"
   },
   {
    "duration": 144,
    "start_time": "2022-05-12T19:01:31.667Z"
   },
   {
    "duration": 4,
    "start_time": "2022-05-12T19:05:55.152Z"
   },
   {
    "duration": 3,
    "start_time": "2022-05-12T19:07:36.518Z"
   },
   {
    "duration": 4,
    "start_time": "2022-05-12T19:08:45.318Z"
   },
   {
    "duration": 1516,
    "start_time": "2022-05-12T19:12:16.487Z"
   },
   {
    "duration": 1612,
    "start_time": "2022-05-12T19:12:18.005Z"
   },
   {
    "duration": 123,
    "start_time": "2022-05-12T19:12:19.619Z"
   },
   {
    "duration": 1432,
    "start_time": "2022-05-12T19:12:19.744Z"
   },
   {
    "duration": 899,
    "start_time": "2022-05-12T19:12:21.178Z"
   },
   {
    "duration": 448,
    "start_time": "2022-05-12T19:12:22.079Z"
   },
   {
    "duration": 56,
    "start_time": "2022-05-12T19:12:22.528Z"
   },
   {
    "duration": 31131,
    "start_time": "2022-05-12T19:12:22.586Z"
   },
   {
    "duration": 132,
    "start_time": "2022-05-12T19:12:53.718Z"
   },
   {
    "duration": 135,
    "start_time": "2022-05-12T19:12:53.852Z"
   },
   {
    "duration": 3,
    "start_time": "2022-05-12T19:12:53.989Z"
   },
   {
    "duration": 204,
    "start_time": "2022-05-12T19:16:38.756Z"
   },
   {
    "duration": 29326,
    "start_time": "2022-05-12T19:17:09.994Z"
   },
   {
    "duration": 32401,
    "start_time": "2022-05-12T19:18:28.727Z"
   },
   {
    "duration": 32187,
    "start_time": "2022-05-12T19:19:48.196Z"
   },
   {
    "duration": 142,
    "start_time": "2022-05-12T19:21:56.884Z"
   },
   {
    "duration": 29587,
    "start_time": "2022-05-12T19:30:43.310Z"
   },
   {
    "duration": 373,
    "start_time": "2022-05-12T19:31:20.699Z"
   },
   {
    "duration": 360,
    "start_time": "2022-05-12T19:31:22.542Z"
   },
   {
    "duration": 31343,
    "start_time": "2022-05-12T19:31:40.356Z"
   },
   {
    "duration": 391,
    "start_time": "2022-05-12T19:32:14.545Z"
   },
   {
    "duration": 388,
    "start_time": "2022-05-12T19:32:16.547Z"
   },
   {
    "duration": 23378,
    "start_time": "2022-05-12T19:32:54.661Z"
   },
   {
    "duration": 304,
    "start_time": "2022-05-12T19:33:30.886Z"
   },
   {
    "duration": 302,
    "start_time": "2022-05-12T19:33:31.981Z"
   },
   {
    "duration": 34126,
    "start_time": "2022-05-12T19:33:52.822Z"
   },
   {
    "duration": 435,
    "start_time": "2022-05-12T19:34:29.860Z"
   },
   {
    "duration": 424,
    "start_time": "2022-05-12T19:34:30.965Z"
   },
   {
    "duration": 3,
    "start_time": "2022-05-12T19:34:48.988Z"
   },
   {
    "duration": 128,
    "start_time": "2022-05-12T19:42:40.695Z"
   },
   {
    "duration": 12,
    "start_time": "2022-05-12T19:49:19.024Z"
   },
   {
    "duration": 1497,
    "start_time": "2022-05-12T19:49:48.193Z"
   },
   {
    "duration": 1625,
    "start_time": "2022-05-12T19:49:49.692Z"
   },
   {
    "duration": 127,
    "start_time": "2022-05-12T19:49:51.319Z"
   },
   {
    "duration": 1425,
    "start_time": "2022-05-12T19:49:51.448Z"
   },
   {
    "duration": 927,
    "start_time": "2022-05-12T19:49:52.874Z"
   },
   {
    "duration": 457,
    "start_time": "2022-05-12T19:49:53.806Z"
   },
   {
    "duration": 817,
    "start_time": "2022-05-12T19:49:54.265Z"
   },
   {
    "duration": 37617,
    "start_time": "2022-05-12T19:49:55.084Z"
   },
   {
    "duration": 415,
    "start_time": "2022-05-12T19:50:32.703Z"
   },
   {
    "duration": 183377,
    "start_time": "2022-05-12T19:50:33.120Z"
   },
   {
    "duration": 424,
    "start_time": "2022-05-12T19:53:36.499Z"
   },
   {
    "duration": 142,
    "start_time": "2022-05-12T19:56:05.272Z"
   },
   {
    "duration": 1312,
    "start_time": "2022-05-12T19:56:23.615Z"
   },
   {
    "duration": 19,
    "start_time": "2022-05-12T20:01:38.314Z"
   },
   {
    "duration": 2748,
    "start_time": "2022-05-12T20:04:20.862Z"
   },
   {
    "duration": 580,
    "start_time": "2022-05-12T20:05:17.928Z"
   },
   {
    "duration": 2360,
    "start_time": "2022-05-12T20:06:54.752Z"
   },
   {
    "duration": 533,
    "start_time": "2022-05-12T20:07:00.676Z"
   },
   {
    "duration": 25,
    "start_time": "2022-05-12T20:11:36.920Z"
   },
   {
    "duration": 4,
    "start_time": "2022-05-12T20:12:13.037Z"
   },
   {
    "duration": 100,
    "start_time": "2022-05-12T20:17:20.249Z"
   },
   {
    "duration": 3055,
    "start_time": "2022-05-12T20:18:55.862Z"
   },
   {
    "duration": 227,
    "start_time": "2022-05-12T20:23:29.996Z"
   },
   {
    "duration": 256,
    "start_time": "2022-05-12T20:23:54.368Z"
   },
   {
    "duration": 105,
    "start_time": "2022-05-12T20:28:55.451Z"
   },
   {
    "duration": 3092,
    "start_time": "2022-05-12T20:29:04.624Z"
   },
   {
    "duration": 300,
    "start_time": "2022-05-12T20:29:15.607Z"
   },
   {
    "duration": 8132,
    "start_time": "2022-05-12T20:29:59.182Z"
   },
   {
    "duration": 742,
    "start_time": "2022-05-12T20:30:15.869Z"
   },
   {
    "duration": 6,
    "start_time": "2022-05-12T20:35:17.629Z"
   },
   {
    "duration": 515,
    "start_time": "2022-05-12T20:37:21.394Z"
   },
   {
    "duration": 807,
    "start_time": "2022-05-12T20:37:41.010Z"
   },
   {
    "duration": 531,
    "start_time": "2022-05-12T20:37:47.379Z"
   },
   {
    "duration": 1338,
    "start_time": "2022-05-12T20:38:15.172Z"
   },
   {
    "duration": 412,
    "start_time": "2022-05-12T20:39:07.479Z"
   },
   {
    "duration": 26626,
    "start_time": "2022-05-12T20:40:26.483Z"
   },
   {
    "duration": 1106,
    "start_time": "2022-05-12T20:40:53.111Z"
   },
   {
    "duration": 100,
    "start_time": "2022-05-12T20:43:00.279Z"
   },
   {
    "duration": 13310,
    "start_time": "2022-05-12T20:43:11.810Z"
   },
   {
    "duration": 859,
    "start_time": "2022-05-12T20:43:28.462Z"
   },
   {
    "duration": 4,
    "start_time": "2022-05-12T20:48:18.771Z"
   },
   {
    "duration": 217018,
    "start_time": "2022-05-12T20:57:20.596Z"
   },
   {
    "duration": 1612,
    "start_time": "2022-05-12T21:18:15.505Z"
   },
   {
    "duration": 1758,
    "start_time": "2022-05-12T21:18:17.119Z"
   },
   {
    "duration": 129,
    "start_time": "2022-05-12T21:18:18.879Z"
   },
   {
    "duration": 1655,
    "start_time": "2022-05-12T21:18:19.010Z"
   },
   {
    "duration": 1041,
    "start_time": "2022-05-12T21:18:20.668Z"
   },
   {
    "duration": 451,
    "start_time": "2022-05-12T21:18:21.711Z"
   },
   {
    "duration": 879,
    "start_time": "2022-05-12T21:18:22.164Z"
   },
   {
    "duration": 34168,
    "start_time": "2022-05-12T21:18:23.045Z"
   },
   {
    "duration": 185332,
    "start_time": "2022-05-12T21:18:57.216Z"
   },
   {
    "duration": 4064,
    "start_time": "2022-05-12T21:22:02.550Z"
   },
   {
    "duration": 435713,
    "start_time": "2022-05-12T21:22:06.618Z"
   },
   {
    "duration": 996,
    "start_time": "2022-05-12T21:29:22.333Z"
   },
   {
    "duration": 1453,
    "start_time": "2022-05-12T21:29:23.331Z"
   },
   {
    "duration": 522,
    "start_time": "2022-05-12T21:29:24.787Z"
   },
   {
    "duration": 1112,
    "start_time": "2022-05-12T21:29:25.313Z"
   },
   {
    "duration": 603683,
    "start_time": "2022-05-12T21:29:26.429Z"
   },
   {
    "duration": 1510,
    "start_time": "2022-05-13T04:39:29.190Z"
   },
   {
    "duration": 1497,
    "start_time": "2022-05-13T04:39:30.702Z"
   },
   {
    "duration": 1369,
    "start_time": "2022-05-13T04:40:36.250Z"
   },
   {
    "duration": 848,
    "start_time": "2022-05-13T04:40:37.621Z"
   },
   {
    "duration": 731,
    "start_time": "2022-05-13T04:40:43.861Z"
   },
   {
    "duration": 416,
    "start_time": "2022-05-13T04:42:47.140Z"
   },
   {
    "duration": 4,
    "start_time": "2022-05-13T04:43:02.186Z"
   },
   {
    "duration": 783,
    "start_time": "2022-05-13T04:46:37.276Z"
   },
   {
    "duration": 293,
    "start_time": "2022-05-13T04:46:42.244Z"
   },
   {
    "duration": 287,
    "start_time": "2022-05-13T04:47:01.399Z"
   },
   {
    "duration": 307,
    "start_time": "2022-05-13T04:47:14.077Z"
   },
   {
    "duration": 146,
    "start_time": "2022-05-13T08:59:02.331Z"
   },
   {
    "duration": 6,
    "start_time": "2022-05-13T09:01:05.207Z"
   },
   {
    "duration": 6,
    "start_time": "2022-05-13T09:01:16.248Z"
   },
   {
    "duration": 63,
    "start_time": "2022-05-13T09:01:51.578Z"
   },
   {
    "duration": 6,
    "start_time": "2022-05-13T09:02:10.419Z"
   },
   {
    "duration": 7,
    "start_time": "2022-05-13T09:02:21.673Z"
   },
   {
    "duration": 4,
    "start_time": "2022-05-13T09:05:06.545Z"
   },
   {
    "duration": 17,
    "start_time": "2022-05-13T09:06:17.313Z"
   },
   {
    "duration": 20471,
    "start_time": "2022-05-13T09:06:30.849Z"
   },
   {
    "duration": 5,
    "start_time": "2022-05-13T09:07:34.939Z"
   },
   {
    "duration": 5,
    "start_time": "2022-05-13T09:07:45.013Z"
   },
   {
    "duration": 4,
    "start_time": "2022-05-13T09:08:43.209Z"
   },
   {
    "duration": 10,
    "start_time": "2022-05-13T09:09:37.760Z"
   },
   {
    "duration": 10,
    "start_time": "2022-05-13T09:10:37.829Z"
   },
   {
    "duration": 4,
    "start_time": "2022-05-13T09:11:16.843Z"
   },
   {
    "duration": 6,
    "start_time": "2022-05-13T09:11:20.342Z"
   },
   {
    "duration": 10,
    "start_time": "2022-05-13T09:11:42.531Z"
   },
   {
    "duration": 6,
    "start_time": "2022-05-13T09:11:53.147Z"
   },
   {
    "duration": 4,
    "start_time": "2022-05-13T09:12:06.050Z"
   },
   {
    "duration": 5,
    "start_time": "2022-05-13T09:12:08.434Z"
   },
   {
    "duration": 21,
    "start_time": "2022-05-13T09:12:17.841Z"
   },
   {
    "duration": 18,
    "start_time": "2022-05-13T09:15:56.324Z"
   },
   {
    "duration": 34,
    "start_time": "2022-05-13T09:16:13.090Z"
   },
   {
    "duration": 146,
    "start_time": "2022-05-13T09:17:49.167Z"
   },
   {
    "duration": 169,
    "start_time": "2022-05-13T09:24:12.325Z"
   },
   {
    "duration": 9,
    "start_time": "2022-05-13T09:27:20.824Z"
   },
   {
    "duration": 11,
    "start_time": "2022-05-13T09:28:22.358Z"
   },
   {
    "duration": 4,
    "start_time": "2022-05-13T09:29:56.608Z"
   },
   {
    "duration": 9,
    "start_time": "2022-05-13T09:30:34.406Z"
   },
   {
    "duration": 13,
    "start_time": "2022-05-13T09:30:49.489Z"
   },
   {
    "duration": 8,
    "start_time": "2022-05-13T09:31:05.136Z"
   },
   {
    "duration": 6,
    "start_time": "2022-05-13T09:31:20.480Z"
   },
   {
    "duration": 9,
    "start_time": "2022-05-13T09:31:52.793Z"
   },
   {
    "duration": 182,
    "start_time": "2022-05-13T09:32:17.759Z"
   },
   {
    "duration": 1680,
    "start_time": "2022-05-13T09:32:31.749Z"
   },
   {
    "duration": 1774,
    "start_time": "2022-05-13T09:33:09.529Z"
   },
   {
    "duration": 1783,
    "start_time": "2022-05-13T09:33:32.612Z"
   },
   {
    "duration": 1739,
    "start_time": "2022-05-13T09:33:47.807Z"
   },
   {
    "duration": 1741,
    "start_time": "2022-05-13T09:34:07.499Z"
   },
   {
    "duration": 164,
    "start_time": "2022-05-13T09:35:12.833Z"
   },
   {
    "duration": 1765,
    "start_time": "2022-05-13T09:35:18.055Z"
   },
   {
    "duration": 3,
    "start_time": "2022-05-13T09:36:18.423Z"
   },
   {
    "duration": 8,
    "start_time": "2022-05-13T09:36:19.352Z"
   },
   {
    "duration": 4,
    "start_time": "2022-05-13T09:36:46.456Z"
   },
   {
    "duration": 1841,
    "start_time": "2022-05-13T09:36:47.497Z"
   },
   {
    "duration": 1670,
    "start_time": "2022-05-13T09:41:56.932Z"
   },
   {
    "duration": 2594,
    "start_time": "2022-05-13T09:42:29.708Z"
   },
   {
    "duration": 1827,
    "start_time": "2022-05-13T09:42:48.292Z"
   },
   {
    "duration": 6,
    "start_time": "2022-05-13T09:59:25.661Z"
   },
   {
    "duration": 7351,
    "start_time": "2022-05-13T09:59:26.705Z"
   },
   {
    "duration": 171,
    "start_time": "2022-05-13T09:59:34.059Z"
   },
   {
    "duration": 2310,
    "start_time": "2022-05-13T09:59:34.233Z"
   },
   {
    "duration": 1470,
    "start_time": "2022-05-13T09:59:36.546Z"
   },
   {
    "duration": 665,
    "start_time": "2022-05-13T09:59:38.018Z"
   },
   {
    "duration": 1334,
    "start_time": "2022-05-13T09:59:48.860Z"
   },
   {
    "duration": 122,
    "start_time": "2022-05-13T10:01:22.647Z"
   },
   {
    "duration": 6,
    "start_time": "2022-05-13T10:01:32.348Z"
   },
   {
    "duration": 2005,
    "start_time": "2022-05-13T10:01:32.937Z"
   },
   {
    "duration": 170,
    "start_time": "2022-05-13T10:01:34.944Z"
   },
   {
    "duration": 2401,
    "start_time": "2022-05-13T10:01:35.117Z"
   },
   {
    "duration": 1232,
    "start_time": "2022-05-13T10:01:37.521Z"
   },
   {
    "duration": 640,
    "start_time": "2022-05-13T10:01:38.756Z"
   },
   {
    "duration": 1380,
    "start_time": "2022-05-13T10:01:44.710Z"
   },
   {
    "duration": 2011,
    "start_time": "2022-05-13T10:26:57.000Z"
   },
   {
    "duration": 2210,
    "start_time": "2022-05-13T10:26:59.015Z"
   },
   {
    "duration": 187,
    "start_time": "2022-05-13T10:27:01.228Z"
   },
   {
    "duration": 2189,
    "start_time": "2022-05-13T10:27:01.418Z"
   },
   {
    "duration": 1377,
    "start_time": "2022-05-13T10:27:03.610Z"
   },
   {
    "duration": 635,
    "start_time": "2022-05-13T10:27:04.989Z"
   },
   {
    "duration": 1378,
    "start_time": "2022-05-13T10:27:05.626Z"
   },
   {
    "duration": 55123,
    "start_time": "2022-05-13T10:27:07.007Z"
   },
   {
    "duration": 212431,
    "start_time": "2022-05-13T10:28:02.133Z"
   },
   {
    "duration": 3519,
    "start_time": "2022-05-13T10:31:34.567Z"
   },
   {
    "duration": 16592,
    "start_time": "2022-05-13T10:31:38.089Z"
   },
   {
    "duration": 1098,
    "start_time": "2022-05-13T10:31:54.683Z"
   },
   {
    "duration": 1824,
    "start_time": "2022-05-13T10:31:55.784Z"
   },
   {
    "duration": 972,
    "start_time": "2022-05-13T10:31:57.611Z"
   },
   {
    "duration": 2722,
    "start_time": "2022-05-13T10:31:58.585Z"
   },
   {
    "duration": 235905,
    "start_time": "2022-05-13T10:32:01.381Z"
   },
   {
    "duration": 2704,
    "start_time": "2022-05-13T10:35:57.288Z"
   },
   {
    "duration": 2771,
    "start_time": "2022-05-13T10:36:35.639Z"
   },
   {
    "duration": 2721,
    "start_time": "2022-05-13T10:37:06.190Z"
   },
   {
    "duration": 74,
    "start_time": "2022-05-13T10:38:55.909Z"
   },
   {
    "duration": 3250,
    "start_time": "2022-05-13T10:39:11.528Z"
   },
   {
    "duration": 1142,
    "start_time": "2022-05-13T10:43:33.695Z"
   },
   {
    "duration": 3386,
    "start_time": "2022-05-13T10:43:36.151Z"
   },
   {
    "duration": 841,
    "start_time": "2022-05-13T10:43:54.251Z"
   },
   {
    "duration": 2692,
    "start_time": "2022-05-13T10:43:58.316Z"
   },
   {
    "duration": 29,
    "start_time": "2022-05-13T10:46:14.624Z"
   },
   {
    "duration": 5886,
    "start_time": "2022-05-13T10:52:40.696Z"
   },
   {
    "duration": 715490,
    "start_time": "2022-05-13T10:56:43.308Z"
   },
   {
    "duration": 2457,
    "start_time": "2022-05-13T11:09:45.897Z"
   },
   {
    "duration": 2196,
    "start_time": "2022-05-13T11:12:10.423Z"
   },
   {
    "duration": 2322,
    "start_time": "2022-05-13T11:12:12.622Z"
   },
   {
    "duration": 189,
    "start_time": "2022-05-13T11:12:14.946Z"
   },
   {
    "duration": 3005,
    "start_time": "2022-05-13T11:12:15.139Z"
   },
   {
    "duration": 1456,
    "start_time": "2022-05-13T11:12:18.146Z"
   },
   {
    "duration": 796,
    "start_time": "2022-05-13T11:12:19.605Z"
   },
   {
    "duration": 1439,
    "start_time": "2022-05-13T11:12:20.404Z"
   },
   {
    "duration": 27843,
    "start_time": "2022-05-13T11:12:21.845Z"
   },
   {
    "duration": 2188,
    "start_time": "2022-05-13T11:13:17.343Z"
   },
   {
    "duration": 2312,
    "start_time": "2022-05-13T11:13:19.536Z"
   },
   {
    "duration": 186,
    "start_time": "2022-05-13T11:13:21.850Z"
   },
   {
    "duration": 2306,
    "start_time": "2022-05-13T11:13:22.040Z"
   },
   {
    "duration": 1420,
    "start_time": "2022-05-13T11:13:24.348Z"
   },
   {
    "duration": 795,
    "start_time": "2022-05-13T11:13:25.770Z"
   },
   {
    "duration": 1497,
    "start_time": "2022-05-13T11:13:26.567Z"
   },
   {
    "duration": 54249,
    "start_time": "2022-05-13T11:13:28.066Z"
   },
   {
    "duration": 238882,
    "start_time": "2022-05-13T11:14:22.318Z"
   },
   {
    "duration": 10585,
    "start_time": "2022-05-13T11:18:21.204Z"
   },
   {
    "duration": 488902,
    "start_time": "2022-05-13T11:18:31.795Z"
   },
   {
    "duration": 1164,
    "start_time": "2022-05-13T11:26:40.707Z"
   },
   {
    "duration": 3576,
    "start_time": "2022-05-13T11:26:41.873Z"
   },
   {
    "duration": 965,
    "start_time": "2022-05-13T11:26:45.451Z"
   },
   {
    "duration": 2822,
    "start_time": "2022-05-13T11:26:46.484Z"
   },
   {
    "duration": 359118,
    "start_time": "2022-05-13T11:26:49.308Z"
   },
   {
    "duration": 2701,
    "start_time": "2022-05-13T11:32:48.428Z"
   },
   {
    "duration": 7508,
    "start_time": "2022-05-13T11:32:51.183Z"
   }
  ],
  "kernelspec": {
   "display_name": "Python 3 (ipykernel)",
   "language": "python",
   "name": "python3"
  },
  "language_info": {
   "codemirror_mode": {
    "name": "ipython",
    "version": 3
   },
   "file_extension": ".py",
   "mimetype": "text/x-python",
   "name": "python",
   "nbconvert_exporter": "python",
   "pygments_lexer": "ipython3",
   "version": "3.9.5"
  },
  "toc": {
   "base_numbering": 1,
   "nav_menu": {},
   "number_sections": true,
   "sideBar": true,
   "skip_h1_title": true,
   "title_cell": "Table of Contents",
   "title_sidebar": "Contents",
   "toc_cell": false,
   "toc_position": {},
   "toc_section_display": true,
   "toc_window_display": true
  }
 },
 "nbformat": 4,
 "nbformat_minor": 2
}
