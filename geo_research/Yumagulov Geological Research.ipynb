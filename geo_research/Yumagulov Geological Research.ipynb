{
 "cells": [
  {
   "cell_type": "markdown",
   "metadata": {},
   "source": [
    "# Загрузка и исследование данных"
   ]
  },
  {
   "cell_type": "code",
   "execution_count": 1,
   "metadata": {},
   "outputs": [],
   "source": [
    "import pandas as pd\n",
    "import numpy as np\n",
    "from sklearn.linear_model import LinearRegression\n",
    "from sklearn.model_selection import train_test_split\n",
    "from sklearn.metrics import mean_squared_error\n",
    "#import seaborn as sn\n",
    "from scipy import stats as st"
   ]
  },
  {
   "cell_type": "code",
   "execution_count": 2,
   "metadata": {},
   "outputs": [
    {
     "name": "stdout",
     "output_type": "stream",
     "text": [
      "Анализируем данные по региону 0:\n",
      "<class 'pandas.core.frame.DataFrame'>\n",
      "RangeIndex: 100000 entries, 0 to 99999\n",
      "Data columns (total 5 columns):\n",
      " #   Column   Non-Null Count   Dtype  \n",
      "---  ------   --------------   -----  \n",
      " 0   id       100000 non-null  object \n",
      " 1   f0       100000 non-null  float64\n",
      " 2   f1       100000 non-null  float64\n",
      " 3   f2       100000 non-null  float64\n",
      " 4   product  100000 non-null  float64\n",
      "dtypes: float64(4), object(1)\n",
      "memory usage: 3.8+ MB\n"
     ]
    },
    {
     "data": {
      "text/html": [
       "<div>\n",
       "<style scoped>\n",
       "    .dataframe tbody tr th:only-of-type {\n",
       "        vertical-align: middle;\n",
       "    }\n",
       "\n",
       "    .dataframe tbody tr th {\n",
       "        vertical-align: top;\n",
       "    }\n",
       "\n",
       "    .dataframe thead th {\n",
       "        text-align: right;\n",
       "    }\n",
       "</style>\n",
       "<table border=\"1\" class=\"dataframe\">\n",
       "  <thead>\n",
       "    <tr style=\"text-align: right;\">\n",
       "      <th></th>\n",
       "      <th>id</th>\n",
       "      <th>f0</th>\n",
       "      <th>f1</th>\n",
       "      <th>f2</th>\n",
       "      <th>product</th>\n",
       "    </tr>\n",
       "  </thead>\n",
       "  <tbody>\n",
       "    <tr>\n",
       "      <th>0</th>\n",
       "      <td>txEyH</td>\n",
       "      <td>0.705745</td>\n",
       "      <td>-0.497823</td>\n",
       "      <td>1.221170</td>\n",
       "      <td>105.280062</td>\n",
       "    </tr>\n",
       "    <tr>\n",
       "      <th>1</th>\n",
       "      <td>2acmU</td>\n",
       "      <td>1.334711</td>\n",
       "      <td>-0.340164</td>\n",
       "      <td>4.365080</td>\n",
       "      <td>73.037750</td>\n",
       "    </tr>\n",
       "    <tr>\n",
       "      <th>2</th>\n",
       "      <td>409Wp</td>\n",
       "      <td>1.022732</td>\n",
       "      <td>0.151990</td>\n",
       "      <td>1.419926</td>\n",
       "      <td>85.265647</td>\n",
       "    </tr>\n",
       "    <tr>\n",
       "      <th>3</th>\n",
       "      <td>iJLyR</td>\n",
       "      <td>-0.032172</td>\n",
       "      <td>0.139033</td>\n",
       "      <td>2.978566</td>\n",
       "      <td>168.620776</td>\n",
       "    </tr>\n",
       "    <tr>\n",
       "      <th>4</th>\n",
       "      <td>Xdl7t</td>\n",
       "      <td>1.988431</td>\n",
       "      <td>0.155413</td>\n",
       "      <td>4.751769</td>\n",
       "      <td>154.036647</td>\n",
       "    </tr>\n",
       "  </tbody>\n",
       "</table>\n",
       "</div>"
      ],
      "text/plain": [
       "      id        f0        f1        f2     product\n",
       "0  txEyH  0.705745 -0.497823  1.221170  105.280062\n",
       "1  2acmU  1.334711 -0.340164  4.365080   73.037750\n",
       "2  409Wp  1.022732  0.151990  1.419926   85.265647\n",
       "3  iJLyR -0.032172  0.139033  2.978566  168.620776\n",
       "4  Xdl7t  1.988431  0.155413  4.751769  154.036647"
      ]
     },
     "metadata": {},
     "output_type": "display_data"
    },
    {
     "data": {
      "text/html": [
       "<div>\n",
       "<style scoped>\n",
       "    .dataframe tbody tr th:only-of-type {\n",
       "        vertical-align: middle;\n",
       "    }\n",
       "\n",
       "    .dataframe tbody tr th {\n",
       "        vertical-align: top;\n",
       "    }\n",
       "\n",
       "    .dataframe thead th {\n",
       "        text-align: right;\n",
       "    }\n",
       "</style>\n",
       "<table border=\"1\" class=\"dataframe\">\n",
       "  <thead>\n",
       "    <tr style=\"text-align: right;\">\n",
       "      <th></th>\n",
       "      <th>f0</th>\n",
       "      <th>f1</th>\n",
       "      <th>f2</th>\n",
       "      <th>product</th>\n",
       "    </tr>\n",
       "  </thead>\n",
       "  <tbody>\n",
       "    <tr>\n",
       "      <th>count</th>\n",
       "      <td>100000.000000</td>\n",
       "      <td>100000.000000</td>\n",
       "      <td>100000.000000</td>\n",
       "      <td>100000.000000</td>\n",
       "    </tr>\n",
       "    <tr>\n",
       "      <th>mean</th>\n",
       "      <td>0.500419</td>\n",
       "      <td>0.250143</td>\n",
       "      <td>2.502647</td>\n",
       "      <td>92.500000</td>\n",
       "    </tr>\n",
       "    <tr>\n",
       "      <th>std</th>\n",
       "      <td>0.871832</td>\n",
       "      <td>0.504433</td>\n",
       "      <td>3.248248</td>\n",
       "      <td>44.288691</td>\n",
       "    </tr>\n",
       "    <tr>\n",
       "      <th>min</th>\n",
       "      <td>-1.408605</td>\n",
       "      <td>-0.848218</td>\n",
       "      <td>-12.088328</td>\n",
       "      <td>0.000000</td>\n",
       "    </tr>\n",
       "    <tr>\n",
       "      <th>25%</th>\n",
       "      <td>-0.072580</td>\n",
       "      <td>-0.200881</td>\n",
       "      <td>0.287748</td>\n",
       "      <td>56.497507</td>\n",
       "    </tr>\n",
       "    <tr>\n",
       "      <th>50%</th>\n",
       "      <td>0.502360</td>\n",
       "      <td>0.250252</td>\n",
       "      <td>2.515969</td>\n",
       "      <td>91.849972</td>\n",
       "    </tr>\n",
       "    <tr>\n",
       "      <th>75%</th>\n",
       "      <td>1.073581</td>\n",
       "      <td>0.700646</td>\n",
       "      <td>4.715088</td>\n",
       "      <td>128.564089</td>\n",
       "    </tr>\n",
       "    <tr>\n",
       "      <th>max</th>\n",
       "      <td>2.362331</td>\n",
       "      <td>1.343769</td>\n",
       "      <td>16.003790</td>\n",
       "      <td>185.364347</td>\n",
       "    </tr>\n",
       "  </tbody>\n",
       "</table>\n",
       "</div>"
      ],
      "text/plain": [
       "                  f0             f1             f2        product\n",
       "count  100000.000000  100000.000000  100000.000000  100000.000000\n",
       "mean        0.500419       0.250143       2.502647      92.500000\n",
       "std         0.871832       0.504433       3.248248      44.288691\n",
       "min        -1.408605      -0.848218     -12.088328       0.000000\n",
       "25%        -0.072580      -0.200881       0.287748      56.497507\n",
       "50%         0.502360       0.250252       2.515969      91.849972\n",
       "75%         1.073581       0.700646       4.715088     128.564089\n",
       "max         2.362331       1.343769      16.003790     185.364347"
      ]
     },
     "metadata": {},
     "output_type": "display_data"
    },
    {
     "name": "stdout",
     "output_type": "stream",
     "text": [
      "Количество дубликатов: 0\n",
      "Количество скважин: 99990 из 100000\n",
      "===================================================================================\n",
      "Анализируем данные по региону 1:\n",
      "<class 'pandas.core.frame.DataFrame'>\n",
      "RangeIndex: 100000 entries, 0 to 99999\n",
      "Data columns (total 5 columns):\n",
      " #   Column   Non-Null Count   Dtype  \n",
      "---  ------   --------------   -----  \n",
      " 0   id       100000 non-null  object \n",
      " 1   f0       100000 non-null  float64\n",
      " 2   f1       100000 non-null  float64\n",
      " 3   f2       100000 non-null  float64\n",
      " 4   product  100000 non-null  float64\n",
      "dtypes: float64(4), object(1)\n",
      "memory usage: 3.8+ MB\n"
     ]
    },
    {
     "data": {
      "text/html": [
       "<div>\n",
       "<style scoped>\n",
       "    .dataframe tbody tr th:only-of-type {\n",
       "        vertical-align: middle;\n",
       "    }\n",
       "\n",
       "    .dataframe tbody tr th {\n",
       "        vertical-align: top;\n",
       "    }\n",
       "\n",
       "    .dataframe thead th {\n",
       "        text-align: right;\n",
       "    }\n",
       "</style>\n",
       "<table border=\"1\" class=\"dataframe\">\n",
       "  <thead>\n",
       "    <tr style=\"text-align: right;\">\n",
       "      <th></th>\n",
       "      <th>id</th>\n",
       "      <th>f0</th>\n",
       "      <th>f1</th>\n",
       "      <th>f2</th>\n",
       "      <th>product</th>\n",
       "    </tr>\n",
       "  </thead>\n",
       "  <tbody>\n",
       "    <tr>\n",
       "      <th>0</th>\n",
       "      <td>kBEdx</td>\n",
       "      <td>-15.001348</td>\n",
       "      <td>-8.276000</td>\n",
       "      <td>-0.005876</td>\n",
       "      <td>3.179103</td>\n",
       "    </tr>\n",
       "    <tr>\n",
       "      <th>1</th>\n",
       "      <td>62mP7</td>\n",
       "      <td>14.272088</td>\n",
       "      <td>-3.475083</td>\n",
       "      <td>0.999183</td>\n",
       "      <td>26.953261</td>\n",
       "    </tr>\n",
       "    <tr>\n",
       "      <th>2</th>\n",
       "      <td>vyE1P</td>\n",
       "      <td>6.263187</td>\n",
       "      <td>-5.948386</td>\n",
       "      <td>5.001160</td>\n",
       "      <td>134.766305</td>\n",
       "    </tr>\n",
       "    <tr>\n",
       "      <th>3</th>\n",
       "      <td>KcrkZ</td>\n",
       "      <td>-13.081196</td>\n",
       "      <td>-11.506057</td>\n",
       "      <td>4.999415</td>\n",
       "      <td>137.945408</td>\n",
       "    </tr>\n",
       "    <tr>\n",
       "      <th>4</th>\n",
       "      <td>AHL4O</td>\n",
       "      <td>12.702195</td>\n",
       "      <td>-8.147433</td>\n",
       "      <td>5.004363</td>\n",
       "      <td>134.766305</td>\n",
       "    </tr>\n",
       "  </tbody>\n",
       "</table>\n",
       "</div>"
      ],
      "text/plain": [
       "      id         f0         f1        f2     product\n",
       "0  kBEdx -15.001348  -8.276000 -0.005876    3.179103\n",
       "1  62mP7  14.272088  -3.475083  0.999183   26.953261\n",
       "2  vyE1P   6.263187  -5.948386  5.001160  134.766305\n",
       "3  KcrkZ -13.081196 -11.506057  4.999415  137.945408\n",
       "4  AHL4O  12.702195  -8.147433  5.004363  134.766305"
      ]
     },
     "metadata": {},
     "output_type": "display_data"
    },
    {
     "data": {
      "text/html": [
       "<div>\n",
       "<style scoped>\n",
       "    .dataframe tbody tr th:only-of-type {\n",
       "        vertical-align: middle;\n",
       "    }\n",
       "\n",
       "    .dataframe tbody tr th {\n",
       "        vertical-align: top;\n",
       "    }\n",
       "\n",
       "    .dataframe thead th {\n",
       "        text-align: right;\n",
       "    }\n",
       "</style>\n",
       "<table border=\"1\" class=\"dataframe\">\n",
       "  <thead>\n",
       "    <tr style=\"text-align: right;\">\n",
       "      <th></th>\n",
       "      <th>f0</th>\n",
       "      <th>f1</th>\n",
       "      <th>f2</th>\n",
       "      <th>product</th>\n",
       "    </tr>\n",
       "  </thead>\n",
       "  <tbody>\n",
       "    <tr>\n",
       "      <th>count</th>\n",
       "      <td>100000.000000</td>\n",
       "      <td>100000.000000</td>\n",
       "      <td>100000.000000</td>\n",
       "      <td>100000.000000</td>\n",
       "    </tr>\n",
       "    <tr>\n",
       "      <th>mean</th>\n",
       "      <td>1.141296</td>\n",
       "      <td>-4.796579</td>\n",
       "      <td>2.494541</td>\n",
       "      <td>68.825000</td>\n",
       "    </tr>\n",
       "    <tr>\n",
       "      <th>std</th>\n",
       "      <td>8.965932</td>\n",
       "      <td>5.119872</td>\n",
       "      <td>1.703572</td>\n",
       "      <td>45.944423</td>\n",
       "    </tr>\n",
       "    <tr>\n",
       "      <th>min</th>\n",
       "      <td>-31.609576</td>\n",
       "      <td>-26.358598</td>\n",
       "      <td>-0.018144</td>\n",
       "      <td>0.000000</td>\n",
       "    </tr>\n",
       "    <tr>\n",
       "      <th>25%</th>\n",
       "      <td>-6.298551</td>\n",
       "      <td>-8.267985</td>\n",
       "      <td>1.000021</td>\n",
       "      <td>26.953261</td>\n",
       "    </tr>\n",
       "    <tr>\n",
       "      <th>50%</th>\n",
       "      <td>1.153055</td>\n",
       "      <td>-4.813172</td>\n",
       "      <td>2.011479</td>\n",
       "      <td>57.085625</td>\n",
       "    </tr>\n",
       "    <tr>\n",
       "      <th>75%</th>\n",
       "      <td>8.621015</td>\n",
       "      <td>-1.332816</td>\n",
       "      <td>3.999904</td>\n",
       "      <td>107.813044</td>\n",
       "    </tr>\n",
       "    <tr>\n",
       "      <th>max</th>\n",
       "      <td>29.421755</td>\n",
       "      <td>18.734063</td>\n",
       "      <td>5.019721</td>\n",
       "      <td>137.945408</td>\n",
       "    </tr>\n",
       "  </tbody>\n",
       "</table>\n",
       "</div>"
      ],
      "text/plain": [
       "                  f0             f1             f2        product\n",
       "count  100000.000000  100000.000000  100000.000000  100000.000000\n",
       "mean        1.141296      -4.796579       2.494541      68.825000\n",
       "std         8.965932       5.119872       1.703572      45.944423\n",
       "min       -31.609576     -26.358598      -0.018144       0.000000\n",
       "25%        -6.298551      -8.267985       1.000021      26.953261\n",
       "50%         1.153055      -4.813172       2.011479      57.085625\n",
       "75%         8.621015      -1.332816       3.999904     107.813044\n",
       "max        29.421755      18.734063       5.019721     137.945408"
      ]
     },
     "metadata": {},
     "output_type": "display_data"
    },
    {
     "name": "stdout",
     "output_type": "stream",
     "text": [
      "Количество дубликатов: 0\n",
      "Количество скважин: 99996 из 100000\n",
      "===================================================================================\n",
      "Анализируем данные по региону 2:\n",
      "<class 'pandas.core.frame.DataFrame'>\n",
      "RangeIndex: 100000 entries, 0 to 99999\n",
      "Data columns (total 5 columns):\n",
      " #   Column   Non-Null Count   Dtype  \n",
      "---  ------   --------------   -----  \n",
      " 0   id       100000 non-null  object \n",
      " 1   f0       100000 non-null  float64\n",
      " 2   f1       100000 non-null  float64\n",
      " 3   f2       100000 non-null  float64\n",
      " 4   product  100000 non-null  float64\n",
      "dtypes: float64(4), object(1)\n",
      "memory usage: 3.8+ MB\n"
     ]
    },
    {
     "data": {
      "text/html": [
       "<div>\n",
       "<style scoped>\n",
       "    .dataframe tbody tr th:only-of-type {\n",
       "        vertical-align: middle;\n",
       "    }\n",
       "\n",
       "    .dataframe tbody tr th {\n",
       "        vertical-align: top;\n",
       "    }\n",
       "\n",
       "    .dataframe thead th {\n",
       "        text-align: right;\n",
       "    }\n",
       "</style>\n",
       "<table border=\"1\" class=\"dataframe\">\n",
       "  <thead>\n",
       "    <tr style=\"text-align: right;\">\n",
       "      <th></th>\n",
       "      <th>id</th>\n",
       "      <th>f0</th>\n",
       "      <th>f1</th>\n",
       "      <th>f2</th>\n",
       "      <th>product</th>\n",
       "    </tr>\n",
       "  </thead>\n",
       "  <tbody>\n",
       "    <tr>\n",
       "      <th>0</th>\n",
       "      <td>fwXo0</td>\n",
       "      <td>-1.146987</td>\n",
       "      <td>0.963328</td>\n",
       "      <td>-0.828965</td>\n",
       "      <td>27.758673</td>\n",
       "    </tr>\n",
       "    <tr>\n",
       "      <th>1</th>\n",
       "      <td>WJtFt</td>\n",
       "      <td>0.262778</td>\n",
       "      <td>0.269839</td>\n",
       "      <td>-2.530187</td>\n",
       "      <td>56.069697</td>\n",
       "    </tr>\n",
       "    <tr>\n",
       "      <th>2</th>\n",
       "      <td>ovLUW</td>\n",
       "      <td>0.194587</td>\n",
       "      <td>0.289035</td>\n",
       "      <td>-5.586433</td>\n",
       "      <td>62.871910</td>\n",
       "    </tr>\n",
       "    <tr>\n",
       "      <th>3</th>\n",
       "      <td>q6cA6</td>\n",
       "      <td>2.236060</td>\n",
       "      <td>-0.553760</td>\n",
       "      <td>0.930038</td>\n",
       "      <td>114.572842</td>\n",
       "    </tr>\n",
       "    <tr>\n",
       "      <th>4</th>\n",
       "      <td>WPMUX</td>\n",
       "      <td>-0.515993</td>\n",
       "      <td>1.716266</td>\n",
       "      <td>5.899011</td>\n",
       "      <td>149.600746</td>\n",
       "    </tr>\n",
       "  </tbody>\n",
       "</table>\n",
       "</div>"
      ],
      "text/plain": [
       "      id        f0        f1        f2     product\n",
       "0  fwXo0 -1.146987  0.963328 -0.828965   27.758673\n",
       "1  WJtFt  0.262778  0.269839 -2.530187   56.069697\n",
       "2  ovLUW  0.194587  0.289035 -5.586433   62.871910\n",
       "3  q6cA6  2.236060 -0.553760  0.930038  114.572842\n",
       "4  WPMUX -0.515993  1.716266  5.899011  149.600746"
      ]
     },
     "metadata": {},
     "output_type": "display_data"
    },
    {
     "data": {
      "text/html": [
       "<div>\n",
       "<style scoped>\n",
       "    .dataframe tbody tr th:only-of-type {\n",
       "        vertical-align: middle;\n",
       "    }\n",
       "\n",
       "    .dataframe tbody tr th {\n",
       "        vertical-align: top;\n",
       "    }\n",
       "\n",
       "    .dataframe thead th {\n",
       "        text-align: right;\n",
       "    }\n",
       "</style>\n",
       "<table border=\"1\" class=\"dataframe\">\n",
       "  <thead>\n",
       "    <tr style=\"text-align: right;\">\n",
       "      <th></th>\n",
       "      <th>f0</th>\n",
       "      <th>f1</th>\n",
       "      <th>f2</th>\n",
       "      <th>product</th>\n",
       "    </tr>\n",
       "  </thead>\n",
       "  <tbody>\n",
       "    <tr>\n",
       "      <th>count</th>\n",
       "      <td>100000.000000</td>\n",
       "      <td>100000.000000</td>\n",
       "      <td>100000.000000</td>\n",
       "      <td>100000.000000</td>\n",
       "    </tr>\n",
       "    <tr>\n",
       "      <th>mean</th>\n",
       "      <td>0.002023</td>\n",
       "      <td>-0.002081</td>\n",
       "      <td>2.495128</td>\n",
       "      <td>95.000000</td>\n",
       "    </tr>\n",
       "    <tr>\n",
       "      <th>std</th>\n",
       "      <td>1.732045</td>\n",
       "      <td>1.730417</td>\n",
       "      <td>3.473445</td>\n",
       "      <td>44.749921</td>\n",
       "    </tr>\n",
       "    <tr>\n",
       "      <th>min</th>\n",
       "      <td>-8.760004</td>\n",
       "      <td>-7.084020</td>\n",
       "      <td>-11.970335</td>\n",
       "      <td>0.000000</td>\n",
       "    </tr>\n",
       "    <tr>\n",
       "      <th>25%</th>\n",
       "      <td>-1.162288</td>\n",
       "      <td>-1.174820</td>\n",
       "      <td>0.130359</td>\n",
       "      <td>59.450441</td>\n",
       "    </tr>\n",
       "    <tr>\n",
       "      <th>50%</th>\n",
       "      <td>0.009424</td>\n",
       "      <td>-0.009482</td>\n",
       "      <td>2.484236</td>\n",
       "      <td>94.925613</td>\n",
       "    </tr>\n",
       "    <tr>\n",
       "      <th>75%</th>\n",
       "      <td>1.158535</td>\n",
       "      <td>1.163678</td>\n",
       "      <td>4.858794</td>\n",
       "      <td>130.595027</td>\n",
       "    </tr>\n",
       "    <tr>\n",
       "      <th>max</th>\n",
       "      <td>7.238262</td>\n",
       "      <td>7.844801</td>\n",
       "      <td>16.739402</td>\n",
       "      <td>190.029838</td>\n",
       "    </tr>\n",
       "  </tbody>\n",
       "</table>\n",
       "</div>"
      ],
      "text/plain": [
       "                  f0             f1             f2        product\n",
       "count  100000.000000  100000.000000  100000.000000  100000.000000\n",
       "mean        0.002023      -0.002081       2.495128      95.000000\n",
       "std         1.732045       1.730417       3.473445      44.749921\n",
       "min        -8.760004      -7.084020     -11.970335       0.000000\n",
       "25%        -1.162288      -1.174820       0.130359      59.450441\n",
       "50%         0.009424      -0.009482       2.484236      94.925613\n",
       "75%         1.158535       1.163678       4.858794     130.595027\n",
       "max         7.238262       7.844801      16.739402     190.029838"
      ]
     },
     "metadata": {},
     "output_type": "display_data"
    },
    {
     "name": "stdout",
     "output_type": "stream",
     "text": [
      "Количество дубликатов: 0\n",
      "Количество скважин: 99996 из 100000\n",
      "===================================================================================\n"
     ]
    }
   ],
   "source": [
    "geo_data = []\n",
    "for i in range(3):\n",
    "    geo_data_i = pd.read_csv('/datasets/geo_data_'+str(i)+'.csv')\n",
    "    geo_data.append(geo_data_i)\n",
    "\n",
    "for i in range(3):\n",
    "    print(f'Анализируем данные по региону {i}:')\n",
    "    geo_data[i].info()\n",
    "    display(geo_data[i].head()) \n",
    "    display(geo_data[i].describe())\n",
    "    print('Количество дубликатов:', geo_data[i].duplicated().sum())\n",
    "    print('Количество скважин:', len(geo_data[i]['id'].unique()), 'из', geo_data[i].shape[0])\n",
    "    print('===================================================================================')"
   ]
  },
  {
   "cell_type": "code",
   "execution_count": 3,
   "metadata": {},
   "outputs": [
    {
     "name": "stdout",
     "output_type": "stream",
     "text": [
      "Разбиваем на признаки и целевые признаки данные по региону 0:\n",
      "<class 'pandas.core.frame.DataFrame'>\n",
      "RangeIndex: 100000 entries, 0 to 99999\n",
      "Data columns (total 3 columns):\n",
      " #   Column  Non-Null Count   Dtype  \n",
      "---  ------  --------------   -----  \n",
      " 0   f0      100000 non-null  float64\n",
      " 1   f1      100000 non-null  float64\n",
      " 2   f2      100000 non-null  float64\n",
      "dtypes: float64(3)\n",
      "memory usage: 2.3 MB\n",
      "Количество записей в индексированном массиве целевых признаков: 100000\n",
      "===================================================================================\n",
      "Разбиваем на признаки и целевые признаки данные по региону 1:\n",
      "<class 'pandas.core.frame.DataFrame'>\n",
      "RangeIndex: 100000 entries, 0 to 99999\n",
      "Data columns (total 3 columns):\n",
      " #   Column  Non-Null Count   Dtype  \n",
      "---  ------  --------------   -----  \n",
      " 0   f0      100000 non-null  float64\n",
      " 1   f1      100000 non-null  float64\n",
      " 2   f2      100000 non-null  float64\n",
      "dtypes: float64(3)\n",
      "memory usage: 2.3 MB\n",
      "Количество записей в индексированном массиве целевых признаков: 100000\n",
      "===================================================================================\n",
      "Разбиваем на признаки и целевые признаки данные по региону 2:\n",
      "<class 'pandas.core.frame.DataFrame'>\n",
      "RangeIndex: 100000 entries, 0 to 99999\n",
      "Data columns (total 3 columns):\n",
      " #   Column  Non-Null Count   Dtype  \n",
      "---  ------  --------------   -----  \n",
      " 0   f0      100000 non-null  float64\n",
      " 1   f1      100000 non-null  float64\n",
      " 2   f2      100000 non-null  float64\n",
      "dtypes: float64(3)\n",
      "memory usage: 2.3 MB\n",
      "Количество записей в индексированном массиве целевых признаков: 100000\n",
      "===================================================================================\n"
     ]
    }
   ],
   "source": [
    "# разбиваем на признаки и целевые признаки\n",
    "features = []\n",
    "target = []\n",
    "for i in range(3):\n",
    "    print(f'Разбиваем на признаки и целевые признаки данные по региону {i}:')\n",
    "    features.append(geo_data[i].drop(['id', 'product'], axis=1))\n",
    "    features[i].info()\n",
    "    target.append(geo_data[i]['product'])\n",
    "    print('Количество записей в индексированном массиве целевых признаков:', len(target[i]))\n",
    "    print('===================================================================================')"
   ]
  },
  {
   "cell_type": "markdown",
   "metadata": {},
   "source": [
    "### Выводы:\n",
    "1. Пропусков нет.\n",
    "2. Наименования столбцов корректны.\n",
    "3. Типы данных в преобразовании не нуждаются.\n",
    "4. Целевой признак содержится в столбце 'product'.\n",
    "5. Для обучения модели значения столбца 'id' не представляют ценности.\n",
    "6. По некоторым скважинам (до 10 в каждом регионе) почему-то есть разные данные не дублирующие друг-друга. Доля таких записей мала (менее 1%) и это можно не принимать во внимание. Хотя, странно еще и то, что id скважин в разных регионах совпадают (т.к. есть суммарно 49 повторов id в суммарном датасете, хотя ранее было 10+4+4=18).<br>"
   ]
  },
  {
   "cell_type": "markdown",
   "metadata": {},
   "source": [
    "## Обучение и проверка модели"
   ]
  },
  {
   "cell_type": "code",
   "execution_count": 4,
   "metadata": {},
   "outputs": [
    {
     "name": "stdout",
     "output_type": "stream",
     "text": [
      "Разделяем выборку по региону 0 на тренировочную и валидационную:\n",
      "Размер тренировочной выборки в регионе 0: 75000 признаков и 75000 целевых признаков\n",
      "Размер валидационной выборки в регионе 0: 25000 признаков и 25000 целевых признаков\n",
      "<class 'pandas.core.series.Series'>\n",
      "Int64Index([71751, 80493, 2655, 53233, 91141, 9539, 8482, 30284, 66393, 99584], dtype='int64')\n",
      "===================================================================================\n",
      "Разделяем выборку по региону 1 на тренировочную и валидационную:\n",
      "Размер тренировочной выборки в регионе 1: 75000 признаков и 75000 целевых признаков\n",
      "Размер валидационной выборки в регионе 1: 25000 признаков и 25000 целевых признаков\n",
      "<class 'pandas.core.series.Series'>\n",
      "Int64Index([70156, 42796, 36723, 79446, 93328, 83694, 18295, 92055, 51870,\n",
      "            67479],\n",
      "           dtype='int64')\n",
      "===================================================================================\n",
      "Разделяем выборку по региону 2 на тренировочную и валидационную:\n",
      "Размер тренировочной выборки в регионе 2: 75000 признаков и 75000 целевых признаков\n",
      "Размер валидационной выборки в регионе 2: 25000 признаков и 25000 целевых признаков\n",
      "<class 'pandas.core.series.Series'>\n",
      "Int64Index([2239, 40967, 86415, 59788, 37765, 49252, 41645, 61226, 28804,\n",
      "            52334],\n",
      "           dtype='int64')\n",
      "===================================================================================\n"
     ]
    }
   ],
   "source": [
    "# Параметр рэндома\n",
    "rs = np.random.RandomState(12345)\n",
    "\n",
    "# Разделяю выборку на тренировочную и валидационную\n",
    "features_train = []\n",
    "features_valid = []\n",
    "target_train = []\n",
    "target_valid = []\n",
    "\n",
    "for i in range (3):\n",
    "    print(f'Разделяем выборку по региону {i} на тренировочную и валидационную:')\n",
    "    features_train_i, features_valid_i, target_train_i, target_valid_i = train_test_split(features[i], target[i], test_size=0.25, random_state=rs)\n",
    "    print(f'Размер тренировочной выборки в регионе {i}: {features_train_i.shape[0]} признаков и {len(target_train_i)} целевых признаков')\n",
    "    print(f'Размер валидационной выборки в регионе {i}: {features_valid_i.shape[0]} признаков и {len(target_valid_i)} целевых признаков')\n",
    "    features_train.append(features_train_i)\n",
    "    features_valid.append(features_valid_i)\n",
    "    target_train.append(target_train_i)\n",
    "    target_valid.append(target_valid_i)\n",
    "    print(type(target_valid_i))\n",
    "    print(target_valid_i.index[0:10])\n",
    "    print('===================================================================================')\n"
   ]
  },
  {
   "cell_type": "code",
   "execution_count": 5,
   "metadata": {},
   "outputs": [
    {
     "name": "stdout",
     "output_type": "stream",
     "text": [
      "Качество модели по региону 0: 0.28\n",
      "Примеры предсказанных значений:\n",
      "[95.89495185 77.57258261 77.89263965 90.17513418 70.51008829]\n",
      "<class 'numpy.ndarray'>\n",
      "Качество модели по региону 1: 1.0\n",
      "Примеры предсказанных значений:\n",
      "[ 54.23815201  83.21787849   2.97146723  25.91647996 111.34113673]\n",
      "<class 'numpy.ndarray'>\n",
      "Качество модели по региону 2: 0.203\n",
      "Примеры предсказанных значений:\n",
      "[112.56187784  69.46407333  69.86622946 110.33104829  95.12328758]\n",
      "<class 'numpy.ndarray'>\n"
     ]
    }
   ],
   "source": [
    "model = []\n",
    "predicted_valid = []\n",
    "\n",
    "for i in range(3):\n",
    "    model_i = LinearRegression()\n",
    "    model_i.fit(features_train[i], target_train[i])\n",
    "    predicted_valid_i = model_i.predict(features_valid[i])\n",
    "    print(f'Качество модели по региону {i}: {np.round(model_i.score(features_valid[i], target_valid[i]), 3)}')\n",
    "    model.append(model_i)\n",
    "    predicted_valid.append(predicted_valid_i)\n",
    "    print('Примеры предсказанных значений:')\n",
    "    print(predicted_valid[i][0:5])\n",
    "    print(type(predicted_valid[i]))    "
   ]
  },
  {
   "cell_type": "code",
   "execution_count": 6,
   "metadata": {},
   "outputs": [
    {
     "name": "stdout",
     "output_type": "stream",
     "text": [
      "Средний запас предсказанного сырья в регионе 0: 92.593\n",
      "Средний запас сырья в регионе 0 по правильным ответам: 92.079\n",
      "RMSE модели по региону 0: 37.579\n",
      "\n",
      "Средний запас предсказанного сырья в регионе 1: 68.77\n",
      "Средний запас сырья в регионе 1 по правильным ответам: 68.772\n",
      "RMSE модели по региону 1: 0.89\n",
      "\n",
      "Средний запас предсказанного сырья в регионе 2: 95.088\n",
      "Средний запас сырья в регионе 2 по правильным ответам: 94.749\n",
      "RMSE модели по региону 2: 39.958\n",
      "\n"
     ]
    }
   ],
   "source": [
    "for i in range (3):\n",
    "    print(f'Средний запас предсказанного сырья в регионе {i}: {np.round(predicted_valid[i].mean(),3)}')\n",
    "    print(f'Средний запас сырья в регионе {i} по правильным ответам: {np.round(target_valid[i].mean(), 3)}')\n",
    "    mse_i = mean_squared_error(target_valid[i], predicted_valid[i])\n",
    "    rmse_i = mse_i ** 0.5\n",
    "    print(f'RMSE модели по региону {i}: {np.round(rmse_i, 3)}')\n",
    "    print('')"
   ]
  },
  {
   "cell_type": "markdown",
   "metadata": {},
   "source": [
    "### Анализ результатов:\n",
    "1. Среднеквадратичная ошибка модели по регионам \"0\" и \"2\" довольно высокая, а по региону \"1\" она незначительна.\n",
    "2. Средние по предсказанию и правильным ответам практически не различаются (есть небольшие отличия только по региону \"2\").<br>"
   ]
  },
  {
   "cell_type": "markdown",
   "metadata": {},
   "source": [
    "## Подготовка к расчёту прибыли"
   ]
  },
  {
   "cell_type": "code",
   "execution_count": 7,
   "metadata": {},
   "outputs": [],
   "source": [
    "# При разведке региона исследуют 500 точек, из которых с помощью машинного обучения выбирают 200 лучших для разработки.\n",
    "POINTS_FOR_RESEARCH = 500\n",
    "POINTS_FOR_DEVELOP = 200\n",
    "# Бюджет на разработку скважин в регионе — 10 млрд рублей.\n",
    "BUDGET_FOR_ONE_REGION = 10000000000\n",
    "# При нынешних ценах один баррель сырья приносит 450 рублей дохода. Доход с каждой единицы продукта составляет 450 тыс. рублей, поскольку объём указан в тысячах баррелей.\n",
    "REVENUE_FROM_PRODUCT = 450000\n",
    "# После оценки рисков нужно оставить лишь те регионы, в которых вероятность убытков меньше 2.5%. Среди них выбирают регион с наибольшей средней прибылью.\n",
    "LOSSS_PROBABILITY = 0.025"
   ]
  },
  {
   "cell_type": "code",
   "execution_count": 8,
   "metadata": {},
   "outputs": [
    {
     "name": "stdout",
     "output_type": "stream",
     "text": [
      "Средний запас сырья на 1 скважину достаточный для безубыточной разработки: 112\n"
     ]
    }
   ],
   "source": [
    "print('Средний запас сырья на 1 скважину достаточный для безубыточной разработки:', round(BUDGET_FOR_ONE_REGION / (POINTS_FOR_DEVELOP * REVENUE_FROM_PRODUCT))+1)"
   ]
  },
  {
   "cell_type": "markdown",
   "metadata": {},
   "source": [
    "### Выводы по этапу подготовки расчёта прибыли:"
   ]
  },
  {
   "cell_type": "markdown",
   "metadata": {},
   "source": [
    "1. Средний запас сырья на 1 скважину по регионам целом недостаточен для безубыточной разработки.\n",
    "2. Но максимальные запасы сырья по отдельным скважинам в регионах 185, 137 и 190, а следовательно, возможно можно найти тот регион, где есть 200 (из 10000 в каждом) скважин, запасы которых дадут прибыль.\n",
    "3. Необходимо понимать, что при среднем запасе на скважину  112 прибыль уйдет в ноль. Для более корректного порогового значения необходимо задать норму прибыли.\n",
    "4. Скважины с запасом более 112 есть во всех регионах."
   ]
  },
  {
   "cell_type": "markdown",
   "metadata": {},
   "source": [
    "## Расчёт прибыли и рисков "
   ]
  },
  {
   "cell_type": "code",
   "execution_count": 9,
   "metadata": {},
   "outputs": [],
   "source": [
    "def profit_calculation (rrr, num):\n",
    "    rrr = rrr.sort_values(by='predict', ascending=False).reset_index(drop=True) # Сортируем по предсказаниям\n",
    "    rrr = rrr.head(num) # Взяли из них 200 лучших предсказаний\n",
    "    sum_product = rrr['target'].sum() # Сумируем не предсказания, а исходные значения\n",
    "    income = sum_product * REVENUE_FROM_PRODUCT\n",
    "    revenue = income - BUDGET_FOR_ONE_REGION\n",
    "    return revenue"
   ]
  },
  {
   "cell_type": "code",
   "execution_count": 10,
   "metadata": {},
   "outputs": [
    {
     "name": "stdout",
     "output_type": "stream",
     "text": [
      "Обрабатываем данные по региону 0:\n",
      "<class 'pandas.core.frame.DataFrame'>\n",
      "Int64Index: 25000 entries, 71751 to 43558\n",
      "Data columns (total 2 columns):\n",
      " #   Column   Non-Null Count  Dtype  \n",
      "---  ------   --------------  -----  \n",
      " 0   target   25000 non-null  float64\n",
      " 1   predict  25000 non-null  float64\n",
      "dtypes: float64(2)\n",
      "memory usage: 585.9 KB\n",
      "Срeднее по прогнозируемой прибыли в регионе 0: 389382758\n",
      "95%-ый доверительный интервал (по квантилям) по прогнозируемой прибыли в регионе 0: -97338500 - 866460575\n",
      "Вероятность убытков в регионе 0: 0.066%\n",
      "===================================================================================\n",
      "Обрабатываем данные по региону 1:\n",
      "<class 'pandas.core.frame.DataFrame'>\n",
      "Int64Index: 25000 entries, 70156 to 93430\n",
      "Data columns (total 2 columns):\n",
      " #   Column   Non-Null Count  Dtype  \n",
      "---  ------   --------------  -----  \n",
      " 0   target   25000 non-null  float64\n",
      " 1   predict  25000 non-null  float64\n",
      "dtypes: float64(2)\n",
      "memory usage: 585.9 KB\n",
      "Срeднее по прогнозируемой прибыли в регионе 1: 462967014\n",
      "95%-ый доверительный интервал (по квантилям) по прогнозируемой прибыли в регионе 1: 73866317 - 827303781\n",
      "Вероятность убытков в регионе 1: 0.01%\n",
      "===================================================================================\n",
      "Обрабатываем данные по региону 2:\n",
      "<class 'pandas.core.frame.DataFrame'>\n",
      "Int64Index: 25000 entries, 2239 to 15874\n",
      "Data columns (total 2 columns):\n",
      " #   Column   Non-Null Count  Dtype  \n",
      "---  ------   --------------  -----  \n",
      " 0   target   25000 non-null  float64\n",
      " 1   predict  25000 non-null  float64\n",
      "dtypes: float64(2)\n",
      "memory usage: 585.9 KB\n",
      "Срeднее по прогнозируемой прибыли в регионе 2: 357350176\n",
      "95%-ый доверительный интервал (по квантилям) по прогнозируемой прибыли в регионе 2: -202015212 - 856131561\n",
      "Вероятность убытков в регионе 2: 0.089%\n",
      "===================================================================================\n",
      "CPU times: user 2.61 s, sys: 23.3 ms, total: 2.63 s\n",
      "Wall time: 2.66 s\n"
     ]
    }
   ],
   "source": [
    "%%time\n",
    "\n",
    "NIT = 1000 # количество итераций бутстрепа\n",
    "p = [[],[],[]] # Предсказанные профиты по регионам\n",
    "\n",
    "for r in range(3): # Перебираем регионы\n",
    "    print(f'Обрабатываем данные по региону {r}:')\n",
    "    res = pd.DataFrame() # Создаем временный датафрейм\n",
    "    res['target'] = target_valid[r]\n",
    "    res['predict'] = predicted_valid[r]\n",
    "    res.info()\n",
    "        \n",
    "    for i in range(NIT): # Итераци бутстрепа в каждом регионе\n",
    "        rs = np.random.RandomState() # Для того, чтобы каждый раз брались случайные выборки\n",
    "        res_sample = res.sample(POINTS_FOR_RESEARCH, replace=True, random_state=rs) # Взяли случайную выборку в 500 записей по скважинам\n",
    "        profit = profit_calculation(res_sample, POINTS_FOR_DEVELOP)\n",
    "        p[r].append(profit) # добавляем в список профитов по региону вычисленное значение по случайной выборке\n",
    "\n",
    "    p[r] = pd.Series(p[r])\n",
    "    print(f'Срeднее по прогнозируемой прибыли в регионе {r}: {round(p[r].mean())}')\n",
    "    print(f'95%-ый доверительный интервал (по квантилям) по прогнозируемой прибыли в регионе {r}: {round(p[r].quantile(0.025))} - {round(p[r].quantile(0.975))}')\n",
    "    print(f'Вероятность убытков в регионе {r}: {(p[r] < 0).mean()}%')\n",
    "    print('===================================================================================')"
   ]
  },
  {
   "cell_type": "markdown",
   "metadata": {},
   "source": [
    "## Выводы:\n",
    "Регион 1 по расчетам выше выглядит предпочтительным для разработки. У него наибольшая средняя прибыль при укладывающемся в заданный интервал риске убытков."
   ]
  },
  {
   "cell_type": "code",
   "execution_count": null,
   "metadata": {},
   "outputs": [],
   "source": []
  }
 ],
 "metadata": {
  "ExecuteTimeLog": [
   {
    "duration": 445,
    "start_time": "2022-04-03T13:35:37.723Z"
   },
   {
    "duration": 154,
    "start_time": "2022-04-03T13:35:39.308Z"
   },
   {
    "duration": 140,
    "start_time": "2022-04-03T13:35:40.817Z"
   },
   {
    "duration": 149,
    "start_time": "2022-04-03T13:35:43.167Z"
   },
   {
    "duration": 200,
    "start_time": "2022-04-03T13:36:44.017Z"
   },
   {
    "duration": 202,
    "start_time": "2022-04-03T13:37:24.865Z"
   },
   {
    "duration": 188,
    "start_time": "2022-04-03T13:37:28.182Z"
   },
   {
    "duration": 197,
    "start_time": "2022-04-03T13:37:33.772Z"
   },
   {
    "duration": 189,
    "start_time": "2022-04-03T13:37:34.876Z"
   },
   {
    "duration": 193,
    "start_time": "2022-04-03T13:37:35.576Z"
   },
   {
    "duration": 191,
    "start_time": "2022-04-03T13:41:32.958Z"
   },
   {
    "duration": 218,
    "start_time": "2022-04-03T13:42:14.511Z"
   },
   {
    "duration": 161,
    "start_time": "2022-04-03T13:42:42.944Z"
   },
   {
    "duration": 131,
    "start_time": "2022-04-03T13:42:56.695Z"
   },
   {
    "duration": 190,
    "start_time": "2022-04-03T13:45:20.799Z"
   },
   {
    "duration": 9,
    "start_time": "2022-04-03T13:56:58.536Z"
   },
   {
    "duration": 306,
    "start_time": "2022-04-03T14:08:51.329Z"
   },
   {
    "duration": 295,
    "start_time": "2022-04-03T14:10:09.304Z"
   },
   {
    "duration": 390,
    "start_time": "2022-04-03T14:11:02.886Z"
   },
   {
    "duration": 295,
    "start_time": "2022-04-03T14:11:42.354Z"
   },
   {
    "duration": 291,
    "start_time": "2022-04-03T14:12:22.093Z"
   },
   {
    "duration": 337,
    "start_time": "2022-04-03T14:12:22.878Z"
   },
   {
    "duration": 293,
    "start_time": "2022-04-03T14:12:23.604Z"
   },
   {
    "duration": 47,
    "start_time": "2022-04-03T14:29:53.266Z"
   },
   {
    "duration": 1483,
    "start_time": "2022-04-03T14:30:10.138Z"
   },
   {
    "duration": 313,
    "start_time": "2022-04-03T14:30:11.624Z"
   },
   {
    "duration": 304,
    "start_time": "2022-04-03T14:30:11.940Z"
   },
   {
    "duration": 302,
    "start_time": "2022-04-03T14:30:12.247Z"
   },
   {
    "duration": 66,
    "start_time": "2022-04-03T14:30:12.551Z"
   },
   {
    "duration": 4,
    "start_time": "2022-04-03T14:30:12.620Z"
   },
   {
    "duration": 65,
    "start_time": "2022-04-03T14:36:22.018Z"
   },
   {
    "duration": 75,
    "start_time": "2022-04-03T14:36:48.957Z"
   },
   {
    "duration": 444,
    "start_time": "2022-04-03T14:40:51.193Z"
   },
   {
    "duration": 1504,
    "start_time": "2022-04-03T15:12:17.035Z"
   },
   {
    "duration": 316,
    "start_time": "2022-04-03T15:12:18.542Z"
   },
   {
    "duration": 402,
    "start_time": "2022-04-03T15:12:18.861Z"
   },
   {
    "duration": 399,
    "start_time": "2022-04-03T15:12:19.267Z"
   },
   {
    "duration": 538,
    "start_time": "2022-04-03T15:12:19.682Z"
   },
   {
    "duration": 30,
    "start_time": "2022-04-03T15:12:20.223Z"
   },
   {
    "duration": 167,
    "start_time": "2022-04-03T15:12:20.255Z"
   },
   {
    "duration": 0,
    "start_time": "2022-04-03T15:12:20.424Z"
   },
   {
    "duration": 1931,
    "start_time": "2022-04-03T15:17:39.040Z"
   },
   {
    "duration": 429,
    "start_time": "2022-04-03T15:17:40.974Z"
   },
   {
    "duration": 395,
    "start_time": "2022-04-03T15:17:41.406Z"
   },
   {
    "duration": 400,
    "start_time": "2022-04-03T15:17:41.805Z"
   },
   {
    "duration": 669,
    "start_time": "2022-04-03T15:17:42.208Z"
   },
   {
    "duration": 45,
    "start_time": "2022-04-03T15:17:42.883Z"
   },
   {
    "duration": 257,
    "start_time": "2022-04-03T15:17:42.931Z"
   },
   {
    "duration": 1,
    "start_time": "2022-04-03T15:17:43.190Z"
   },
   {
    "duration": 2030,
    "start_time": "2022-04-03T15:18:12.036Z"
   },
   {
    "duration": 465,
    "start_time": "2022-04-03T15:18:14.070Z"
   },
   {
    "duration": 350,
    "start_time": "2022-04-03T15:18:14.538Z"
   },
   {
    "duration": 342,
    "start_time": "2022-04-03T15:18:14.892Z"
   },
   {
    "duration": 611,
    "start_time": "2022-04-03T15:18:15.237Z"
   },
   {
    "duration": 50,
    "start_time": "2022-04-03T15:18:15.851Z"
   },
   {
    "duration": 177,
    "start_time": "2022-04-03T15:18:15.904Z"
   },
   {
    "duration": 107,
    "start_time": "2022-04-03T15:18:16.084Z"
   },
   {
    "duration": 283,
    "start_time": "2022-04-03T15:23:24.524Z"
   },
   {
    "duration": 5,
    "start_time": "2022-04-03T15:23:34.038Z"
   },
   {
    "duration": 43,
    "start_time": "2022-04-03T15:23:39.942Z"
   },
   {
    "duration": 1456,
    "start_time": "2022-04-03T15:23:46.118Z"
   },
   {
    "duration": 295,
    "start_time": "2022-04-03T15:23:47.576Z"
   },
   {
    "duration": 278,
    "start_time": "2022-04-03T15:23:47.874Z"
   },
   {
    "duration": 288,
    "start_time": "2022-04-03T15:23:48.156Z"
   },
   {
    "duration": 607,
    "start_time": "2022-04-03T15:23:48.446Z"
   },
   {
    "duration": 45,
    "start_time": "2022-04-03T15:23:49.056Z"
   },
   {
    "duration": 82,
    "start_time": "2022-04-03T15:23:49.104Z"
   },
   {
    "duration": 433,
    "start_time": "2022-04-03T15:23:49.190Z"
   },
   {
    "duration": 1466,
    "start_time": "2022-04-03T15:30:12.222Z"
   },
   {
    "duration": 319,
    "start_time": "2022-04-03T15:30:13.691Z"
   },
   {
    "duration": 297,
    "start_time": "2022-04-03T15:30:14.013Z"
   },
   {
    "duration": 305,
    "start_time": "2022-04-03T15:30:14.315Z"
   },
   {
    "duration": 532,
    "start_time": "2022-04-03T15:30:14.622Z"
   },
   {
    "duration": 51,
    "start_time": "2022-04-03T15:30:15.157Z"
   },
   {
    "duration": 30,
    "start_time": "2022-04-03T15:30:15.211Z"
   },
   {
    "duration": 5,
    "start_time": "2022-04-03T15:30:15.282Z"
   },
   {
    "duration": 105,
    "start_time": "2022-04-03T15:30:15.292Z"
   },
   {
    "duration": 7,
    "start_time": "2022-04-03T15:37:00.699Z"
   },
   {
    "duration": 6,
    "start_time": "2022-04-03T15:50:50.508Z"
   },
   {
    "duration": 6,
    "start_time": "2022-04-03T15:51:03.934Z"
   },
   {
    "duration": 6,
    "start_time": "2022-04-03T15:51:36.666Z"
   },
   {
    "duration": 5,
    "start_time": "2022-04-03T15:51:41.478Z"
   },
   {
    "duration": 6,
    "start_time": "2022-04-03T15:57:38.010Z"
   },
   {
    "duration": 6,
    "start_time": "2022-04-03T16:06:52.376Z"
   },
   {
    "duration": 38,
    "start_time": "2022-04-03T16:09:02.509Z"
   },
   {
    "duration": 28,
    "start_time": "2022-04-03T16:10:10.972Z"
   },
   {
    "duration": 27,
    "start_time": "2022-04-03T16:11:20.395Z"
   },
   {
    "duration": 170,
    "start_time": "2022-04-03T16:28:51.000Z"
   },
   {
    "duration": 37,
    "start_time": "2022-04-03T16:29:03.802Z"
   },
   {
    "duration": 5,
    "start_time": "2022-04-03T16:29:10.264Z"
   },
   {
    "duration": 28,
    "start_time": "2022-04-03T16:29:12.291Z"
   },
   {
    "duration": 29,
    "start_time": "2022-04-03T16:31:12.957Z"
   },
   {
    "duration": 249,
    "start_time": "2022-04-03T16:31:24.526Z"
   },
   {
    "duration": 29,
    "start_time": "2022-04-03T16:31:33.889Z"
   },
   {
    "duration": 27,
    "start_time": "2022-04-03T16:32:42.922Z"
   },
   {
    "duration": 28,
    "start_time": "2022-04-03T16:34:49.801Z"
   },
   {
    "duration": 1581,
    "start_time": "2022-04-03T17:46:00.227Z"
   },
   {
    "duration": 689,
    "start_time": "2022-04-03T17:46:01.811Z"
   },
   {
    "duration": 384,
    "start_time": "2022-04-03T17:46:02.503Z"
   },
   {
    "duration": 400,
    "start_time": "2022-04-03T17:46:02.891Z"
   },
   {
    "duration": 595,
    "start_time": "2022-04-03T17:46:03.293Z"
   },
   {
    "duration": 32,
    "start_time": "2022-04-03T17:46:03.891Z"
   },
   {
    "duration": 58,
    "start_time": "2022-04-03T17:46:03.925Z"
   },
   {
    "duration": 5,
    "start_time": "2022-04-03T17:46:03.987Z"
   },
   {
    "duration": 17,
    "start_time": "2022-04-03T17:46:04.083Z"
   },
   {
    "duration": 7,
    "start_time": "2022-04-03T17:46:04.105Z"
   },
   {
    "duration": 69,
    "start_time": "2022-04-03T17:46:04.114Z"
   },
   {
    "duration": 33,
    "start_time": "2022-04-03T17:46:04.187Z"
   },
   {
    "duration": 6,
    "start_time": "2022-04-03T17:46:04.223Z"
   },
   {
    "duration": 175,
    "start_time": "2022-04-03T17:46:04.231Z"
   },
   {
    "duration": 1490,
    "start_time": "2022-04-03T17:49:02.524Z"
   },
   {
    "duration": 314,
    "start_time": "2022-04-03T17:49:04.017Z"
   },
   {
    "duration": 289,
    "start_time": "2022-04-03T17:49:04.334Z"
   },
   {
    "duration": 301,
    "start_time": "2022-04-03T17:49:04.626Z"
   },
   {
    "duration": 514,
    "start_time": "2022-04-03T17:49:04.929Z"
   },
   {
    "duration": 42,
    "start_time": "2022-04-03T17:49:05.446Z"
   },
   {
    "duration": 33,
    "start_time": "2022-04-03T17:49:05.490Z"
   },
   {
    "duration": 96,
    "start_time": "2022-04-03T17:49:05.585Z"
   },
   {
    "duration": 11,
    "start_time": "2022-04-03T17:49:05.684Z"
   },
   {
    "duration": 7,
    "start_time": "2022-04-03T17:49:05.700Z"
   },
   {
    "duration": 7,
    "start_time": "2022-04-03T17:49:05.709Z"
   },
   {
    "duration": 66,
    "start_time": "2022-04-03T17:49:05.718Z"
   },
   {
    "duration": 7,
    "start_time": "2022-04-03T17:49:05.787Z"
   },
   {
    "duration": 168,
    "start_time": "2022-04-03T17:49:05.796Z"
   },
   {
    "duration": 1506,
    "start_time": "2022-04-03T17:49:40.586Z"
   },
   {
    "duration": 316,
    "start_time": "2022-04-03T17:49:42.095Z"
   },
   {
    "duration": 291,
    "start_time": "2022-04-03T17:49:42.413Z"
   },
   {
    "duration": 294,
    "start_time": "2022-04-03T17:49:42.707Z"
   },
   {
    "duration": 528,
    "start_time": "2022-04-03T17:49:43.003Z"
   },
   {
    "duration": 49,
    "start_time": "2022-04-03T17:49:43.533Z"
   },
   {
    "duration": 100,
    "start_time": "2022-04-03T17:49:43.585Z"
   },
   {
    "duration": 95,
    "start_time": "2022-04-03T17:49:43.688Z"
   },
   {
    "duration": 9,
    "start_time": "2022-04-03T17:49:43.785Z"
   },
   {
    "duration": 6,
    "start_time": "2022-04-03T17:49:43.798Z"
   },
   {
    "duration": 6,
    "start_time": "2022-04-03T17:49:43.806Z"
   },
   {
    "duration": 68,
    "start_time": "2022-04-03T17:49:43.814Z"
   },
   {
    "duration": 5,
    "start_time": "2022-04-03T17:49:43.885Z"
   },
   {
    "duration": 158,
    "start_time": "2022-04-03T17:49:43.892Z"
   },
   {
    "duration": 1686,
    "start_time": "2022-04-03T17:51:51.010Z"
   },
   {
    "duration": 317,
    "start_time": "2022-04-03T17:51:52.699Z"
   },
   {
    "duration": 320,
    "start_time": "2022-04-03T17:51:53.019Z"
   },
   {
    "duration": 326,
    "start_time": "2022-04-03T17:51:53.344Z"
   },
   {
    "duration": 610,
    "start_time": "2022-04-03T17:51:53.672Z"
   },
   {
    "duration": 34,
    "start_time": "2022-04-03T17:51:54.285Z"
   },
   {
    "duration": 69,
    "start_time": "2022-04-03T17:51:54.321Z"
   },
   {
    "duration": 5,
    "start_time": "2022-04-03T17:51:54.484Z"
   },
   {
    "duration": 11,
    "start_time": "2022-04-03T17:51:54.492Z"
   },
   {
    "duration": 27,
    "start_time": "2022-04-03T17:51:54.509Z"
   },
   {
    "duration": 45,
    "start_time": "2022-04-03T17:51:54.539Z"
   },
   {
    "duration": 35,
    "start_time": "2022-04-03T17:51:54.591Z"
   },
   {
    "duration": 5,
    "start_time": "2022-04-03T17:51:54.629Z"
   },
   {
    "duration": 1411,
    "start_time": "2022-04-03T17:51:54.637Z"
   },
   {
    "duration": 1548,
    "start_time": "2022-04-03T17:52:45.882Z"
   },
   {
    "duration": 320,
    "start_time": "2022-04-03T17:52:47.434Z"
   },
   {
    "duration": 291,
    "start_time": "2022-04-03T17:52:47.757Z"
   },
   {
    "duration": 339,
    "start_time": "2022-04-03T17:52:48.051Z"
   },
   {
    "duration": 557,
    "start_time": "2022-04-03T17:52:48.393Z"
   },
   {
    "duration": 47,
    "start_time": "2022-04-03T17:52:48.952Z"
   },
   {
    "duration": 85,
    "start_time": "2022-04-03T17:52:49.002Z"
   },
   {
    "duration": 93,
    "start_time": "2022-04-03T17:52:49.090Z"
   },
   {
    "duration": 11,
    "start_time": "2022-04-03T17:52:49.186Z"
   },
   {
    "duration": 6,
    "start_time": "2022-04-03T17:52:49.201Z"
   },
   {
    "duration": 5,
    "start_time": "2022-04-03T17:52:49.209Z"
   },
   {
    "duration": 72,
    "start_time": "2022-04-03T17:52:49.216Z"
   },
   {
    "duration": 5,
    "start_time": "2022-04-03T17:52:49.291Z"
   },
   {
    "duration": 1334,
    "start_time": "2022-04-03T17:52:49.299Z"
   },
   {
    "duration": 1640,
    "start_time": "2022-04-03T17:58:34.672Z"
   },
   {
    "duration": 422,
    "start_time": "2022-04-03T17:58:36.315Z"
   },
   {
    "duration": 382,
    "start_time": "2022-04-03T17:58:36.740Z"
   },
   {
    "duration": 307,
    "start_time": "2022-04-03T17:58:37.126Z"
   },
   {
    "duration": 538,
    "start_time": "2022-04-03T17:58:37.436Z"
   },
   {
    "duration": 42,
    "start_time": "2022-04-03T17:58:37.981Z"
   },
   {
    "duration": 156,
    "start_time": "2022-04-03T17:58:38.026Z"
   },
   {
    "duration": 4,
    "start_time": "2022-04-03T17:58:38.187Z"
   },
   {
    "duration": 93,
    "start_time": "2022-04-03T17:58:38.194Z"
   },
   {
    "duration": 9,
    "start_time": "2022-04-03T17:58:38.290Z"
   },
   {
    "duration": 9,
    "start_time": "2022-04-03T17:58:38.301Z"
   },
   {
    "duration": 34,
    "start_time": "2022-04-03T17:58:38.313Z"
   },
   {
    "duration": 34,
    "start_time": "2022-04-03T17:58:38.350Z"
   },
   {
    "duration": 1183,
    "start_time": "2022-04-03T17:58:38.387Z"
   },
   {
    "duration": 1733,
    "start_time": "2022-04-03T18:03:20.537Z"
   },
   {
    "duration": 319,
    "start_time": "2022-04-03T18:03:22.272Z"
   },
   {
    "duration": 298,
    "start_time": "2022-04-03T18:03:22.594Z"
   },
   {
    "duration": 303,
    "start_time": "2022-04-03T18:03:22.895Z"
   },
   {
    "duration": 557,
    "start_time": "2022-04-03T18:03:23.200Z"
   },
   {
    "duration": 42,
    "start_time": "2022-04-03T18:03:23.759Z"
   },
   {
    "duration": 82,
    "start_time": "2022-04-03T18:03:23.803Z"
   },
   {
    "duration": 93,
    "start_time": "2022-04-03T18:03:23.889Z"
   },
   {
    "duration": 8,
    "start_time": "2022-04-03T18:03:23.984Z"
   },
   {
    "duration": 6,
    "start_time": "2022-04-03T18:03:23.995Z"
   },
   {
    "duration": 5,
    "start_time": "2022-04-03T18:03:24.003Z"
   },
   {
    "duration": 72,
    "start_time": "2022-04-03T18:03:24.010Z"
   },
   {
    "duration": 6,
    "start_time": "2022-04-03T18:03:24.084Z"
   },
   {
    "duration": 1004,
    "start_time": "2022-04-03T18:03:24.093Z"
   },
   {
    "duration": 1417,
    "start_time": "2022-04-03T18:05:45.412Z"
   },
   {
    "duration": 289,
    "start_time": "2022-04-03T18:05:46.832Z"
   },
   {
    "duration": 276,
    "start_time": "2022-04-03T18:05:47.123Z"
   },
   {
    "duration": 280,
    "start_time": "2022-04-03T18:05:47.403Z"
   },
   {
    "duration": 508,
    "start_time": "2022-04-03T18:05:47.686Z"
   },
   {
    "duration": 30,
    "start_time": "2022-04-03T18:05:48.196Z"
   },
   {
    "duration": 63,
    "start_time": "2022-04-03T18:05:48.228Z"
   },
   {
    "duration": 91,
    "start_time": "2022-04-03T18:05:48.294Z"
   },
   {
    "duration": 12,
    "start_time": "2022-04-03T18:05:48.388Z"
   },
   {
    "duration": 5,
    "start_time": "2022-04-03T18:05:48.403Z"
   },
   {
    "duration": 6,
    "start_time": "2022-04-03T18:05:48.482Z"
   },
   {
    "duration": 46,
    "start_time": "2022-04-03T18:05:48.490Z"
   },
   {
    "duration": 6,
    "start_time": "2022-04-03T18:05:48.538Z"
   },
   {
    "duration": 1311,
    "start_time": "2022-04-03T18:05:48.547Z"
   },
   {
    "duration": 2131,
    "start_time": "2022-04-03T18:09:39.745Z"
   },
   {
    "duration": 470,
    "start_time": "2022-04-03T18:09:41.883Z"
   },
   {
    "duration": 298,
    "start_time": "2022-04-03T18:09:42.356Z"
   },
   {
    "duration": 307,
    "start_time": "2022-04-03T18:09:42.657Z"
   },
   {
    "duration": 660,
    "start_time": "2022-04-03T18:09:42.967Z"
   },
   {
    "duration": 32,
    "start_time": "2022-04-03T18:09:43.630Z"
   },
   {
    "duration": 110,
    "start_time": "2022-04-03T18:09:43.683Z"
   },
   {
    "duration": 85,
    "start_time": "2022-04-03T18:09:43.796Z"
   },
   {
    "duration": 10,
    "start_time": "2022-04-03T18:09:43.884Z"
   },
   {
    "duration": 7,
    "start_time": "2022-04-03T18:09:43.899Z"
   },
   {
    "duration": 5,
    "start_time": "2022-04-03T18:09:43.908Z"
   },
   {
    "duration": 82,
    "start_time": "2022-04-03T18:09:43.915Z"
   },
   {
    "duration": 7,
    "start_time": "2022-04-03T18:09:44.001Z"
   },
   {
    "duration": 1089,
    "start_time": "2022-04-03T18:09:44.012Z"
   },
   {
    "duration": 2033,
    "start_time": "2022-04-03T18:14:10.457Z"
   },
   {
    "duration": 444,
    "start_time": "2022-04-03T18:14:12.493Z"
   },
   {
    "duration": 419,
    "start_time": "2022-04-03T18:14:12.940Z"
   },
   {
    "duration": 386,
    "start_time": "2022-04-03T18:14:13.364Z"
   },
   {
    "duration": 535,
    "start_time": "2022-04-03T18:14:13.752Z"
   },
   {
    "duration": 30,
    "start_time": "2022-04-03T18:14:14.290Z"
   },
   {
    "duration": 59,
    "start_time": "2022-04-03T18:14:14.322Z"
   },
   {
    "duration": 5,
    "start_time": "2022-04-03T18:14:14.385Z"
   },
   {
    "duration": 95,
    "start_time": "2022-04-03T18:14:14.393Z"
   },
   {
    "duration": 7,
    "start_time": "2022-04-03T18:14:14.494Z"
   },
   {
    "duration": 4,
    "start_time": "2022-04-03T18:14:14.504Z"
   },
   {
    "duration": 82,
    "start_time": "2022-04-03T18:14:14.510Z"
   },
   {
    "duration": 5,
    "start_time": "2022-04-03T18:14:14.595Z"
   },
   {
    "duration": 1065,
    "start_time": "2022-04-03T18:14:14.603Z"
   },
   {
    "duration": 1561,
    "start_time": "2022-04-03T18:20:03.252Z"
   },
   {
    "duration": 375,
    "start_time": "2022-04-03T18:20:04.816Z"
   },
   {
    "duration": 339,
    "start_time": "2022-04-03T18:20:05.195Z"
   },
   {
    "duration": 394,
    "start_time": "2022-04-03T18:20:05.537Z"
   },
   {
    "duration": 635,
    "start_time": "2022-04-03T18:20:05.934Z"
   },
   {
    "duration": 48,
    "start_time": "2022-04-03T18:20:06.572Z"
   },
   {
    "duration": 75,
    "start_time": "2022-04-03T18:20:06.623Z"
   },
   {
    "duration": 84,
    "start_time": "2022-04-03T18:20:06.700Z"
   },
   {
    "duration": 17,
    "start_time": "2022-04-03T18:20:06.787Z"
   },
   {
    "duration": 8,
    "start_time": "2022-04-03T18:20:06.806Z"
   },
   {
    "duration": 5,
    "start_time": "2022-04-03T18:20:06.816Z"
   },
   {
    "duration": 91,
    "start_time": "2022-04-03T18:20:06.824Z"
   },
   {
    "duration": 5,
    "start_time": "2022-04-03T18:20:06.918Z"
   },
   {
    "duration": 1615,
    "start_time": "2022-04-03T18:20:06.927Z"
   },
   {
    "duration": 1519,
    "start_time": "2022-04-03T18:25:05.233Z"
   },
   {
    "duration": 451,
    "start_time": "2022-04-03T18:25:06.756Z"
   },
   {
    "duration": 347,
    "start_time": "2022-04-03T18:25:07.210Z"
   },
   {
    "duration": 305,
    "start_time": "2022-04-03T18:25:07.559Z"
   },
   {
    "duration": 505,
    "start_time": "2022-04-03T18:25:07.867Z"
   },
   {
    "duration": 37,
    "start_time": "2022-04-03T18:25:08.375Z"
   },
   {
    "duration": 76,
    "start_time": "2022-04-03T18:25:08.414Z"
   },
   {
    "duration": 90,
    "start_time": "2022-04-03T18:25:08.493Z"
   },
   {
    "duration": 24,
    "start_time": "2022-04-03T18:25:08.586Z"
   },
   {
    "duration": 18,
    "start_time": "2022-04-03T18:25:08.612Z"
   },
   {
    "duration": 28,
    "start_time": "2022-04-03T18:25:08.632Z"
   },
   {
    "duration": 53,
    "start_time": "2022-04-03T18:25:08.662Z"
   },
   {
    "duration": 5,
    "start_time": "2022-04-03T18:25:08.717Z"
   },
   {
    "duration": 1011,
    "start_time": "2022-04-03T18:25:08.727Z"
   },
   {
    "duration": 1566,
    "start_time": "2022-04-03T18:25:54.417Z"
   },
   {
    "duration": 386,
    "start_time": "2022-04-03T18:25:55.986Z"
   },
   {
    "duration": 288,
    "start_time": "2022-04-03T18:25:56.374Z"
   },
   {
    "duration": 298,
    "start_time": "2022-04-03T18:25:56.665Z"
   },
   {
    "duration": 509,
    "start_time": "2022-04-03T18:25:56.966Z"
   },
   {
    "duration": 31,
    "start_time": "2022-04-03T18:25:57.482Z"
   },
   {
    "duration": 167,
    "start_time": "2022-04-03T18:25:57.516Z"
   },
   {
    "duration": 4,
    "start_time": "2022-04-03T18:25:57.685Z"
   },
   {
    "duration": 10,
    "start_time": "2022-04-03T18:25:57.692Z"
   },
   {
    "duration": 5,
    "start_time": "2022-04-03T18:25:57.707Z"
   },
   {
    "duration": 6,
    "start_time": "2022-04-03T18:25:57.714Z"
   },
   {
    "duration": 78,
    "start_time": "2022-04-03T18:25:57.722Z"
   },
   {
    "duration": 5,
    "start_time": "2022-04-03T18:25:57.803Z"
   },
   {
    "duration": 1194,
    "start_time": "2022-04-03T18:25:57.810Z"
   },
   {
    "duration": 1456,
    "start_time": "2022-04-03T18:26:38.792Z"
   },
   {
    "duration": 311,
    "start_time": "2022-04-03T18:26:40.251Z"
   },
   {
    "duration": 293,
    "start_time": "2022-04-03T18:26:40.565Z"
   },
   {
    "duration": 292,
    "start_time": "2022-04-03T18:26:40.862Z"
   },
   {
    "duration": 521,
    "start_time": "2022-04-03T18:26:41.156Z"
   },
   {
    "duration": 41,
    "start_time": "2022-04-03T18:26:41.683Z"
   },
   {
    "duration": 66,
    "start_time": "2022-04-03T18:26:41.727Z"
   },
   {
    "duration": 88,
    "start_time": "2022-04-03T18:26:41.796Z"
   },
   {
    "duration": 102,
    "start_time": "2022-04-03T18:26:41.887Z"
   },
   {
    "duration": 6,
    "start_time": "2022-04-03T18:26:41.994Z"
   },
   {
    "duration": 5,
    "start_time": "2022-04-03T18:26:42.003Z"
   },
   {
    "duration": 71,
    "start_time": "2022-04-03T18:26:42.011Z"
   },
   {
    "duration": 7,
    "start_time": "2022-04-03T18:26:42.085Z"
   },
   {
    "duration": 12,
    "start_time": "2022-04-03T18:26:42.094Z"
   },
   {
    "duration": 1473,
    "start_time": "2022-04-03T18:34:58.055Z"
   },
   {
    "duration": 296,
    "start_time": "2022-04-03T18:34:59.530Z"
   },
   {
    "duration": 327,
    "start_time": "2022-04-03T18:34:59.828Z"
   },
   {
    "duration": 397,
    "start_time": "2022-04-03T18:35:00.159Z"
   },
   {
    "duration": 538,
    "start_time": "2022-04-03T18:35:00.558Z"
   },
   {
    "duration": 34,
    "start_time": "2022-04-03T18:35:01.099Z"
   },
   {
    "duration": 59,
    "start_time": "2022-04-03T18:35:01.135Z"
   },
   {
    "duration": 8,
    "start_time": "2022-04-03T18:35:01.281Z"
   },
   {
    "duration": 96,
    "start_time": "2022-04-03T18:35:01.292Z"
   },
   {
    "duration": 16,
    "start_time": "2022-04-03T18:35:01.392Z"
   },
   {
    "duration": 25,
    "start_time": "2022-04-03T18:35:01.410Z"
   },
   {
    "duration": 77,
    "start_time": "2022-04-03T18:35:01.437Z"
   },
   {
    "duration": 6,
    "start_time": "2022-04-03T18:35:01.518Z"
   },
   {
    "duration": 369,
    "start_time": "2022-04-03T18:35:01.527Z"
   },
   {
    "duration": 1545,
    "start_time": "2022-04-03T18:37:53.434Z"
   },
   {
    "duration": 322,
    "start_time": "2022-04-03T18:37:54.983Z"
   },
   {
    "duration": 311,
    "start_time": "2022-04-03T18:37:55.307Z"
   },
   {
    "duration": 313,
    "start_time": "2022-04-03T18:37:55.621Z"
   },
   {
    "duration": 610,
    "start_time": "2022-04-03T18:37:55.937Z"
   },
   {
    "duration": 51,
    "start_time": "2022-04-03T18:37:56.549Z"
   },
   {
    "duration": 41,
    "start_time": "2022-04-03T18:37:56.603Z"
   },
   {
    "duration": 5,
    "start_time": "2022-04-03T18:37:56.683Z"
   },
   {
    "duration": 126,
    "start_time": "2022-04-03T18:37:56.691Z"
   },
   {
    "duration": 9,
    "start_time": "2022-04-03T18:37:56.821Z"
   },
   {
    "duration": 16,
    "start_time": "2022-04-03T18:37:56.832Z"
   },
   {
    "duration": 69,
    "start_time": "2022-04-03T18:37:56.850Z"
   },
   {
    "duration": 7,
    "start_time": "2022-04-03T18:37:56.922Z"
   },
   {
    "duration": 18,
    "start_time": "2022-04-03T18:37:56.932Z"
   },
   {
    "duration": 9,
    "start_time": "2022-04-03T18:41:07.486Z"
   },
   {
    "duration": 15,
    "start_time": "2022-04-03T18:41:10.235Z"
   },
   {
    "duration": 1552,
    "start_time": "2022-04-03T19:01:53.380Z"
   },
   {
    "duration": 343,
    "start_time": "2022-04-03T19:01:54.935Z"
   },
   {
    "duration": 332,
    "start_time": "2022-04-03T19:01:55.282Z"
   },
   {
    "duration": 411,
    "start_time": "2022-04-03T19:01:55.618Z"
   },
   {
    "duration": 625,
    "start_time": "2022-04-03T19:01:56.032Z"
   },
   {
    "duration": 44,
    "start_time": "2022-04-03T19:01:56.660Z"
   },
   {
    "duration": 96,
    "start_time": "2022-04-03T19:01:56.706Z"
   },
   {
    "duration": 4,
    "start_time": "2022-04-03T19:01:56.884Z"
   },
   {
    "duration": 22,
    "start_time": "2022-04-03T19:01:56.891Z"
   },
   {
    "duration": 7,
    "start_time": "2022-04-03T19:01:56.916Z"
   },
   {
    "duration": 7,
    "start_time": "2022-04-03T19:01:56.926Z"
   },
   {
    "duration": 70,
    "start_time": "2022-04-03T19:01:56.936Z"
   },
   {
    "duration": 5,
    "start_time": "2022-04-03T19:01:57.009Z"
   },
   {
    "duration": 15,
    "start_time": "2022-04-03T19:01:57.016Z"
   },
   {
    "duration": 162930,
    "start_time": "2022-04-03T19:01:57.034Z"
   },
   {
    "duration": 6,
    "start_time": "2022-04-03T19:09:30.803Z"
   },
   {
    "duration": 267,
    "start_time": "2022-04-03T19:09:32.731Z"
   },
   {
    "duration": 7,
    "start_time": "2022-04-03T19:14:35.225Z"
   },
   {
    "duration": 14,
    "start_time": "2022-04-03T19:14:37.732Z"
   },
   {
    "duration": 7,
    "start_time": "2022-04-03T19:14:50.870Z"
   },
   {
    "duration": 13,
    "start_time": "2022-04-03T19:14:52.666Z"
   },
   {
    "duration": 7,
    "start_time": "2022-04-03T19:16:55.585Z"
   },
   {
    "duration": 14,
    "start_time": "2022-04-03T19:16:58.030Z"
   },
   {
    "duration": 6,
    "start_time": "2022-04-03T19:19:28.734Z"
   },
   {
    "duration": 13,
    "start_time": "2022-04-03T19:19:30.818Z"
   },
   {
    "duration": 4,
    "start_time": "2022-04-03T19:24:32.880Z"
   },
   {
    "duration": 278,
    "start_time": "2022-04-03T19:24:33.584Z"
   },
   {
    "duration": 251,
    "start_time": "2022-04-03T19:24:34.105Z"
   },
   {
    "duration": 287,
    "start_time": "2022-04-03T19:24:34.958Z"
   },
   {
    "duration": 497,
    "start_time": "2022-04-03T19:24:35.628Z"
   },
   {
    "duration": 25,
    "start_time": "2022-04-03T19:24:39.565Z"
   },
   {
    "duration": 50,
    "start_time": "2022-04-03T19:24:40.732Z"
   },
   {
    "duration": 4,
    "start_time": "2022-04-03T19:24:41.921Z"
   },
   {
    "duration": 9,
    "start_time": "2022-04-03T19:24:43.344Z"
   },
   {
    "duration": 6,
    "start_time": "2022-04-03T19:24:46.381Z"
   },
   {
    "duration": 4,
    "start_time": "2022-04-03T19:24:49.985Z"
   },
   {
    "duration": 26,
    "start_time": "2022-04-03T19:24:51.063Z"
   },
   {
    "duration": 6,
    "start_time": "2022-04-03T19:24:56.528Z"
   },
   {
    "duration": 39,
    "start_time": "2022-04-03T19:24:58.841Z"
   },
   {
    "duration": 7,
    "start_time": "2022-04-03T19:28:03.046Z"
   },
   {
    "duration": 46,
    "start_time": "2022-04-03T19:28:05.127Z"
   },
   {
    "duration": 6,
    "start_time": "2022-04-03T19:29:25.604Z"
   },
   {
    "duration": 44,
    "start_time": "2022-04-03T19:29:27.460Z"
   },
   {
    "duration": 7,
    "start_time": "2022-04-03T19:30:04.107Z"
   },
   {
    "duration": 2315,
    "start_time": "2022-04-03T19:30:06.471Z"
   },
   {
    "duration": 7,
    "start_time": "2022-04-03T19:31:37.425Z"
   },
   {
    "duration": 54,
    "start_time": "2022-04-03T19:31:41.875Z"
   },
   {
    "duration": 6,
    "start_time": "2022-04-03T19:32:21.800Z"
   },
   {
    "duration": 15,
    "start_time": "2022-04-03T19:32:23.716Z"
   },
   {
    "duration": 108,
    "start_time": "2022-04-03T19:32:30.609Z"
   },
   {
    "duration": 1507,
    "start_time": "2022-04-03T19:34:15.650Z"
   },
   {
    "duration": 298,
    "start_time": "2022-04-03T19:34:17.160Z"
   },
   {
    "duration": 277,
    "start_time": "2022-04-03T19:34:17.460Z"
   },
   {
    "duration": 282,
    "start_time": "2022-04-03T19:34:17.741Z"
   },
   {
    "duration": 482,
    "start_time": "2022-04-03T19:34:18.025Z"
   },
   {
    "duration": 30,
    "start_time": "2022-04-03T19:34:18.509Z"
   },
   {
    "duration": 59,
    "start_time": "2022-04-03T19:34:18.542Z"
   },
   {
    "duration": 6,
    "start_time": "2022-04-03T19:34:18.683Z"
   },
   {
    "duration": 102,
    "start_time": "2022-04-03T19:34:18.691Z"
   },
   {
    "duration": 6,
    "start_time": "2022-04-03T19:34:18.797Z"
   },
   {
    "duration": 4,
    "start_time": "2022-04-03T19:34:18.805Z"
   },
   {
    "duration": 33,
    "start_time": "2022-04-03T19:34:18.811Z"
   },
   {
    "duration": 37,
    "start_time": "2022-04-03T19:34:18.846Z"
   },
   {
    "duration": 16,
    "start_time": "2022-04-03T19:34:18.886Z"
   },
   {
    "duration": 150534,
    "start_time": "2022-04-03T19:34:18.904Z"
   },
   {
    "duration": 2025,
    "start_time": "2022-04-03T19:49:12.542Z"
   },
   {
    "duration": 300,
    "start_time": "2022-04-03T19:49:14.570Z"
   },
   {
    "duration": 285,
    "start_time": "2022-04-03T19:49:14.873Z"
   },
   {
    "duration": 284,
    "start_time": "2022-04-03T19:49:15.161Z"
   },
   {
    "duration": 504,
    "start_time": "2022-04-03T19:49:15.447Z"
   },
   {
    "duration": 43,
    "start_time": "2022-04-03T19:49:15.954Z"
   },
   {
    "duration": 182,
    "start_time": "2022-04-03T19:49:16.000Z"
   },
   {
    "duration": 9,
    "start_time": "2022-04-03T19:49:16.186Z"
   },
   {
    "duration": 10,
    "start_time": "2022-04-03T19:49:16.284Z"
   },
   {
    "duration": 6,
    "start_time": "2022-04-03T19:49:16.299Z"
   },
   {
    "duration": 5,
    "start_time": "2022-04-03T19:49:16.308Z"
   },
   {
    "duration": 77,
    "start_time": "2022-04-03T19:49:16.315Z"
   },
   {
    "duration": 7,
    "start_time": "2022-04-03T19:49:16.395Z"
   },
   {
    "duration": 14,
    "start_time": "2022-04-03T19:49:16.405Z"
   },
   {
    "duration": 150650,
    "start_time": "2022-04-03T19:49:16.422Z"
   },
   {
    "duration": 18982,
    "start_time": "2022-04-03T19:51:47.075Z"
   },
   {
    "duration": 152,
    "start_time": "2022-04-03T19:56:42.711Z"
   },
   {
    "duration": 253,
    "start_time": "2022-04-03T19:57:41.875Z"
   },
   {
    "duration": 5,
    "start_time": "2022-04-03T20:07:16.771Z"
   },
   {
    "duration": 2033,
    "start_time": "2022-04-03T20:11:33.404Z"
   },
   {
    "duration": 23,
    "start_time": "2022-04-03T20:12:05.548Z"
   },
   {
    "duration": 37,
    "start_time": "2022-04-03T20:13:00.488Z"
   },
   {
    "duration": 55,
    "start_time": "2022-04-03T20:13:31.531Z"
   },
   {
    "duration": 35,
    "start_time": "2022-04-03T20:24:43.044Z"
   },
   {
    "duration": 6243,
    "start_time": "2022-04-03T20:28:26.314Z"
   },
   {
    "duration": 117,
    "start_time": "2022-04-03T20:28:52.133Z"
   },
   {
    "duration": 37,
    "start_time": "2022-04-03T20:29:24.650Z"
   },
   {
    "duration": 36,
    "start_time": "2022-04-03T20:29:46.767Z"
   },
   {
    "duration": 36,
    "start_time": "2022-04-03T20:29:55.617Z"
   },
   {
    "duration": 38,
    "start_time": "2022-04-03T20:30:06.178Z"
   },
   {
    "duration": 39,
    "start_time": "2022-04-03T20:30:15.348Z"
   },
   {
    "duration": 249,
    "start_time": "2022-04-03T20:48:45.500Z"
   },
   {
    "duration": 248,
    "start_time": "2022-04-03T20:50:19.720Z"
   },
   {
    "duration": 239,
    "start_time": "2022-04-03T20:52:38.804Z"
   },
   {
    "duration": 220,
    "start_time": "2022-04-03T20:56:38.827Z"
   },
   {
    "duration": 174,
    "start_time": "2022-04-03T20:59:31.879Z"
   },
   {
    "duration": 173,
    "start_time": "2022-04-03T21:00:22.006Z"
   },
   {
    "duration": 184,
    "start_time": "2022-04-03T21:01:44.526Z"
   },
   {
    "duration": 162,
    "start_time": "2022-04-03T21:03:40.505Z"
   },
   {
    "duration": 162,
    "start_time": "2022-04-03T21:04:33.309Z"
   },
   {
    "duration": 177,
    "start_time": "2022-04-03T21:06:14.727Z"
   },
   {
    "duration": 67658,
    "start_time": "2022-04-03T21:12:17.836Z"
   },
   {
    "duration": 60134,
    "start_time": "2022-04-03T21:19:44.519Z"
   },
   {
    "duration": 2341,
    "start_time": "2022-04-05T06:43:58.686Z"
   },
   {
    "duration": 344,
    "start_time": "2022-04-05T06:44:01.030Z"
   },
   {
    "duration": 331,
    "start_time": "2022-04-05T06:44:01.377Z"
   },
   {
    "duration": 307,
    "start_time": "2022-04-05T06:44:01.712Z"
   },
   {
    "duration": 592,
    "start_time": "2022-04-05T06:44:02.022Z"
   },
   {
    "duration": 42,
    "start_time": "2022-04-05T06:44:02.616Z"
   },
   {
    "duration": 183,
    "start_time": "2022-04-05T06:44:02.661Z"
   },
   {
    "duration": 4,
    "start_time": "2022-04-05T06:44:02.848Z"
   },
   {
    "duration": 9,
    "start_time": "2022-04-05T06:44:02.946Z"
   },
   {
    "duration": 87,
    "start_time": "2022-04-05T06:44:02.960Z"
   },
   {
    "duration": 6,
    "start_time": "2022-04-05T06:44:03.049Z"
   },
   {
    "duration": 52,
    "start_time": "2022-04-05T06:44:03.058Z"
   },
   {
    "duration": 6,
    "start_time": "2022-04-05T06:44:03.112Z"
   },
   {
    "duration": 32,
    "start_time": "2022-04-05T06:44:03.120Z"
   },
   {
    "duration": 158627,
    "start_time": "2022-04-05T06:44:03.154Z"
   },
   {
    "duration": 299,
    "start_time": "2022-04-05T06:46:41.783Z"
   },
   {
    "duration": 37,
    "start_time": "2022-04-05T06:46:42.085Z"
   },
   {
    "duration": 61388,
    "start_time": "2022-04-05T06:46:42.124Z"
   },
   {
    "duration": 184242,
    "start_time": "2022-04-05T06:50:20.976Z"
   },
   {
    "duration": 62372,
    "start_time": "2022-04-05T07:29:59.068Z"
   },
   {
    "duration": 63548,
    "start_time": "2022-04-05T07:31:14.493Z"
   },
   {
    "duration": 61033,
    "start_time": "2022-04-05T07:33:07.840Z"
   },
   {
    "duration": 186011,
    "start_time": "2022-04-05T07:34:49.357Z"
   },
   {
    "duration": 2324,
    "start_time": "2022-04-05T07:46:32.740Z"
   },
   {
    "duration": 389,
    "start_time": "2022-04-05T07:46:35.068Z"
   },
   {
    "duration": 308,
    "start_time": "2022-04-05T07:46:35.459Z"
   },
   {
    "duration": 303,
    "start_time": "2022-04-05T07:46:35.769Z"
   },
   {
    "duration": 748,
    "start_time": "2022-04-05T07:46:36.075Z"
   },
   {
    "duration": 47,
    "start_time": "2022-04-05T07:46:36.826Z"
   },
   {
    "duration": 72,
    "start_time": "2022-04-05T07:46:36.876Z"
   },
   {
    "duration": 6,
    "start_time": "2022-04-05T07:46:36.952Z"
   },
   {
    "duration": 11,
    "start_time": "2022-04-05T07:46:37.045Z"
   },
   {
    "duration": 7,
    "start_time": "2022-04-05T07:46:37.058Z"
   },
   {
    "duration": 5,
    "start_time": "2022-04-05T07:46:37.067Z"
   },
   {
    "duration": 34,
    "start_time": "2022-04-05T07:46:37.143Z"
   },
   {
    "duration": 6,
    "start_time": "2022-04-05T07:46:37.179Z"
   },
   {
    "duration": 15,
    "start_time": "2022-04-05T07:46:37.188Z"
   },
   {
    "duration": 198801,
    "start_time": "2022-04-05T07:46:37.205Z"
   },
   {
    "duration": 295,
    "start_time": "2022-04-05T07:49:56.008Z"
   },
   {
    "duration": 47,
    "start_time": "2022-04-05T07:49:56.305Z"
   },
   {
    "duration": 67957,
    "start_time": "2022-04-05T07:49:56.355Z"
   },
   {
    "duration": 94055,
    "start_time": "2022-04-05T07:57:48.264Z"
   },
   {
    "duration": 97162,
    "start_time": "2022-04-05T08:01:58.565Z"
   },
   {
    "duration": 192221,
    "start_time": "2022-04-05T08:07:53.930Z"
   },
   {
    "duration": 1566,
    "start_time": "2022-04-06T09:43:01.840Z"
   },
   {
    "duration": 205,
    "start_time": "2022-04-06T09:43:06.362Z"
   },
   {
    "duration": 184,
    "start_time": "2022-04-06T09:43:09.258Z"
   },
   {
    "duration": 174,
    "start_time": "2022-04-06T09:43:10.439Z"
   },
   {
    "duration": 2,
    "start_time": "2022-04-06T09:43:12.497Z"
   },
   {
    "duration": 7,
    "start_time": "2022-04-06T09:43:13.587Z"
   },
   {
    "duration": 105,
    "start_time": "2022-04-06T09:56:15.585Z"
   },
   {
    "duration": 29,
    "start_time": "2022-04-06T10:00:31.177Z"
   },
   {
    "duration": 108,
    "start_time": "2022-04-06T10:01:18.006Z"
   },
   {
    "duration": 246,
    "start_time": "2022-04-06T10:03:13.956Z"
   },
   {
    "duration": 124,
    "start_time": "2022-04-06T10:03:32.513Z"
   },
   {
    "duration": 75,
    "start_time": "2022-04-06T10:05:54.560Z"
   },
   {
    "duration": 52,
    "start_time": "2022-04-06T10:07:53.483Z"
   },
   {
    "duration": 122,
    "start_time": "2022-04-06T10:09:43.912Z"
   },
   {
    "duration": 78,
    "start_time": "2022-04-06T10:10:44.659Z"
   },
   {
    "duration": 198,
    "start_time": "2022-04-06T10:11:39.338Z"
   },
   {
    "duration": 154,
    "start_time": "2022-04-06T10:12:38.581Z"
   },
   {
    "duration": 193,
    "start_time": "2022-04-06T10:12:53.139Z"
   },
   {
    "duration": 123,
    "start_time": "2022-04-06T10:17:12.506Z"
   },
   {
    "duration": 10,
    "start_time": "2022-04-06T10:23:19.743Z"
   },
   {
    "duration": 11,
    "start_time": "2022-04-06T10:25:20.122Z"
   },
   {
    "duration": 2,
    "start_time": "2022-04-06T10:28:47.016Z"
   },
   {
    "duration": 3,
    "start_time": "2022-04-06T11:05:07.610Z"
   },
   {
    "duration": 4,
    "start_time": "2022-04-06T11:08:17.794Z"
   },
   {
    "duration": 4,
    "start_time": "2022-04-06T11:19:47.862Z"
   },
   {
    "duration": 9,
    "start_time": "2022-04-06T11:21:07.622Z"
   },
   {
    "duration": 22,
    "start_time": "2022-04-06T11:22:19.980Z"
   },
   {
    "duration": 3,
    "start_time": "2022-04-06T11:22:58.610Z"
   },
   {
    "duration": 7,
    "start_time": "2022-04-06T11:23:01.356Z"
   },
   {
    "duration": 7,
    "start_time": "2022-04-06T11:23:27.551Z"
   },
   {
    "duration": 184,
    "start_time": "2022-04-06T11:23:41.438Z"
   },
   {
    "duration": 6,
    "start_time": "2022-04-06T11:23:45.561Z"
   },
   {
    "duration": 134,
    "start_time": "2022-04-06T11:24:41.943Z"
   },
   {
    "duration": 3,
    "start_time": "2022-04-06T11:28:06.439Z"
   },
   {
    "duration": 2,
    "start_time": "2022-04-06T11:28:28.670Z"
   },
   {
    "duration": 2,
    "start_time": "2022-04-06T11:31:12.987Z"
   },
   {
    "duration": 101,
    "start_time": "2022-04-06T11:33:37.421Z"
   },
   {
    "duration": 3,
    "start_time": "2022-04-06T11:35:33.372Z"
   },
   {
    "duration": 120,
    "start_time": "2022-04-06T11:56:00.773Z"
   },
   {
    "duration": 123,
    "start_time": "2022-04-06T11:56:45.110Z"
   },
   {
    "duration": 149,
    "start_time": "2022-04-06T11:57:03.020Z"
   },
   {
    "duration": 138,
    "start_time": "2022-04-06T11:57:45.426Z"
   },
   {
    "duration": 84398,
    "start_time": "2022-04-06T11:58:36.136Z"
   },
   {
    "duration": 63973,
    "start_time": "2022-04-06T12:01:35.351Z"
   },
   {
    "duration": 43959,
    "start_time": "2022-04-06T12:04:38.120Z"
   },
   {
    "duration": 44400,
    "start_time": "2022-04-06T12:05:42.070Z"
   },
   {
    "duration": 43268,
    "start_time": "2022-04-06T12:15:18.854Z"
   },
   {
    "duration": 42982,
    "start_time": "2022-04-06T12:17:10.608Z"
   },
   {
    "duration": 1168,
    "start_time": "2022-04-07T07:20:45.483Z"
   },
   {
    "duration": 374,
    "start_time": "2022-04-07T07:20:47.399Z"
   },
   {
    "duration": 654,
    "start_time": "2022-04-07T07:22:47.191Z"
   },
   {
    "duration": 671,
    "start_time": "2022-04-07T07:23:53.163Z"
   },
   {
    "duration": 96,
    "start_time": "2022-04-07T07:33:09.048Z"
   },
   {
    "duration": 7,
    "start_time": "2022-04-07T07:33:59.577Z"
   },
   {
    "duration": 17,
    "start_time": "2022-04-07T07:34:32.230Z"
   },
   {
    "duration": 26,
    "start_time": "2022-04-07T07:39:06.998Z"
   },
   {
    "duration": 25,
    "start_time": "2022-04-07T07:41:25.776Z"
   },
   {
    "duration": 26,
    "start_time": "2022-04-07T07:41:39.463Z"
   },
   {
    "duration": 21,
    "start_time": "2022-04-07T07:48:24.656Z"
   },
   {
    "duration": 33,
    "start_time": "2022-04-07T07:51:08.284Z"
   },
   {
    "duration": 24,
    "start_time": "2022-04-07T07:52:44.485Z"
   },
   {
    "duration": 2,
    "start_time": "2022-04-07T07:56:21.276Z"
   },
   {
    "duration": 183,
    "start_time": "2022-04-07T07:59:48.957Z"
   },
   {
    "duration": 23,
    "start_time": "2022-04-07T08:00:05.994Z"
   },
   {
    "duration": 21,
    "start_time": "2022-04-07T08:00:15.373Z"
   },
   {
    "duration": 147,
    "start_time": "2022-04-07T08:00:27.958Z"
   },
   {
    "duration": 136,
    "start_time": "2022-04-07T08:01:35.871Z"
   },
   {
    "duration": 8,
    "start_time": "2022-04-07T08:07:55.926Z"
   },
   {
    "duration": 9,
    "start_time": "2022-04-07T08:08:36.024Z"
   },
   {
    "duration": 9,
    "start_time": "2022-04-07T08:11:27.255Z"
   },
   {
    "duration": 3,
    "start_time": "2022-04-07T08:11:32.072Z"
   },
   {
    "duration": 3,
    "start_time": "2022-04-07T08:11:35.618Z"
   },
   {
    "duration": 5,
    "start_time": "2022-04-07T08:40:53.427Z"
   },
   {
    "duration": 8,
    "start_time": "2022-04-07T08:40:56.188Z"
   },
   {
    "duration": 10,
    "start_time": "2022-04-07T08:41:17.780Z"
   },
   {
    "duration": 4,
    "start_time": "2022-04-07T08:44:27.049Z"
   },
   {
    "duration": 3,
    "start_time": "2022-04-07T09:39:02.555Z"
   },
   {
    "duration": 2964,
    "start_time": "2022-04-07T09:39:35.046Z"
   },
   {
    "duration": 179,
    "start_time": "2022-04-07T09:40:05.975Z"
   },
   {
    "duration": 190,
    "start_time": "2022-04-07T09:41:33.067Z"
   },
   {
    "duration": 176,
    "start_time": "2022-04-07T09:43:09.229Z"
   },
   {
    "duration": 4,
    "start_time": "2022-04-07T09:43:58.945Z"
   },
   {
    "duration": 3417,
    "start_time": "2022-04-07T09:44:03.804Z"
   },
   {
    "duration": 3369,
    "start_time": "2022-04-07T09:45:52.243Z"
   },
   {
    "duration": 3502,
    "start_time": "2022-04-07T09:49:15.961Z"
   },
   {
    "duration": 3421,
    "start_time": "2022-04-07T09:53:01.926Z"
   },
   {
    "duration": 3449,
    "start_time": "2022-04-07T09:55:05.522Z"
   },
   {
    "duration": 3,
    "start_time": "2022-04-07T09:59:39.543Z"
   },
   {
    "duration": 5542,
    "start_time": "2022-04-07T09:59:44.102Z"
   },
   {
    "duration": 2,
    "start_time": "2022-04-07T10:31:44.328Z"
   },
   {
    "duration": 889,
    "start_time": "2022-04-07T10:31:46.834Z"
   },
   {
    "duration": 25,
    "start_time": "2022-04-07T10:31:53.132Z"
   },
   {
    "duration": 26,
    "start_time": "2022-04-07T10:32:02.315Z"
   },
   {
    "duration": 364,
    "start_time": "2022-04-07T10:34:01.944Z"
   },
   {
    "duration": 130,
    "start_time": "2022-04-07T10:34:21.677Z"
   },
   {
    "duration": 486,
    "start_time": "2022-04-07T10:35:15.616Z"
   },
   {
    "duration": 102,
    "start_time": "2022-04-07T10:36:27.707Z"
   },
   {
    "duration": 140,
    "start_time": "2022-04-07T10:36:33.269Z"
   },
   {
    "duration": 219,
    "start_time": "2022-04-07T10:36:44.389Z"
   },
   {
    "duration": 11,
    "start_time": "2022-04-07T10:37:35.389Z"
   },
   {
    "duration": 3,
    "start_time": "2022-04-07T10:37:43.551Z"
   },
   {
    "duration": 3,
    "start_time": "2022-04-07T10:37:47.009Z"
   },
   {
    "duration": 4,
    "start_time": "2022-04-07T10:41:29.752Z"
   },
   {
    "duration": 189,
    "start_time": "2022-04-07T10:44:50.046Z"
   },
   {
    "duration": 197,
    "start_time": "2022-04-07T10:47:07.957Z"
   },
   {
    "duration": 197,
    "start_time": "2022-04-07T10:48:40.053Z"
   },
   {
    "duration": 43,
    "start_time": "2022-04-07T10:52:02.366Z"
   },
   {
    "duration": 3,
    "start_time": "2022-04-07T10:53:20.518Z"
   },
   {
    "duration": 678,
    "start_time": "2022-04-07T10:53:22.041Z"
   },
   {
    "duration": 27,
    "start_time": "2022-04-07T10:53:30.226Z"
   },
   {
    "duration": 28,
    "start_time": "2022-04-07T10:53:39.261Z"
   },
   {
    "duration": 265,
    "start_time": "2022-04-07T10:53:46.437Z"
   },
   {
    "duration": 10,
    "start_time": "2022-04-07T10:53:52.809Z"
   },
   {
    "duration": 4,
    "start_time": "2022-04-07T10:53:57.109Z"
   },
   {
    "duration": 3,
    "start_time": "2022-04-07T10:53:59.741Z"
   },
   {
    "duration": 4,
    "start_time": "2022-04-07T10:54:03.712Z"
   },
   {
    "duration": 188,
    "start_time": "2022-04-07T10:54:12.210Z"
   },
   {
    "duration": 197,
    "start_time": "2022-04-07T10:56:25.585Z"
   },
   {
    "duration": 163,
    "start_time": "2022-04-07T10:56:41.901Z"
   },
   {
    "duration": 5758,
    "start_time": "2022-04-07T10:56:48.053Z"
   },
   {
    "duration": 5791,
    "start_time": "2022-04-07T10:57:26.518Z"
   },
   {
    "duration": 5985,
    "start_time": "2022-04-07T10:59:56.575Z"
   },
   {
    "duration": 832,
    "start_time": "2022-04-07T11:01:09.639Z"
   },
   {
    "duration": 161,
    "start_time": "2022-04-07T11:01:46.740Z"
   },
   {
    "duration": 1368,
    "start_time": "2022-04-07T11:15:53.317Z"
   },
   {
    "duration": 686,
    "start_time": "2022-04-07T11:15:54.687Z"
   },
   {
    "duration": 44,
    "start_time": "2022-04-07T11:15:55.374Z"
   },
   {
    "duration": 36,
    "start_time": "2022-04-07T11:15:55.420Z"
   },
   {
    "duration": 150,
    "start_time": "2022-04-07T11:15:55.458Z"
   },
   {
    "duration": 101,
    "start_time": "2022-04-07T11:15:55.610Z"
   },
   {
    "duration": 3,
    "start_time": "2022-04-07T11:15:55.718Z"
   },
   {
    "duration": 5,
    "start_time": "2022-04-07T11:15:55.723Z"
   },
   {
    "duration": 75,
    "start_time": "2022-04-07T11:15:55.730Z"
   },
   {
    "duration": 2583,
    "start_time": "2022-04-07T11:15:55.807Z"
   },
   {
    "duration": 3837,
    "start_time": "2022-04-07T11:19:02.048Z"
   },
   {
    "duration": 3790,
    "start_time": "2022-04-07T11:19:33.225Z"
   },
   {
    "duration": 2576,
    "start_time": "2022-04-07T11:19:49.614Z"
   },
   {
    "duration": 1157,
    "start_time": "2022-04-07T11:28:25.431Z"
   },
   {
    "duration": 693,
    "start_time": "2022-04-07T11:28:26.590Z"
   },
   {
    "duration": 37,
    "start_time": "2022-04-07T11:28:27.285Z"
   },
   {
    "duration": 37,
    "start_time": "2022-04-07T11:28:27.324Z"
   },
   {
    "duration": 359,
    "start_time": "2022-04-07T11:28:27.363Z"
   },
   {
    "duration": 100,
    "start_time": "2022-04-07T11:28:27.723Z"
   },
   {
    "duration": 3,
    "start_time": "2022-04-07T11:28:27.906Z"
   },
   {
    "duration": 5,
    "start_time": "2022-04-07T11:28:27.911Z"
   },
   {
    "duration": 5,
    "start_time": "2022-04-07T11:28:27.917Z"
   },
   {
    "duration": 2664,
    "start_time": "2022-04-07T11:28:27.924Z"
   }
  ],
  "kernelspec": {
   "display_name": "Python 3 (ipykernel)",
   "language": "python",
   "name": "python3"
  },
  "language_info": {
   "codemirror_mode": {
    "name": "ipython",
    "version": 3
   },
   "file_extension": ".py",
   "mimetype": "text/x-python",
   "name": "python",
   "nbconvert_exporter": "python",
   "pygments_lexer": "ipython3",
   "version": "3.9.5"
  },
  "toc": {
   "base_numbering": 1,
   "nav_menu": {},
   "number_sections": true,
   "sideBar": true,
   "skip_h1_title": true,
   "title_cell": "Table of Contents",
   "title_sidebar": "Contents",
   "toc_cell": false,
   "toc_position": {},
   "toc_section_display": true,
   "toc_window_display": false
  }
 },
 "nbformat": 4,
 "nbformat_minor": 2
}
