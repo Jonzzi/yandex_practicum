{
 "cells": [
  {
   "cell_type": "markdown",
   "id": "2e7e407f",
   "metadata": {},
   "source": [
    "# 1. Проект \"Телеком\"\n",
    "## 1.1. Задача проекта\n",
    "<div>Оператор связи «Ниединогоразрыва.ком» хочет научиться прогнозировать отток клиентов. Если выяснится, что пользователь планирует уйти, ему будут предложены промокоды и специальные условия. Команда оператора собрала персональные данные о некоторых клиентах, информацию об их тарифах и договорах.</div>"
   ]
  },
  {
   "cell_type": "markdown",
   "id": "6620f6b9",
   "metadata": {},
   "source": [
    "## 1.2. Описание услуг\n",
    "Оператор предоставляет два основных типа услуг: \n",
    "1. Стационарную телефонную связь. Возможно подключение телефонного аппарата к нескольким линиям одновременно.\n",
    "2. Интернет. Подключение может быть двух типов: через телефонную линию (DSL*,* от англ. *digital subscriber line*, «цифровая абонентская линия») или оптоволоконный кабель (*Fiber optic*).\n",
    "<br><br>\n",
    "Также доступны такие услуги:\n",
    "- Интернет-безопасность: антивирус (*DeviceProtection*) и блокировка небезопасных сайтов (*OnlineSecurity*);\n",
    "- Выделенная линия технической поддержки (*TechSupport*);\n",
    "- Облачное хранилище файлов для резервного копирования данных (*OnlineBackup*);\n",
    "- Стриминговое телевидение (*StreamingTV*) и каталог фильмов (*StreamingMovies*).\n",
    "<br><br>\n",
    "За услуги клиенты могут платить каждый месяц или заключить договор на 1–2 года. Доступны различные способы расчёта и возможность получения электронного чека."
   ]
  },
  {
   "cell_type": "markdown",
   "id": "4c03b784",
   "metadata": {},
   "source": [
    "## 1.3. Описание данных\n",
    "Данные состоят из файлов, полученных из разных источников:\n",
    "- `contract.csv` — информация о договоре;\n",
    "- `personal.csv` — персональные данные клиента;\n",
    "- `internet.csv` — информация об интернет-услугах;\n",
    "- `phone.csv` — информация об услугах телефонии.\n",
    "<br><br>\n",
    "<div>Во всех файлах столбец `customerID` содержит код клиента. Информация о договорах актуальна на 1 февраля 2020.</div>\n",
    "<div><b>Целевым признаком является наличие даты в EndDate</b></div>"
   ]
  },
  {
   "cell_type": "markdown",
   "id": "46e51565",
   "metadata": {},
   "source": [
    "# 2. Предобработка данных\n",
    "## 2.1. Загрузка и предварительное знакомство с данными"
   ]
  },
  {
   "cell_type": "code",
   "execution_count": 1,
   "id": "13ff621f",
   "metadata": {},
   "outputs": [],
   "source": [
    "import datetime\n",
    "import matplotlib.pyplot as plt\n",
    "import numpy as np\n",
    "import pandas as pd\n",
    "#import re\n",
    "import seaborn as sns\n",
    "from sklearn.model_selection import cross_val_score\n",
    "\n",
    "#from sklearn.model_selection import GridSearchCV\n",
    "\n",
    "#from sklearn.model_selection import RandomizedSearchCV\n",
    "\n",
    "from sklearn.model_selection import train_test_split\n",
    "import warnings\n",
    "warnings.filterwarnings('ignore')\n",
    "\n",
    "from sklearn.metrics import roc_auc_score \n",
    "from sklearn.linear_model import LogisticRegression\n",
    "from sklearn.metrics import roc_curve \n",
    "\n",
    "from sklearn.dummy import DummyClassifier\n",
    "from sklearn.tree import DecisionTreeClassifier\n",
    "from sklearn.ensemble import RandomForestClassifier\n",
    "from sklearn.metrics import precision_score, recall_score\n",
    "from sklearn.metrics import precision_recall_curve\n",
    "\n",
    "from catboost import CatBoostClassifier\n",
    "from xgboost import XGBClassifier\n",
    "from lightgbm import LGBMClassifier\n",
    "\n",
    "from sklearn.utils import shuffle"
   ]
  },
  {
   "cell_type": "code",
   "execution_count": 2,
   "id": "87100d2c",
   "metadata": {},
   "outputs": [],
   "source": [
    "# константы\n",
    "RANDOM_STATE = 250722\n",
    "END_DATE = '2020-02-01'\n",
    "DROP_FIRST = False # пока не боимся даммми-ловушки, если будут плохие результаты, заменим на True чтобы отбросился один из категориальных столбцов\n",
    "# пока что\n",
    "# при False метрика 0.8402603392610053\n",
    "# при True метрика 0.8389663301388817\n",
    "\n",
    "TEST_SIZE = .20\n",
    "CRIT_AUR_ROC = .75 # порог приемлемости модели\n",
    "BEST_AUR_ROC = .88 # лучшее значение AUR_ROC\n",
    "PATH_1 = r'E:\\_личное\\DS\\final_provider'"
   ]
  },
  {
   "cell_type": "code",
   "execution_count": 3,
   "id": "acf81721",
   "metadata": {},
   "outputs": [],
   "source": [
    "# Функция расчета квантилей и допустимого интервала значений\n",
    "def calc_quantiles(feature):    \n",
    "    q1, q3 = np.percentile(feature, [25, 75]) \n",
    "    iqr = q3 - q1\n",
    "    lower_bound = max(q1 - (1.5 * iqr), feature.min())\n",
    "    upper_bound = min(q3 + (1.5 * iqr), feature.max())\n",
    "    return (q3, q1, lower_bound, upper_bound)"
   ]
  },
  {
   "cell_type": "code",
   "execution_count": 4,
   "id": "1633a9b8",
   "metadata": {},
   "outputs": [],
   "source": [
    "# Функция приведения наименований столбцов в \"змеиный\" формат\n",
    "def snake_name(cl_nm):\n",
    "    i = 0\n",
    "    spec_char = ['_', ' ', '(', ')', '.']\n",
    "    for cl in cl_nm:\n",
    "        nm = cl\n",
    "        n = 0\n",
    "        for c in range(len(cl)):\n",
    "            if cl[c]==cl[c].upper() and (cl[c] not in spec_char) and c>0 and c<(len(cl)-1):\n",
    "                nm = f'{nm[:(c+n)]}_{nm[(c+n):]}' \n",
    "                n += 1\n",
    "            elif cl[c]==' ':\n",
    "                nm = f'{nm[:(c+n)]}_{nm[(c+n+1):]}'\n",
    "            elif cl[c]=='(':\n",
    "                nm = f'{nm[:(c+n)]}{nm[(c+n+1):]}'\n",
    "                n -= 1\n",
    "            elif cl[c]==')':    \n",
    "                nm = nm[:(c+n)]\n",
    "        cl_nm[i] = nm.lower()\n",
    "        i += 1\n",
    "    return cl_nm        "
   ]
  },
  {
   "cell_type": "code",
   "execution_count": 5,
   "id": "e6a47778",
   "metadata": {},
   "outputs": [],
   "source": [
    "# загрузка данных\n",
    "data_contract = pd.read_csv(r'{}\\contract.csv'.format(PATH_1))\n",
    "data_personal = pd.read_csv(r'{}\\personal.csv'.format(PATH_1))\n",
    "data_internet = pd.read_csv(r'{}\\internet.csv'.format(PATH_1))\n",
    "data_phone = pd.read_csv(r'{}\\phone.csv'.format(PATH_1))"
   ]
  },
  {
   "cell_type": "code",
   "execution_count": 6,
   "id": "4cf9d708",
   "metadata": {},
   "outputs": [
    {
     "name": "stdout",
     "output_type": "stream",
     "text": [
      "Информация по файлу contract.csv — информация о договоре:\n",
      "<class 'pandas.core.frame.DataFrame'>\n",
      "RangeIndex: 7043 entries, 0 to 7042\n",
      "Data columns (total 8 columns):\n",
      " #   Column            Non-Null Count  Dtype  \n",
      "---  ------            --------------  -----  \n",
      " 0   customerID        7043 non-null   object \n",
      " 1   BeginDate         7043 non-null   object \n",
      " 2   EndDate           7043 non-null   object \n",
      " 3   Type              7043 non-null   object \n",
      " 4   PaperlessBilling  7043 non-null   object \n",
      " 5   PaymentMethod     7043 non-null   object \n",
      " 6   MonthlyCharges    7043 non-null   float64\n",
      " 7   TotalCharges      7043 non-null   object \n",
      "dtypes: float64(1), object(7)\n",
      "memory usage: 440.3+ KB\n"
     ]
    },
    {
     "data": {
      "text/html": [
       "<div>\n",
       "<style scoped>\n",
       "    .dataframe tbody tr th:only-of-type {\n",
       "        vertical-align: middle;\n",
       "    }\n",
       "\n",
       "    .dataframe tbody tr th {\n",
       "        vertical-align: top;\n",
       "    }\n",
       "\n",
       "    .dataframe thead th {\n",
       "        text-align: right;\n",
       "    }\n",
       "</style>\n",
       "<table border=\"1\" class=\"dataframe\">\n",
       "  <thead>\n",
       "    <tr style=\"text-align: right;\">\n",
       "      <th></th>\n",
       "      <th>customerID</th>\n",
       "      <th>BeginDate</th>\n",
       "      <th>EndDate</th>\n",
       "      <th>Type</th>\n",
       "      <th>PaperlessBilling</th>\n",
       "      <th>PaymentMethod</th>\n",
       "      <th>MonthlyCharges</th>\n",
       "      <th>TotalCharges</th>\n",
       "    </tr>\n",
       "  </thead>\n",
       "  <tbody>\n",
       "    <tr>\n",
       "      <th>0</th>\n",
       "      <td>7590-VHVEG</td>\n",
       "      <td>2020-01-01</td>\n",
       "      <td>No</td>\n",
       "      <td>Month-to-month</td>\n",
       "      <td>Yes</td>\n",
       "      <td>Electronic check</td>\n",
       "      <td>29.85</td>\n",
       "      <td>29.85</td>\n",
       "    </tr>\n",
       "    <tr>\n",
       "      <th>1</th>\n",
       "      <td>5575-GNVDE</td>\n",
       "      <td>2017-04-01</td>\n",
       "      <td>No</td>\n",
       "      <td>One year</td>\n",
       "      <td>No</td>\n",
       "      <td>Mailed check</td>\n",
       "      <td>56.95</td>\n",
       "      <td>1889.5</td>\n",
       "    </tr>\n",
       "    <tr>\n",
       "      <th>2</th>\n",
       "      <td>3668-QPYBK</td>\n",
       "      <td>2019-10-01</td>\n",
       "      <td>2019-12-01 00:00:00</td>\n",
       "      <td>Month-to-month</td>\n",
       "      <td>Yes</td>\n",
       "      <td>Mailed check</td>\n",
       "      <td>53.85</td>\n",
       "      <td>108.15</td>\n",
       "    </tr>\n",
       "    <tr>\n",
       "      <th>3</th>\n",
       "      <td>7795-CFOCW</td>\n",
       "      <td>2016-05-01</td>\n",
       "      <td>No</td>\n",
       "      <td>One year</td>\n",
       "      <td>No</td>\n",
       "      <td>Bank transfer (automatic)</td>\n",
       "      <td>42.30</td>\n",
       "      <td>1840.75</td>\n",
       "    </tr>\n",
       "    <tr>\n",
       "      <th>4</th>\n",
       "      <td>9237-HQITU</td>\n",
       "      <td>2019-09-01</td>\n",
       "      <td>2019-11-01 00:00:00</td>\n",
       "      <td>Month-to-month</td>\n",
       "      <td>Yes</td>\n",
       "      <td>Electronic check</td>\n",
       "      <td>70.70</td>\n",
       "      <td>151.65</td>\n",
       "    </tr>\n",
       "  </tbody>\n",
       "</table>\n",
       "</div>"
      ],
      "text/plain": [
       "   customerID   BeginDate              EndDate            Type  \\\n",
       "0  7590-VHVEG  2020-01-01                   No  Month-to-month   \n",
       "1  5575-GNVDE  2017-04-01                   No        One year   \n",
       "2  3668-QPYBK  2019-10-01  2019-12-01 00:00:00  Month-to-month   \n",
       "3  7795-CFOCW  2016-05-01                   No        One year   \n",
       "4  9237-HQITU  2019-09-01  2019-11-01 00:00:00  Month-to-month   \n",
       "\n",
       "  PaperlessBilling              PaymentMethod  MonthlyCharges TotalCharges  \n",
       "0              Yes           Electronic check           29.85        29.85  \n",
       "1               No               Mailed check           56.95       1889.5  \n",
       "2              Yes               Mailed check           53.85       108.15  \n",
       "3               No  Bank transfer (automatic)           42.30      1840.75  \n",
       "4              Yes           Electronic check           70.70       151.65  "
      ]
     },
     "metadata": {},
     "output_type": "display_data"
    },
    {
     "data": {
      "text/html": [
       "<div>\n",
       "<style scoped>\n",
       "    .dataframe tbody tr th:only-of-type {\n",
       "        vertical-align: middle;\n",
       "    }\n",
       "\n",
       "    .dataframe tbody tr th {\n",
       "        vertical-align: top;\n",
       "    }\n",
       "\n",
       "    .dataframe thead th {\n",
       "        text-align: right;\n",
       "    }\n",
       "</style>\n",
       "<table border=\"1\" class=\"dataframe\">\n",
       "  <thead>\n",
       "    <tr style=\"text-align: right;\">\n",
       "      <th></th>\n",
       "      <th>MonthlyCharges</th>\n",
       "    </tr>\n",
       "  </thead>\n",
       "  <tbody>\n",
       "    <tr>\n",
       "      <th>count</th>\n",
       "      <td>7043.000000</td>\n",
       "    </tr>\n",
       "    <tr>\n",
       "      <th>mean</th>\n",
       "      <td>64.761692</td>\n",
       "    </tr>\n",
       "    <tr>\n",
       "      <th>std</th>\n",
       "      <td>30.090047</td>\n",
       "    </tr>\n",
       "    <tr>\n",
       "      <th>min</th>\n",
       "      <td>18.250000</td>\n",
       "    </tr>\n",
       "    <tr>\n",
       "      <th>25%</th>\n",
       "      <td>35.500000</td>\n",
       "    </tr>\n",
       "    <tr>\n",
       "      <th>50%</th>\n",
       "      <td>70.350000</td>\n",
       "    </tr>\n",
       "    <tr>\n",
       "      <th>75%</th>\n",
       "      <td>89.850000</td>\n",
       "    </tr>\n",
       "    <tr>\n",
       "      <th>max</th>\n",
       "      <td>118.750000</td>\n",
       "    </tr>\n",
       "  </tbody>\n",
       "</table>\n",
       "</div>"
      ],
      "text/plain": [
       "       MonthlyCharges\n",
       "count     7043.000000\n",
       "mean        64.761692\n",
       "std         30.090047\n",
       "min         18.250000\n",
       "25%         35.500000\n",
       "50%         70.350000\n",
       "75%         89.850000\n",
       "max        118.750000"
      ]
     },
     "metadata": {},
     "output_type": "display_data"
    },
    {
     "name": "stdout",
     "output_type": "stream",
     "text": [
      "Явные дубли: 0\n",
      "Уникальных customerID: 7043\n",
      "Уникальных PaymentMethod: ['Electronic check' 'Mailed check' 'Bank transfer (automatic)'\n",
      " 'Credit card (automatic)']\n",
      "Уникальных Type: ['Month-to-month' 'One year' 'Two year']\n",
      "Столбец TotalCharges содержит нечисловые значения:\n",
      "           \n"
     ]
    }
   ],
   "source": [
    "# первичное знакомство с данными data_contract\n",
    "print('Информация по файлу contract.csv — информация о договоре:')\n",
    "data_contract.info()\n",
    "display(data_contract.head())\n",
    "display(data_contract.describe())\n",
    "print('Явные дубли:', data_contract.duplicated().sum())\n",
    "print('Уникальных customerID:', len(data_contract['customerID'].unique()))\n",
    "print('Уникальных PaymentMethod:', data_contract['PaymentMethod'].unique())\n",
    "print('Уникальных Type:', data_contract['Type'].unique())\n",
    "try:\n",
    "    data_contract['TotalCharges'] = data_contract['TotalCharges'].astype(np.float64)\n",
    "except:\n",
    "    print('Столбец TotalCharges содержит нечисловые значения:')\n",
    "    TotalCharges = list(data_contract['TotalCharges'])\n",
    "    tc_out = ''\n",
    "    for tc in TotalCharges:\n",
    "        try:\n",
    "            probe = float(tc)\n",
    "        except:\n",
    "            tc_out = tc_out + tc\n",
    "    print(tc_out)"
   ]
  },
  {
   "cell_type": "markdown",
   "id": "7fc69579",
   "metadata": {},
   "source": [
    "### 2.1.1. Предварительные выводы по contract.csv:\n",
    "1. Пропуски отсутствуют\n",
    "2. Явные дубли отсутствуют\n",
    "3. Наименования столбцов информативные, но для дальнейшей работы их надо привести к правильному формату\n",
    "4. Время прописано текстом, но преобразовать его в формат времени пока преждевременно, т.к. в столбцах встречаются и другие значения.\n",
    "5. Для каждого пользователя - одна запись.\n",
    "6. TotalCharges почему-то прописан текстом. Там есть нечисловые значения - проблелы вместо пропусков данных.\n",
    "7. Столбцы с Yes/No имеют булевый смысл и их желательно перевести в числовой формат 1/0"
   ]
  },
  {
   "cell_type": "code",
   "execution_count": 7,
   "id": "e1af7b92",
   "metadata": {
    "scrolled": true
   },
   "outputs": [
    {
     "name": "stdout",
     "output_type": "stream",
     "text": [
      "Информация по файлу personal.csv — персональные данные клиента:\n",
      "<class 'pandas.core.frame.DataFrame'>\n",
      "RangeIndex: 7043 entries, 0 to 7042\n",
      "Data columns (total 5 columns):\n",
      " #   Column         Non-Null Count  Dtype \n",
      "---  ------         --------------  ----- \n",
      " 0   customerID     7043 non-null   object\n",
      " 1   gender         7043 non-null   object\n",
      " 2   SeniorCitizen  7043 non-null   int64 \n",
      " 3   Partner        7043 non-null   object\n",
      " 4   Dependents     7043 non-null   object\n",
      "dtypes: int64(1), object(4)\n",
      "memory usage: 275.2+ KB\n"
     ]
    },
    {
     "data": {
      "text/html": [
       "<div>\n",
       "<style scoped>\n",
       "    .dataframe tbody tr th:only-of-type {\n",
       "        vertical-align: middle;\n",
       "    }\n",
       "\n",
       "    .dataframe tbody tr th {\n",
       "        vertical-align: top;\n",
       "    }\n",
       "\n",
       "    .dataframe thead th {\n",
       "        text-align: right;\n",
       "    }\n",
       "</style>\n",
       "<table border=\"1\" class=\"dataframe\">\n",
       "  <thead>\n",
       "    <tr style=\"text-align: right;\">\n",
       "      <th></th>\n",
       "      <th>customerID</th>\n",
       "      <th>gender</th>\n",
       "      <th>SeniorCitizen</th>\n",
       "      <th>Partner</th>\n",
       "      <th>Dependents</th>\n",
       "    </tr>\n",
       "  </thead>\n",
       "  <tbody>\n",
       "    <tr>\n",
       "      <th>0</th>\n",
       "      <td>7590-VHVEG</td>\n",
       "      <td>Female</td>\n",
       "      <td>0</td>\n",
       "      <td>Yes</td>\n",
       "      <td>No</td>\n",
       "    </tr>\n",
       "    <tr>\n",
       "      <th>1</th>\n",
       "      <td>5575-GNVDE</td>\n",
       "      <td>Male</td>\n",
       "      <td>0</td>\n",
       "      <td>No</td>\n",
       "      <td>No</td>\n",
       "    </tr>\n",
       "    <tr>\n",
       "      <th>2</th>\n",
       "      <td>3668-QPYBK</td>\n",
       "      <td>Male</td>\n",
       "      <td>0</td>\n",
       "      <td>No</td>\n",
       "      <td>No</td>\n",
       "    </tr>\n",
       "    <tr>\n",
       "      <th>3</th>\n",
       "      <td>7795-CFOCW</td>\n",
       "      <td>Male</td>\n",
       "      <td>0</td>\n",
       "      <td>No</td>\n",
       "      <td>No</td>\n",
       "    </tr>\n",
       "    <tr>\n",
       "      <th>4</th>\n",
       "      <td>9237-HQITU</td>\n",
       "      <td>Female</td>\n",
       "      <td>0</td>\n",
       "      <td>No</td>\n",
       "      <td>No</td>\n",
       "    </tr>\n",
       "  </tbody>\n",
       "</table>\n",
       "</div>"
      ],
      "text/plain": [
       "   customerID  gender  SeniorCitizen Partner Dependents\n",
       "0  7590-VHVEG  Female              0     Yes         No\n",
       "1  5575-GNVDE    Male              0      No         No\n",
       "2  3668-QPYBK    Male              0      No         No\n",
       "3  7795-CFOCW    Male              0      No         No\n",
       "4  9237-HQITU  Female              0      No         No"
      ]
     },
     "metadata": {},
     "output_type": "display_data"
    },
    {
     "data": {
      "text/html": [
       "<div>\n",
       "<style scoped>\n",
       "    .dataframe tbody tr th:only-of-type {\n",
       "        vertical-align: middle;\n",
       "    }\n",
       "\n",
       "    .dataframe tbody tr th {\n",
       "        vertical-align: top;\n",
       "    }\n",
       "\n",
       "    .dataframe thead th {\n",
       "        text-align: right;\n",
       "    }\n",
       "</style>\n",
       "<table border=\"1\" class=\"dataframe\">\n",
       "  <thead>\n",
       "    <tr style=\"text-align: right;\">\n",
       "      <th></th>\n",
       "      <th>SeniorCitizen</th>\n",
       "    </tr>\n",
       "  </thead>\n",
       "  <tbody>\n",
       "    <tr>\n",
       "      <th>count</th>\n",
       "      <td>7043.000000</td>\n",
       "    </tr>\n",
       "    <tr>\n",
       "      <th>mean</th>\n",
       "      <td>0.162147</td>\n",
       "    </tr>\n",
       "    <tr>\n",
       "      <th>std</th>\n",
       "      <td>0.368612</td>\n",
       "    </tr>\n",
       "    <tr>\n",
       "      <th>min</th>\n",
       "      <td>0.000000</td>\n",
       "    </tr>\n",
       "    <tr>\n",
       "      <th>25%</th>\n",
       "      <td>0.000000</td>\n",
       "    </tr>\n",
       "    <tr>\n",
       "      <th>50%</th>\n",
       "      <td>0.000000</td>\n",
       "    </tr>\n",
       "    <tr>\n",
       "      <th>75%</th>\n",
       "      <td>0.000000</td>\n",
       "    </tr>\n",
       "    <tr>\n",
       "      <th>max</th>\n",
       "      <td>1.000000</td>\n",
       "    </tr>\n",
       "  </tbody>\n",
       "</table>\n",
       "</div>"
      ],
      "text/plain": [
       "       SeniorCitizen\n",
       "count    7043.000000\n",
       "mean        0.162147\n",
       "std         0.368612\n",
       "min         0.000000\n",
       "25%         0.000000\n",
       "50%         0.000000\n",
       "75%         0.000000\n",
       "max         1.000000"
      ]
     },
     "metadata": {},
     "output_type": "display_data"
    },
    {
     "name": "stdout",
     "output_type": "stream",
     "text": [
      "Уникальных customerID: 7043\n",
      "Явные дубли: 0\n"
     ]
    }
   ],
   "source": [
    "# первичное знакомство с данными data_personal — персональные данные клиента;\n",
    "print('Информация по файлу personal.csv — персональные данные клиента:')\n",
    "data_personal.info()\n",
    "display(data_personal.head())\n",
    "display(data_personal.describe())\n",
    "print('Уникальных customerID:', len(data_personal['customerID'].unique()))\n",
    "print('Явные дубли:', data_personal.duplicated().sum())"
   ]
  },
  {
   "cell_type": "markdown",
   "id": "71ff1535",
   "metadata": {},
   "source": [
    "### 2.1.2. Предварительные выводы по personal.csv:\n",
    "1. Пропуски отсутствуют\n",
    "2. Явные дубли отсутствуют\n",
    "3. Наименования столбцов информативные, но для дальнейшей работы их надо привести к правильному формату\n",
    "4. записей столько же сколько и в contract.csv\n",
    "5. Столбцы с Yes/No имеют булевый смысл и их желательно перевести в числовой формат 1/0"
   ]
  },
  {
   "cell_type": "code",
   "execution_count": 8,
   "id": "61a57a4e",
   "metadata": {},
   "outputs": [
    {
     "name": "stdout",
     "output_type": "stream",
     "text": [
      "Информация по файлу internet.csv — информация об интернет-услугах:\n",
      "<class 'pandas.core.frame.DataFrame'>\n",
      "RangeIndex: 5517 entries, 0 to 5516\n",
      "Data columns (total 8 columns):\n",
      " #   Column            Non-Null Count  Dtype \n",
      "---  ------            --------------  ----- \n",
      " 0   customerID        5517 non-null   object\n",
      " 1   InternetService   5517 non-null   object\n",
      " 2   OnlineSecurity    5517 non-null   object\n",
      " 3   OnlineBackup      5517 non-null   object\n",
      " 4   DeviceProtection  5517 non-null   object\n",
      " 5   TechSupport       5517 non-null   object\n",
      " 6   StreamingTV       5517 non-null   object\n",
      " 7   StreamingMovies   5517 non-null   object\n",
      "dtypes: object(8)\n",
      "memory usage: 344.9+ KB\n"
     ]
    },
    {
     "data": {
      "text/html": [
       "<div>\n",
       "<style scoped>\n",
       "    .dataframe tbody tr th:only-of-type {\n",
       "        vertical-align: middle;\n",
       "    }\n",
       "\n",
       "    .dataframe tbody tr th {\n",
       "        vertical-align: top;\n",
       "    }\n",
       "\n",
       "    .dataframe thead th {\n",
       "        text-align: right;\n",
       "    }\n",
       "</style>\n",
       "<table border=\"1\" class=\"dataframe\">\n",
       "  <thead>\n",
       "    <tr style=\"text-align: right;\">\n",
       "      <th></th>\n",
       "      <th>customerID</th>\n",
       "      <th>InternetService</th>\n",
       "      <th>OnlineSecurity</th>\n",
       "      <th>OnlineBackup</th>\n",
       "      <th>DeviceProtection</th>\n",
       "      <th>TechSupport</th>\n",
       "      <th>StreamingTV</th>\n",
       "      <th>StreamingMovies</th>\n",
       "    </tr>\n",
       "  </thead>\n",
       "  <tbody>\n",
       "    <tr>\n",
       "      <th>0</th>\n",
       "      <td>7590-VHVEG</td>\n",
       "      <td>DSL</td>\n",
       "      <td>No</td>\n",
       "      <td>Yes</td>\n",
       "      <td>No</td>\n",
       "      <td>No</td>\n",
       "      <td>No</td>\n",
       "      <td>No</td>\n",
       "    </tr>\n",
       "    <tr>\n",
       "      <th>1</th>\n",
       "      <td>5575-GNVDE</td>\n",
       "      <td>DSL</td>\n",
       "      <td>Yes</td>\n",
       "      <td>No</td>\n",
       "      <td>Yes</td>\n",
       "      <td>No</td>\n",
       "      <td>No</td>\n",
       "      <td>No</td>\n",
       "    </tr>\n",
       "    <tr>\n",
       "      <th>2</th>\n",
       "      <td>3668-QPYBK</td>\n",
       "      <td>DSL</td>\n",
       "      <td>Yes</td>\n",
       "      <td>Yes</td>\n",
       "      <td>No</td>\n",
       "      <td>No</td>\n",
       "      <td>No</td>\n",
       "      <td>No</td>\n",
       "    </tr>\n",
       "    <tr>\n",
       "      <th>3</th>\n",
       "      <td>7795-CFOCW</td>\n",
       "      <td>DSL</td>\n",
       "      <td>Yes</td>\n",
       "      <td>No</td>\n",
       "      <td>Yes</td>\n",
       "      <td>Yes</td>\n",
       "      <td>No</td>\n",
       "      <td>No</td>\n",
       "    </tr>\n",
       "    <tr>\n",
       "      <th>4</th>\n",
       "      <td>9237-HQITU</td>\n",
       "      <td>Fiber optic</td>\n",
       "      <td>No</td>\n",
       "      <td>No</td>\n",
       "      <td>No</td>\n",
       "      <td>No</td>\n",
       "      <td>No</td>\n",
       "      <td>No</td>\n",
       "    </tr>\n",
       "  </tbody>\n",
       "</table>\n",
       "</div>"
      ],
      "text/plain": [
       "   customerID InternetService OnlineSecurity OnlineBackup DeviceProtection  \\\n",
       "0  7590-VHVEG             DSL             No          Yes               No   \n",
       "1  5575-GNVDE             DSL            Yes           No              Yes   \n",
       "2  3668-QPYBK             DSL            Yes          Yes               No   \n",
       "3  7795-CFOCW             DSL            Yes           No              Yes   \n",
       "4  9237-HQITU     Fiber optic             No           No               No   \n",
       "\n",
       "  TechSupport StreamingTV StreamingMovies  \n",
       "0          No          No              No  \n",
       "1          No          No              No  \n",
       "2          No          No              No  \n",
       "3         Yes          No              No  \n",
       "4          No          No              No  "
      ]
     },
     "metadata": {},
     "output_type": "display_data"
    },
    {
     "data": {
      "text/html": [
       "<div>\n",
       "<style scoped>\n",
       "    .dataframe tbody tr th:only-of-type {\n",
       "        vertical-align: middle;\n",
       "    }\n",
       "\n",
       "    .dataframe tbody tr th {\n",
       "        vertical-align: top;\n",
       "    }\n",
       "\n",
       "    .dataframe thead th {\n",
       "        text-align: right;\n",
       "    }\n",
       "</style>\n",
       "<table border=\"1\" class=\"dataframe\">\n",
       "  <thead>\n",
       "    <tr style=\"text-align: right;\">\n",
       "      <th></th>\n",
       "      <th>customerID</th>\n",
       "      <th>InternetService</th>\n",
       "      <th>OnlineSecurity</th>\n",
       "      <th>OnlineBackup</th>\n",
       "      <th>DeviceProtection</th>\n",
       "      <th>TechSupport</th>\n",
       "      <th>StreamingTV</th>\n",
       "      <th>StreamingMovies</th>\n",
       "    </tr>\n",
       "  </thead>\n",
       "  <tbody>\n",
       "    <tr>\n",
       "      <th>count</th>\n",
       "      <td>5517</td>\n",
       "      <td>5517</td>\n",
       "      <td>5517</td>\n",
       "      <td>5517</td>\n",
       "      <td>5517</td>\n",
       "      <td>5517</td>\n",
       "      <td>5517</td>\n",
       "      <td>5517</td>\n",
       "    </tr>\n",
       "    <tr>\n",
       "      <th>unique</th>\n",
       "      <td>5517</td>\n",
       "      <td>2</td>\n",
       "      <td>2</td>\n",
       "      <td>2</td>\n",
       "      <td>2</td>\n",
       "      <td>2</td>\n",
       "      <td>2</td>\n",
       "      <td>2</td>\n",
       "    </tr>\n",
       "    <tr>\n",
       "      <th>top</th>\n",
       "      <td>7590-VHVEG</td>\n",
       "      <td>Fiber optic</td>\n",
       "      <td>No</td>\n",
       "      <td>No</td>\n",
       "      <td>No</td>\n",
       "      <td>No</td>\n",
       "      <td>No</td>\n",
       "      <td>No</td>\n",
       "    </tr>\n",
       "    <tr>\n",
       "      <th>freq</th>\n",
       "      <td>1</td>\n",
       "      <td>3096</td>\n",
       "      <td>3498</td>\n",
       "      <td>3088</td>\n",
       "      <td>3095</td>\n",
       "      <td>3473</td>\n",
       "      <td>2810</td>\n",
       "      <td>2785</td>\n",
       "    </tr>\n",
       "  </tbody>\n",
       "</table>\n",
       "</div>"
      ],
      "text/plain": [
       "        customerID InternetService OnlineSecurity OnlineBackup  \\\n",
       "count         5517            5517           5517         5517   \n",
       "unique        5517               2              2            2   \n",
       "top     7590-VHVEG     Fiber optic             No           No   \n",
       "freq             1            3096           3498         3088   \n",
       "\n",
       "       DeviceProtection TechSupport StreamingTV StreamingMovies  \n",
       "count              5517        5517        5517            5517  \n",
       "unique                2           2           2               2  \n",
       "top                  No          No          No              No  \n",
       "freq               3095        3473        2810            2785  "
      ]
     },
     "metadata": {},
     "output_type": "display_data"
    },
    {
     "name": "stdout",
     "output_type": "stream",
     "text": [
      "Уникальных customerID: 5517\n",
      "Явные дубли: 0\n",
      "Уникальные InternetService: ['DSL' 'Fiber optic']\n",
      "Уникальные OnlineSecurity: ['No' 'Yes']\n"
     ]
    }
   ],
   "source": [
    "# первичное знакомство с данными internet.csv — информация об интернет-услугах;\n",
    "print('Информация по файлу internet.csv — информация об интернет-услугах:')\n",
    "data_internet.info()\n",
    "display(data_internet.head())\n",
    "display(data_internet.describe())\n",
    "print('Уникальных customerID:', len(data_internet['customerID'].unique()))\n",
    "print('Явные дубли:', data_internet.duplicated().sum())\n",
    "print('Уникальные InternetService:', data_internet['InternetService'].unique())\n",
    "print('Уникальные OnlineSecurity:', data_internet['OnlineSecurity'].unique())"
   ]
  },
  {
   "cell_type": "markdown",
   "id": "53140bb8",
   "metadata": {},
   "source": [
    "### 2.1.3. Предварительные выводы по internet.csv:\n",
    "1. Пропуски отсутствуют\n",
    "2. Явные дубли отсутствуют\n",
    "3. Наименования столбцов информативные, но для дальнейшей работы их надо привести к правильному формату\n",
    "4. Не все пользователи пользуются услугами Интернет\n",
    "5. Столбцы с Yes/No имеют булевый смысл и их желательно перевести в числовой формат 1/0"
   ]
  },
  {
   "cell_type": "code",
   "execution_count": 9,
   "id": "ae30993d",
   "metadata": {},
   "outputs": [
    {
     "name": "stdout",
     "output_type": "stream",
     "text": [
      "Информация по файлу phone.csv — информация об услугах телефонии:\n",
      "<class 'pandas.core.frame.DataFrame'>\n",
      "RangeIndex: 6361 entries, 0 to 6360\n",
      "Data columns (total 2 columns):\n",
      " #   Column         Non-Null Count  Dtype \n",
      "---  ------         --------------  ----- \n",
      " 0   customerID     6361 non-null   object\n",
      " 1   MultipleLines  6361 non-null   object\n",
      "dtypes: object(2)\n",
      "memory usage: 99.5+ KB\n"
     ]
    },
    {
     "data": {
      "text/html": [
       "<div>\n",
       "<style scoped>\n",
       "    .dataframe tbody tr th:only-of-type {\n",
       "        vertical-align: middle;\n",
       "    }\n",
       "\n",
       "    .dataframe tbody tr th {\n",
       "        vertical-align: top;\n",
       "    }\n",
       "\n",
       "    .dataframe thead th {\n",
       "        text-align: right;\n",
       "    }\n",
       "</style>\n",
       "<table border=\"1\" class=\"dataframe\">\n",
       "  <thead>\n",
       "    <tr style=\"text-align: right;\">\n",
       "      <th></th>\n",
       "      <th>customerID</th>\n",
       "      <th>MultipleLines</th>\n",
       "    </tr>\n",
       "  </thead>\n",
       "  <tbody>\n",
       "    <tr>\n",
       "      <th>0</th>\n",
       "      <td>5575-GNVDE</td>\n",
       "      <td>No</td>\n",
       "    </tr>\n",
       "    <tr>\n",
       "      <th>1</th>\n",
       "      <td>3668-QPYBK</td>\n",
       "      <td>No</td>\n",
       "    </tr>\n",
       "    <tr>\n",
       "      <th>2</th>\n",
       "      <td>9237-HQITU</td>\n",
       "      <td>No</td>\n",
       "    </tr>\n",
       "    <tr>\n",
       "      <th>3</th>\n",
       "      <td>9305-CDSKC</td>\n",
       "      <td>Yes</td>\n",
       "    </tr>\n",
       "    <tr>\n",
       "      <th>4</th>\n",
       "      <td>1452-KIOVK</td>\n",
       "      <td>Yes</td>\n",
       "    </tr>\n",
       "  </tbody>\n",
       "</table>\n",
       "</div>"
      ],
      "text/plain": [
       "   customerID MultipleLines\n",
       "0  5575-GNVDE            No\n",
       "1  3668-QPYBK            No\n",
       "2  9237-HQITU            No\n",
       "3  9305-CDSKC           Yes\n",
       "4  1452-KIOVK           Yes"
      ]
     },
     "metadata": {},
     "output_type": "display_data"
    },
    {
     "data": {
      "text/html": [
       "<div>\n",
       "<style scoped>\n",
       "    .dataframe tbody tr th:only-of-type {\n",
       "        vertical-align: middle;\n",
       "    }\n",
       "\n",
       "    .dataframe tbody tr th {\n",
       "        vertical-align: top;\n",
       "    }\n",
       "\n",
       "    .dataframe thead th {\n",
       "        text-align: right;\n",
       "    }\n",
       "</style>\n",
       "<table border=\"1\" class=\"dataframe\">\n",
       "  <thead>\n",
       "    <tr style=\"text-align: right;\">\n",
       "      <th></th>\n",
       "      <th>customerID</th>\n",
       "      <th>MultipleLines</th>\n",
       "    </tr>\n",
       "  </thead>\n",
       "  <tbody>\n",
       "    <tr>\n",
       "      <th>count</th>\n",
       "      <td>6361</td>\n",
       "      <td>6361</td>\n",
       "    </tr>\n",
       "    <tr>\n",
       "      <th>unique</th>\n",
       "      <td>6361</td>\n",
       "      <td>2</td>\n",
       "    </tr>\n",
       "    <tr>\n",
       "      <th>top</th>\n",
       "      <td>5575-GNVDE</td>\n",
       "      <td>No</td>\n",
       "    </tr>\n",
       "    <tr>\n",
       "      <th>freq</th>\n",
       "      <td>1</td>\n",
       "      <td>3390</td>\n",
       "    </tr>\n",
       "  </tbody>\n",
       "</table>\n",
       "</div>"
      ],
      "text/plain": [
       "        customerID MultipleLines\n",
       "count         6361          6361\n",
       "unique        6361             2\n",
       "top     5575-GNVDE            No\n",
       "freq             1          3390"
      ]
     },
     "metadata": {},
     "output_type": "display_data"
    },
    {
     "name": "stdout",
     "output_type": "stream",
     "text": [
      "Уникальных customerID: 6361\n",
      "Явные дубли: 0\n"
     ]
    }
   ],
   "source": [
    "# первичное знакомство с данными phone.csv — информация об услугах телефонии;\n",
    "print('Информация по файлу phone.csv — информация об услугах телефонии:')\n",
    "data_phone.info()\n",
    "display(data_phone.head())\n",
    "display(data_phone.describe())\n",
    "print('Уникальных customerID:', len(data_phone['customerID'].unique()))\n",
    "print('Явные дубли:', data_phone.duplicated().sum())"
   ]
  },
  {
   "cell_type": "markdown",
   "id": "e98ef6a7",
   "metadata": {},
   "source": [
    "### 2.1.4. Предварительные выводы по phone.csv:\n",
    "1. Пропуски отсутствуют\n",
    "2. Явные дубли отсутствуют\n",
    "3. Наименования столбцов информативные, но для дальнейшей работы их надо привести к правильному формату\n",
    "4. Не все пользователи пользуются услугами телефонии\n",
    "5. Столбцы с Yes/No имеют булевый смысл и их желательно перевести в числовой формат 1/0"
   ]
  },
  {
   "cell_type": "markdown",
   "id": "7a8f40be",
   "metadata": {},
   "source": [
    "## 2.2. Предобработка данных\n",
    "1. Заменить наименования столбцов на корректные\n",
    "2. Конвертировать время из текста в формат даты\n",
    "3. Привести булевые данные к числовому формату\n",
    "4. Разложить категориальные значения по разным столбцам\n",
    "5. Сформировать целевой признак\n",
    "6. Объединить все датасеты в один по customerID\n",
    "7. Финальная обработка"
   ]
  },
  {
   "cell_type": "markdown",
   "id": "d27d7053",
   "metadata": {},
   "source": [
    "### 2.2.1. Предобработка data_contract"
   ]
  },
  {
   "cell_type": "code",
   "execution_count": 10,
   "id": "a55e1218",
   "metadata": {},
   "outputs": [
    {
     "data": {
      "text/html": [
       "<div>\n",
       "<style scoped>\n",
       "    .dataframe tbody tr th:only-of-type {\n",
       "        vertical-align: middle;\n",
       "    }\n",
       "\n",
       "    .dataframe tbody tr th {\n",
       "        vertical-align: top;\n",
       "    }\n",
       "\n",
       "    .dataframe thead th {\n",
       "        text-align: right;\n",
       "    }\n",
       "</style>\n",
       "<table border=\"1\" class=\"dataframe\">\n",
       "  <thead>\n",
       "    <tr style=\"text-align: right;\">\n",
       "      <th></th>\n",
       "      <th>customer_id</th>\n",
       "      <th>begin_date</th>\n",
       "      <th>end_date</th>\n",
       "      <th>type</th>\n",
       "      <th>paperless_billing</th>\n",
       "      <th>payment_method</th>\n",
       "      <th>monthly_charges</th>\n",
       "      <th>total_charges</th>\n",
       "      <th>bank_transfer_automatic</th>\n",
       "      <th>credit_card_automatic</th>\n",
       "      <th>electronic_check</th>\n",
       "      <th>mailed_check</th>\n",
       "      <th>month_-to_-month</th>\n",
       "      <th>one_year</th>\n",
       "      <th>two_year</th>\n",
       "      <th>client_left</th>\n",
       "      <th>duration</th>\n",
       "    </tr>\n",
       "  </thead>\n",
       "  <tbody>\n",
       "    <tr>\n",
       "      <th>0</th>\n",
       "      <td>7590-VHVEG</td>\n",
       "      <td>2020-01-01</td>\n",
       "      <td>2020-02-01</td>\n",
       "      <td>Month-to-month</td>\n",
       "      <td>1</td>\n",
       "      <td>Electronic check</td>\n",
       "      <td>29.85</td>\n",
       "      <td>29.85</td>\n",
       "      <td>0</td>\n",
       "      <td>0</td>\n",
       "      <td>1</td>\n",
       "      <td>0</td>\n",
       "      <td>1</td>\n",
       "      <td>0</td>\n",
       "      <td>0</td>\n",
       "      <td>0</td>\n",
       "      <td>31</td>\n",
       "    </tr>\n",
       "    <tr>\n",
       "      <th>1</th>\n",
       "      <td>5575-GNVDE</td>\n",
       "      <td>2017-04-01</td>\n",
       "      <td>2020-02-01</td>\n",
       "      <td>One year</td>\n",
       "      <td>0</td>\n",
       "      <td>Mailed check</td>\n",
       "      <td>56.95</td>\n",
       "      <td>1889.5</td>\n",
       "      <td>0</td>\n",
       "      <td>0</td>\n",
       "      <td>0</td>\n",
       "      <td>1</td>\n",
       "      <td>0</td>\n",
       "      <td>1</td>\n",
       "      <td>0</td>\n",
       "      <td>0</td>\n",
       "      <td>1036</td>\n",
       "    </tr>\n",
       "    <tr>\n",
       "      <th>2</th>\n",
       "      <td>3668-QPYBK</td>\n",
       "      <td>2019-10-01</td>\n",
       "      <td>2019-12-01</td>\n",
       "      <td>Month-to-month</td>\n",
       "      <td>1</td>\n",
       "      <td>Mailed check</td>\n",
       "      <td>53.85</td>\n",
       "      <td>108.15</td>\n",
       "      <td>0</td>\n",
       "      <td>0</td>\n",
       "      <td>0</td>\n",
       "      <td>1</td>\n",
       "      <td>1</td>\n",
       "      <td>0</td>\n",
       "      <td>0</td>\n",
       "      <td>1</td>\n",
       "      <td>61</td>\n",
       "    </tr>\n",
       "    <tr>\n",
       "      <th>3</th>\n",
       "      <td>7795-CFOCW</td>\n",
       "      <td>2016-05-01</td>\n",
       "      <td>2020-02-01</td>\n",
       "      <td>One year</td>\n",
       "      <td>0</td>\n",
       "      <td>Bank transfer (automatic)</td>\n",
       "      <td>42.30</td>\n",
       "      <td>1840.75</td>\n",
       "      <td>1</td>\n",
       "      <td>0</td>\n",
       "      <td>0</td>\n",
       "      <td>0</td>\n",
       "      <td>0</td>\n",
       "      <td>1</td>\n",
       "      <td>0</td>\n",
       "      <td>0</td>\n",
       "      <td>1371</td>\n",
       "    </tr>\n",
       "    <tr>\n",
       "      <th>4</th>\n",
       "      <td>9237-HQITU</td>\n",
       "      <td>2019-09-01</td>\n",
       "      <td>2019-11-01</td>\n",
       "      <td>Month-to-month</td>\n",
       "      <td>1</td>\n",
       "      <td>Electronic check</td>\n",
       "      <td>70.70</td>\n",
       "      <td>151.65</td>\n",
       "      <td>0</td>\n",
       "      <td>0</td>\n",
       "      <td>1</td>\n",
       "      <td>0</td>\n",
       "      <td>1</td>\n",
       "      <td>0</td>\n",
       "      <td>0</td>\n",
       "      <td>1</td>\n",
       "      <td>61</td>\n",
       "    </tr>\n",
       "  </tbody>\n",
       "</table>\n",
       "</div>"
      ],
      "text/plain": [
       "  customer_id begin_date   end_date            type  paperless_billing  \\\n",
       "0  7590-VHVEG 2020-01-01 2020-02-01  Month-to-month                  1   \n",
       "1  5575-GNVDE 2017-04-01 2020-02-01        One year                  0   \n",
       "2  3668-QPYBK 2019-10-01 2019-12-01  Month-to-month                  1   \n",
       "3  7795-CFOCW 2016-05-01 2020-02-01        One year                  0   \n",
       "4  9237-HQITU 2019-09-01 2019-11-01  Month-to-month                  1   \n",
       "\n",
       "              payment_method  monthly_charges total_charges  \\\n",
       "0           Electronic check            29.85         29.85   \n",
       "1               Mailed check            56.95        1889.5   \n",
       "2               Mailed check            53.85        108.15   \n",
       "3  Bank transfer (automatic)            42.30       1840.75   \n",
       "4           Electronic check            70.70        151.65   \n",
       "\n",
       "   bank_transfer_automatic  credit_card_automatic  electronic_check  \\\n",
       "0                        0                      0                 1   \n",
       "1                        0                      0                 0   \n",
       "2                        0                      0                 0   \n",
       "3                        1                      0                 0   \n",
       "4                        0                      0                 1   \n",
       "\n",
       "   mailed_check  month_-to_-month  one_year  two_year  client_left  duration  \n",
       "0             0                 1         0         0            0        31  \n",
       "1             1                 0         1         0            0      1036  \n",
       "2             1                 1         0         0            1        61  \n",
       "3             0                 0         1         0            0      1371  \n",
       "4             0                 1         0         0            1        61  "
      ]
     },
     "metadata": {},
     "output_type": "display_data"
    },
    {
     "name": "stdout",
     "output_type": "stream",
     "text": [
      "<class 'pandas.core.frame.DataFrame'>\n",
      "RangeIndex: 7043 entries, 0 to 7042\n",
      "Data columns (total 17 columns):\n",
      " #   Column                   Non-Null Count  Dtype         \n",
      "---  ------                   --------------  -----         \n",
      " 0   customer_id              7043 non-null   object        \n",
      " 1   begin_date               7043 non-null   datetime64[ns]\n",
      " 2   end_date                 7043 non-null   datetime64[ns]\n",
      " 3   type                     7043 non-null   object        \n",
      " 4   paperless_billing        7043 non-null   int32         \n",
      " 5   payment_method           7043 non-null   object        \n",
      " 6   monthly_charges          7043 non-null   float64       \n",
      " 7   total_charges            7043 non-null   object        \n",
      " 8   bank_transfer_automatic  7043 non-null   uint8         \n",
      " 9   credit_card_automatic    7043 non-null   uint8         \n",
      " 10  electronic_check         7043 non-null   uint8         \n",
      " 11  mailed_check             7043 non-null   uint8         \n",
      " 12  month_-to_-month         7043 non-null   uint8         \n",
      " 13  one_year                 7043 non-null   uint8         \n",
      " 14  two_year                 7043 non-null   uint8         \n",
      " 15  client_left              7043 non-null   int32         \n",
      " 16  duration                 7043 non-null   int64         \n",
      "dtypes: datetime64[ns](2), float64(1), int32(2), int64(1), object(4), uint8(7)\n",
      "memory usage: 543.5+ KB\n"
     ]
    },
    {
     "data": {
      "text/html": [
       "<div>\n",
       "<style scoped>\n",
       "    .dataframe tbody tr th:only-of-type {\n",
       "        vertical-align: middle;\n",
       "    }\n",
       "\n",
       "    .dataframe tbody tr th {\n",
       "        vertical-align: top;\n",
       "    }\n",
       "\n",
       "    .dataframe thead th {\n",
       "        text-align: right;\n",
       "    }\n",
       "</style>\n",
       "<table border=\"1\" class=\"dataframe\">\n",
       "  <thead>\n",
       "    <tr style=\"text-align: right;\">\n",
       "      <th></th>\n",
       "      <th>paperless_billing</th>\n",
       "      <th>monthly_charges</th>\n",
       "      <th>bank_transfer_automatic</th>\n",
       "      <th>credit_card_automatic</th>\n",
       "      <th>electronic_check</th>\n",
       "      <th>mailed_check</th>\n",
       "      <th>month_-to_-month</th>\n",
       "      <th>one_year</th>\n",
       "      <th>two_year</th>\n",
       "      <th>client_left</th>\n",
       "      <th>duration</th>\n",
       "    </tr>\n",
       "  </thead>\n",
       "  <tbody>\n",
       "    <tr>\n",
       "      <th>count</th>\n",
       "      <td>7043.000000</td>\n",
       "      <td>7043.000000</td>\n",
       "      <td>7043.000000</td>\n",
       "      <td>7043.000000</td>\n",
       "      <td>7043.000000</td>\n",
       "      <td>7043.000000</td>\n",
       "      <td>7043.000000</td>\n",
       "      <td>7043.000000</td>\n",
       "      <td>7043.000000</td>\n",
       "      <td>7043.000000</td>\n",
       "      <td>7043.000000</td>\n",
       "    </tr>\n",
       "    <tr>\n",
       "      <th>mean</th>\n",
       "      <td>0.592219</td>\n",
       "      <td>64.761692</td>\n",
       "      <td>0.219225</td>\n",
       "      <td>0.216101</td>\n",
       "      <td>0.335794</td>\n",
       "      <td>0.228880</td>\n",
       "      <td>0.550192</td>\n",
       "      <td>0.209144</td>\n",
       "      <td>0.240664</td>\n",
       "      <td>0.265370</td>\n",
       "      <td>985.996166</td>\n",
       "    </tr>\n",
       "    <tr>\n",
       "      <th>std</th>\n",
       "      <td>0.491457</td>\n",
       "      <td>30.090047</td>\n",
       "      <td>0.413751</td>\n",
       "      <td>0.411613</td>\n",
       "      <td>0.472301</td>\n",
       "      <td>0.420141</td>\n",
       "      <td>0.497510</td>\n",
       "      <td>0.406726</td>\n",
       "      <td>0.427517</td>\n",
       "      <td>0.441561</td>\n",
       "      <td>747.587844</td>\n",
       "    </tr>\n",
       "    <tr>\n",
       "      <th>min</th>\n",
       "      <td>0.000000</td>\n",
       "      <td>18.250000</td>\n",
       "      <td>0.000000</td>\n",
       "      <td>0.000000</td>\n",
       "      <td>0.000000</td>\n",
       "      <td>0.000000</td>\n",
       "      <td>0.000000</td>\n",
       "      <td>0.000000</td>\n",
       "      <td>0.000000</td>\n",
       "      <td>0.000000</td>\n",
       "      <td>0.000000</td>\n",
       "    </tr>\n",
       "    <tr>\n",
       "      <th>25%</th>\n",
       "      <td>0.000000</td>\n",
       "      <td>35.500000</td>\n",
       "      <td>0.000000</td>\n",
       "      <td>0.000000</td>\n",
       "      <td>0.000000</td>\n",
       "      <td>0.000000</td>\n",
       "      <td>0.000000</td>\n",
       "      <td>0.000000</td>\n",
       "      <td>0.000000</td>\n",
       "      <td>0.000000</td>\n",
       "      <td>273.000000</td>\n",
       "    </tr>\n",
       "    <tr>\n",
       "      <th>50%</th>\n",
       "      <td>1.000000</td>\n",
       "      <td>70.350000</td>\n",
       "      <td>0.000000</td>\n",
       "      <td>0.000000</td>\n",
       "      <td>0.000000</td>\n",
       "      <td>0.000000</td>\n",
       "      <td>1.000000</td>\n",
       "      <td>0.000000</td>\n",
       "      <td>0.000000</td>\n",
       "      <td>0.000000</td>\n",
       "      <td>883.000000</td>\n",
       "    </tr>\n",
       "    <tr>\n",
       "      <th>75%</th>\n",
       "      <td>1.000000</td>\n",
       "      <td>89.850000</td>\n",
       "      <td>0.000000</td>\n",
       "      <td>0.000000</td>\n",
       "      <td>1.000000</td>\n",
       "      <td>0.000000</td>\n",
       "      <td>1.000000</td>\n",
       "      <td>0.000000</td>\n",
       "      <td>0.000000</td>\n",
       "      <td>1.000000</td>\n",
       "      <td>1676.000000</td>\n",
       "    </tr>\n",
       "    <tr>\n",
       "      <th>max</th>\n",
       "      <td>1.000000</td>\n",
       "      <td>118.750000</td>\n",
       "      <td>1.000000</td>\n",
       "      <td>1.000000</td>\n",
       "      <td>1.000000</td>\n",
       "      <td>1.000000</td>\n",
       "      <td>1.000000</td>\n",
       "      <td>1.000000</td>\n",
       "      <td>1.000000</td>\n",
       "      <td>1.000000</td>\n",
       "      <td>2191.000000</td>\n",
       "    </tr>\n",
       "  </tbody>\n",
       "</table>\n",
       "</div>"
      ],
      "text/plain": [
       "       paperless_billing  monthly_charges  bank_transfer_automatic  \\\n",
       "count        7043.000000      7043.000000              7043.000000   \n",
       "mean            0.592219        64.761692                 0.219225   \n",
       "std             0.491457        30.090047                 0.413751   \n",
       "min             0.000000        18.250000                 0.000000   \n",
       "25%             0.000000        35.500000                 0.000000   \n",
       "50%             1.000000        70.350000                 0.000000   \n",
       "75%             1.000000        89.850000                 0.000000   \n",
       "max             1.000000       118.750000                 1.000000   \n",
       "\n",
       "       credit_card_automatic  electronic_check  mailed_check  \\\n",
       "count            7043.000000       7043.000000   7043.000000   \n",
       "mean                0.216101          0.335794      0.228880   \n",
       "std                 0.411613          0.472301      0.420141   \n",
       "min                 0.000000          0.000000      0.000000   \n",
       "25%                 0.000000          0.000000      0.000000   \n",
       "50%                 0.000000          0.000000      0.000000   \n",
       "75%                 0.000000          1.000000      0.000000   \n",
       "max                 1.000000          1.000000      1.000000   \n",
       "\n",
       "       month_-to_-month     one_year     two_year  client_left     duration  \n",
       "count       7043.000000  7043.000000  7043.000000  7043.000000  7043.000000  \n",
       "mean           0.550192     0.209144     0.240664     0.265370   985.996166  \n",
       "std            0.497510     0.406726     0.427517     0.441561   747.587844  \n",
       "min            0.000000     0.000000     0.000000     0.000000     0.000000  \n",
       "25%            0.000000     0.000000     0.000000     0.000000   273.000000  \n",
       "50%            1.000000     0.000000     0.000000     0.000000   883.000000  \n",
       "75%            1.000000     0.000000     0.000000     1.000000  1676.000000  \n",
       "max            1.000000     1.000000     1.000000     1.000000  2191.000000  "
      ]
     },
     "metadata": {},
     "output_type": "display_data"
    },
    {
     "name": "stdout",
     "output_type": "stream",
     "text": [
      "Размер data_contract: (7043, 17)\n"
     ]
    }
   ],
   "source": [
    "# data_contract\n",
    "# предыдущие названия столбцов: customerID\tBeginDate\tEndDate\tType\tPaperlessBilling\tPaymentMethod\tMonthlyCharges\tTotalCharges\n",
    "\n",
    "# Расклад метода платежей и типов контрактов по разным столбцам\n",
    "payment_method = pd.get_dummies(data_contract['PaymentMethod'], drop_first=DROP_FIRST) \n",
    "contract_type = pd.get_dummies(data_contract['Type'], drop_first=DROP_FIRST) \n",
    "\n",
    "data_contract = pd.merge(data_contract, payment_method, how ='outer', left_index=True, right_index=True)\n",
    "data_contract = pd.merge(data_contract, contract_type, how ='outer', left_index=True, right_index=True)\n",
    "\n",
    "del payment_method\n",
    "del contract_type\n",
    "\n",
    "# автоматизируем переименования\n",
    "column_names = snake_name(list(data_contract.columns))    \n",
    "data_contract.set_axis(column_names, axis = 'columns',inplace = True) \n",
    "\n",
    "# приведение столбцов с Yes/No в числовой формат 1/0\n",
    "data_contract['paperless_billing'] = np.where(data_contract['paperless_billing']=='Yes', 1, 0)\n",
    "\n",
    "# c total_charges надо разобраться позднее - после объединения всего датафрейма\n",
    "\n",
    "# формирование целевого признака\n",
    "data_contract['client_left'] = np.where(data_contract['end_date']=='No', 0, 1)\n",
    "\n",
    "# преобразование даты в правильный формат\n",
    "data_contract['begin_date'] = pd.to_datetime(data_contract['begin_date'], format='%Y.%m.%d')\n",
    "data_contract['end_date'] = np.where(data_contract['end_date']=='No', END_DATE, data_contract['end_date'])\n",
    "data_contract['end_date'] = pd.to_datetime(data_contract['end_date'], format='%Y.%m.%d')\n",
    "data_contract['duration'] = data_contract['end_date'] - data_contract['begin_date']\n",
    "data_contract['duration'] = data_contract['duration'].astype('timedelta64[D]').astype(np.int64) # длительность контракта в днях\n",
    "\n",
    "# проверка результатов\n",
    "display(data_contract.head())\n",
    "data_contract.info()\n",
    "display(data_contract.describe())\n",
    "print('Размер data_contract:', data_contract.shape)"
   ]
  },
  {
   "cell_type": "markdown",
   "id": "241f2a3c",
   "metadata": {},
   "source": [
    "### Примечание:\n",
    "На данный момент ушло 26.5% клиентов. Это значит, что для баланса классов надо бы увеличить эту выборку в 2-3 раза."
   ]
  },
  {
   "cell_type": "markdown",
   "id": "88a00898",
   "metadata": {},
   "source": [
    "### 2.2.2. Предобработка data_personal"
   ]
  },
  {
   "cell_type": "code",
   "execution_count": 11,
   "id": "efdb7545",
   "metadata": {},
   "outputs": [
    {
     "data": {
      "text/html": [
       "<div>\n",
       "<style scoped>\n",
       "    .dataframe tbody tr th:only-of-type {\n",
       "        vertical-align: middle;\n",
       "    }\n",
       "\n",
       "    .dataframe tbody tr th {\n",
       "        vertical-align: top;\n",
       "    }\n",
       "\n",
       "    .dataframe thead th {\n",
       "        text-align: right;\n",
       "    }\n",
       "</style>\n",
       "<table border=\"1\" class=\"dataframe\">\n",
       "  <thead>\n",
       "    <tr style=\"text-align: right;\">\n",
       "      <th></th>\n",
       "      <th>customer_id</th>\n",
       "      <th>gender</th>\n",
       "      <th>senior_citizen</th>\n",
       "      <th>partner</th>\n",
       "      <th>dependents</th>\n",
       "      <th>female</th>\n",
       "      <th>male</th>\n",
       "    </tr>\n",
       "  </thead>\n",
       "  <tbody>\n",
       "    <tr>\n",
       "      <th>0</th>\n",
       "      <td>7590-VHVEG</td>\n",
       "      <td>Female</td>\n",
       "      <td>0</td>\n",
       "      <td>1</td>\n",
       "      <td>0</td>\n",
       "      <td>1</td>\n",
       "      <td>0</td>\n",
       "    </tr>\n",
       "    <tr>\n",
       "      <th>1</th>\n",
       "      <td>5575-GNVDE</td>\n",
       "      <td>Male</td>\n",
       "      <td>0</td>\n",
       "      <td>0</td>\n",
       "      <td>0</td>\n",
       "      <td>0</td>\n",
       "      <td>1</td>\n",
       "    </tr>\n",
       "    <tr>\n",
       "      <th>2</th>\n",
       "      <td>3668-QPYBK</td>\n",
       "      <td>Male</td>\n",
       "      <td>0</td>\n",
       "      <td>0</td>\n",
       "      <td>0</td>\n",
       "      <td>0</td>\n",
       "      <td>1</td>\n",
       "    </tr>\n",
       "    <tr>\n",
       "      <th>3</th>\n",
       "      <td>7795-CFOCW</td>\n",
       "      <td>Male</td>\n",
       "      <td>0</td>\n",
       "      <td>0</td>\n",
       "      <td>0</td>\n",
       "      <td>0</td>\n",
       "      <td>1</td>\n",
       "    </tr>\n",
       "    <tr>\n",
       "      <th>4</th>\n",
       "      <td>9237-HQITU</td>\n",
       "      <td>Female</td>\n",
       "      <td>0</td>\n",
       "      <td>0</td>\n",
       "      <td>0</td>\n",
       "      <td>1</td>\n",
       "      <td>0</td>\n",
       "    </tr>\n",
       "  </tbody>\n",
       "</table>\n",
       "</div>"
      ],
      "text/plain": [
       "  customer_id  gender  senior_citizen  partner  dependents  female  male\n",
       "0  7590-VHVEG  Female               0        1           0       1     0\n",
       "1  5575-GNVDE    Male               0        0           0       0     1\n",
       "2  3668-QPYBK    Male               0        0           0       0     1\n",
       "3  7795-CFOCW    Male               0        0           0       0     1\n",
       "4  9237-HQITU  Female               0        0           0       1     0"
      ]
     },
     "metadata": {},
     "output_type": "display_data"
    },
    {
     "name": "stdout",
     "output_type": "stream",
     "text": [
      "<class 'pandas.core.frame.DataFrame'>\n",
      "RangeIndex: 7043 entries, 0 to 7042\n",
      "Data columns (total 7 columns):\n",
      " #   Column          Non-Null Count  Dtype \n",
      "---  ------          --------------  ----- \n",
      " 0   customer_id     7043 non-null   object\n",
      " 1   gender          7043 non-null   object\n",
      " 2   senior_citizen  7043 non-null   int64 \n",
      " 3   partner         7043 non-null   int32 \n",
      " 4   dependents      7043 non-null   int32 \n",
      " 5   female          7043 non-null   uint8 \n",
      " 6   male            7043 non-null   uint8 \n",
      "dtypes: int32(2), int64(1), object(2), uint8(2)\n",
      "memory usage: 234.0+ KB\n",
      "Размер data_personal: (7043, 7)\n"
     ]
    }
   ],
   "source": [
    "# data_personal\n",
    "# Расклад признака пола по разным столбцам\n",
    "gender = pd.get_dummies(data_personal['gender'], drop_first=DROP_FIRST)\n",
    "\n",
    "data_personal = pd.merge(data_personal, gender, how ='outer', left_index=True, right_index=True)\n",
    "\n",
    "del gender\n",
    "\n",
    "# автоматизируем переименования\n",
    "column_names = snake_name(list(data_personal.columns))    \n",
    "data_personal.set_axis(column_names, axis = 'columns',inplace = True) \n",
    "    \n",
    "# приведение столбцов с Yes/No в числовой формат 1/0\n",
    "data_personal['partner'] = np.where(data_personal['partner']=='Yes', 1, 0)\n",
    "data_personal['dependents'] = np.where(data_personal['dependents']=='Yes', 1, 0)\n",
    "\n",
    "# проверка результатов\n",
    "display(data_personal.head())\n",
    "data_personal.info()\n",
    "print('Размер data_personal:', data_personal.shape)"
   ]
  },
  {
   "cell_type": "markdown",
   "id": "87e26321",
   "metadata": {},
   "source": [
    "### 2.2.3. Предобработка data_internet"
   ]
  },
  {
   "cell_type": "code",
   "execution_count": 12,
   "id": "59af5a1e",
   "metadata": {},
   "outputs": [
    {
     "data": {
      "text/html": [
       "<div>\n",
       "<style scoped>\n",
       "    .dataframe tbody tr th:only-of-type {\n",
       "        vertical-align: middle;\n",
       "    }\n",
       "\n",
       "    .dataframe tbody tr th {\n",
       "        vertical-align: top;\n",
       "    }\n",
       "\n",
       "    .dataframe thead th {\n",
       "        text-align: right;\n",
       "    }\n",
       "</style>\n",
       "<table border=\"1\" class=\"dataframe\">\n",
       "  <thead>\n",
       "    <tr style=\"text-align: right;\">\n",
       "      <th></th>\n",
       "      <th>customer_id</th>\n",
       "      <th>internet_service</th>\n",
       "      <th>online_security</th>\n",
       "      <th>online_backup</th>\n",
       "      <th>device_protection</th>\n",
       "      <th>tech_support</th>\n",
       "      <th>streaming_tv</th>\n",
       "      <th>streaming_movies</th>\n",
       "      <th>d_sl</th>\n",
       "      <th>fiber_optic</th>\n",
       "      <th>internet</th>\n",
       "    </tr>\n",
       "  </thead>\n",
       "  <tbody>\n",
       "    <tr>\n",
       "      <th>0</th>\n",
       "      <td>7590-VHVEG</td>\n",
       "      <td>DSL</td>\n",
       "      <td>0</td>\n",
       "      <td>1</td>\n",
       "      <td>0</td>\n",
       "      <td>0</td>\n",
       "      <td>0</td>\n",
       "      <td>0</td>\n",
       "      <td>1</td>\n",
       "      <td>0</td>\n",
       "      <td>1</td>\n",
       "    </tr>\n",
       "    <tr>\n",
       "      <th>1</th>\n",
       "      <td>5575-GNVDE</td>\n",
       "      <td>DSL</td>\n",
       "      <td>1</td>\n",
       "      <td>0</td>\n",
       "      <td>1</td>\n",
       "      <td>0</td>\n",
       "      <td>0</td>\n",
       "      <td>0</td>\n",
       "      <td>1</td>\n",
       "      <td>0</td>\n",
       "      <td>1</td>\n",
       "    </tr>\n",
       "    <tr>\n",
       "      <th>2</th>\n",
       "      <td>3668-QPYBK</td>\n",
       "      <td>DSL</td>\n",
       "      <td>1</td>\n",
       "      <td>1</td>\n",
       "      <td>0</td>\n",
       "      <td>0</td>\n",
       "      <td>0</td>\n",
       "      <td>0</td>\n",
       "      <td>1</td>\n",
       "      <td>0</td>\n",
       "      <td>1</td>\n",
       "    </tr>\n",
       "    <tr>\n",
       "      <th>3</th>\n",
       "      <td>7795-CFOCW</td>\n",
       "      <td>DSL</td>\n",
       "      <td>1</td>\n",
       "      <td>0</td>\n",
       "      <td>1</td>\n",
       "      <td>1</td>\n",
       "      <td>0</td>\n",
       "      <td>0</td>\n",
       "      <td>1</td>\n",
       "      <td>0</td>\n",
       "      <td>1</td>\n",
       "    </tr>\n",
       "    <tr>\n",
       "      <th>4</th>\n",
       "      <td>9237-HQITU</td>\n",
       "      <td>Fiber optic</td>\n",
       "      <td>0</td>\n",
       "      <td>0</td>\n",
       "      <td>0</td>\n",
       "      <td>0</td>\n",
       "      <td>0</td>\n",
       "      <td>0</td>\n",
       "      <td>0</td>\n",
       "      <td>1</td>\n",
       "      <td>1</td>\n",
       "    </tr>\n",
       "  </tbody>\n",
       "</table>\n",
       "</div>"
      ],
      "text/plain": [
       "  customer_id internet_service  online_security  online_backup  \\\n",
       "0  7590-VHVEG              DSL                0              1   \n",
       "1  5575-GNVDE              DSL                1              0   \n",
       "2  3668-QPYBK              DSL                1              1   \n",
       "3  7795-CFOCW              DSL                1              0   \n",
       "4  9237-HQITU      Fiber optic                0              0   \n",
       "\n",
       "   device_protection  tech_support  streaming_tv  streaming_movies  d_sl  \\\n",
       "0                  0             0             0                 0     1   \n",
       "1                  1             0             0                 0     1   \n",
       "2                  0             0             0                 0     1   \n",
       "3                  1             1             0                 0     1   \n",
       "4                  0             0             0                 0     0   \n",
       "\n",
       "   fiber_optic  internet  \n",
       "0            0         1  \n",
       "1            0         1  \n",
       "2            0         1  \n",
       "3            0         1  \n",
       "4            1         1  "
      ]
     },
     "metadata": {},
     "output_type": "display_data"
    },
    {
     "name": "stdout",
     "output_type": "stream",
     "text": [
      "<class 'pandas.core.frame.DataFrame'>\n",
      "RangeIndex: 5517 entries, 0 to 5516\n",
      "Data columns (total 11 columns):\n",
      " #   Column             Non-Null Count  Dtype \n",
      "---  ------             --------------  ----- \n",
      " 0   customer_id        5517 non-null   object\n",
      " 1   internet_service   5517 non-null   object\n",
      " 2   online_security    5517 non-null   int32 \n",
      " 3   online_backup      5517 non-null   int32 \n",
      " 4   device_protection  5517 non-null   int32 \n",
      " 5   tech_support       5517 non-null   int32 \n",
      " 6   streaming_tv       5517 non-null   int32 \n",
      " 7   streaming_movies   5517 non-null   int32 \n",
      " 8   d_sl               5517 non-null   uint8 \n",
      " 9   fiber_optic        5517 non-null   uint8 \n",
      " 10  internet           5517 non-null   int64 \n",
      "dtypes: int32(6), int64(1), object(2), uint8(2)\n",
      "memory usage: 269.5+ KB\n",
      "Размер data_internet: (5517, 11)\n"
     ]
    }
   ],
   "source": [
    "# data_internet\n",
    "# Расклад признака подключения по разным столбцам\n",
    "internet_service = pd.get_dummies(data_internet['InternetService'], drop_first=DROP_FIRST)\n",
    "\n",
    "data_internet = pd.merge(data_internet, internet_service, how ='outer', left_index=True, right_index=True)\n",
    "\n",
    "del internet_service\n",
    "# автоматизируем переименования\n",
    "column_names = snake_name(list(data_internet.columns))    \n",
    "data_internet.set_axis(column_names, axis = 'columns',inplace = True) \n",
    "\n",
    "# приведение столбцов с Yes/No в числовой формат 1/0\n",
    "to_do = ['online_security', 'online_backup', 'device_protection', 'tech_support', 'streaming_tv', 'streaming_movies']\n",
    "for cl in to_do:\n",
    "    data_internet[cl] = np.where(data_internet[cl]=='Yes', 1, 0)\n",
    "\n",
    "data_internet['internet'] = 1\n",
    "\n",
    "# проверка результатов\n",
    "display(data_internet.head())\n",
    "data_internet.info()\n",
    "print('Размер data_internet:', data_internet.shape)"
   ]
  },
  {
   "cell_type": "markdown",
   "id": "7983a660",
   "metadata": {},
   "source": [
    "### 2.2.4. Предобработка data_phone"
   ]
  },
  {
   "cell_type": "code",
   "execution_count": 13,
   "id": "ae8a7eed",
   "metadata": {},
   "outputs": [
    {
     "data": {
      "text/html": [
       "<div>\n",
       "<style scoped>\n",
       "    .dataframe tbody tr th:only-of-type {\n",
       "        vertical-align: middle;\n",
       "    }\n",
       "\n",
       "    .dataframe tbody tr th {\n",
       "        vertical-align: top;\n",
       "    }\n",
       "\n",
       "    .dataframe thead th {\n",
       "        text-align: right;\n",
       "    }\n",
       "</style>\n",
       "<table border=\"1\" class=\"dataframe\">\n",
       "  <thead>\n",
       "    <tr style=\"text-align: right;\">\n",
       "      <th></th>\n",
       "      <th>customer_id</th>\n",
       "      <th>multiple_lines</th>\n",
       "      <th>phone</th>\n",
       "    </tr>\n",
       "  </thead>\n",
       "  <tbody>\n",
       "    <tr>\n",
       "      <th>0</th>\n",
       "      <td>5575-GNVDE</td>\n",
       "      <td>0</td>\n",
       "      <td>1</td>\n",
       "    </tr>\n",
       "    <tr>\n",
       "      <th>1</th>\n",
       "      <td>3668-QPYBK</td>\n",
       "      <td>0</td>\n",
       "      <td>1</td>\n",
       "    </tr>\n",
       "    <tr>\n",
       "      <th>2</th>\n",
       "      <td>9237-HQITU</td>\n",
       "      <td>0</td>\n",
       "      <td>1</td>\n",
       "    </tr>\n",
       "    <tr>\n",
       "      <th>3</th>\n",
       "      <td>9305-CDSKC</td>\n",
       "      <td>1</td>\n",
       "      <td>1</td>\n",
       "    </tr>\n",
       "    <tr>\n",
       "      <th>4</th>\n",
       "      <td>1452-KIOVK</td>\n",
       "      <td>1</td>\n",
       "      <td>1</td>\n",
       "    </tr>\n",
       "  </tbody>\n",
       "</table>\n",
       "</div>"
      ],
      "text/plain": [
       "  customer_id  multiple_lines  phone\n",
       "0  5575-GNVDE               0      1\n",
       "1  3668-QPYBK               0      1\n",
       "2  9237-HQITU               0      1\n",
       "3  9305-CDSKC               1      1\n",
       "4  1452-KIOVK               1      1"
      ]
     },
     "metadata": {},
     "output_type": "display_data"
    },
    {
     "name": "stdout",
     "output_type": "stream",
     "text": [
      "<class 'pandas.core.frame.DataFrame'>\n",
      "RangeIndex: 6361 entries, 0 to 6360\n",
      "Data columns (total 3 columns):\n",
      " #   Column          Non-Null Count  Dtype \n",
      "---  ------          --------------  ----- \n",
      " 0   customer_id     6361 non-null   object\n",
      " 1   multiple_lines  6361 non-null   int32 \n",
      " 2   phone           6361 non-null   int64 \n",
      "dtypes: int32(1), int64(1), object(1)\n",
      "memory usage: 124.4+ KB\n",
      "Размер data_phone: (6361, 3)\n"
     ]
    }
   ],
   "source": [
    "# data_phone\n",
    "# автоматизируем переименования\n",
    "column_names = snake_name(list(data_phone.columns))    \n",
    "data_phone.set_axis(column_names, axis = 'columns',inplace = True) \n",
    "\n",
    "# приведение столбцов с Yes/No в числовой формат 1/0\n",
    "data_phone['multiple_lines'] = np.where(data_phone['multiple_lines']=='Yes', 1, 0)\n",
    "\n",
    "data_phone['phone'] = 1\n",
    "\n",
    "# проверка результатов\n",
    "display(data_phone.head())\n",
    "data_phone.info()\n",
    "print('Размер data_phone:', data_phone.shape)"
   ]
  },
  {
   "cell_type": "markdown",
   "id": "bd5c04d3",
   "metadata": {},
   "source": [
    "### 2.2.5. Объединение всех датасетов в один"
   ]
  },
  {
   "cell_type": "code",
   "execution_count": 14,
   "id": "b05a1069",
   "metadata": {},
   "outputs": [
    {
     "name": "stdout",
     "output_type": "stream",
     "text": [
      "<class 'pandas.core.frame.DataFrame'>\n",
      "Int64Index: 7043 entries, 0 to 7042\n",
      "Data columns (total 29 columns):\n",
      " #   Column                   Non-Null Count  Dtype  \n",
      "---  ------                   --------------  -----  \n",
      " 0   customer_id              7043 non-null   object \n",
      " 1   paperless_billing        7043 non-null   int32  \n",
      " 2   monthly_charges          7043 non-null   float64\n",
      " 3   total_charges            7043 non-null   object \n",
      " 4   bank_transfer_automatic  7043 non-null   uint8  \n",
      " 5   credit_card_automatic    7043 non-null   uint8  \n",
      " 6   electronic_check         7043 non-null   uint8  \n",
      " 7   mailed_check             7043 non-null   uint8  \n",
      " 8   month_-to_-month         7043 non-null   uint8  \n",
      " 9   one_year                 7043 non-null   uint8  \n",
      " 10  two_year                 7043 non-null   uint8  \n",
      " 11  client_left              7043 non-null   int32  \n",
      " 12  duration                 7043 non-null   int64  \n",
      " 13  senior_citizen           7043 non-null   int64  \n",
      " 14  partner                  7043 non-null   int32  \n",
      " 15  dependents               7043 non-null   int32  \n",
      " 16  female                   7043 non-null   uint8  \n",
      " 17  male                     7043 non-null   uint8  \n",
      " 18  online_security          7043 non-null   float64\n",
      " 19  online_backup            7043 non-null   float64\n",
      " 20  device_protection        7043 non-null   float64\n",
      " 21  tech_support             7043 non-null   float64\n",
      " 22  streaming_tv             7043 non-null   float64\n",
      " 23  streaming_movies         7043 non-null   float64\n",
      " 24  d_sl                     7043 non-null   float64\n",
      " 25  fiber_optic              7043 non-null   float64\n",
      " 26  internet                 7043 non-null   float64\n",
      " 27  multiple_lines           7043 non-null   float64\n",
      " 28  phone                    7043 non-null   float64\n",
      "dtypes: float64(12), int32(4), int64(2), object(2), uint8(9)\n",
      "memory usage: 1.1+ MB\n"
     ]
    },
    {
     "data": {
      "text/html": [
       "<div>\n",
       "<style scoped>\n",
       "    .dataframe tbody tr th:only-of-type {\n",
       "        vertical-align: middle;\n",
       "    }\n",
       "\n",
       "    .dataframe tbody tr th {\n",
       "        vertical-align: top;\n",
       "    }\n",
       "\n",
       "    .dataframe thead th {\n",
       "        text-align: right;\n",
       "    }\n",
       "</style>\n",
       "<table border=\"1\" class=\"dataframe\">\n",
       "  <thead>\n",
       "    <tr style=\"text-align: right;\">\n",
       "      <th></th>\n",
       "      <th>paperless_billing</th>\n",
       "      <th>monthly_charges</th>\n",
       "      <th>bank_transfer_automatic</th>\n",
       "      <th>credit_card_automatic</th>\n",
       "      <th>electronic_check</th>\n",
       "      <th>mailed_check</th>\n",
       "      <th>month_-to_-month</th>\n",
       "      <th>one_year</th>\n",
       "      <th>two_year</th>\n",
       "      <th>client_left</th>\n",
       "      <th>...</th>\n",
       "      <th>online_backup</th>\n",
       "      <th>device_protection</th>\n",
       "      <th>tech_support</th>\n",
       "      <th>streaming_tv</th>\n",
       "      <th>streaming_movies</th>\n",
       "      <th>d_sl</th>\n",
       "      <th>fiber_optic</th>\n",
       "      <th>internet</th>\n",
       "      <th>multiple_lines</th>\n",
       "      <th>phone</th>\n",
       "    </tr>\n",
       "  </thead>\n",
       "  <tbody>\n",
       "    <tr>\n",
       "      <th>count</th>\n",
       "      <td>7043.000000</td>\n",
       "      <td>7043.000000</td>\n",
       "      <td>7043.000000</td>\n",
       "      <td>7043.000000</td>\n",
       "      <td>7043.000000</td>\n",
       "      <td>7043.000000</td>\n",
       "      <td>7043.000000</td>\n",
       "      <td>7043.000000</td>\n",
       "      <td>7043.000000</td>\n",
       "      <td>7043.000000</td>\n",
       "      <td>...</td>\n",
       "      <td>7043.000000</td>\n",
       "      <td>7043.000000</td>\n",
       "      <td>7043.000000</td>\n",
       "      <td>7043.000000</td>\n",
       "      <td>7043.000000</td>\n",
       "      <td>7043.000000</td>\n",
       "      <td>7043.000000</td>\n",
       "      <td>7043.000000</td>\n",
       "      <td>7043.000000</td>\n",
       "      <td>7043.000000</td>\n",
       "    </tr>\n",
       "    <tr>\n",
       "      <th>mean</th>\n",
       "      <td>0.592219</td>\n",
       "      <td>64.761692</td>\n",
       "      <td>0.219225</td>\n",
       "      <td>0.216101</td>\n",
       "      <td>0.335794</td>\n",
       "      <td>0.228880</td>\n",
       "      <td>0.550192</td>\n",
       "      <td>0.209144</td>\n",
       "      <td>0.240664</td>\n",
       "      <td>0.265370</td>\n",
       "      <td>...</td>\n",
       "      <td>0.344881</td>\n",
       "      <td>0.343888</td>\n",
       "      <td>0.290217</td>\n",
       "      <td>0.384353</td>\n",
       "      <td>0.387903</td>\n",
       "      <td>0.343746</td>\n",
       "      <td>0.439585</td>\n",
       "      <td>0.783331</td>\n",
       "      <td>0.421837</td>\n",
       "      <td>0.903166</td>\n",
       "    </tr>\n",
       "    <tr>\n",
       "      <th>std</th>\n",
       "      <td>0.491457</td>\n",
       "      <td>30.090047</td>\n",
       "      <td>0.413751</td>\n",
       "      <td>0.411613</td>\n",
       "      <td>0.472301</td>\n",
       "      <td>0.420141</td>\n",
       "      <td>0.497510</td>\n",
       "      <td>0.406726</td>\n",
       "      <td>0.427517</td>\n",
       "      <td>0.441561</td>\n",
       "      <td>...</td>\n",
       "      <td>0.475363</td>\n",
       "      <td>0.475038</td>\n",
       "      <td>0.453895</td>\n",
       "      <td>0.486477</td>\n",
       "      <td>0.487307</td>\n",
       "      <td>0.474991</td>\n",
       "      <td>0.496372</td>\n",
       "      <td>0.412004</td>\n",
       "      <td>0.493888</td>\n",
       "      <td>0.295752</td>\n",
       "    </tr>\n",
       "    <tr>\n",
       "      <th>min</th>\n",
       "      <td>0.000000</td>\n",
       "      <td>18.250000</td>\n",
       "      <td>0.000000</td>\n",
       "      <td>0.000000</td>\n",
       "      <td>0.000000</td>\n",
       "      <td>0.000000</td>\n",
       "      <td>0.000000</td>\n",
       "      <td>0.000000</td>\n",
       "      <td>0.000000</td>\n",
       "      <td>0.000000</td>\n",
       "      <td>...</td>\n",
       "      <td>0.000000</td>\n",
       "      <td>0.000000</td>\n",
       "      <td>0.000000</td>\n",
       "      <td>0.000000</td>\n",
       "      <td>0.000000</td>\n",
       "      <td>0.000000</td>\n",
       "      <td>0.000000</td>\n",
       "      <td>0.000000</td>\n",
       "      <td>0.000000</td>\n",
       "      <td>0.000000</td>\n",
       "    </tr>\n",
       "    <tr>\n",
       "      <th>25%</th>\n",
       "      <td>0.000000</td>\n",
       "      <td>35.500000</td>\n",
       "      <td>0.000000</td>\n",
       "      <td>0.000000</td>\n",
       "      <td>0.000000</td>\n",
       "      <td>0.000000</td>\n",
       "      <td>0.000000</td>\n",
       "      <td>0.000000</td>\n",
       "      <td>0.000000</td>\n",
       "      <td>0.000000</td>\n",
       "      <td>...</td>\n",
       "      <td>0.000000</td>\n",
       "      <td>0.000000</td>\n",
       "      <td>0.000000</td>\n",
       "      <td>0.000000</td>\n",
       "      <td>0.000000</td>\n",
       "      <td>0.000000</td>\n",
       "      <td>0.000000</td>\n",
       "      <td>1.000000</td>\n",
       "      <td>0.000000</td>\n",
       "      <td>1.000000</td>\n",
       "    </tr>\n",
       "    <tr>\n",
       "      <th>50%</th>\n",
       "      <td>1.000000</td>\n",
       "      <td>70.350000</td>\n",
       "      <td>0.000000</td>\n",
       "      <td>0.000000</td>\n",
       "      <td>0.000000</td>\n",
       "      <td>0.000000</td>\n",
       "      <td>1.000000</td>\n",
       "      <td>0.000000</td>\n",
       "      <td>0.000000</td>\n",
       "      <td>0.000000</td>\n",
       "      <td>...</td>\n",
       "      <td>0.000000</td>\n",
       "      <td>0.000000</td>\n",
       "      <td>0.000000</td>\n",
       "      <td>0.000000</td>\n",
       "      <td>0.000000</td>\n",
       "      <td>0.000000</td>\n",
       "      <td>0.000000</td>\n",
       "      <td>1.000000</td>\n",
       "      <td>0.000000</td>\n",
       "      <td>1.000000</td>\n",
       "    </tr>\n",
       "    <tr>\n",
       "      <th>75%</th>\n",
       "      <td>1.000000</td>\n",
       "      <td>89.850000</td>\n",
       "      <td>0.000000</td>\n",
       "      <td>0.000000</td>\n",
       "      <td>1.000000</td>\n",
       "      <td>0.000000</td>\n",
       "      <td>1.000000</td>\n",
       "      <td>0.000000</td>\n",
       "      <td>0.000000</td>\n",
       "      <td>1.000000</td>\n",
       "      <td>...</td>\n",
       "      <td>1.000000</td>\n",
       "      <td>1.000000</td>\n",
       "      <td>1.000000</td>\n",
       "      <td>1.000000</td>\n",
       "      <td>1.000000</td>\n",
       "      <td>1.000000</td>\n",
       "      <td>1.000000</td>\n",
       "      <td>1.000000</td>\n",
       "      <td>1.000000</td>\n",
       "      <td>1.000000</td>\n",
       "    </tr>\n",
       "    <tr>\n",
       "      <th>max</th>\n",
       "      <td>1.000000</td>\n",
       "      <td>118.750000</td>\n",
       "      <td>1.000000</td>\n",
       "      <td>1.000000</td>\n",
       "      <td>1.000000</td>\n",
       "      <td>1.000000</td>\n",
       "      <td>1.000000</td>\n",
       "      <td>1.000000</td>\n",
       "      <td>1.000000</td>\n",
       "      <td>1.000000</td>\n",
       "      <td>...</td>\n",
       "      <td>1.000000</td>\n",
       "      <td>1.000000</td>\n",
       "      <td>1.000000</td>\n",
       "      <td>1.000000</td>\n",
       "      <td>1.000000</td>\n",
       "      <td>1.000000</td>\n",
       "      <td>1.000000</td>\n",
       "      <td>1.000000</td>\n",
       "      <td>1.000000</td>\n",
       "      <td>1.000000</td>\n",
       "    </tr>\n",
       "  </tbody>\n",
       "</table>\n",
       "<p>8 rows × 27 columns</p>\n",
       "</div>"
      ],
      "text/plain": [
       "       paperless_billing  monthly_charges  bank_transfer_automatic  \\\n",
       "count        7043.000000      7043.000000              7043.000000   \n",
       "mean            0.592219        64.761692                 0.219225   \n",
       "std             0.491457        30.090047                 0.413751   \n",
       "min             0.000000        18.250000                 0.000000   \n",
       "25%             0.000000        35.500000                 0.000000   \n",
       "50%             1.000000        70.350000                 0.000000   \n",
       "75%             1.000000        89.850000                 0.000000   \n",
       "max             1.000000       118.750000                 1.000000   \n",
       "\n",
       "       credit_card_automatic  electronic_check  mailed_check  \\\n",
       "count            7043.000000       7043.000000   7043.000000   \n",
       "mean                0.216101          0.335794      0.228880   \n",
       "std                 0.411613          0.472301      0.420141   \n",
       "min                 0.000000          0.000000      0.000000   \n",
       "25%                 0.000000          0.000000      0.000000   \n",
       "50%                 0.000000          0.000000      0.000000   \n",
       "75%                 0.000000          1.000000      0.000000   \n",
       "max                 1.000000          1.000000      1.000000   \n",
       "\n",
       "       month_-to_-month     one_year     two_year  client_left  ...  \\\n",
       "count       7043.000000  7043.000000  7043.000000  7043.000000  ...   \n",
       "mean           0.550192     0.209144     0.240664     0.265370  ...   \n",
       "std            0.497510     0.406726     0.427517     0.441561  ...   \n",
       "min            0.000000     0.000000     0.000000     0.000000  ...   \n",
       "25%            0.000000     0.000000     0.000000     0.000000  ...   \n",
       "50%            1.000000     0.000000     0.000000     0.000000  ...   \n",
       "75%            1.000000     0.000000     0.000000     1.000000  ...   \n",
       "max            1.000000     1.000000     1.000000     1.000000  ...   \n",
       "\n",
       "       online_backup  device_protection  tech_support  streaming_tv  \\\n",
       "count    7043.000000        7043.000000   7043.000000   7043.000000   \n",
       "mean        0.344881           0.343888      0.290217      0.384353   \n",
       "std         0.475363           0.475038      0.453895      0.486477   \n",
       "min         0.000000           0.000000      0.000000      0.000000   \n",
       "25%         0.000000           0.000000      0.000000      0.000000   \n",
       "50%         0.000000           0.000000      0.000000      0.000000   \n",
       "75%         1.000000           1.000000      1.000000      1.000000   \n",
       "max         1.000000           1.000000      1.000000      1.000000   \n",
       "\n",
       "       streaming_movies         d_sl  fiber_optic     internet  \\\n",
       "count       7043.000000  7043.000000  7043.000000  7043.000000   \n",
       "mean           0.387903     0.343746     0.439585     0.783331   \n",
       "std            0.487307     0.474991     0.496372     0.412004   \n",
       "min            0.000000     0.000000     0.000000     0.000000   \n",
       "25%            0.000000     0.000000     0.000000     1.000000   \n",
       "50%            0.000000     0.000000     0.000000     1.000000   \n",
       "75%            1.000000     1.000000     1.000000     1.000000   \n",
       "max            1.000000     1.000000     1.000000     1.000000   \n",
       "\n",
       "       multiple_lines        phone  \n",
       "count     7043.000000  7043.000000  \n",
       "mean         0.421837     0.903166  \n",
       "std          0.493888     0.295752  \n",
       "min          0.000000     0.000000  \n",
       "25%          0.000000     1.000000  \n",
       "50%          0.000000     1.000000  \n",
       "75%          1.000000     1.000000  \n",
       "max          1.000000     1.000000  \n",
       "\n",
       "[8 rows x 27 columns]"
      ]
     },
     "metadata": {},
     "output_type": "display_data"
    }
   ],
   "source": [
    "sum_data = data_contract.drop(['payment_method', 'type', 'begin_date', 'end_date'], axis=1, inplace=False).copy()\n",
    "sum_data = sum_data.merge(data_personal.drop(['gender'], axis=1, inplace=False), on='customer_id', how='left')\n",
    "sum_data = sum_data.merge(data_internet.drop(['internet_service'], axis=1, inplace=False), on='customer_id', how='left')\n",
    "sum_data.fillna(0, inplace=True)\n",
    "sum_data = sum_data.merge(data_phone, on='customer_id', how='left')\n",
    "sum_data.fillna(0, inplace=True)\n",
    "sum_data.info()\n",
    "display(sum_data.describe())"
   ]
  },
  {
   "cell_type": "markdown",
   "id": "ae979340",
   "metadata": {},
   "source": [
    "### 2.2.6. Финальная обработка итогового датасета"
   ]
  },
  {
   "cell_type": "code",
   "execution_count": 15,
   "id": "bd128612",
   "metadata": {},
   "outputs": [
    {
     "name": "stdout",
     "output_type": "stream",
     "text": [
      "<class 'pandas.core.frame.DataFrame'>\n",
      "Int64Index: 7032 entries, 0 to 7042\n",
      "Data columns (total 29 columns):\n",
      " #   Column                   Non-Null Count  Dtype  \n",
      "---  ------                   --------------  -----  \n",
      " 0   customer_id              7032 non-null   object \n",
      " 1   paperless_billing        7032 non-null   int32  \n",
      " 2   monthly_charges          7032 non-null   float64\n",
      " 3   total_charges            7032 non-null   float64\n",
      " 4   bank_transfer_automatic  7032 non-null   uint8  \n",
      " 5   credit_card_automatic    7032 non-null   uint8  \n",
      " 6   electronic_check         7032 non-null   uint8  \n",
      " 7   mailed_check             7032 non-null   uint8  \n",
      " 8   month_-to_-month         7032 non-null   uint8  \n",
      " 9   one_year                 7032 non-null   uint8  \n",
      " 10  two_year                 7032 non-null   uint8  \n",
      " 11  client_left              7032 non-null   int32  \n",
      " 12  duration                 7032 non-null   int64  \n",
      " 13  senior_citizen           7032 non-null   int64  \n",
      " 14  partner                  7032 non-null   int32  \n",
      " 15  dependents               7032 non-null   int32  \n",
      " 16  female                   7032 non-null   uint8  \n",
      " 17  male                     7032 non-null   uint8  \n",
      " 18  online_security          7032 non-null   float64\n",
      " 19  online_backup            7032 non-null   float64\n",
      " 20  device_protection        7032 non-null   float64\n",
      " 21  tech_support             7032 non-null   float64\n",
      " 22  streaming_tv             7032 non-null   float64\n",
      " 23  streaming_movies         7032 non-null   float64\n",
      " 24  d_sl                     7032 non-null   float64\n",
      " 25  fiber_optic              7032 non-null   float64\n",
      " 26  internet                 7032 non-null   float64\n",
      " 27  multiple_lines           7032 non-null   float64\n",
      " 28  phone                    7032 non-null   float64\n",
      "dtypes: float64(13), int32(4), int64(2), object(1), uint8(9)\n",
      "memory usage: 1.1+ MB\n"
     ]
    },
    {
     "data": {
      "text/html": [
       "<div>\n",
       "<style scoped>\n",
       "    .dataframe tbody tr th:only-of-type {\n",
       "        vertical-align: middle;\n",
       "    }\n",
       "\n",
       "    .dataframe tbody tr th {\n",
       "        vertical-align: top;\n",
       "    }\n",
       "\n",
       "    .dataframe thead th {\n",
       "        text-align: right;\n",
       "    }\n",
       "</style>\n",
       "<table border=\"1\" class=\"dataframe\">\n",
       "  <thead>\n",
       "    <tr style=\"text-align: right;\">\n",
       "      <th></th>\n",
       "      <th>paperless_billing</th>\n",
       "      <th>monthly_charges</th>\n",
       "      <th>total_charges</th>\n",
       "      <th>bank_transfer_automatic</th>\n",
       "      <th>credit_card_automatic</th>\n",
       "      <th>electronic_check</th>\n",
       "      <th>mailed_check</th>\n",
       "      <th>month_-to_-month</th>\n",
       "      <th>one_year</th>\n",
       "      <th>two_year</th>\n",
       "      <th>...</th>\n",
       "      <th>online_backup</th>\n",
       "      <th>device_protection</th>\n",
       "      <th>tech_support</th>\n",
       "      <th>streaming_tv</th>\n",
       "      <th>streaming_movies</th>\n",
       "      <th>d_sl</th>\n",
       "      <th>fiber_optic</th>\n",
       "      <th>internet</th>\n",
       "      <th>multiple_lines</th>\n",
       "      <th>phone</th>\n",
       "    </tr>\n",
       "  </thead>\n",
       "  <tbody>\n",
       "    <tr>\n",
       "      <th>count</th>\n",
       "      <td>7032.000000</td>\n",
       "      <td>7032.000000</td>\n",
       "      <td>7032.000000</td>\n",
       "      <td>7032.000000</td>\n",
       "      <td>7032.000000</td>\n",
       "      <td>7032.000000</td>\n",
       "      <td>7032.000000</td>\n",
       "      <td>7032.000000</td>\n",
       "      <td>7032.000000</td>\n",
       "      <td>7032.000000</td>\n",
       "      <td>...</td>\n",
       "      <td>7032.000000</td>\n",
       "      <td>7032.000000</td>\n",
       "      <td>7032.000000</td>\n",
       "      <td>7032.000000</td>\n",
       "      <td>7032.000000</td>\n",
       "      <td>7032.000000</td>\n",
       "      <td>7032.000000</td>\n",
       "      <td>7032.000000</td>\n",
       "      <td>7032.000000</td>\n",
       "      <td>7032.000000</td>\n",
       "    </tr>\n",
       "    <tr>\n",
       "      <th>mean</th>\n",
       "      <td>0.592719</td>\n",
       "      <td>64.798208</td>\n",
       "      <td>2283.300441</td>\n",
       "      <td>0.219283</td>\n",
       "      <td>0.216297</td>\n",
       "      <td>0.336320</td>\n",
       "      <td>0.228100</td>\n",
       "      <td>0.551052</td>\n",
       "      <td>0.209329</td>\n",
       "      <td>0.239619</td>\n",
       "      <td>...</td>\n",
       "      <td>0.344852</td>\n",
       "      <td>0.343857</td>\n",
       "      <td>0.290102</td>\n",
       "      <td>0.384386</td>\n",
       "      <td>0.388367</td>\n",
       "      <td>0.343572</td>\n",
       "      <td>0.440273</td>\n",
       "      <td>0.783845</td>\n",
       "      <td>0.421928</td>\n",
       "      <td>0.903299</td>\n",
       "    </tr>\n",
       "    <tr>\n",
       "      <th>std</th>\n",
       "      <td>0.491363</td>\n",
       "      <td>30.085974</td>\n",
       "      <td>2266.771362</td>\n",
       "      <td>0.413790</td>\n",
       "      <td>0.411748</td>\n",
       "      <td>0.472483</td>\n",
       "      <td>0.419637</td>\n",
       "      <td>0.497422</td>\n",
       "      <td>0.406858</td>\n",
       "      <td>0.426881</td>\n",
       "      <td>...</td>\n",
       "      <td>0.475354</td>\n",
       "      <td>0.475028</td>\n",
       "      <td>0.453842</td>\n",
       "      <td>0.486484</td>\n",
       "      <td>0.487414</td>\n",
       "      <td>0.474934</td>\n",
       "      <td>0.496455</td>\n",
       "      <td>0.411650</td>\n",
       "      <td>0.493902</td>\n",
       "      <td>0.295571</td>\n",
       "    </tr>\n",
       "    <tr>\n",
       "      <th>min</th>\n",
       "      <td>0.000000</td>\n",
       "      <td>18.250000</td>\n",
       "      <td>18.800000</td>\n",
       "      <td>0.000000</td>\n",
       "      <td>0.000000</td>\n",
       "      <td>0.000000</td>\n",
       "      <td>0.000000</td>\n",
       "      <td>0.000000</td>\n",
       "      <td>0.000000</td>\n",
       "      <td>0.000000</td>\n",
       "      <td>...</td>\n",
       "      <td>0.000000</td>\n",
       "      <td>0.000000</td>\n",
       "      <td>0.000000</td>\n",
       "      <td>0.000000</td>\n",
       "      <td>0.000000</td>\n",
       "      <td>0.000000</td>\n",
       "      <td>0.000000</td>\n",
       "      <td>0.000000</td>\n",
       "      <td>0.000000</td>\n",
       "      <td>0.000000</td>\n",
       "    </tr>\n",
       "    <tr>\n",
       "      <th>25%</th>\n",
       "      <td>0.000000</td>\n",
       "      <td>35.587500</td>\n",
       "      <td>401.450000</td>\n",
       "      <td>0.000000</td>\n",
       "      <td>0.000000</td>\n",
       "      <td>0.000000</td>\n",
       "      <td>0.000000</td>\n",
       "      <td>0.000000</td>\n",
       "      <td>0.000000</td>\n",
       "      <td>0.000000</td>\n",
       "      <td>...</td>\n",
       "      <td>0.000000</td>\n",
       "      <td>0.000000</td>\n",
       "      <td>0.000000</td>\n",
       "      <td>0.000000</td>\n",
       "      <td>0.000000</td>\n",
       "      <td>0.000000</td>\n",
       "      <td>0.000000</td>\n",
       "      <td>1.000000</td>\n",
       "      <td>0.000000</td>\n",
       "      <td>1.000000</td>\n",
       "    </tr>\n",
       "    <tr>\n",
       "      <th>50%</th>\n",
       "      <td>1.000000</td>\n",
       "      <td>70.350000</td>\n",
       "      <td>1397.475000</td>\n",
       "      <td>0.000000</td>\n",
       "      <td>0.000000</td>\n",
       "      <td>0.000000</td>\n",
       "      <td>0.000000</td>\n",
       "      <td>1.000000</td>\n",
       "      <td>0.000000</td>\n",
       "      <td>0.000000</td>\n",
       "      <td>...</td>\n",
       "      <td>0.000000</td>\n",
       "      <td>0.000000</td>\n",
       "      <td>0.000000</td>\n",
       "      <td>0.000000</td>\n",
       "      <td>0.000000</td>\n",
       "      <td>0.000000</td>\n",
       "      <td>0.000000</td>\n",
       "      <td>1.000000</td>\n",
       "      <td>0.000000</td>\n",
       "      <td>1.000000</td>\n",
       "    </tr>\n",
       "    <tr>\n",
       "      <th>75%</th>\n",
       "      <td>1.000000</td>\n",
       "      <td>89.862500</td>\n",
       "      <td>3794.737500</td>\n",
       "      <td>0.000000</td>\n",
       "      <td>0.000000</td>\n",
       "      <td>1.000000</td>\n",
       "      <td>0.000000</td>\n",
       "      <td>1.000000</td>\n",
       "      <td>0.000000</td>\n",
       "      <td>0.000000</td>\n",
       "      <td>...</td>\n",
       "      <td>1.000000</td>\n",
       "      <td>1.000000</td>\n",
       "      <td>1.000000</td>\n",
       "      <td>1.000000</td>\n",
       "      <td>1.000000</td>\n",
       "      <td>1.000000</td>\n",
       "      <td>1.000000</td>\n",
       "      <td>1.000000</td>\n",
       "      <td>1.000000</td>\n",
       "      <td>1.000000</td>\n",
       "    </tr>\n",
       "    <tr>\n",
       "      <th>max</th>\n",
       "      <td>1.000000</td>\n",
       "      <td>118.750000</td>\n",
       "      <td>8684.800000</td>\n",
       "      <td>1.000000</td>\n",
       "      <td>1.000000</td>\n",
       "      <td>1.000000</td>\n",
       "      <td>1.000000</td>\n",
       "      <td>1.000000</td>\n",
       "      <td>1.000000</td>\n",
       "      <td>1.000000</td>\n",
       "      <td>...</td>\n",
       "      <td>1.000000</td>\n",
       "      <td>1.000000</td>\n",
       "      <td>1.000000</td>\n",
       "      <td>1.000000</td>\n",
       "      <td>1.000000</td>\n",
       "      <td>1.000000</td>\n",
       "      <td>1.000000</td>\n",
       "      <td>1.000000</td>\n",
       "      <td>1.000000</td>\n",
       "      <td>1.000000</td>\n",
       "    </tr>\n",
       "  </tbody>\n",
       "</table>\n",
       "<p>8 rows × 28 columns</p>\n",
       "</div>"
      ],
      "text/plain": [
       "       paperless_billing  monthly_charges  total_charges  \\\n",
       "count        7032.000000      7032.000000    7032.000000   \n",
       "mean            0.592719        64.798208    2283.300441   \n",
       "std             0.491363        30.085974    2266.771362   \n",
       "min             0.000000        18.250000      18.800000   \n",
       "25%             0.000000        35.587500     401.450000   \n",
       "50%             1.000000        70.350000    1397.475000   \n",
       "75%             1.000000        89.862500    3794.737500   \n",
       "max             1.000000       118.750000    8684.800000   \n",
       "\n",
       "       bank_transfer_automatic  credit_card_automatic  electronic_check  \\\n",
       "count              7032.000000            7032.000000       7032.000000   \n",
       "mean                  0.219283               0.216297          0.336320   \n",
       "std                   0.413790               0.411748          0.472483   \n",
       "min                   0.000000               0.000000          0.000000   \n",
       "25%                   0.000000               0.000000          0.000000   \n",
       "50%                   0.000000               0.000000          0.000000   \n",
       "75%                   0.000000               0.000000          1.000000   \n",
       "max                   1.000000               1.000000          1.000000   \n",
       "\n",
       "       mailed_check  month_-to_-month     one_year     two_year  ...  \\\n",
       "count   7032.000000       7032.000000  7032.000000  7032.000000  ...   \n",
       "mean       0.228100          0.551052     0.209329     0.239619  ...   \n",
       "std        0.419637          0.497422     0.406858     0.426881  ...   \n",
       "min        0.000000          0.000000     0.000000     0.000000  ...   \n",
       "25%        0.000000          0.000000     0.000000     0.000000  ...   \n",
       "50%        0.000000          1.000000     0.000000     0.000000  ...   \n",
       "75%        0.000000          1.000000     0.000000     0.000000  ...   \n",
       "max        1.000000          1.000000     1.000000     1.000000  ...   \n",
       "\n",
       "       online_backup  device_protection  tech_support  streaming_tv  \\\n",
       "count    7032.000000        7032.000000   7032.000000   7032.000000   \n",
       "mean        0.344852           0.343857      0.290102      0.384386   \n",
       "std         0.475354           0.475028      0.453842      0.486484   \n",
       "min         0.000000           0.000000      0.000000      0.000000   \n",
       "25%         0.000000           0.000000      0.000000      0.000000   \n",
       "50%         0.000000           0.000000      0.000000      0.000000   \n",
       "75%         1.000000           1.000000      1.000000      1.000000   \n",
       "max         1.000000           1.000000      1.000000      1.000000   \n",
       "\n",
       "       streaming_movies         d_sl  fiber_optic     internet  \\\n",
       "count       7032.000000  7032.000000  7032.000000  7032.000000   \n",
       "mean           0.388367     0.343572     0.440273     0.783845   \n",
       "std            0.487414     0.474934     0.496455     0.411650   \n",
       "min            0.000000     0.000000     0.000000     0.000000   \n",
       "25%            0.000000     0.000000     0.000000     1.000000   \n",
       "50%            0.000000     0.000000     0.000000     1.000000   \n",
       "75%            1.000000     1.000000     1.000000     1.000000   \n",
       "max            1.000000     1.000000     1.000000     1.000000   \n",
       "\n",
       "       multiple_lines        phone  \n",
       "count     7032.000000  7032.000000  \n",
       "mean         0.421928     0.903299  \n",
       "std          0.493902     0.295571  \n",
       "min          0.000000     0.000000  \n",
       "25%          0.000000     1.000000  \n",
       "50%          0.000000     1.000000  \n",
       "75%          1.000000     1.000000  \n",
       "max          1.000000     1.000000  \n",
       "\n",
       "[8 rows x 28 columns]"
      ]
     },
     "metadata": {},
     "output_type": "display_data"
    }
   ],
   "source": [
    "sum_data = sum_data.query('total_charges!=\" \"') # отбрасываем данные с пробелами в total_charges\n",
    "sum_data['total_charges'] = sum_data['total_charges'].astype(np.float64)\n",
    "sum_data.info()\n",
    "display(sum_data.describe())\n",
    "del data_contract\n",
    "del data_personal\n",
    "del data_internet\n",
    "del data_phone"
   ]
  },
  {
   "cell_type": "code",
   "execution_count": 16,
   "id": "72a6d353",
   "metadata": {},
   "outputs": [
    {
     "data": {
      "text/html": [
       "<div>\n",
       "<style scoped>\n",
       "    .dataframe tbody tr th:only-of-type {\n",
       "        vertical-align: middle;\n",
       "    }\n",
       "\n",
       "    .dataframe tbody tr th {\n",
       "        vertical-align: top;\n",
       "    }\n",
       "\n",
       "    .dataframe thead th {\n",
       "        text-align: right;\n",
       "    }\n",
       "</style>\n",
       "<table border=\"1\" class=\"dataframe\">\n",
       "  <thead>\n",
       "    <tr style=\"text-align: right;\">\n",
       "      <th></th>\n",
       "      <th>paperless_billing</th>\n",
       "      <th>monthly_charges</th>\n",
       "      <th>total_charges</th>\n",
       "      <th>bank_transfer_automatic</th>\n",
       "      <th>credit_card_automatic</th>\n",
       "      <th>electronic_check</th>\n",
       "      <th>mailed_check</th>\n",
       "      <th>month_-to_-month</th>\n",
       "      <th>one_year</th>\n",
       "      <th>two_year</th>\n",
       "      <th>...</th>\n",
       "      <th>online_backup</th>\n",
       "      <th>device_protection</th>\n",
       "      <th>tech_support</th>\n",
       "      <th>streaming_tv</th>\n",
       "      <th>streaming_movies</th>\n",
       "      <th>d_sl</th>\n",
       "      <th>fiber_optic</th>\n",
       "      <th>internet</th>\n",
       "      <th>multiple_lines</th>\n",
       "      <th>phone</th>\n",
       "    </tr>\n",
       "  </thead>\n",
       "  <tbody>\n",
       "    <tr>\n",
       "      <th>0</th>\n",
       "      <td>1</td>\n",
       "      <td>29.85</td>\n",
       "      <td>29.85</td>\n",
       "      <td>0</td>\n",
       "      <td>0</td>\n",
       "      <td>1</td>\n",
       "      <td>0</td>\n",
       "      <td>1</td>\n",
       "      <td>0</td>\n",
       "      <td>0</td>\n",
       "      <td>...</td>\n",
       "      <td>1</td>\n",
       "      <td>0</td>\n",
       "      <td>0</td>\n",
       "      <td>0</td>\n",
       "      <td>0</td>\n",
       "      <td>1</td>\n",
       "      <td>0</td>\n",
       "      <td>1</td>\n",
       "      <td>0.0</td>\n",
       "      <td>0.0</td>\n",
       "    </tr>\n",
       "    <tr>\n",
       "      <th>1</th>\n",
       "      <td>0</td>\n",
       "      <td>56.95</td>\n",
       "      <td>1889.50</td>\n",
       "      <td>0</td>\n",
       "      <td>0</td>\n",
       "      <td>0</td>\n",
       "      <td>1</td>\n",
       "      <td>0</td>\n",
       "      <td>1</td>\n",
       "      <td>0</td>\n",
       "      <td>...</td>\n",
       "      <td>0</td>\n",
       "      <td>1</td>\n",
       "      <td>0</td>\n",
       "      <td>0</td>\n",
       "      <td>0</td>\n",
       "      <td>1</td>\n",
       "      <td>0</td>\n",
       "      <td>1</td>\n",
       "      <td>0.0</td>\n",
       "      <td>1.0</td>\n",
       "    </tr>\n",
       "    <tr>\n",
       "      <th>2</th>\n",
       "      <td>1</td>\n",
       "      <td>53.85</td>\n",
       "      <td>108.15</td>\n",
       "      <td>0</td>\n",
       "      <td>0</td>\n",
       "      <td>0</td>\n",
       "      <td>1</td>\n",
       "      <td>1</td>\n",
       "      <td>0</td>\n",
       "      <td>0</td>\n",
       "      <td>...</td>\n",
       "      <td>1</td>\n",
       "      <td>0</td>\n",
       "      <td>0</td>\n",
       "      <td>0</td>\n",
       "      <td>0</td>\n",
       "      <td>1</td>\n",
       "      <td>0</td>\n",
       "      <td>1</td>\n",
       "      <td>0.0</td>\n",
       "      <td>1.0</td>\n",
       "    </tr>\n",
       "    <tr>\n",
       "      <th>3</th>\n",
       "      <td>0</td>\n",
       "      <td>42.30</td>\n",
       "      <td>1840.75</td>\n",
       "      <td>1</td>\n",
       "      <td>0</td>\n",
       "      <td>0</td>\n",
       "      <td>0</td>\n",
       "      <td>0</td>\n",
       "      <td>1</td>\n",
       "      <td>0</td>\n",
       "      <td>...</td>\n",
       "      <td>0</td>\n",
       "      <td>1</td>\n",
       "      <td>1</td>\n",
       "      <td>0</td>\n",
       "      <td>0</td>\n",
       "      <td>1</td>\n",
       "      <td>0</td>\n",
       "      <td>1</td>\n",
       "      <td>0.0</td>\n",
       "      <td>0.0</td>\n",
       "    </tr>\n",
       "    <tr>\n",
       "      <th>4</th>\n",
       "      <td>1</td>\n",
       "      <td>70.70</td>\n",
       "      <td>151.65</td>\n",
       "      <td>0</td>\n",
       "      <td>0</td>\n",
       "      <td>1</td>\n",
       "      <td>0</td>\n",
       "      <td>1</td>\n",
       "      <td>0</td>\n",
       "      <td>0</td>\n",
       "      <td>...</td>\n",
       "      <td>0</td>\n",
       "      <td>0</td>\n",
       "      <td>0</td>\n",
       "      <td>0</td>\n",
       "      <td>0</td>\n",
       "      <td>0</td>\n",
       "      <td>1</td>\n",
       "      <td>1</td>\n",
       "      <td>0.0</td>\n",
       "      <td>1.0</td>\n",
       "    </tr>\n",
       "  </tbody>\n",
       "</table>\n",
       "<p>5 rows × 28 columns</p>\n",
       "</div>"
      ],
      "text/plain": [
       "   paperless_billing  monthly_charges  total_charges  bank_transfer_automatic  \\\n",
       "0                  1            29.85          29.85                        0   \n",
       "1                  0            56.95        1889.50                        0   \n",
       "2                  1            53.85         108.15                        0   \n",
       "3                  0            42.30        1840.75                        1   \n",
       "4                  1            70.70         151.65                        0   \n",
       "\n",
       "   credit_card_automatic  electronic_check  mailed_check  month_-to_-month  \\\n",
       "0                      0                 1             0                 1   \n",
       "1                      0                 0             1                 0   \n",
       "2                      0                 0             1                 1   \n",
       "3                      0                 0             0                 0   \n",
       "4                      0                 1             0                 1   \n",
       "\n",
       "   one_year  two_year  ...  online_backup  device_protection  tech_support  \\\n",
       "0         0         0  ...              1                  0             0   \n",
       "1         1         0  ...              0                  1             0   \n",
       "2         0         0  ...              1                  0             0   \n",
       "3         1         0  ...              0                  1             1   \n",
       "4         0         0  ...              0                  0             0   \n",
       "\n",
       "   streaming_tv  streaming_movies  d_sl  fiber_optic  internet  \\\n",
       "0             0                 0     1            0         1   \n",
       "1             0                 0     1            0         1   \n",
       "2             0                 0     1            0         1   \n",
       "3             0                 0     1            0         1   \n",
       "4             0                 0     0            1         1   \n",
       "\n",
       "   multiple_lines  phone  \n",
       "0             0.0    0.0  \n",
       "1             0.0    1.0  \n",
       "2             0.0    1.0  \n",
       "3             0.0    0.0  \n",
       "4             0.0    1.0  \n",
       "\n",
       "[5 rows x 28 columns]"
      ]
     },
     "metadata": {},
     "output_type": "display_data"
    }
   ],
   "source": [
    "# почему-то вдруг некоторые целочисленные столбцы стали дробными\n",
    "to_do = ['online_security', 'online_backup', 'device_protection', 'tech_support', 'streaming_tv', 'streaming_movies', 'fiber_optic', 'internet']\n",
    "if DROP_FIRST==False:\n",
    "    to_do.append('d_sl')\n",
    "    \n",
    "for cl in to_do:\n",
    "    sum_data[cl] = sum_data[cl].astype(int)\n",
    "\n",
    "# удаляем ID клиента - оно больше не нужно\n",
    "sum_data.drop('customer_id', axis=1, inplace=True)\n",
    "\n",
    "display(sum_data.head())    "
   ]
  },
  {
   "cell_type": "code",
   "execution_count": 17,
   "id": "99bf3362",
   "metadata": {},
   "outputs": [
    {
     "data": {
      "text/html": [
       "<div>\n",
       "<style scoped>\n",
       "    .dataframe tbody tr th:only-of-type {\n",
       "        vertical-align: middle;\n",
       "    }\n",
       "\n",
       "    .dataframe tbody tr th {\n",
       "        vertical-align: top;\n",
       "    }\n",
       "\n",
       "    .dataframe thead th {\n",
       "        text-align: right;\n",
       "    }\n",
       "</style>\n",
       "<table border=\"1\" class=\"dataframe\">\n",
       "  <thead>\n",
       "    <tr style=\"text-align: right;\">\n",
       "      <th></th>\n",
       "      <th>paperless_billing</th>\n",
       "      <th>monthly_charges</th>\n",
       "      <th>total_charges</th>\n",
       "      <th>bank_transfer_automatic</th>\n",
       "      <th>credit_card_automatic</th>\n",
       "      <th>electronic_check</th>\n",
       "      <th>mailed_check</th>\n",
       "      <th>month_-to_-month</th>\n",
       "      <th>one_year</th>\n",
       "      <th>two_year</th>\n",
       "      <th>...</th>\n",
       "      <th>online_backup</th>\n",
       "      <th>device_protection</th>\n",
       "      <th>tech_support</th>\n",
       "      <th>streaming_tv</th>\n",
       "      <th>streaming_movies</th>\n",
       "      <th>d_sl</th>\n",
       "      <th>fiber_optic</th>\n",
       "      <th>internet</th>\n",
       "      <th>multiple_lines</th>\n",
       "      <th>phone</th>\n",
       "    </tr>\n",
       "  </thead>\n",
       "  <tbody>\n",
       "    <tr>\n",
       "      <th>paperless_billing</th>\n",
       "      <td>1.000000</td>\n",
       "      <td>0.351930</td>\n",
       "      <td>0.157830</td>\n",
       "      <td>-0.017469</td>\n",
       "      <td>-0.013726</td>\n",
       "      <td>0.208427</td>\n",
       "      <td>-0.203981</td>\n",
       "      <td>0.168296</td>\n",
       "      <td>-0.052278</td>\n",
       "      <td>-0.146281</td>\n",
       "      <td>...</td>\n",
       "      <td>0.127056</td>\n",
       "      <td>0.104079</td>\n",
       "      <td>0.037536</td>\n",
       "      <td>0.224241</td>\n",
       "      <td>0.211583</td>\n",
       "      <td>-0.063390</td>\n",
       "      <td>0.326470</td>\n",
       "      <td>0.320592</td>\n",
       "      <td>0.163746</td>\n",
       "      <td>0.016696</td>\n",
       "    </tr>\n",
       "    <tr>\n",
       "      <th>monthly_charges</th>\n",
       "      <td>0.351930</td>\n",
       "      <td>1.000000</td>\n",
       "      <td>0.651065</td>\n",
       "      <td>0.042410</td>\n",
       "      <td>0.030055</td>\n",
       "      <td>0.271117</td>\n",
       "      <td>-0.376568</td>\n",
       "      <td>0.058933</td>\n",
       "      <td>0.004810</td>\n",
       "      <td>-0.073256</td>\n",
       "      <td>...</td>\n",
       "      <td>0.441529</td>\n",
       "      <td>0.482607</td>\n",
       "      <td>0.338301</td>\n",
       "      <td>0.629668</td>\n",
       "      <td>0.627235</td>\n",
       "      <td>-0.161368</td>\n",
       "      <td>0.787195</td>\n",
       "      <td>0.763191</td>\n",
       "      <td>0.490912</td>\n",
       "      <td>0.248033</td>\n",
       "    </tr>\n",
       "    <tr>\n",
       "      <th>total_charges</th>\n",
       "      <td>0.157830</td>\n",
       "      <td>0.651065</td>\n",
       "      <td>1.000000</td>\n",
       "      <td>0.186119</td>\n",
       "      <td>0.182663</td>\n",
       "      <td>-0.060436</td>\n",
       "      <td>-0.294708</td>\n",
       "      <td>-0.446776</td>\n",
       "      <td>0.170569</td>\n",
       "      <td>0.358036</td>\n",
       "      <td>...</td>\n",
       "      <td>0.510100</td>\n",
       "      <td>0.522881</td>\n",
       "      <td>0.432868</td>\n",
       "      <td>0.515709</td>\n",
       "      <td>0.519867</td>\n",
       "      <td>-0.052190</td>\n",
       "      <td>0.360769</td>\n",
       "      <td>0.374878</td>\n",
       "      <td>0.469042</td>\n",
       "      <td>0.113008</td>\n",
       "    </tr>\n",
       "    <tr>\n",
       "      <th>bank_transfer_automatic</th>\n",
       "      <td>-0.017469</td>\n",
       "      <td>0.042410</td>\n",
       "      <td>0.186119</td>\n",
       "      <td>1.000000</td>\n",
       "      <td>-0.278423</td>\n",
       "      <td>-0.377270</td>\n",
       "      <td>-0.288097</td>\n",
       "      <td>-0.180159</td>\n",
       "      <td>0.057629</td>\n",
       "      <td>0.155004</td>\n",
       "      <td>...</td>\n",
       "      <td>0.086942</td>\n",
       "      <td>0.083047</td>\n",
       "      <td>0.100472</td>\n",
       "      <td>0.046121</td>\n",
       "      <td>0.048755</td>\n",
       "      <td>0.024760</td>\n",
       "      <td>-0.022779</td>\n",
       "      <td>0.001094</td>\n",
       "      <td>0.075429</td>\n",
       "      <td>0.008271</td>\n",
       "    </tr>\n",
       "    <tr>\n",
       "      <th>credit_card_automatic</th>\n",
       "      <td>-0.013726</td>\n",
       "      <td>0.030055</td>\n",
       "      <td>0.182663</td>\n",
       "      <td>-0.278423</td>\n",
       "      <td>1.000000</td>\n",
       "      <td>-0.373978</td>\n",
       "      <td>-0.285583</td>\n",
       "      <td>-0.204960</td>\n",
       "      <td>0.067590</td>\n",
       "      <td>0.174410</td>\n",
       "      <td>...</td>\n",
       "      <td>0.090455</td>\n",
       "      <td>0.111252</td>\n",
       "      <td>0.117024</td>\n",
       "      <td>0.040010</td>\n",
       "      <td>0.048398</td>\n",
       "      <td>0.051222</td>\n",
       "      <td>-0.050552</td>\n",
       "      <td>-0.001870</td>\n",
       "      <td>0.060319</td>\n",
       "      <td>-0.006916</td>\n",
       "    </tr>\n",
       "    <tr>\n",
       "      <th>electronic_check</th>\n",
       "      <td>0.208427</td>\n",
       "      <td>0.271117</td>\n",
       "      <td>-0.060436</td>\n",
       "      <td>-0.377270</td>\n",
       "      <td>-0.373978</td>\n",
       "      <td>1.000000</td>\n",
       "      <td>-0.386971</td>\n",
       "      <td>0.330879</td>\n",
       "      <td>-0.109546</td>\n",
       "      <td>-0.281147</td>\n",
       "      <td>...</td>\n",
       "      <td>-0.000364</td>\n",
       "      <td>-0.003308</td>\n",
       "      <td>-0.114807</td>\n",
       "      <td>0.144747</td>\n",
       "      <td>0.137420</td>\n",
       "      <td>-0.104293</td>\n",
       "      <td>0.335763</td>\n",
       "      <td>0.284608</td>\n",
       "      <td>0.083583</td>\n",
       "      <td>0.002747</td>\n",
       "    </tr>\n",
       "    <tr>\n",
       "      <th>mailed_check</th>\n",
       "      <td>-0.203981</td>\n",
       "      <td>-0.376568</td>\n",
       "      <td>-0.294708</td>\n",
       "      <td>-0.288097</td>\n",
       "      <td>-0.285583</td>\n",
       "      <td>-0.386971</td>\n",
       "      <td>1.000000</td>\n",
       "      <td>0.006209</td>\n",
       "      <td>0.000197</td>\n",
       "      <td>-0.007423</td>\n",
       "      <td>...</td>\n",
       "      <td>-0.174075</td>\n",
       "      <td>-0.187325</td>\n",
       "      <td>-0.084631</td>\n",
       "      <td>-0.247712</td>\n",
       "      <td>-0.250290</td>\n",
       "      <td>0.042754</td>\n",
       "      <td>-0.305984</td>\n",
       "      <td>-0.319694</td>\n",
       "      <td>-0.227672</td>\n",
       "      <td>-0.004463</td>\n",
       "    </tr>\n",
       "    <tr>\n",
       "      <th>month_-to_-month</th>\n",
       "      <td>0.168296</td>\n",
       "      <td>0.058933</td>\n",
       "      <td>-0.446776</td>\n",
       "      <td>-0.180159</td>\n",
       "      <td>-0.204960</td>\n",
       "      <td>0.330879</td>\n",
       "      <td>0.006209</td>\n",
       "      <td>1.000000</td>\n",
       "      <td>-0.570053</td>\n",
       "      <td>-0.621933</td>\n",
       "      <td>...</td>\n",
       "      <td>-0.164393</td>\n",
       "      <td>-0.225988</td>\n",
       "      <td>-0.285491</td>\n",
       "      <td>-0.112550</td>\n",
       "      <td>-0.117867</td>\n",
       "      <td>-0.065226</td>\n",
       "      <td>0.243014</td>\n",
       "      <td>0.217824</td>\n",
       "      <td>-0.088558</td>\n",
       "      <td>-0.001243</td>\n",
       "    </tr>\n",
       "    <tr>\n",
       "      <th>one_year</th>\n",
       "      <td>-0.052278</td>\n",
       "      <td>0.004810</td>\n",
       "      <td>0.170569</td>\n",
       "      <td>0.057629</td>\n",
       "      <td>0.067590</td>\n",
       "      <td>-0.109546</td>\n",
       "      <td>0.000197</td>\n",
       "      <td>-0.570053</td>\n",
       "      <td>1.000000</td>\n",
       "      <td>-0.288843</td>\n",
       "      <td>...</td>\n",
       "      <td>0.084113</td>\n",
       "      <td>0.102911</td>\n",
       "      <td>0.096258</td>\n",
       "      <td>0.061930</td>\n",
       "      <td>0.064780</td>\n",
       "      <td>0.047300</td>\n",
       "      <td>-0.076809</td>\n",
       "      <td>-0.038061</td>\n",
       "      <td>-0.003594</td>\n",
       "      <td>-0.003142</td>\n",
       "    </tr>\n",
       "    <tr>\n",
       "      <th>two_year</th>\n",
       "      <td>-0.146281</td>\n",
       "      <td>-0.073256</td>\n",
       "      <td>0.358036</td>\n",
       "      <td>0.155004</td>\n",
       "      <td>0.174410</td>\n",
       "      <td>-0.281147</td>\n",
       "      <td>-0.007423</td>\n",
       "      <td>-0.621933</td>\n",
       "      <td>-0.288843</td>\n",
       "      <td>1.000000</td>\n",
       "      <td>...</td>\n",
       "      <td>0.111391</td>\n",
       "      <td>0.165248</td>\n",
       "      <td>0.240924</td>\n",
       "      <td>0.072124</td>\n",
       "      <td>0.075603</td>\n",
       "      <td>0.030924</td>\n",
       "      <td>-0.209965</td>\n",
       "      <td>-0.217542</td>\n",
       "      <td>0.106618</td>\n",
       "      <td>0.004442</td>\n",
       "    </tr>\n",
       "    <tr>\n",
       "      <th>client_left</th>\n",
       "      <td>0.191454</td>\n",
       "      <td>0.192858</td>\n",
       "      <td>-0.199484</td>\n",
       "      <td>-0.118136</td>\n",
       "      <td>-0.134687</td>\n",
       "      <td>0.301455</td>\n",
       "      <td>-0.090773</td>\n",
       "      <td>0.404565</td>\n",
       "      <td>-0.178225</td>\n",
       "      <td>-0.301552</td>\n",
       "      <td>...</td>\n",
       "      <td>-0.082307</td>\n",
       "      <td>-0.066193</td>\n",
       "      <td>-0.164716</td>\n",
       "      <td>0.063254</td>\n",
       "      <td>0.060860</td>\n",
       "      <td>-0.124141</td>\n",
       "      <td>0.307463</td>\n",
       "      <td>0.227578</td>\n",
       "      <td>0.040033</td>\n",
       "      <td>0.011691</td>\n",
       "    </tr>\n",
       "    <tr>\n",
       "      <th>duration</th>\n",
       "      <td>0.004729</td>\n",
       "      <td>0.246715</td>\n",
       "      <td>0.825811</td>\n",
       "      <td>0.243815</td>\n",
       "      <td>0.232827</td>\n",
       "      <td>-0.210301</td>\n",
       "      <td>-0.232083</td>\n",
       "      <td>-0.649423</td>\n",
       "      <td>0.202418</td>\n",
       "      <td>0.563814</td>\n",
       "      <td>...</td>\n",
       "      <td>0.361100</td>\n",
       "      <td>0.361469</td>\n",
       "      <td>0.325307</td>\n",
       "      <td>0.280165</td>\n",
       "      <td>0.285298</td>\n",
       "      <td>0.013844</td>\n",
       "      <td>0.017782</td>\n",
       "      <td>0.037417</td>\n",
       "      <td>0.332292</td>\n",
       "      <td>0.007875</td>\n",
       "    </tr>\n",
       "    <tr>\n",
       "      <th>senior_citizen</th>\n",
       "      <td>0.156258</td>\n",
       "      <td>0.219874</td>\n",
       "      <td>0.102411</td>\n",
       "      <td>-0.016235</td>\n",
       "      <td>-0.024359</td>\n",
       "      <td>0.171322</td>\n",
       "      <td>-0.152987</td>\n",
       "      <td>0.137752</td>\n",
       "      <td>-0.046491</td>\n",
       "      <td>-0.116205</td>\n",
       "      <td>...</td>\n",
       "      <td>0.066663</td>\n",
       "      <td>0.059514</td>\n",
       "      <td>-0.060577</td>\n",
       "      <td>0.105445</td>\n",
       "      <td>0.119842</td>\n",
       "      <td>-0.108276</td>\n",
       "      <td>0.254923</td>\n",
       "      <td>0.182519</td>\n",
       "      <td>0.142996</td>\n",
       "      <td>0.008392</td>\n",
       "    </tr>\n",
       "    <tr>\n",
       "      <th>partner</th>\n",
       "      <td>-0.013957</td>\n",
       "      <td>0.097825</td>\n",
       "      <td>0.319072</td>\n",
       "      <td>0.111406</td>\n",
       "      <td>0.082327</td>\n",
       "      <td>-0.083207</td>\n",
       "      <td>-0.096948</td>\n",
       "      <td>-0.280202</td>\n",
       "      <td>0.083067</td>\n",
       "      <td>0.247334</td>\n",
       "      <td>...</td>\n",
       "      <td>0.141849</td>\n",
       "      <td>0.153556</td>\n",
       "      <td>0.120206</td>\n",
       "      <td>0.124483</td>\n",
       "      <td>0.118108</td>\n",
       "      <td>-0.001043</td>\n",
       "      <td>0.001235</td>\n",
       "      <td>0.000286</td>\n",
       "      <td>0.142561</td>\n",
       "      <td>0.018397</td>\n",
       "    </tr>\n",
       "    <tr>\n",
       "      <th>dependents</th>\n",
       "      <td>-0.110131</td>\n",
       "      <td>-0.112343</td>\n",
       "      <td>0.064653</td>\n",
       "      <td>0.052369</td>\n",
       "      <td>0.061134</td>\n",
       "      <td>-0.149274</td>\n",
       "      <td>0.056448</td>\n",
       "      <td>-0.229715</td>\n",
       "      <td>0.069222</td>\n",
       "      <td>0.201699</td>\n",
       "      <td>...</td>\n",
       "      <td>0.023639</td>\n",
       "      <td>0.013900</td>\n",
       "      <td>0.063053</td>\n",
       "      <td>-0.016499</td>\n",
       "      <td>-0.038375</td>\n",
       "      <td>0.051593</td>\n",
       "      <td>-0.164101</td>\n",
       "      <td>-0.138383</td>\n",
       "      <td>-0.024307</td>\n",
       "      <td>-0.001078</td>\n",
       "    </tr>\n",
       "    <tr>\n",
       "      <th>female</th>\n",
       "      <td>0.011902</td>\n",
       "      <td>0.013779</td>\n",
       "      <td>-0.000048</td>\n",
       "      <td>0.015973</td>\n",
       "      <td>-0.001632</td>\n",
       "      <td>-0.000844</td>\n",
       "      <td>-0.013199</td>\n",
       "      <td>0.003251</td>\n",
       "      <td>-0.007755</td>\n",
       "      <td>0.003603</td>\n",
       "      <td>...</td>\n",
       "      <td>0.013093</td>\n",
       "      <td>0.000807</td>\n",
       "      <td>0.008507</td>\n",
       "      <td>0.007124</td>\n",
       "      <td>0.010105</td>\n",
       "      <td>-0.007584</td>\n",
       "      <td>0.011189</td>\n",
       "      <td>0.004745</td>\n",
       "      <td>0.008883</td>\n",
       "      <td>0.007515</td>\n",
       "    </tr>\n",
       "    <tr>\n",
       "      <th>male</th>\n",
       "      <td>-0.011902</td>\n",
       "      <td>-0.013779</td>\n",
       "      <td>0.000048</td>\n",
       "      <td>-0.015973</td>\n",
       "      <td>0.001632</td>\n",
       "      <td>0.000844</td>\n",
       "      <td>0.013199</td>\n",
       "      <td>-0.003251</td>\n",
       "      <td>0.007755</td>\n",
       "      <td>-0.003603</td>\n",
       "      <td>...</td>\n",
       "      <td>-0.013093</td>\n",
       "      <td>-0.000807</td>\n",
       "      <td>-0.008507</td>\n",
       "      <td>-0.007124</td>\n",
       "      <td>-0.010105</td>\n",
       "      <td>0.007584</td>\n",
       "      <td>-0.011189</td>\n",
       "      <td>-0.004745</td>\n",
       "      <td>-0.008883</td>\n",
       "      <td>-0.007515</td>\n",
       "    </tr>\n",
       "    <tr>\n",
       "      <th>online_security</th>\n",
       "      <td>-0.004051</td>\n",
       "      <td>0.296447</td>\n",
       "      <td>0.412619</td>\n",
       "      <td>0.094366</td>\n",
       "      <td>0.115473</td>\n",
       "      <td>-0.112295</td>\n",
       "      <td>-0.079918</td>\n",
       "      <td>-0.246844</td>\n",
       "      <td>0.100658</td>\n",
       "      <td>0.191698</td>\n",
       "      <td>...</td>\n",
       "      <td>0.283285</td>\n",
       "      <td>0.274875</td>\n",
       "      <td>0.354458</td>\n",
       "      <td>0.175514</td>\n",
       "      <td>0.187426</td>\n",
       "      <td>0.320343</td>\n",
       "      <td>-0.030506</td>\n",
       "      <td>0.332799</td>\n",
       "      <td>0.098592</td>\n",
       "      <td>-0.091676</td>\n",
       "    </tr>\n",
       "    <tr>\n",
       "      <th>online_backup</th>\n",
       "      <td>0.127056</td>\n",
       "      <td>0.441529</td>\n",
       "      <td>0.510100</td>\n",
       "      <td>0.086942</td>\n",
       "      <td>0.090455</td>\n",
       "      <td>-0.000364</td>\n",
       "      <td>-0.174075</td>\n",
       "      <td>-0.164393</td>\n",
       "      <td>0.084113</td>\n",
       "      <td>0.111391</td>\n",
       "      <td>...</td>\n",
       "      <td>1.000000</td>\n",
       "      <td>0.303058</td>\n",
       "      <td>0.293705</td>\n",
       "      <td>0.281601</td>\n",
       "      <td>0.274523</td>\n",
       "      <td>0.156765</td>\n",
       "      <td>0.165940</td>\n",
       "      <td>0.380990</td>\n",
       "      <td>0.202228</td>\n",
       "      <td>-0.052133</td>\n",
       "    </tr>\n",
       "    <tr>\n",
       "      <th>device_protection</th>\n",
       "      <td>0.104079</td>\n",
       "      <td>0.482607</td>\n",
       "      <td>0.522881</td>\n",
       "      <td>0.083047</td>\n",
       "      <td>0.111252</td>\n",
       "      <td>-0.003308</td>\n",
       "      <td>-0.187325</td>\n",
       "      <td>-0.225988</td>\n",
       "      <td>0.102911</td>\n",
       "      <td>0.165248</td>\n",
       "      <td>...</td>\n",
       "      <td>0.303058</td>\n",
       "      <td>1.000000</td>\n",
       "      <td>0.332850</td>\n",
       "      <td>0.389924</td>\n",
       "      <td>0.402309</td>\n",
       "      <td>0.145150</td>\n",
       "      <td>0.176356</td>\n",
       "      <td>0.380151</td>\n",
       "      <td>0.201733</td>\n",
       "      <td>-0.070076</td>\n",
       "    </tr>\n",
       "    <tr>\n",
       "      <th>tech_support</th>\n",
       "      <td>0.037536</td>\n",
       "      <td>0.338301</td>\n",
       "      <td>0.432868</td>\n",
       "      <td>0.100472</td>\n",
       "      <td>0.117024</td>\n",
       "      <td>-0.114807</td>\n",
       "      <td>-0.084631</td>\n",
       "      <td>-0.285491</td>\n",
       "      <td>0.096258</td>\n",
       "      <td>0.240924</td>\n",
       "      <td>...</td>\n",
       "      <td>0.293705</td>\n",
       "      <td>0.332850</td>\n",
       "      <td>1.000000</td>\n",
       "      <td>0.277549</td>\n",
       "      <td>0.280155</td>\n",
       "      <td>0.312183</td>\n",
       "      <td>-0.020299</td>\n",
       "      <td>0.335695</td>\n",
       "      <td>0.100421</td>\n",
       "      <td>-0.095138</td>\n",
       "    </tr>\n",
       "    <tr>\n",
       "      <th>streaming_tv</th>\n",
       "      <td>0.224241</td>\n",
       "      <td>0.629668</td>\n",
       "      <td>0.515709</td>\n",
       "      <td>0.046121</td>\n",
       "      <td>0.040010</td>\n",
       "      <td>0.144747</td>\n",
       "      <td>-0.247712</td>\n",
       "      <td>-0.112550</td>\n",
       "      <td>0.061930</td>\n",
       "      <td>0.072124</td>\n",
       "      <td>...</td>\n",
       "      <td>0.281601</td>\n",
       "      <td>0.389924</td>\n",
       "      <td>0.277549</td>\n",
       "      <td>1.000000</td>\n",
       "      <td>0.533380</td>\n",
       "      <td>0.014973</td>\n",
       "      <td>0.329744</td>\n",
       "      <td>0.414951</td>\n",
       "      <td>0.257804</td>\n",
       "      <td>-0.021383</td>\n",
       "    </tr>\n",
       "    <tr>\n",
       "      <th>streaming_movies</th>\n",
       "      <td>0.211583</td>\n",
       "      <td>0.627235</td>\n",
       "      <td>0.519867</td>\n",
       "      <td>0.048755</td>\n",
       "      <td>0.048398</td>\n",
       "      <td>0.137420</td>\n",
       "      <td>-0.250290</td>\n",
       "      <td>-0.117867</td>\n",
       "      <td>0.064780</td>\n",
       "      <td>0.075603</td>\n",
       "      <td>...</td>\n",
       "      <td>0.274523</td>\n",
       "      <td>0.402309</td>\n",
       "      <td>0.280155</td>\n",
       "      <td>0.533380</td>\n",
       "      <td>1.000000</td>\n",
       "      <td>0.025623</td>\n",
       "      <td>0.322457</td>\n",
       "      <td>0.418450</td>\n",
       "      <td>0.259194</td>\n",
       "      <td>-0.033477</td>\n",
       "    </tr>\n",
       "    <tr>\n",
       "      <th>d_sl</th>\n",
       "      <td>-0.063390</td>\n",
       "      <td>-0.161368</td>\n",
       "      <td>-0.052190</td>\n",
       "      <td>0.024760</td>\n",
       "      <td>0.051222</td>\n",
       "      <td>-0.104293</td>\n",
       "      <td>0.042754</td>\n",
       "      <td>-0.065226</td>\n",
       "      <td>0.047300</td>\n",
       "      <td>0.030924</td>\n",
       "      <td>...</td>\n",
       "      <td>0.156765</td>\n",
       "      <td>0.145150</td>\n",
       "      <td>0.312183</td>\n",
       "      <td>0.014973</td>\n",
       "      <td>0.025623</td>\n",
       "      <td>1.000000</td>\n",
       "      <td>-0.641636</td>\n",
       "      <td>0.379912</td>\n",
       "      <td>-0.200318</td>\n",
       "      <td>-0.452255</td>\n",
       "    </tr>\n",
       "    <tr>\n",
       "      <th>fiber_optic</th>\n",
       "      <td>0.326470</td>\n",
       "      <td>0.787195</td>\n",
       "      <td>0.360769</td>\n",
       "      <td>-0.022779</td>\n",
       "      <td>-0.050552</td>\n",
       "      <td>0.335763</td>\n",
       "      <td>-0.305984</td>\n",
       "      <td>0.243014</td>\n",
       "      <td>-0.076809</td>\n",
       "      <td>-0.209965</td>\n",
       "      <td>...</td>\n",
       "      <td>0.165940</td>\n",
       "      <td>0.176356</td>\n",
       "      <td>-0.020299</td>\n",
       "      <td>0.329744</td>\n",
       "      <td>0.322457</td>\n",
       "      <td>-0.641636</td>\n",
       "      <td>1.000000</td>\n",
       "      <td>0.465736</td>\n",
       "      <td>0.366420</td>\n",
       "      <td>0.290183</td>\n",
       "    </tr>\n",
       "    <tr>\n",
       "      <th>internet</th>\n",
       "      <td>0.320592</td>\n",
       "      <td>0.763191</td>\n",
       "      <td>0.374878</td>\n",
       "      <td>0.001094</td>\n",
       "      <td>-0.001870</td>\n",
       "      <td>0.284608</td>\n",
       "      <td>-0.319694</td>\n",
       "      <td>0.217824</td>\n",
       "      <td>-0.038061</td>\n",
       "      <td>-0.217542</td>\n",
       "      <td>...</td>\n",
       "      <td>0.380990</td>\n",
       "      <td>0.380151</td>\n",
       "      <td>0.335695</td>\n",
       "      <td>0.414951</td>\n",
       "      <td>0.418450</td>\n",
       "      <td>0.379912</td>\n",
       "      <td>0.465736</td>\n",
       "      <td>1.000000</td>\n",
       "      <td>0.210794</td>\n",
       "      <td>-0.171817</td>\n",
       "    </tr>\n",
       "    <tr>\n",
       "      <th>multiple_lines</th>\n",
       "      <td>0.163746</td>\n",
       "      <td>0.490912</td>\n",
       "      <td>0.469042</td>\n",
       "      <td>0.075429</td>\n",
       "      <td>0.060319</td>\n",
       "      <td>0.083583</td>\n",
       "      <td>-0.227672</td>\n",
       "      <td>-0.088558</td>\n",
       "      <td>-0.003594</td>\n",
       "      <td>0.106618</td>\n",
       "      <td>...</td>\n",
       "      <td>0.202228</td>\n",
       "      <td>0.201733</td>\n",
       "      <td>0.100421</td>\n",
       "      <td>0.257804</td>\n",
       "      <td>0.259194</td>\n",
       "      <td>-0.200318</td>\n",
       "      <td>0.366420</td>\n",
       "      <td>0.210794</td>\n",
       "      <td>1.000000</td>\n",
       "      <td>0.279530</td>\n",
       "    </tr>\n",
       "    <tr>\n",
       "      <th>phone</th>\n",
       "      <td>0.016696</td>\n",
       "      <td>0.248033</td>\n",
       "      <td>0.113008</td>\n",
       "      <td>0.008271</td>\n",
       "      <td>-0.006916</td>\n",
       "      <td>0.002747</td>\n",
       "      <td>-0.004463</td>\n",
       "      <td>-0.001243</td>\n",
       "      <td>-0.003142</td>\n",
       "      <td>0.004442</td>\n",
       "      <td>...</td>\n",
       "      <td>-0.052133</td>\n",
       "      <td>-0.070076</td>\n",
       "      <td>-0.095138</td>\n",
       "      <td>-0.021383</td>\n",
       "      <td>-0.033477</td>\n",
       "      <td>-0.452255</td>\n",
       "      <td>0.290183</td>\n",
       "      <td>-0.171817</td>\n",
       "      <td>0.279530</td>\n",
       "      <td>1.000000</td>\n",
       "    </tr>\n",
       "  </tbody>\n",
       "</table>\n",
       "<p>28 rows × 28 columns</p>\n",
       "</div>"
      ],
      "text/plain": [
       "                         paperless_billing  monthly_charges  total_charges  \\\n",
       "paperless_billing                 1.000000         0.351930       0.157830   \n",
       "monthly_charges                   0.351930         1.000000       0.651065   \n",
       "total_charges                     0.157830         0.651065       1.000000   \n",
       "bank_transfer_automatic          -0.017469         0.042410       0.186119   \n",
       "credit_card_automatic            -0.013726         0.030055       0.182663   \n",
       "electronic_check                  0.208427         0.271117      -0.060436   \n",
       "mailed_check                     -0.203981        -0.376568      -0.294708   \n",
       "month_-to_-month                  0.168296         0.058933      -0.446776   \n",
       "one_year                         -0.052278         0.004810       0.170569   \n",
       "two_year                         -0.146281        -0.073256       0.358036   \n",
       "client_left                       0.191454         0.192858      -0.199484   \n",
       "duration                          0.004729         0.246715       0.825811   \n",
       "senior_citizen                    0.156258         0.219874       0.102411   \n",
       "partner                          -0.013957         0.097825       0.319072   \n",
       "dependents                       -0.110131        -0.112343       0.064653   \n",
       "female                            0.011902         0.013779      -0.000048   \n",
       "male                             -0.011902        -0.013779       0.000048   \n",
       "online_security                  -0.004051         0.296447       0.412619   \n",
       "online_backup                     0.127056         0.441529       0.510100   \n",
       "device_protection                 0.104079         0.482607       0.522881   \n",
       "tech_support                      0.037536         0.338301       0.432868   \n",
       "streaming_tv                      0.224241         0.629668       0.515709   \n",
       "streaming_movies                  0.211583         0.627235       0.519867   \n",
       "d_sl                             -0.063390        -0.161368      -0.052190   \n",
       "fiber_optic                       0.326470         0.787195       0.360769   \n",
       "internet                          0.320592         0.763191       0.374878   \n",
       "multiple_lines                    0.163746         0.490912       0.469042   \n",
       "phone                             0.016696         0.248033       0.113008   \n",
       "\n",
       "                         bank_transfer_automatic  credit_card_automatic  \\\n",
       "paperless_billing                      -0.017469              -0.013726   \n",
       "monthly_charges                         0.042410               0.030055   \n",
       "total_charges                           0.186119               0.182663   \n",
       "bank_transfer_automatic                 1.000000              -0.278423   \n",
       "credit_card_automatic                  -0.278423               1.000000   \n",
       "electronic_check                       -0.377270              -0.373978   \n",
       "mailed_check                           -0.288097              -0.285583   \n",
       "month_-to_-month                       -0.180159              -0.204960   \n",
       "one_year                                0.057629               0.067590   \n",
       "two_year                                0.155004               0.174410   \n",
       "client_left                            -0.118136              -0.134687   \n",
       "duration                                0.243815               0.232827   \n",
       "senior_citizen                         -0.016235              -0.024359   \n",
       "partner                                 0.111406               0.082327   \n",
       "dependents                              0.052369               0.061134   \n",
       "female                                  0.015973              -0.001632   \n",
       "male                                   -0.015973               0.001632   \n",
       "online_security                         0.094366               0.115473   \n",
       "online_backup                           0.086942               0.090455   \n",
       "device_protection                       0.083047               0.111252   \n",
       "tech_support                            0.100472               0.117024   \n",
       "streaming_tv                            0.046121               0.040010   \n",
       "streaming_movies                        0.048755               0.048398   \n",
       "d_sl                                    0.024760               0.051222   \n",
       "fiber_optic                            -0.022779              -0.050552   \n",
       "internet                                0.001094              -0.001870   \n",
       "multiple_lines                          0.075429               0.060319   \n",
       "phone                                   0.008271              -0.006916   \n",
       "\n",
       "                         electronic_check  mailed_check  month_-to_-month  \\\n",
       "paperless_billing                0.208427     -0.203981          0.168296   \n",
       "monthly_charges                  0.271117     -0.376568          0.058933   \n",
       "total_charges                   -0.060436     -0.294708         -0.446776   \n",
       "bank_transfer_automatic         -0.377270     -0.288097         -0.180159   \n",
       "credit_card_automatic           -0.373978     -0.285583         -0.204960   \n",
       "electronic_check                 1.000000     -0.386971          0.330879   \n",
       "mailed_check                    -0.386971      1.000000          0.006209   \n",
       "month_-to_-month                 0.330879      0.006209          1.000000   \n",
       "one_year                        -0.109546      0.000197         -0.570053   \n",
       "two_year                        -0.281147     -0.007423         -0.621933   \n",
       "client_left                      0.301455     -0.090773          0.404565   \n",
       "duration                        -0.210301     -0.232083         -0.649423   \n",
       "senior_citizen                   0.171322     -0.152987          0.137752   \n",
       "partner                         -0.083207     -0.096948         -0.280202   \n",
       "dependents                      -0.149274      0.056448         -0.229715   \n",
       "female                          -0.000844     -0.013199          0.003251   \n",
       "male                             0.000844      0.013199         -0.003251   \n",
       "online_security                 -0.112295     -0.079918         -0.246844   \n",
       "online_backup                   -0.000364     -0.174075         -0.164393   \n",
       "device_protection               -0.003308     -0.187325         -0.225988   \n",
       "tech_support                    -0.114807     -0.084631         -0.285491   \n",
       "streaming_tv                     0.144747     -0.247712         -0.112550   \n",
       "streaming_movies                 0.137420     -0.250290         -0.117867   \n",
       "d_sl                            -0.104293      0.042754         -0.065226   \n",
       "fiber_optic                      0.335763     -0.305984          0.243014   \n",
       "internet                         0.284608     -0.319694          0.217824   \n",
       "multiple_lines                   0.083583     -0.227672         -0.088558   \n",
       "phone                            0.002747     -0.004463         -0.001243   \n",
       "\n",
       "                         one_year  two_year  ...  online_backup  \\\n",
       "paperless_billing       -0.052278 -0.146281  ...       0.127056   \n",
       "monthly_charges          0.004810 -0.073256  ...       0.441529   \n",
       "total_charges            0.170569  0.358036  ...       0.510100   \n",
       "bank_transfer_automatic  0.057629  0.155004  ...       0.086942   \n",
       "credit_card_automatic    0.067590  0.174410  ...       0.090455   \n",
       "electronic_check        -0.109546 -0.281147  ...      -0.000364   \n",
       "mailed_check             0.000197 -0.007423  ...      -0.174075   \n",
       "month_-to_-month        -0.570053 -0.621933  ...      -0.164393   \n",
       "one_year                 1.000000 -0.288843  ...       0.084113   \n",
       "two_year                -0.288843  1.000000  ...       0.111391   \n",
       "client_left             -0.178225 -0.301552  ...      -0.082307   \n",
       "duration                 0.202418  0.563814  ...       0.361100   \n",
       "senior_citizen          -0.046491 -0.116205  ...       0.066663   \n",
       "partner                  0.083067  0.247334  ...       0.141849   \n",
       "dependents               0.069222  0.201699  ...       0.023639   \n",
       "female                  -0.007755  0.003603  ...       0.013093   \n",
       "male                     0.007755 -0.003603  ...      -0.013093   \n",
       "online_security          0.100658  0.191698  ...       0.283285   \n",
       "online_backup            0.084113  0.111391  ...       1.000000   \n",
       "device_protection        0.102911  0.165248  ...       0.303058   \n",
       "tech_support             0.096258  0.240924  ...       0.293705   \n",
       "streaming_tv             0.061930  0.072124  ...       0.281601   \n",
       "streaming_movies         0.064780  0.075603  ...       0.274523   \n",
       "d_sl                     0.047300  0.030924  ...       0.156765   \n",
       "fiber_optic             -0.076809 -0.209965  ...       0.165940   \n",
       "internet                -0.038061 -0.217542  ...       0.380990   \n",
       "multiple_lines          -0.003594  0.106618  ...       0.202228   \n",
       "phone                   -0.003142  0.004442  ...      -0.052133   \n",
       "\n",
       "                         device_protection  tech_support  streaming_tv  \\\n",
       "paperless_billing                 0.104079      0.037536      0.224241   \n",
       "monthly_charges                   0.482607      0.338301      0.629668   \n",
       "total_charges                     0.522881      0.432868      0.515709   \n",
       "bank_transfer_automatic           0.083047      0.100472      0.046121   \n",
       "credit_card_automatic             0.111252      0.117024      0.040010   \n",
       "electronic_check                 -0.003308     -0.114807      0.144747   \n",
       "mailed_check                     -0.187325     -0.084631     -0.247712   \n",
       "month_-to_-month                 -0.225988     -0.285491     -0.112550   \n",
       "one_year                          0.102911      0.096258      0.061930   \n",
       "two_year                          0.165248      0.240924      0.072124   \n",
       "client_left                      -0.066193     -0.164716      0.063254   \n",
       "duration                          0.361469      0.325307      0.280165   \n",
       "senior_citizen                    0.059514     -0.060577      0.105445   \n",
       "partner                           0.153556      0.120206      0.124483   \n",
       "dependents                        0.013900      0.063053     -0.016499   \n",
       "female                            0.000807      0.008507      0.007124   \n",
       "male                             -0.000807     -0.008507     -0.007124   \n",
       "online_security                   0.274875      0.354458      0.175514   \n",
       "online_backup                     0.303058      0.293705      0.281601   \n",
       "device_protection                 1.000000      0.332850      0.389924   \n",
       "tech_support                      0.332850      1.000000      0.277549   \n",
       "streaming_tv                      0.389924      0.277549      1.000000   \n",
       "streaming_movies                  0.402309      0.280155      0.533380   \n",
       "d_sl                              0.145150      0.312183      0.014973   \n",
       "fiber_optic                       0.176356     -0.020299      0.329744   \n",
       "internet                          0.380151      0.335695      0.414951   \n",
       "multiple_lines                    0.201733      0.100421      0.257804   \n",
       "phone                            -0.070076     -0.095138     -0.021383   \n",
       "\n",
       "                         streaming_movies      d_sl  fiber_optic  internet  \\\n",
       "paperless_billing                0.211583 -0.063390     0.326470  0.320592   \n",
       "monthly_charges                  0.627235 -0.161368     0.787195  0.763191   \n",
       "total_charges                    0.519867 -0.052190     0.360769  0.374878   \n",
       "bank_transfer_automatic          0.048755  0.024760    -0.022779  0.001094   \n",
       "credit_card_automatic            0.048398  0.051222    -0.050552 -0.001870   \n",
       "electronic_check                 0.137420 -0.104293     0.335763  0.284608   \n",
       "mailed_check                    -0.250290  0.042754    -0.305984 -0.319694   \n",
       "month_-to_-month                -0.117867 -0.065226     0.243014  0.217824   \n",
       "one_year                         0.064780  0.047300    -0.076809 -0.038061   \n",
       "two_year                         0.075603  0.030924    -0.209965 -0.217542   \n",
       "client_left                      0.060860 -0.124141     0.307463  0.227578   \n",
       "duration                         0.285298  0.013844     0.017782  0.037417   \n",
       "senior_citizen                   0.119842 -0.108276     0.254923  0.182519   \n",
       "partner                          0.118108 -0.001043     0.001235  0.000286   \n",
       "dependents                      -0.038375  0.051593    -0.164101 -0.138383   \n",
       "female                           0.010105 -0.007584     0.011189  0.004745   \n",
       "male                            -0.010105  0.007584    -0.011189 -0.004745   \n",
       "online_security                  0.187426  0.320343    -0.030506  0.332799   \n",
       "online_backup                    0.274523  0.156765     0.165940  0.380990   \n",
       "device_protection                0.402309  0.145150     0.176356  0.380151   \n",
       "tech_support                     0.280155  0.312183    -0.020299  0.335695   \n",
       "streaming_tv                     0.533380  0.014973     0.329744  0.414951   \n",
       "streaming_movies                 1.000000  0.025623     0.322457  0.418450   \n",
       "d_sl                             0.025623  1.000000    -0.641636  0.379912   \n",
       "fiber_optic                      0.322457 -0.641636     1.000000  0.465736   \n",
       "internet                         0.418450  0.379912     0.465736  1.000000   \n",
       "multiple_lines                   0.259194 -0.200318     0.366420  0.210794   \n",
       "phone                           -0.033477 -0.452255     0.290183 -0.171817   \n",
       "\n",
       "                         multiple_lines     phone  \n",
       "paperless_billing              0.163746  0.016696  \n",
       "monthly_charges                0.490912  0.248033  \n",
       "total_charges                  0.469042  0.113008  \n",
       "bank_transfer_automatic        0.075429  0.008271  \n",
       "credit_card_automatic          0.060319 -0.006916  \n",
       "electronic_check               0.083583  0.002747  \n",
       "mailed_check                  -0.227672 -0.004463  \n",
       "month_-to_-month              -0.088558 -0.001243  \n",
       "one_year                      -0.003594 -0.003142  \n",
       "two_year                       0.106618  0.004442  \n",
       "client_left                    0.040033  0.011691  \n",
       "duration                       0.332292  0.007875  \n",
       "senior_citizen                 0.142996  0.008392  \n",
       "partner                        0.142561  0.018397  \n",
       "dependents                    -0.024307 -0.001078  \n",
       "female                         0.008883  0.007515  \n",
       "male                          -0.008883 -0.007515  \n",
       "online_security                0.098592 -0.091676  \n",
       "online_backup                  0.202228 -0.052133  \n",
       "device_protection              0.201733 -0.070076  \n",
       "tech_support                   0.100421 -0.095138  \n",
       "streaming_tv                   0.257804 -0.021383  \n",
       "streaming_movies               0.259194 -0.033477  \n",
       "d_sl                          -0.200318 -0.452255  \n",
       "fiber_optic                    0.366420  0.290183  \n",
       "internet                       0.210794 -0.171817  \n",
       "multiple_lines                 1.000000  0.279530  \n",
       "phone                          0.279530  1.000000  \n",
       "\n",
       "[28 rows x 28 columns]"
      ]
     },
     "execution_count": 17,
     "metadata": {},
     "output_type": "execute_result"
    }
   ],
   "source": [
    "sum_data.corr()"
   ]
  },
  {
   "cell_type": "code",
   "execution_count": 18,
   "id": "0622d171",
   "metadata": {},
   "outputs": [
    {
     "data": {
      "text/plain": [
       "<AxesSubplot:>"
      ]
     },
     "execution_count": 18,
     "metadata": {},
     "output_type": "execute_result"
    },
    {
     "data": {
      "image/png": "[encoded data removed]",
      "text/plain": [
       "<Figure size 864x720 with 2 Axes>"
      ]
     },
     "metadata": {
      "needs_background": "light"
     },
     "output_type": "display_data"
    }
   ],
   "source": [
    "plt.subplots(figsize=(12, 10))\n",
    "sns.heatmap(sum_data.corr())"
   ]
  },
  {
   "cell_type": "markdown",
   "id": "c59ec9a1",
   "metadata": {},
   "source": [
    "### 2.2.7. Анализ некатегориальных данных в итоговом датасете\n",
    "#### 2.2.7.1. total_charges"
   ]
  },
  {
   "cell_type": "code",
   "execution_count": 19,
   "id": "19e8d100",
   "metadata": {},
   "outputs": [
    {
     "data": {
      "image/png": "[encoded data removed]",
      "text/plain": [
       "<Figure size 1008x576 with 1 Axes>"
      ]
     },
     "metadata": {
      "needs_background": "light"
     },
     "output_type": "display_data"
    }
   ],
   "source": [
    "sum_data.boxplot(column='total_charges', figsize=(14, 8))\n",
    "plt.title('Оценка квантилей и предельных значений total_charges')\n",
    "plt.ylabel('Значения total_charges')\n",
    "plt.show()"
   ]
  },
  {
   "cell_type": "code",
   "execution_count": 20,
   "id": "3784dfbd",
   "metadata": {},
   "outputs": [
    {
     "name": "stdout",
     "output_type": "stream",
     "text": [
      "В основном значения total_charges находятся между квантилями в промежутке от 401.45 до 3794.7375 Значения выше 8684.8 и ниже 18.8 можно расценивать как выбросы.\n"
     ]
    }
   ],
   "source": [
    "q3_temp, q1_temp, mn_temp, mx_temp = calc_quantiles(sum_data['total_charges'])\n",
    "print(f'В основном значения total_charges находятся между квантилями в промежутке от {q1_temp} до {q3_temp} Значения выше {mx_temp} и ниже {mn_temp} можно расценивать как выбросы.')"
   ]
  },
  {
   "cell_type": "code",
   "execution_count": 21,
   "id": "74314d1e",
   "metadata": {},
   "outputs": [
    {
     "data": {
      "image/png": "[encoded data removed]",
      "text/plain": [
       "<Figure size 1008x576 with 1 Axes>"
      ]
     },
     "metadata": {
      "needs_background": "light"
     },
     "output_type": "display_data"
    }
   ],
   "source": [
    "sum_data['total_charges'].hist(bins=50, figsize=(14, 8))\n",
    "plt.title('Распредление total_charges')\n",
    "plt.ylabel('Частота результата')\n",
    "plt.xlabel('Значение total_charges')\n",
    "plt.show()"
   ]
  },
  {
   "cell_type": "markdown",
   "id": "f84101da",
   "metadata": {},
   "source": [
    "#### 2.2.7.2. monthly_charges"
   ]
  },
  {
   "cell_type": "code",
   "execution_count": 22,
   "id": "6a8c2887",
   "metadata": {},
   "outputs": [
    {
     "data": {
      "image/png": "[encoded data removed]",
      "text/plain": [
       "<Figure size 1008x576 with 1 Axes>"
      ]
     },
     "metadata": {
      "needs_background": "light"
     },
     "output_type": "display_data"
    }
   ],
   "source": [
    "sum_data.boxplot(column='monthly_charges', figsize=(14, 8))\n",
    "plt.title('Оценка квантилей и предельных значений monthly_charges')\n",
    "plt.ylabel('Значения monthly_charges')\n",
    "plt.show()"
   ]
  },
  {
   "cell_type": "code",
   "execution_count": 23,
   "id": "3de2ea10",
   "metadata": {},
   "outputs": [
    {
     "name": "stdout",
     "output_type": "stream",
     "text": [
      "В основном значения monthly_charges находятся между квантилями в промежутке от 35.5875 до 89.8625 Значения выше 118.75 и ниже 18.25 можно расценивать как выбросы.\n"
     ]
    }
   ],
   "source": [
    "q3_temp, q1_temp, mn_temp, mx_temp = calc_quantiles(sum_data['monthly_charges'])\n",
    "print(f'В основном значения monthly_charges находятся между квантилями в промежутке от {q1_temp} до {q3_temp} Значения выше {mx_temp} и ниже {mn_temp} можно расценивать как выбросы.')"
   ]
  },
  {
   "cell_type": "code",
   "execution_count": 24,
   "id": "30319526",
   "metadata": {},
   "outputs": [
    {
     "data": {
      "image/png": "[encoded data removed]",
      "text/plain": [
       "<Figure size 1008x576 with 1 Axes>"
      ]
     },
     "metadata": {
      "needs_background": "light"
     },
     "output_type": "display_data"
    }
   ],
   "source": [
    "sum_data['monthly_charges'].hist(bins=30, figsize=(14, 8))\n",
    "plt.title('Распредление monthly_charges ')\n",
    "plt.ylabel('Частота результата')\n",
    "plt.xlabel('Значение monthly_charges')\n",
    "plt.show()"
   ]
  },
  {
   "cell_type": "markdown",
   "id": "ccb65660",
   "metadata": {},
   "source": [
    "# 3. Формирование обучающей и тестовой выборок"
   ]
  },
  {
   "cell_type": "code",
   "execution_count": 25,
   "id": "95af8913",
   "metadata": {},
   "outputs": [
    {
     "name": "stdout",
     "output_type": "stream",
     "text": [
      "Доля ушедших клиентов: 26.58%\n"
     ]
    }
   ],
   "source": [
    "# сначала разберемся с балансом классов\n",
    "client_left = sum_data['client_left'].mean()\n",
    "print(f'Доля ушедших клиентов: {np.round(client_left*100, 2)}%')"
   ]
  },
  {
   "cell_type": "code",
   "execution_count": 26,
   "id": "a514b503",
   "metadata": {},
   "outputs": [
    {
     "name": "stdout",
     "output_type": "stream",
     "text": [
      "Размер features_train: (5625, 27)\n",
      "Размер target_train: (5625,)\n",
      "Размер features_test: (1407, 27)\n",
      "Размер target_test: (1407,)\n"
     ]
    }
   ],
   "source": [
    "# формируем выборки\n",
    "features = sum_data.drop(['client_left'], axis=1)\n",
    "target = sum_data['client_left']\n",
    "\n",
    "features_train, features_test, target_train, target_test = train_test_split(features, target, test_size=TEST_SIZE, random_state=RANDOM_STATE)\n",
    "print('Размер features_train:', features_train.shape)\n",
    "print('Размер target_train:', target_train.shape)\n",
    "print('Размер features_test:', features_test.shape)\n",
    "print('Размер target_test:', target_test.shape)"
   ]
  },
  {
   "cell_type": "code",
   "execution_count": 27,
   "id": "f794a6d4",
   "metadata": {},
   "outputs": [],
   "source": [
    "# Увеличим количество положительных случаев\n",
    "def upsample(features, target, repeat):\n",
    "    features_zeros = features[target == 0]\n",
    "    features_ones = features[target == 1]\n",
    "    target_zeros = target[target == 0]\n",
    "    target_ones = target[target == 1]\n",
    "    features_upsampled = pd.concat([features_zeros] + [features_ones] * repeat)\n",
    "    target_upsampled = pd.concat([target_zeros] + [target_ones] * repeat)\n",
    "    features_upsampled, target_upsampled = shuffle(features_upsampled, target_upsampled, random_state=42)\n",
    "    return features_upsampled, target_upsampled "
   ]
  },
  {
   "cell_type": "code",
   "execution_count": 28,
   "id": "9d1b9ce1",
   "metadata": {},
   "outputs": [
    {
     "name": "stdout",
     "output_type": "stream",
     "text": [
      "Положительных ответов: 2978 из 7114\n",
      "Доля положительных ответов: 0.4186111892043857\n"
     ]
    }
   ],
   "source": [
    "features_train, target_train = upsample(features_train, target_train, 2)\n",
    "print('Положительных ответов:', target_train.sum(), 'из', target_train.shape[0])\n",
    "print('Доля положительных ответов:', target_train.sum() / target_train.shape[0])"
   ]
  },
  {
   "cell_type": "markdown",
   "id": "51b6326b",
   "metadata": {},
   "source": [
    "# 4. Выбор модели классификации"
   ]
  },
  {
   "cell_type": "markdown",
   "id": "0253922e",
   "metadata": {},
   "source": [
    "## 4.1. Предварительная оценка"
   ]
  },
  {
   "cell_type": "code",
   "execution_count": 29,
   "id": "f0697e9f",
   "metadata": {},
   "outputs": [
    {
     "data": {
      "text/plain": [
       "LogisticRegression(random_state=250722, solver='liblinear')"
      ]
     },
     "execution_count": 29,
     "metadata": {},
     "output_type": "execute_result"
    }
   ],
   "source": [
    "model = LogisticRegression(random_state=RANDOM_STATE, solver='liblinear')\n",
    "model.fit(features_train, target_train)"
   ]
  },
  {
   "cell_type": "code",
   "execution_count": 30,
   "id": "e5df3908",
   "metadata": {},
   "outputs": [],
   "source": [
    "probabilities_test = model.predict_proba(features_test)\n",
    "probabilities_one_test = probabilities_test[:, 1]"
   ]
  },
  {
   "cell_type": "code",
   "execution_count": 31,
   "id": "7dbb51ea",
   "metadata": {},
   "outputs": [
    {
     "name": "stdout",
     "output_type": "stream",
     "text": [
      "0.842000204991544\n"
     ]
    }
   ],
   "source": [
    "auc_roc = roc_auc_score(target_test, probabilities_one_test) \n",
    "print(auc_roc)"
   ]
  },
  {
   "cell_type": "code",
   "execution_count": 32,
   "id": "20f1ea6d",
   "metadata": {},
   "outputs": [
    {
     "data": {
      "image/png": "[encoded data removed]",
      "text/plain": [
       "<Figure size 432x288 with 1 Axes>"
      ]
     },
     "metadata": {
      "needs_background": "light"
     },
     "output_type": "display_data"
    }
   ],
   "source": [
    "fpr, tpr, thresholds = roc_curve(target_test, probabilities_one_test) \n",
    "\n",
    "plt.figure()\n",
    "\n",
    "# < постройте график >\n",
    "plt.plot(fpr, tpr)\n",
    "\n",
    "# ROC-кривая случайной модели (выглядит как прямая)\n",
    "plt.plot([0, 1], [0, 1], linestyle='--')\n",
    "\n",
    "# < примените функции plt.xlim() и plt.ylim(), чтобы\n",
    "#   установить границы осей от 0 до 1 >\n",
    "plt.xlim([0.0, 1.0])\n",
    "plt.ylim([0.0, 1.0])\n",
    "\n",
    "# < примените функции plt.xlabel() и plt.ylabel(), чтобы\n",
    "#   подписать оси \"False Positive Rate\" и \"True Positive Rate\" >\n",
    "plt.xlabel('False Positive Rate')\n",
    "plt.ylabel('True Positive Rate')\n",
    "\n",
    "# < добавьте к графику заголовок \"ROC-кривая\" функцией plt.title() >\n",
    "plt.title('ROC-кривая')\n",
    "plt.show()"
   ]
  },
  {
   "cell_type": "code",
   "execution_count": 33,
   "id": "46862086",
   "metadata": {},
   "outputs": [
    {
     "name": "stdout",
     "output_type": "stream",
     "text": [
      "Порог = 0.00 | Точность = 0.270, Полнота = 1.000\n",
      "Порог = 0.02 | Точность = 0.292, Полнота = 0.995\n",
      "Порог = 0.04 | Точность = 0.312, Полнота = 0.989\n",
      "Порог = 0.06 | Точность = 0.328, Полнота = 0.987\n",
      "Порог = 0.08 | Точность = 0.340, Полнота = 0.984\n",
      "Порог = 0.10 | Точность = 0.351, Полнота = 0.982\n",
      "Порог = 0.12 | Точность = 0.361, Полнота = 0.976\n",
      "Порог = 0.14 | Точность = 0.375, Полнота = 0.971\n",
      "Порог = 0.16 | Точность = 0.388, Полнота = 0.968\n",
      "Порог = 0.18 | Точность = 0.397, Полнота = 0.958\n",
      "Порог = 0.20 | Точность = 0.405, Полнота = 0.950\n",
      "Порог = 0.22 | Точность = 0.417, Полнота = 0.939\n",
      "Порог = 0.24 | Точность = 0.438, Полнота = 0.937\n",
      "Порог = 0.26 | Точность = 0.451, Полнота = 0.932\n",
      "Порог = 0.28 | Точность = 0.461, Полнота = 0.921\n",
      "Порог = 0.30 | Точность = 0.465, Полнота = 0.895\n",
      "Порог = 0.32 | Точность = 0.481, Полнота = 0.887\n",
      "Порог = 0.34 | Точность = 0.493, Полнота = 0.858\n",
      "Порог = 0.36 | Точность = 0.505, Полнота = 0.847\n",
      "Порог = 0.38 | Точность = 0.512, Полнота = 0.834\n",
      "Порог = 0.40 | Точность = 0.514, Полнота = 0.811\n",
      "Порог = 0.42 | Точность = 0.526, Полнота = 0.797\n",
      "Порог = 0.44 | Точность = 0.534, Полнота = 0.782\n",
      "Порог = 0.46 | Точность = 0.543, Полнота = 0.755\n",
      "Порог = 0.48 | Точность = 0.544, Полнота = 0.713\n",
      "Порог = 0.50 | Точность = 0.551, Полнота = 0.697\n",
      "Порог = 0.52 | Точность = 0.565, Полнота = 0.679\n",
      "Порог = 0.54 | Точность = 0.571, Полнота = 0.658\n",
      "Порог = 0.56 | Точность = 0.582, Полнота = 0.624\n",
      "Порог = 0.58 | Точность = 0.588, Полнота = 0.608\n",
      "Порог = 0.60 | Точность = 0.596, Полнота = 0.579\n",
      "Порог = 0.62 | Точность = 0.622, Полнота = 0.571\n",
      "Порог = 0.64 | Точность = 0.642, Полнота = 0.553\n",
      "Порог = 0.66 | Точность = 0.653, Полнота = 0.516\n",
      "Порог = 0.68 | Точность = 0.652, Полнота = 0.474\n",
      "Порог = 0.70 | Точность = 0.657, Полнота = 0.439\n",
      "Порог = 0.72 | Точность = 0.665, Полнота = 0.403\n",
      "Порог = 0.74 | Точность = 0.675, Полнота = 0.361\n",
      "Порог = 0.76 | Точность = 0.694, Полнота = 0.316\n",
      "Порог = 0.78 | Точность = 0.757, Полнота = 0.279\n",
      "Порог = 0.80 | Точность = 0.776, Полнота = 0.237\n",
      "Порог = 0.82 | Точность = 0.845, Полнота = 0.187\n",
      "Порог = 0.84 | Точность = 0.914, Полнота = 0.139\n",
      "Порог = 0.86 | Точность = 0.913, Полнота = 0.111\n",
      "Порог = 0.88 | Точность = 0.955, Полнота = 0.055\n",
      "Порог = 0.90 | Точность = 0.750, Полнота = 0.008\n",
      "Порог = 0.92 | Точность = 0.000, Полнота = 0.000\n",
      "Порог = 0.94 | Точность = 0.000, Полнота = 0.000\n",
      "Порог = 0.96 | Точность = 0.000, Полнота = 0.000\n",
      "Порог = 0.98 | Точность = 0.000, Полнота = 0.000\n"
     ]
    }
   ],
   "source": [
    "for threshold in np.arange(0, 1, 0.02):\n",
    "    predicted_test = probabilities_one_test > threshold \n",
    "    precision = precision_score(target_test, predicted_test)\n",
    "    recall = recall_score(target_test, predicted_test)\n",
    "\n",
    "    print(\"Порог = {:.2f} | Точность = {:.3f}, Полнота = {:.3f}\".format(\n",
    "        threshold, precision, recall))"
   ]
  },
  {
   "cell_type": "code",
   "execution_count": 34,
   "id": "3cf3910d",
   "metadata": {},
   "outputs": [
    {
     "data": {
      "image/png": "[encoded data removed]",
      "text/plain": [
       "<Figure size 432x432 with 1 Axes>"
      ]
     },
     "metadata": {
      "needs_background": "light"
     },
     "output_type": "display_data"
    }
   ],
   "source": [
    "precision, recall, thresholds = precision_recall_curve(target_test, probabilities_one_test)\n",
    "plt.figure(figsize=(6, 6))\n",
    "plt.step(recall, precision, where='post')\n",
    "plt.xlabel('Recall')\n",
    "plt.ylabel('Precision')\n",
    "plt.ylim([0.0, 1.05])\n",
    "plt.xlim([0.0, 1.0])\n",
    "plt.title('Кривая Precision-Recall')\n",
    "plt.show()"
   ]
  },
  {
   "cell_type": "code",
   "execution_count": null,
   "id": "9265edbe",
   "metadata": {},
   "outputs": [],
   "source": []
  },
  {
   "cell_type": "markdown",
   "id": "e7b63e79",
   "metadata": {},
   "source": [
    "## 4.2. Прогон нескольких моделей"
   ]
  },
  {
   "cell_type": "code",
   "execution_count": 35,
   "id": "e35d6ef4",
   "metadata": {},
   "outputs": [
    {
     "name": "stdout",
     "output_type": "stream",
     "text": [
      "Идут вычисления по модели DummyClassifier: {'constant': None, 'random_state': 250722, 'strategy': 'prior'}\n",
      "-- модель обучена\n",
      "-- cредняя оценка качества модели DummyClassifier методом кросс-валидации по метрике ROC-AUC: 0.5\n",
      "\n",
      "Идут вычисления по модели LogisticRegression: {'C': 1.0, 'class_weight': None, 'dual': False, 'fit_intercept': True, 'intercept_scaling': 1, 'l1_ratio': None, 'max_iter': 100, 'multi_class': 'auto', 'n_jobs': None, 'penalty': 'l2', 'random_state': 250722, 'solver': 'liblinear', 'tol': 0.0001, 'verbose': 0, 'warm_start': False}\n",
      "-- модель обучена\n",
      "-- cредняя оценка качества модели LogisticRegression методом кросс-валидации по метрике ROC-AUC: 0.8468\n",
      "\n",
      "Идут вычисления по модели DecisionTreeClassifier: {'ccp_alpha': 0.0, 'class_weight': None, 'criterion': 'gini', 'max_depth': 8, 'max_features': None, 'max_leaf_nodes': None, 'min_impurity_decrease': 0.0, 'min_impurity_split': None, 'min_samples_leaf': 1, 'min_samples_split': 2, 'min_weight_fraction_leaf': 0.0, 'random_state': 250722, 'splitter': 'best'}\n",
      "-- модель обучена\n",
      "-- cредняя оценка качества модели DecisionTreeClassifier методом кросс-валидации по метрике ROC-AUC: 0.8601\n",
      "\n",
      "Идут вычисления по модели RandomForestClassifier: {'bootstrap': True, 'ccp_alpha': 0.0, 'class_weight': None, 'criterion': 'gini', 'max_depth': 10, 'max_features': 'auto', 'max_leaf_nodes': None, 'max_samples': None, 'min_impurity_decrease': 0.0, 'min_impurity_split': None, 'min_samples_leaf': 1, 'min_samples_split': 2, 'min_weight_fraction_leaf': 0.0, 'n_estimators': 200, 'n_jobs': None, 'oob_score': False, 'random_state': 250722, 'verbose': 0, 'warm_start': False}\n",
      "-- модель обучена\n",
      "-- cредняя оценка качества модели RandomForestClassifier методом кросс-валидации по метрике ROC-AUC: 0.9043\n",
      "\n",
      "Идут вычисления по модели CatBoostClassifier: {'iterations': 200, 'learning_rate': 0.03, 'depth': 16, 'random_seed': 250722, 'silent': True, 'bootstrap_type': 'MVS', 'grow_policy': 'Lossguide'}\n",
      "-- модель обучена\n",
      "-- cредняя оценка качества модели CatBoostClassifier методом кросс-валидации по метрике ROC-AUC: 0.9002\n",
      "\n",
      "Идут вычисления по модели LGBMClassifier: {'boosting_type': 'gbdt', 'class_weight': None, 'colsample_bytree': 1.0, 'importance_type': 'split', 'learning_rate': 0.1, 'max_depth': -1, 'min_child_samples': 20, 'min_child_weight': 0.001, 'min_split_gain': 0.0, 'n_estimators': 100, 'n_jobs': -1, 'num_leaves': 31, 'objective': None, 'random_state': None, 'reg_alpha': 0.0, 'reg_lambda': 0.0, 'silent': 'warn', 'subsample': 1.0, 'subsample_for_bin': 200000, 'subsample_freq': 0, 'random_seed': 250722}\n",
      "-- модель обучена\n",
      "-- cредняя оценка качества модели LGBMClassifier методом кросс-валидации по метрике ROC-AUC: 0.931\n",
      "\n",
      "Идут вычисления по модели XGBClassifier: {'objective': 'binary:logistic', 'use_label_encoder': True, 'base_score': None, 'booster': None, 'colsample_bylevel': None, 'colsample_bynode': None, 'colsample_bytree': None, 'enable_categorical': False, 'gamma': None, 'gpu_id': None, 'importance_type': None, 'interaction_constraints': None, 'learning_rate': None, 'max_delta_step': None, 'max_depth': None, 'min_child_weight': None, 'missing': nan, 'monotone_constraints': None, 'n_estimators': 100, 'n_jobs': None, 'num_parallel_tree': None, 'predictor': None, 'random_state': None, 'reg_alpha': None, 'reg_lambda': None, 'scale_pos_weight': None, 'subsample': None, 'tree_method': None, 'validate_parameters': None, 'verbosity': None, 'random_seed': 250722}\n",
      "[16:01:13] WARNING: ..\\src\\learner.cc:576: \n",
      "Parameters: { \"random_seed\" } might not be used.\n",
      "\n",
      "  This could be a false alarm, with some parameters getting used by language bindings but\n",
      "  then being mistakenly passed down to XGBoost core, or some parameter actually being used\n",
      "  but getting flagged wrongly here. Please open an issue if you find any such cases.\n",
      "\n",
      "\n",
      "[16:01:13] WARNING: ..\\src\\learner.cc:1115: Starting in XGBoost 1.3.0, the default evaluation metric used with the objective 'binary:logistic' was changed from 'error' to 'logloss'. Explicitly set eval_metric if you'd like to restore the old behavior.\n",
      "-- модель обучена\n",
      "[16:01:13] WARNING: ..\\src\\learner.cc:576: \n",
      "Parameters: { \"random_seed\" } might not be used.\n",
      "\n",
      "  This could be a false alarm, with some parameters getting used by language bindings but\n",
      "  then being mistakenly passed down to XGBoost core, or some parameter actually being used\n",
      "  but getting flagged wrongly here. Please open an issue if you find any such cases.\n",
      "\n",
      "\n",
      "[16:01:13] WARNING: ..\\src\\learner.cc:1115: Starting in XGBoost 1.3.0, the default evaluation metric used with the objective 'binary:logistic' was changed from 'error' to 'logloss'. Explicitly set eval_metric if you'd like to restore the old behavior.\n",
      "[16:01:13] WARNING: ..\\src\\learner.cc:576: \n",
      "Parameters: { \"random_seed\" } might not be used.\n",
      "\n",
      "  This could be a false alarm, with some parameters getting used by language bindings but\n",
      "  then being mistakenly passed down to XGBoost core, or some parameter actually being used\n",
      "  but getting flagged wrongly here. Please open an issue if you find any such cases.\n",
      "\n",
      "\n",
      "[16:01:13] WARNING: ..\\src\\learner.cc:1115: Starting in XGBoost 1.3.0, the default evaluation metric used with the objective 'binary:logistic' was changed from 'error' to 'logloss'. Explicitly set eval_metric if you'd like to restore the old behavior.\n",
      "[16:01:14] WARNING: ..\\src\\learner.cc:576: \n",
      "Parameters: { \"random_seed\" } might not be used.\n",
      "\n",
      "  This could be a false alarm, with some parameters getting used by language bindings but\n",
      "  then being mistakenly passed down to XGBoost core, or some parameter actually being used\n",
      "  but getting flagged wrongly here. Please open an issue if you find any such cases.\n",
      "\n",
      "\n",
      "[16:01:14] WARNING: ..\\src\\learner.cc:1115: Starting in XGBoost 1.3.0, the default evaluation metric used with the objective 'binary:logistic' was changed from 'error' to 'logloss'. Explicitly set eval_metric if you'd like to restore the old behavior.\n",
      "-- cредняя оценка качества модели XGBClassifier методом кросс-валидации по метрике ROC-AUC: 0.9461\n",
      "\n"
     ]
    }
   ],
   "source": [
    "models = [DummyClassifier(strategy='prior', random_state=RANDOM_STATE),\n",
    "          LogisticRegression(random_state=RANDOM_STATE, solver='liblinear'),\n",
    "          DecisionTreeClassifier(random_state=RANDOM_STATE, max_depth=8), \n",
    "          RandomForestClassifier(random_state=RANDOM_STATE, n_estimators=200, max_depth=10),\n",
    "          CatBoostClassifier(bootstrap_type='MVS', depth=16, grow_policy='Lossguide', iterations=200, learning_rate=0.03, silent=True, random_seed=RANDOM_STATE),\n",
    "          LGBMClassifier(random_seed=RANDOM_STATE),\n",
    "          XGBClassifier(random_seed=RANDOM_STATE),]\n",
    "\n",
    "#          XGBRegressor(random_state=RANDOM_STATE, booster='gbtree', max_depth=4),\n",
    "#          CatBoostRegressor(loss_function='RMSE', l2_leaf_reg=8, learning_rate=0.03, bootstrap_type='MVS', depth=16, grow_policy='Lossguide', iterations=500, silent=True, random_seed=RANDOM_STATE),\n",
    "#          LGBMRegressor(boosting_type='gbdt', n_jobs=4, class_weight=None, learning_rate=0.03, n_estimators=300, random_state=RANDOM_STATE)\n",
    "\n",
    "results = []\n",
    "\n",
    "for md in models: \n",
    "    print(f'Идут вычисления по модели {md.__class__.__name__}:', md.get_params(deep=False))\n",
    "    t1 = datetime.datetime.now() # Засекли время начала обучения\n",
    "    md.fit(features_train, target_train)\n",
    "    t2 = datetime.datetime.now() # Время окончания обучения и начала предсказания\n",
    "    print('-- модель обучена')\n",
    "    t4 = t2 - t1 # Время обучения\n",
    "    dt1 = str(np.round(t4.total_seconds(), 2))+'s' # Время обучения в секундах\n",
    "\n",
    "    cv_roc_auc = abs(np.round(cross_val_score(md, features_train, target_train, cv=3, scoring='roc_auc').mean(), 4))\n",
    "    print(f'-- cредняя оценка качества модели {md.__class__.__name__} методом кросс-валидации по метрике ROC-AUC:', cv_roc_auc)\n",
    "\n",
    "    results.append({'Модель': md.__class__.__name__, \n",
    "                    'cv_roc_auc': cv_roc_auc,\n",
    "                    'Гиперпараметры': md.get_params(deep=False),\n",
    "                    'md': md,\n",
    "                    'Время_обучения': dt1,                    \n",
    "                    'Модель_пригодна': cv_roc_auc > CRIT_AUR_ROC}) \n",
    "\n",
    "    print('')"
   ]
  },
  {
   "cell_type": "code",
   "execution_count": 36,
   "id": "e4363400",
   "metadata": {},
   "outputs": [
    {
     "data": {
      "text/html": [
       "<div>\n",
       "<style scoped>\n",
       "    .dataframe tbody tr th:only-of-type {\n",
       "        vertical-align: middle;\n",
       "    }\n",
       "\n",
       "    .dataframe tbody tr th {\n",
       "        vertical-align: top;\n",
       "    }\n",
       "\n",
       "    .dataframe thead th {\n",
       "        text-align: right;\n",
       "    }\n",
       "</style>\n",
       "<table border=\"1\" class=\"dataframe\">\n",
       "  <thead>\n",
       "    <tr style=\"text-align: right;\">\n",
       "      <th></th>\n",
       "      <th>Модель</th>\n",
       "      <th>cv_roc_auc</th>\n",
       "      <th>Гиперпараметры</th>\n",
       "      <th>Время_обучения</th>\n",
       "      <th>Модель_пригодна</th>\n",
       "    </tr>\n",
       "  </thead>\n",
       "  <tbody>\n",
       "    <tr>\n",
       "      <th>0</th>\n",
       "      <td>DummyClassifier</td>\n",
       "      <td>0.5000</td>\n",
       "      <td>{'constant': None, 'random_state': 250722, 'st...</td>\n",
       "      <td>0.0s</td>\n",
       "      <td>False</td>\n",
       "    </tr>\n",
       "    <tr>\n",
       "      <th>1</th>\n",
       "      <td>LogisticRegression</td>\n",
       "      <td>0.8468</td>\n",
       "      <td>{'C': 1.0, 'class_weight': None, 'dual': False...</td>\n",
       "      <td>0.03s</td>\n",
       "      <td>True</td>\n",
       "    </tr>\n",
       "    <tr>\n",
       "      <th>2</th>\n",
       "      <td>DecisionTreeClassifier</td>\n",
       "      <td>0.8601</td>\n",
       "      <td>{'ccp_alpha': 0.0, 'class_weight': None, 'crit...</td>\n",
       "      <td>0.03s</td>\n",
       "      <td>True</td>\n",
       "    </tr>\n",
       "    <tr>\n",
       "      <th>3</th>\n",
       "      <td>RandomForestClassifier</td>\n",
       "      <td>0.9043</td>\n",
       "      <td>{'bootstrap': True, 'ccp_alpha': 0.0, 'class_w...</td>\n",
       "      <td>1.19s</td>\n",
       "      <td>True</td>\n",
       "    </tr>\n",
       "    <tr>\n",
       "      <th>4</th>\n",
       "      <td>CatBoostClassifier</td>\n",
       "      <td>0.9002</td>\n",
       "      <td>{'iterations': 200, 'learning_rate': 0.03, 'de...</td>\n",
       "      <td>1.56s</td>\n",
       "      <td>True</td>\n",
       "    </tr>\n",
       "    <tr>\n",
       "      <th>5</th>\n",
       "      <td>LGBMClassifier</td>\n",
       "      <td>0.9310</td>\n",
       "      <td>{'boosting_type': 'gbdt', 'class_weight': None...</td>\n",
       "      <td>0.12s</td>\n",
       "      <td>True</td>\n",
       "    </tr>\n",
       "    <tr>\n",
       "      <th>6</th>\n",
       "      <td>XGBClassifier</td>\n",
       "      <td>0.9461</td>\n",
       "      <td>{'objective': 'binary:logistic', 'use_label_en...</td>\n",
       "      <td>0.41s</td>\n",
       "      <td>True</td>\n",
       "    </tr>\n",
       "  </tbody>\n",
       "</table>\n",
       "</div>"
      ],
      "text/plain": [
       "                   Модель  cv_roc_auc  \\\n",
       "0         DummyClassifier      0.5000   \n",
       "1      LogisticRegression      0.8468   \n",
       "2  DecisionTreeClassifier      0.8601   \n",
       "3  RandomForestClassifier      0.9043   \n",
       "4      CatBoostClassifier      0.9002   \n",
       "5          LGBMClassifier      0.9310   \n",
       "6           XGBClassifier      0.9461   \n",
       "\n",
       "                                      Гиперпараметры Время_обучения  \\\n",
       "0  {'constant': None, 'random_state': 250722, 'st...           0.0s   \n",
       "1  {'C': 1.0, 'class_weight': None, 'dual': False...          0.03s   \n",
       "2  {'ccp_alpha': 0.0, 'class_weight': None, 'crit...          0.03s   \n",
       "3  {'bootstrap': True, 'ccp_alpha': 0.0, 'class_w...          1.19s   \n",
       "4  {'iterations': 200, 'learning_rate': 0.03, 'de...          1.56s   \n",
       "5  {'boosting_type': 'gbdt', 'class_weight': None...          0.12s   \n",
       "6  {'objective': 'binary:logistic', 'use_label_en...          0.41s   \n",
       "\n",
       "   Модель_пригодна  \n",
       "0            False  \n",
       "1             True  \n",
       "2             True  \n",
       "3             True  \n",
       "4             True  \n",
       "5             True  \n",
       "6             True  "
      ]
     },
     "metadata": {},
     "output_type": "display_data"
    }
   ],
   "source": [
    "results = pd.DataFrame(results)\n",
    "display(results.drop('md', axis=1))"
   ]
  },
  {
   "cell_type": "code",
   "execution_count": 37,
   "id": "f06cfb28",
   "metadata": {},
   "outputs": [
    {
     "name": "stdout",
     "output_type": "stream",
     "text": [
      "Лучшая модель:\n"
     ]
    },
    {
     "data": {
      "text/html": [
       "<div>\n",
       "<style scoped>\n",
       "    .dataframe tbody tr th:only-of-type {\n",
       "        vertical-align: middle;\n",
       "    }\n",
       "\n",
       "    .dataframe tbody tr th {\n",
       "        vertical-align: top;\n",
       "    }\n",
       "\n",
       "    .dataframe thead th {\n",
       "        text-align: right;\n",
       "    }\n",
       "</style>\n",
       "<table border=\"1\" class=\"dataframe\">\n",
       "  <thead>\n",
       "    <tr style=\"text-align: right;\">\n",
       "      <th></th>\n",
       "      <th>Модель</th>\n",
       "      <th>cv_roc_auc</th>\n",
       "      <th>Гиперпараметры</th>\n",
       "      <th>Время_обучения</th>\n",
       "      <th>Модель_пригодна</th>\n",
       "    </tr>\n",
       "  </thead>\n",
       "  <tbody>\n",
       "    <tr>\n",
       "      <th>0</th>\n",
       "      <td>XGBClassifier</td>\n",
       "      <td>0.9461</td>\n",
       "      <td>{'objective': 'binary:logistic', 'use_label_en...</td>\n",
       "      <td>0.41s</td>\n",
       "      <td>True</td>\n",
       "    </tr>\n",
       "  </tbody>\n",
       "</table>\n",
       "</div>"
      ],
      "text/plain": [
       "          Модель  cv_roc_auc  \\\n",
       "0  XGBClassifier      0.9461   \n",
       "\n",
       "                                      Гиперпараметры Время_обучения  \\\n",
       "0  {'objective': 'binary:logistic', 'use_label_en...          0.41s   \n",
       "\n",
       "   Модель_пригодна  \n",
       "0             True  "
      ]
     },
     "metadata": {},
     "output_type": "display_data"
    }
   ],
   "source": [
    "print('Лучшая модель:')\n",
    "best = results.sort_values(by='cv_roc_auc', ascending=False).head(1).reset_index(drop=True)\n",
    "display(best.drop('md', axis=1))"
   ]
  },
  {
   "cell_type": "code",
   "execution_count": 38,
   "id": "9d7c0687",
   "metadata": {},
   "outputs": [
    {
     "name": "stdout",
     "output_type": "stream",
     "text": [
      "ROC-AUC лучшей модели (на тестовой выборке): 0.9046\n"
     ]
    }
   ],
   "source": [
    "best_model = best.loc[0, 'md']\n",
    "#pred = best_model.predict(features_test)\n",
    "probabilities_test = best_model.predict_proba(features_test)\n",
    "probabilities_one_test = probabilities_test[:, 1]\n",
    "auc_roc = roc_auc_score(target_test, probabilities_one_test) \n",
    "print('ROC-AUC лучшей модели (на тестовой выборке):', np.round(auc_roc, 4))"
   ]
  },
  {
   "cell_type": "code",
   "execution_count": 40,
   "id": "588f160d",
   "metadata": {},
   "outputs": [],
   "source": [
    "pred = best_model.predict(features_test)\n",
    "\n",
    "vopr = pd.DataFrame()\n",
    "vopr['target'] = target_test\n",
    "vopr['predict'] = pred\n",
    "vopr['proba'] = probabilities_one_test"
   ]
  },
  {
   "cell_type": "code",
   "execution_count": 41,
   "id": "7eba299e",
   "metadata": {},
   "outputs": [
    {
     "data": {
      "text/html": [
       "<div>\n",
       "<style scoped>\n",
       "    .dataframe tbody tr th:only-of-type {\n",
       "        vertical-align: middle;\n",
       "    }\n",
       "\n",
       "    .dataframe tbody tr th {\n",
       "        vertical-align: top;\n",
       "    }\n",
       "\n",
       "    .dataframe thead th {\n",
       "        text-align: right;\n",
       "    }\n",
       "</style>\n",
       "<table border=\"1\" class=\"dataframe\">\n",
       "  <thead>\n",
       "    <tr style=\"text-align: right;\">\n",
       "      <th></th>\n",
       "      <th>target</th>\n",
       "      <th>predict</th>\n",
       "      <th>proba</th>\n",
       "    </tr>\n",
       "  </thead>\n",
       "  <tbody>\n",
       "    <tr>\n",
       "      <th>6525</th>\n",
       "      <td>0</td>\n",
       "      <td>0</td>\n",
       "      <td>0.003697</td>\n",
       "    </tr>\n",
       "    <tr>\n",
       "      <th>108</th>\n",
       "      <td>0</td>\n",
       "      <td>0</td>\n",
       "      <td>0.234079</td>\n",
       "    </tr>\n",
       "    <tr>\n",
       "      <th>4822</th>\n",
       "      <td>0</td>\n",
       "      <td>0</td>\n",
       "      <td>0.007290</td>\n",
       "    </tr>\n",
       "    <tr>\n",
       "      <th>4951</th>\n",
       "      <td>0</td>\n",
       "      <td>1</td>\n",
       "      <td>0.789659</td>\n",
       "    </tr>\n",
       "    <tr>\n",
       "      <th>1361</th>\n",
       "      <td>1</td>\n",
       "      <td>1</td>\n",
       "      <td>0.973792</td>\n",
       "    </tr>\n",
       "    <tr>\n",
       "      <th>1525</th>\n",
       "      <td>0</td>\n",
       "      <td>0</td>\n",
       "      <td>0.014047</td>\n",
       "    </tr>\n",
       "    <tr>\n",
       "      <th>125</th>\n",
       "      <td>0</td>\n",
       "      <td>0</td>\n",
       "      <td>0.006702</td>\n",
       "    </tr>\n",
       "    <tr>\n",
       "      <th>4341</th>\n",
       "      <td>1</td>\n",
       "      <td>1</td>\n",
       "      <td>0.973317</td>\n",
       "    </tr>\n",
       "    <tr>\n",
       "      <th>3667</th>\n",
       "      <td>0</td>\n",
       "      <td>0</td>\n",
       "      <td>0.133551</td>\n",
       "    </tr>\n",
       "    <tr>\n",
       "      <th>1081</th>\n",
       "      <td>0</td>\n",
       "      <td>1</td>\n",
       "      <td>0.606830</td>\n",
       "    </tr>\n",
       "    <tr>\n",
       "      <th>6599</th>\n",
       "      <td>1</td>\n",
       "      <td>0</td>\n",
       "      <td>0.494088</td>\n",
       "    </tr>\n",
       "    <tr>\n",
       "      <th>5336</th>\n",
       "      <td>0</td>\n",
       "      <td>0</td>\n",
       "      <td>0.098909</td>\n",
       "    </tr>\n",
       "    <tr>\n",
       "      <th>309</th>\n",
       "      <td>0</td>\n",
       "      <td>0</td>\n",
       "      <td>0.217748</td>\n",
       "    </tr>\n",
       "    <tr>\n",
       "      <th>2720</th>\n",
       "      <td>1</td>\n",
       "      <td>0</td>\n",
       "      <td>0.261438</td>\n",
       "    </tr>\n",
       "    <tr>\n",
       "      <th>947</th>\n",
       "      <td>0</td>\n",
       "      <td>1</td>\n",
       "      <td>0.732696</td>\n",
       "    </tr>\n",
       "    <tr>\n",
       "      <th>1459</th>\n",
       "      <td>0</td>\n",
       "      <td>0</td>\n",
       "      <td>0.119513</td>\n",
       "    </tr>\n",
       "    <tr>\n",
       "      <th>4326</th>\n",
       "      <td>1</td>\n",
       "      <td>1</td>\n",
       "      <td>0.690748</td>\n",
       "    </tr>\n",
       "    <tr>\n",
       "      <th>3254</th>\n",
       "      <td>0</td>\n",
       "      <td>1</td>\n",
       "      <td>0.677849</td>\n",
       "    </tr>\n",
       "    <tr>\n",
       "      <th>2382</th>\n",
       "      <td>0</td>\n",
       "      <td>0</td>\n",
       "      <td>0.034538</td>\n",
       "    </tr>\n",
       "    <tr>\n",
       "      <th>3756</th>\n",
       "      <td>1</td>\n",
       "      <td>1</td>\n",
       "      <td>0.998401</td>\n",
       "    </tr>\n",
       "  </tbody>\n",
       "</table>\n",
       "</div>"
      ],
      "text/plain": [
       "      target  predict     proba\n",
       "6525       0        0  0.003697\n",
       "108        0        0  0.234079\n",
       "4822       0        0  0.007290\n",
       "4951       0        1  0.789659\n",
       "1361       1        1  0.973792\n",
       "1525       0        0  0.014047\n",
       "125        0        0  0.006702\n",
       "4341       1        1  0.973317\n",
       "3667       0        0  0.133551\n",
       "1081       0        1  0.606830\n",
       "6599       1        0  0.494088\n",
       "5336       0        0  0.098909\n",
       "309        0        0  0.217748\n",
       "2720       1        0  0.261438\n",
       "947        0        1  0.732696\n",
       "1459       0        0  0.119513\n",
       "4326       1        1  0.690748\n",
       "3254       0        1  0.677849\n",
       "2382       0        0  0.034538\n",
       "3756       1        1  0.998401"
      ]
     },
     "metadata": {},
     "output_type": "display_data"
    }
   ],
   "source": [
    "display(vopr.head(20))"
   ]
  },
  {
   "cell_type": "markdown",
   "id": "e4f02b81",
   "metadata": {},
   "source": [
    "## 4.3. Подбор гиперпараметров\n",
    "1. Для подбора гиперпараметров использовалось следующее их множество:\n",
    "* loss_function: ['RMSE', 'MAE']\n",
    "* iterations: [200, 400, 500, 700]\n",
    "* learning_rate: [0.03, 0.15]\n",
    "* l2_leaf_reg: [3, 8]\n",
    "* bootstrap_type: ['Bayesian', 'MVS']\n",
    "* depth: [6, 10, 16]\n",
    "* grow_policy: ['Lossguide']\n",
    "* silent: True\n",
    "* random_state: 250722"
   ]
  },
  {
   "cell_type": "code",
   "execution_count": 47,
   "id": "76ed2e8f",
   "metadata": {},
   "outputs": [
    {
     "data": {
      "text/plain": [
       "{'use_rmm': False, 'verbosity': 0}"
      ]
     },
     "metadata": {},
     "output_type": "display_data"
    }
   ],
   "source": [
    "import xgboost as xgb\n",
    "xgb.set_config(verbosity=0)\n",
    "config = xgb.get_config()\n",
    "assert config['verbosity'] == 0\n",
    "# verbosity: Verbosity of printing messages. Valid values of 0 (silent), 1 (warning), 2 (info), and 3 (debug)\n",
    "\n",
    "display(config)"
   ]
  },
  {
   "cell_type": "code",
   "execution_count": null,
   "id": "b2a2e29b",
   "metadata": {},
   "outputs": [],
   "source": []
  },
  {
   "cell_type": "code",
   "execution_count": 48,
   "id": "a8c325c8",
   "metadata": {},
   "outputs": [],
   "source": [
    "params = {'booster': ['gbtree', 'gblinear', 'dart'],\n",
    "          'validate_parameters': [True, False]}"
   ]
  },
  {
   "cell_type": "code",
   "execution_count": 49,
   "id": "5c172088",
   "metadata": {},
   "outputs": [
    {
     "name": "stdout",
     "output_type": "stream",
     "text": [
      "Идут вычисления по модели XGBClassifier: {'objective': 'binary:logistic', 'use_label_encoder': True, 'base_score': None, 'booster': 'gbtree', 'colsample_bylevel': None, 'colsample_bynode': None, 'colsample_bytree': None, 'enable_categorical': False, 'gamma': None, 'gpu_id': None, 'importance_type': None, 'interaction_constraints': None, 'learning_rate': None, 'max_delta_step': None, 'max_depth': None, 'min_child_weight': None, 'missing': nan, 'monotone_constraints': None, 'n_estimators': 100, 'n_jobs': None, 'num_parallel_tree': None, 'predictor': None, 'random_state': None, 'reg_alpha': None, 'reg_lambda': None, 'scale_pos_weight': None, 'subsample': None, 'tree_method': None, 'validate_parameters': True, 'verbosity': None}\n",
      "-- модель обучена\n",
      "-- cредняя оценка качества модели XGBClassifier методом кросс-валидации по метрике ROC-AUC: 0.9461\n",
      "\n",
      "Идут вычисления по модели XGBClassifier: {'objective': 'binary:logistic', 'use_label_encoder': True, 'base_score': None, 'booster': 'gbtree', 'colsample_bylevel': None, 'colsample_bynode': None, 'colsample_bytree': None, 'enable_categorical': False, 'gamma': None, 'gpu_id': None, 'importance_type': None, 'interaction_constraints': None, 'learning_rate': None, 'max_delta_step': None, 'max_depth': None, 'min_child_weight': None, 'missing': nan, 'monotone_constraints': None, 'n_estimators': 100, 'n_jobs': None, 'num_parallel_tree': None, 'predictor': None, 'random_state': None, 'reg_alpha': None, 'reg_lambda': None, 'scale_pos_weight': None, 'subsample': None, 'tree_method': None, 'validate_parameters': False, 'verbosity': None}\n",
      "-- модель обучена\n",
      "-- cредняя оценка качества модели XGBClassifier методом кросс-валидации по метрике ROC-AUC: 0.9461\n",
      "\n",
      "Идут вычисления по модели XGBClassifier: {'objective': 'binary:logistic', 'use_label_encoder': True, 'base_score': None, 'booster': 'gblinear', 'colsample_bylevel': None, 'colsample_bynode': None, 'colsample_bytree': None, 'enable_categorical': False, 'gamma': None, 'gpu_id': None, 'importance_type': None, 'interaction_constraints': None, 'learning_rate': None, 'max_delta_step': None, 'max_depth': None, 'min_child_weight': None, 'missing': nan, 'monotone_constraints': None, 'n_estimators': 100, 'n_jobs': None, 'num_parallel_tree': None, 'predictor': None, 'random_state': None, 'reg_alpha': None, 'reg_lambda': None, 'scale_pos_weight': None, 'subsample': None, 'tree_method': None, 'validate_parameters': True, 'verbosity': None}\n",
      "-- модель обучена\n",
      "-- cредняя оценка качества модели XGBClassifier методом кросс-валидации по метрике ROC-AUC: 0.8463\n",
      "\n",
      "Идут вычисления по модели XGBClassifier: {'objective': 'binary:logistic', 'use_label_encoder': True, 'base_score': None, 'booster': 'gblinear', 'colsample_bylevel': None, 'colsample_bynode': None, 'colsample_bytree': None, 'enable_categorical': False, 'gamma': None, 'gpu_id': None, 'importance_type': None, 'interaction_constraints': None, 'learning_rate': None, 'max_delta_step': None, 'max_depth': None, 'min_child_weight': None, 'missing': nan, 'monotone_constraints': None, 'n_estimators': 100, 'n_jobs': None, 'num_parallel_tree': None, 'predictor': None, 'random_state': None, 'reg_alpha': None, 'reg_lambda': None, 'scale_pos_weight': None, 'subsample': None, 'tree_method': None, 'validate_parameters': False, 'verbosity': None}\n",
      "-- модель обучена\n",
      "-- cредняя оценка качества модели XGBClassifier методом кросс-валидации по метрике ROC-AUC: 0.8463\n",
      "\n",
      "Идут вычисления по модели XGBClassifier: {'objective': 'binary:logistic', 'use_label_encoder': True, 'base_score': None, 'booster': 'dart', 'colsample_bylevel': None, 'colsample_bynode': None, 'colsample_bytree': None, 'enable_categorical': False, 'gamma': None, 'gpu_id': None, 'importance_type': None, 'interaction_constraints': None, 'learning_rate': None, 'max_delta_step': None, 'max_depth': None, 'min_child_weight': None, 'missing': nan, 'monotone_constraints': None, 'n_estimators': 100, 'n_jobs': None, 'num_parallel_tree': None, 'predictor': None, 'random_state': None, 'reg_alpha': None, 'reg_lambda': None, 'scale_pos_weight': None, 'subsample': None, 'tree_method': None, 'validate_parameters': True, 'verbosity': None}\n",
      "-- модель обучена\n",
      "-- cредняя оценка качества модели XGBClassifier методом кросс-валидации по метрике ROC-AUC: 0.9461\n",
      "\n",
      "Идут вычисления по модели XGBClassifier: {'objective': 'binary:logistic', 'use_label_encoder': True, 'base_score': None, 'booster': 'dart', 'colsample_bylevel': None, 'colsample_bynode': None, 'colsample_bytree': None, 'enable_categorical': False, 'gamma': None, 'gpu_id': None, 'importance_type': None, 'interaction_constraints': None, 'learning_rate': None, 'max_delta_step': None, 'max_depth': None, 'min_child_weight': None, 'missing': nan, 'monotone_constraints': None, 'n_estimators': 100, 'n_jobs': None, 'num_parallel_tree': None, 'predictor': None, 'random_state': None, 'reg_alpha': None, 'reg_lambda': None, 'scale_pos_weight': None, 'subsample': None, 'tree_method': None, 'validate_parameters': False, 'verbosity': None}\n",
      "-- модель обучена\n",
      "-- cредняя оценка качества модели XGBClassifier методом кросс-валидации по метрике ROC-AUC: 0.9461\n",
      "\n"
     ]
    }
   ],
   "source": [
    "best_cv = 0\n",
    "res_cv = []\n",
    "\n",
    "for booster in params['booster']:\n",
    "    for validate_parameters in params['validate_parameters']:\n",
    "        md = XGBClassifier(booster=booster, validate_parameters=validate_parameters)\n",
    "        print(f'Идут вычисления по модели {md.__class__.__name__}:', md.get_params(deep=False))\n",
    "        md.fit(features_train, target_train)\n",
    "        print('-- модель обучена')\n",
    "        cv_roc_auc = abs(np.round(cross_val_score(md, features_train, target_train, cv=3, scoring='roc_auc').mean(), 4))\n",
    "        print(f'-- cредняя оценка качества модели {md.__class__.__name__} методом кросс-валидации по метрике ROC-AUC:', cv_roc_auc)\n",
    "        if cv_roc_auc > best_cv:\n",
    "            best_cv = cv_roc_auc\n",
    "            best_md = md\n",
    "            \n",
    "        res_cv.append({'cv_roc_auc': cv_roc_auc, \n",
    "                       'booster': booster,\n",
    "                       'validate_parameters': validate_parameters}) \n",
    "                            \n",
    "        print('')    "
   ]
  },
  {
   "attachments": {
    "image.png": {
     "image/png": "[encoded data removed]"
    }
   },
   "cell_type": "markdown",
   "id": "d445e0e2",
   "metadata": {},
   "source": [
    "![image.png](attachment:image.png)"
   ]
  },
  {
   "cell_type": "markdown",
   "id": "cc74674a",
   "metadata": {},
   "source": [
    "### Вывод:\n",
    "1. Можно использовать переметры XGBClassifier по умолчанию.\n",
    "2. Методы gbtree или dart дают одинаково хорошие результаты.\n",
    "3. validate_parameters не влияет на качество модели."
   ]
  },
  {
   "cell_type": "code",
   "execution_count": 50,
   "id": "1676a97b",
   "metadata": {},
   "outputs": [
    {
     "name": "stdout",
     "output_type": "stream",
     "text": [
      "ROC-AUC лучшей модели (на тестовой выборке): 0.9046\n"
     ]
    }
   ],
   "source": [
    "probabilities_test = best_model.predict_proba(features_test)\n",
    "probabilities_one_test = probabilities_test[:, 1]\n",
    "auc_roc = roc_auc_score(target_test, probabilities_one_test) \n",
    "print('ROC-AUC лучшей модели (на тестовой выборке):', np.round(auc_roc, 4))"
   ]
  },
  {
   "cell_type": "code",
   "execution_count": 51,
   "id": "86d1bd65",
   "metadata": {},
   "outputs": [
    {
     "data": {
      "image/png": "[encoded data removed]",
      "text/plain": [
       "<Figure size 432x288 with 1 Axes>"
      ]
     },
     "metadata": {
      "needs_background": "light"
     },
     "output_type": "display_data"
    }
   ],
   "source": [
    "fpr, tpr, thresholds = roc_curve(target_test, probabilities_one_test) \n",
    "\n",
    "plt.figure()\n",
    "\n",
    "# < постройте график >\n",
    "plt.plot(fpr, tpr)\n",
    "\n",
    "# ROC-кривая случайной модели (выглядит как прямая)\n",
    "plt.plot([0, 1], [0, 1], linestyle='--')\n",
    "\n",
    "# < примените функции plt.xlim() и plt.ylim(), чтобы\n",
    "#   установить границы осей от 0 до 1 >\n",
    "plt.xlim([0.0, 1.0])\n",
    "plt.ylim([0.0, 1.0])\n",
    "\n",
    "# < примените функции plt.xlabel() и plt.ylabel(), чтобы\n",
    "#   подписать оси \"False Positive Rate\" и \"True Positive Rate\" >\n",
    "plt.xlabel('False Positive Rate')\n",
    "plt.ylabel('True Positive Rate')\n",
    "\n",
    "# < добавьте к графику заголовок \"ROC-кривая\" функцией plt.title() >\n",
    "plt.title('ROC-кривая')\n",
    "plt.show()"
   ]
  },
  {
   "cell_type": "code",
   "execution_count": null,
   "id": "97c9aec5",
   "metadata": {},
   "outputs": [],
   "source": []
  }
 ],
 "metadata": {
  "ExecuteTimeLog": [
   {
    "duration": 1283,
    "start_time": "2022-07-27T18:39:24.239Z"
   },
   {
    "duration": 3,
    "start_time": "2022-07-27T18:39:30.310Z"
   },
   {
    "duration": 4,
    "start_time": "2022-07-27T18:39:31.231Z"
   },
   {
    "duration": 3,
    "start_time": "2022-07-27T18:39:44.627Z"
   },
   {
    "duration": 147,
    "start_time": "2022-07-27T18:39:46.639Z"
   },
   {
    "duration": 3,
    "start_time": "2022-07-27T18:40:29.095Z"
   },
   {
    "duration": 50,
    "start_time": "2022-07-27T18:40:32.916Z"
   },
   {
    "duration": 1153,
    "start_time": "2022-07-27T18:41:00.230Z"
   },
   {
    "duration": 3,
    "start_time": "2022-07-27T18:41:01.385Z"
   },
   {
    "duration": 66,
    "start_time": "2022-07-27T18:41:01.390Z"
   },
   {
    "duration": 14,
    "start_time": "2022-07-27T18:41:01.459Z"
   },
   {
    "duration": 156,
    "start_time": "2022-07-27T18:41:01.475Z"
   },
   {
    "duration": 0,
    "start_time": "2022-07-27T18:41:01.635Z"
   },
   {
    "duration": 0,
    "start_time": "2022-07-27T18:41:01.637Z"
   },
   {
    "duration": 0,
    "start_time": "2022-07-27T18:41:01.638Z"
   },
   {
    "duration": 0,
    "start_time": "2022-07-27T18:41:01.639Z"
   },
   {
    "duration": 0,
    "start_time": "2022-07-27T18:41:01.640Z"
   },
   {
    "duration": 0,
    "start_time": "2022-07-27T18:41:01.641Z"
   },
   {
    "duration": 0,
    "start_time": "2022-07-27T18:41:01.642Z"
   },
   {
    "duration": 0,
    "start_time": "2022-07-27T18:41:01.643Z"
   },
   {
    "duration": 0,
    "start_time": "2022-07-27T18:41:01.644Z"
   },
   {
    "duration": 0,
    "start_time": "2022-07-27T18:41:01.645Z"
   },
   {
    "duration": 0,
    "start_time": "2022-07-27T18:41:01.646Z"
   },
   {
    "duration": 0,
    "start_time": "2022-07-27T18:41:01.648Z"
   },
   {
    "duration": 0,
    "start_time": "2022-07-27T18:41:01.648Z"
   },
   {
    "duration": 0,
    "start_time": "2022-07-27T18:41:01.649Z"
   },
   {
    "duration": 0,
    "start_time": "2022-07-27T18:41:01.650Z"
   },
   {
    "duration": 0,
    "start_time": "2022-07-27T18:41:01.651Z"
   },
   {
    "duration": 0,
    "start_time": "2022-07-27T18:41:01.653Z"
   },
   {
    "duration": 0,
    "start_time": "2022-07-27T18:41:01.654Z"
   },
   {
    "duration": 0,
    "start_time": "2022-07-27T18:41:01.655Z"
   },
   {
    "duration": 0,
    "start_time": "2022-07-27T18:41:01.656Z"
   },
   {
    "duration": 0,
    "start_time": "2022-07-27T18:41:01.657Z"
   },
   {
    "duration": 0,
    "start_time": "2022-07-27T18:41:01.658Z"
   },
   {
    "duration": 0,
    "start_time": "2022-07-27T18:41:01.658Z"
   },
   {
    "duration": 0,
    "start_time": "2022-07-27T18:41:01.660Z"
   },
   {
    "duration": 0,
    "start_time": "2022-07-27T18:41:01.662Z"
   },
   {
    "duration": 0,
    "start_time": "2022-07-27T18:41:01.663Z"
   },
   {
    "duration": 0,
    "start_time": "2022-07-27T18:41:01.664Z"
   },
   {
    "duration": 0,
    "start_time": "2022-07-27T18:41:01.665Z"
   },
   {
    "duration": 0,
    "start_time": "2022-07-27T18:41:01.666Z"
   },
   {
    "duration": 0,
    "start_time": "2022-07-27T18:41:01.667Z"
   },
   {
    "duration": 0,
    "start_time": "2022-07-27T18:41:01.668Z"
   },
   {
    "duration": 0,
    "start_time": "2022-07-27T18:41:01.668Z"
   },
   {
    "duration": 0,
    "start_time": "2022-07-27T18:41:01.669Z"
   },
   {
    "duration": 0,
    "start_time": "2022-07-27T18:41:01.671Z"
   },
   {
    "duration": 0,
    "start_time": "2022-07-27T18:41:01.671Z"
   },
   {
    "duration": 0,
    "start_time": "2022-07-27T18:41:01.672Z"
   },
   {
    "duration": 0,
    "start_time": "2022-07-27T18:41:01.734Z"
   },
   {
    "duration": 0,
    "start_time": "2022-07-27T18:41:01.735Z"
   },
   {
    "duration": 0,
    "start_time": "2022-07-27T18:41:01.736Z"
   },
   {
    "duration": 0,
    "start_time": "2022-07-27T18:41:01.737Z"
   },
   {
    "duration": 0,
    "start_time": "2022-07-27T18:41:01.738Z"
   },
   {
    "duration": 0,
    "start_time": "2022-07-27T18:41:01.739Z"
   },
   {
    "duration": 0,
    "start_time": "2022-07-27T18:41:01.740Z"
   },
   {
    "duration": 0,
    "start_time": "2022-07-27T18:41:01.741Z"
   },
   {
    "duration": 0,
    "start_time": "2022-07-27T18:41:01.741Z"
   },
   {
    "duration": 0,
    "start_time": "2022-07-27T18:41:01.743Z"
   },
   {
    "duration": 0,
    "start_time": "2022-07-27T18:41:01.744Z"
   },
   {
    "duration": 0,
    "start_time": "2022-07-27T18:41:01.744Z"
   },
   {
    "duration": 0,
    "start_time": "2022-07-27T18:41:01.746Z"
   },
   {
    "duration": 0,
    "start_time": "2022-07-27T18:41:01.746Z"
   },
   {
    "duration": 0,
    "start_time": "2022-07-27T18:41:01.747Z"
   },
   {
    "duration": 0,
    "start_time": "2022-07-27T18:41:01.748Z"
   },
   {
    "duration": 0,
    "start_time": "2022-07-27T18:41:01.749Z"
   },
   {
    "duration": 0,
    "start_time": "2022-07-27T18:41:01.750Z"
   },
   {
    "duration": 0,
    "start_time": "2022-07-27T18:41:01.751Z"
   },
   {
    "duration": 0,
    "start_time": "2022-07-27T18:41:01.752Z"
   },
   {
    "duration": 0,
    "start_time": "2022-07-27T18:41:01.753Z"
   },
   {
    "duration": 0,
    "start_time": "2022-07-27T18:41:01.754Z"
   },
   {
    "duration": 0,
    "start_time": "2022-07-27T18:41:01.754Z"
   },
   {
    "duration": 0,
    "start_time": "2022-07-27T18:41:01.755Z"
   },
   {
    "duration": 0,
    "start_time": "2022-07-27T18:41:01.756Z"
   },
   {
    "duration": 0,
    "start_time": "2022-07-27T18:41:01.757Z"
   },
   {
    "duration": 0,
    "start_time": "2022-07-27T18:41:01.758Z"
   },
   {
    "duration": 3,
    "start_time": "2022-07-27T18:44:44.602Z"
   },
   {
    "duration": 51,
    "start_time": "2022-07-27T18:44:48.654Z"
   },
   {
    "duration": 1127,
    "start_time": "2022-07-27T18:45:13.790Z"
   },
   {
    "duration": 2,
    "start_time": "2022-07-27T18:45:14.919Z"
   },
   {
    "duration": 6,
    "start_time": "2022-07-27T18:45:14.923Z"
   },
   {
    "duration": 3,
    "start_time": "2022-07-27T18:45:14.934Z"
   },
   {
    "duration": 185,
    "start_time": "2022-07-27T18:45:14.939Z"
   },
   {
    "duration": 0,
    "start_time": "2022-07-27T18:45:15.127Z"
   },
   {
    "duration": 0,
    "start_time": "2022-07-27T18:45:15.127Z"
   },
   {
    "duration": 0,
    "start_time": "2022-07-27T18:45:15.128Z"
   },
   {
    "duration": 0,
    "start_time": "2022-07-27T18:45:15.134Z"
   },
   {
    "duration": 0,
    "start_time": "2022-07-27T18:45:15.135Z"
   },
   {
    "duration": 0,
    "start_time": "2022-07-27T18:45:15.136Z"
   },
   {
    "duration": 0,
    "start_time": "2022-07-27T18:45:15.137Z"
   },
   {
    "duration": 0,
    "start_time": "2022-07-27T18:45:15.138Z"
   },
   {
    "duration": 0,
    "start_time": "2022-07-27T18:45:15.138Z"
   },
   {
    "duration": 0,
    "start_time": "2022-07-27T18:45:15.140Z"
   },
   {
    "duration": 0,
    "start_time": "2022-07-27T18:45:15.140Z"
   },
   {
    "duration": 0,
    "start_time": "2022-07-27T18:45:15.141Z"
   },
   {
    "duration": 0,
    "start_time": "2022-07-27T18:45:15.142Z"
   },
   {
    "duration": 0,
    "start_time": "2022-07-27T18:45:15.143Z"
   },
   {
    "duration": 0,
    "start_time": "2022-07-27T18:45:15.143Z"
   },
   {
    "duration": 0,
    "start_time": "2022-07-27T18:45:15.144Z"
   },
   {
    "duration": 0,
    "start_time": "2022-07-27T18:45:15.145Z"
   },
   {
    "duration": 0,
    "start_time": "2022-07-27T18:45:15.146Z"
   },
   {
    "duration": 0,
    "start_time": "2022-07-27T18:45:15.147Z"
   },
   {
    "duration": 0,
    "start_time": "2022-07-27T18:45:15.148Z"
   },
   {
    "duration": 0,
    "start_time": "2022-07-27T18:45:15.148Z"
   },
   {
    "duration": 0,
    "start_time": "2022-07-27T18:45:15.149Z"
   },
   {
    "duration": 0,
    "start_time": "2022-07-27T18:45:15.150Z"
   },
   {
    "duration": 0,
    "start_time": "2022-07-27T18:45:15.151Z"
   },
   {
    "duration": 0,
    "start_time": "2022-07-27T18:45:15.152Z"
   },
   {
    "duration": 0,
    "start_time": "2022-07-27T18:45:15.154Z"
   },
   {
    "duration": 0,
    "start_time": "2022-07-27T18:45:15.155Z"
   },
   {
    "duration": 0,
    "start_time": "2022-07-27T18:45:15.156Z"
   },
   {
    "duration": 0,
    "start_time": "2022-07-27T18:45:15.156Z"
   },
   {
    "duration": 0,
    "start_time": "2022-07-27T18:45:15.157Z"
   },
   {
    "duration": 0,
    "start_time": "2022-07-27T18:45:15.158Z"
   },
   {
    "duration": 0,
    "start_time": "2022-07-27T18:45:15.158Z"
   },
   {
    "duration": 0,
    "start_time": "2022-07-27T18:45:15.159Z"
   },
   {
    "duration": 0,
    "start_time": "2022-07-27T18:45:15.159Z"
   },
   {
    "duration": 0,
    "start_time": "2022-07-27T18:45:15.160Z"
   },
   {
    "duration": 0,
    "start_time": "2022-07-27T18:45:15.161Z"
   },
   {
    "duration": 0,
    "start_time": "2022-07-27T18:45:15.162Z"
   },
   {
    "duration": 0,
    "start_time": "2022-07-27T18:45:15.162Z"
   },
   {
    "duration": 0,
    "start_time": "2022-07-27T18:45:15.164Z"
   },
   {
    "duration": 0,
    "start_time": "2022-07-27T18:45:15.165Z"
   },
   {
    "duration": 0,
    "start_time": "2022-07-27T18:45:15.165Z"
   },
   {
    "duration": 0,
    "start_time": "2022-07-27T18:45:15.167Z"
   },
   {
    "duration": 0,
    "start_time": "2022-07-27T18:45:15.168Z"
   },
   {
    "duration": 0,
    "start_time": "2022-07-27T18:45:15.169Z"
   },
   {
    "duration": 0,
    "start_time": "2022-07-27T18:45:15.170Z"
   },
   {
    "duration": 0,
    "start_time": "2022-07-27T18:45:15.171Z"
   },
   {
    "duration": 0,
    "start_time": "2022-07-27T18:45:15.172Z"
   },
   {
    "duration": 0,
    "start_time": "2022-07-27T18:45:15.233Z"
   },
   {
    "duration": 0,
    "start_time": "2022-07-27T18:45:15.234Z"
   },
   {
    "duration": 1,
    "start_time": "2022-07-27T18:45:15.235Z"
   },
   {
    "duration": 0,
    "start_time": "2022-07-27T18:45:15.237Z"
   },
   {
    "duration": 0,
    "start_time": "2022-07-27T18:45:15.238Z"
   },
   {
    "duration": 0,
    "start_time": "2022-07-27T18:45:15.238Z"
   },
   {
    "duration": 0,
    "start_time": "2022-07-27T18:45:15.240Z"
   },
   {
    "duration": 0,
    "start_time": "2022-07-27T18:45:15.241Z"
   },
   {
    "duration": 0,
    "start_time": "2022-07-27T18:45:15.242Z"
   },
   {
    "duration": 0,
    "start_time": "2022-07-27T18:45:15.243Z"
   },
   {
    "duration": 0,
    "start_time": "2022-07-27T18:45:15.244Z"
   },
   {
    "duration": 0,
    "start_time": "2022-07-27T18:45:15.245Z"
   },
   {
    "duration": 0,
    "start_time": "2022-07-27T18:45:15.246Z"
   },
   {
    "duration": 0,
    "start_time": "2022-07-27T18:45:15.247Z"
   },
   {
    "duration": 0,
    "start_time": "2022-07-27T18:45:15.248Z"
   },
   {
    "duration": 0,
    "start_time": "2022-07-27T18:45:15.249Z"
   },
   {
    "duration": 1313,
    "start_time": "2022-07-27T19:20:30.128Z"
   },
   {
    "duration": 3,
    "start_time": "2022-07-27T19:20:31.443Z"
   },
   {
    "duration": 4,
    "start_time": "2022-07-27T19:20:33.139Z"
   },
   {
    "duration": 3,
    "start_time": "2022-07-27T19:20:34.746Z"
   },
   {
    "duration": 406,
    "start_time": "2022-07-27T19:20:36.439Z"
   },
   {
    "duration": 48,
    "start_time": "2022-07-27T19:22:14.997Z"
   },
   {
    "duration": 1104,
    "start_time": "2022-07-27T19:22:33.124Z"
   },
   {
    "duration": 4,
    "start_time": "2022-07-27T19:22:34.230Z"
   },
   {
    "duration": 5,
    "start_time": "2022-07-27T19:22:34.236Z"
   },
   {
    "duration": 5,
    "start_time": "2022-07-27T19:22:34.243Z"
   },
   {
    "duration": 186,
    "start_time": "2022-07-27T19:22:34.250Z"
   },
   {
    "duration": 49,
    "start_time": "2022-07-27T19:22:34.438Z"
   },
   {
    "duration": 79,
    "start_time": "2022-07-27T19:22:34.489Z"
   },
   {
    "duration": 13,
    "start_time": "2022-07-27T19:22:34.570Z"
   },
   {
    "duration": 57,
    "start_time": "2022-07-27T19:22:34.585Z"
   },
   {
    "duration": 33,
    "start_time": "2022-07-27T19:22:34.646Z"
   },
   {
    "duration": 75,
    "start_time": "2022-07-27T19:22:34.681Z"
   },
   {
    "duration": 19,
    "start_time": "2022-07-27T19:22:34.758Z"
   },
   {
    "duration": 106,
    "start_time": "2022-07-27T19:22:34.779Z"
   },
   {
    "duration": 28,
    "start_time": "2022-07-27T19:22:34.887Z"
   },
   {
    "duration": 78,
    "start_time": "2022-07-27T19:22:34.916Z"
   },
   {
    "duration": 16,
    "start_time": "2022-07-27T19:22:34.996Z"
   },
   {
    "duration": 26,
    "start_time": "2022-07-27T19:22:35.034Z"
   },
   {
    "duration": 49,
    "start_time": "2022-07-27T19:22:35.061Z"
   },
   {
    "duration": 822,
    "start_time": "2022-07-27T19:22:35.134Z"
   },
   {
    "duration": 16,
    "start_time": "2022-07-27T19:22:35.958Z"
   },
   {
    "duration": 21,
    "start_time": "2022-07-27T19:22:35.976Z"
   },
   {
    "duration": 69,
    "start_time": "2022-07-27T19:22:35.999Z"
   },
   {
    "duration": 3,
    "start_time": "2022-07-27T19:22:36.070Z"
   },
   {
    "duration": 12,
    "start_time": "2022-07-27T19:22:36.076Z"
   },
   {
    "duration": 20,
    "start_time": "2022-07-27T19:22:36.090Z"
   },
   {
    "duration": 24,
    "start_time": "2022-07-27T19:22:36.111Z"
   },
   {
    "duration": 11,
    "start_time": "2022-07-27T19:22:36.136Z"
   },
   {
    "duration": 4,
    "start_time": "2022-07-27T19:22:36.150Z"
   },
   {
    "duration": 316,
    "start_time": "2022-07-27T19:22:36.156Z"
   },
   {
    "duration": 4,
    "start_time": "2022-07-27T19:22:36.474Z"
   },
   {
    "duration": 13,
    "start_time": "2022-07-27T19:22:36.479Z"
   },
   {
    "duration": 18,
    "start_time": "2022-07-27T19:22:36.494Z"
   },
   {
    "duration": 139,
    "start_time": "2022-07-27T19:22:36.533Z"
   },
   {
    "duration": 7,
    "start_time": "2022-07-27T19:22:36.674Z"
   },
   {
    "duration": 8,
    "start_time": "2022-07-27T19:22:36.683Z"
   },
   {
    "duration": 353,
    "start_time": "2022-07-27T19:22:36.693Z"
   },
   {
    "duration": 360,
    "start_time": "2022-07-27T19:22:37.048Z"
   },
   {
    "duration": 1749,
    "start_time": "2022-07-27T19:22:37.409Z"
   },
   {
    "duration": 11,
    "start_time": "2022-07-27T19:22:39.160Z"
   },
   {
    "duration": 235,
    "start_time": "2022-07-27T19:22:39.173Z"
   },
   {
    "duration": 9,
    "start_time": "2022-07-27T19:22:39.409Z"
   },
   {
    "duration": 19,
    "start_time": "2022-07-27T19:22:39.420Z"
   },
   {
    "duration": 261,
    "start_time": "2022-07-27T19:22:39.441Z"
   },
   {
    "duration": 5,
    "start_time": "2022-07-27T19:22:39.704Z"
   },
   {
    "duration": 42,
    "start_time": "2022-07-27T19:22:39.711Z"
   },
   {
    "duration": 1060,
    "start_time": "2022-07-27T19:22:39.754Z"
   },
   {
    "duration": 988,
    "start_time": "2022-07-27T19:22:40.815Z"
   },
   {
    "duration": 1652,
    "start_time": "2022-07-27T19:22:41.805Z"
   },
   {
    "duration": 1087,
    "start_time": "2022-07-27T19:22:43.458Z"
   },
   {
    "duration": 205,
    "start_time": "2022-07-27T19:22:44.547Z"
   },
   {
    "duration": 160,
    "start_time": "2022-07-27T19:22:44.753Z"
   },
   {
    "duration": 9,
    "start_time": "2022-07-27T19:22:44.914Z"
   },
   {
    "duration": 273,
    "start_time": "2022-07-27T19:22:44.924Z"
   },
   {
    "duration": 7,
    "start_time": "2022-07-27T19:22:45.199Z"
   },
   {
    "duration": 518,
    "start_time": "2022-07-27T19:22:45.208Z"
   },
   {
    "duration": 146,
    "start_time": "2022-07-27T19:22:45.728Z"
   },
   {
    "duration": 7,
    "start_time": "2022-07-27T19:22:45.876Z"
   },
   {
    "duration": 271,
    "start_time": "2022-07-27T19:22:45.884Z"
   },
   {
    "duration": 7,
    "start_time": "2022-07-27T19:22:46.157Z"
   },
   {
    "duration": 354,
    "start_time": "2022-07-27T19:22:46.165Z"
   },
   {
    "duration": 155,
    "start_time": "2022-07-27T19:22:46.521Z"
   },
   {
    "duration": 7,
    "start_time": "2022-07-27T19:22:46.678Z"
   },
   {
    "duration": 200,
    "start_time": "2022-07-27T19:22:46.687Z"
   },
   {
    "duration": 7,
    "start_time": "2022-07-27T19:22:46.888Z"
   },
   {
    "duration": 246,
    "start_time": "2022-07-27T19:22:46.897Z"
   },
   {
    "duration": 162,
    "start_time": "2022-07-27T19:22:47.146Z"
   },
   {
    "duration": 10,
    "start_time": "2022-07-27T19:22:47.309Z"
   },
   {
    "duration": 18,
    "start_time": "2022-07-27T19:22:47.321Z"
   },
   {
    "duration": 1283,
    "start_time": "2022-07-28T08:00:08.376Z"
   },
   {
    "duration": 3,
    "start_time": "2022-07-28T08:00:09.661Z"
   },
   {
    "duration": 6,
    "start_time": "2022-07-28T08:00:09.666Z"
   },
   {
    "duration": 6,
    "start_time": "2022-07-28T08:00:09.674Z"
   },
   {
    "duration": 194,
    "start_time": "2022-07-28T08:00:09.682Z"
   },
   {
    "duration": 60,
    "start_time": "2022-07-28T08:00:09.877Z"
   },
   {
    "duration": 107,
    "start_time": "2022-07-28T08:00:09.939Z"
   },
   {
    "duration": 15,
    "start_time": "2022-07-28T08:00:10.047Z"
   },
   {
    "duration": 52,
    "start_time": "2022-07-28T08:00:10.063Z"
   },
   {
    "duration": 45,
    "start_time": "2022-07-28T08:00:10.118Z"
   },
   {
    "duration": 96,
    "start_time": "2022-07-28T08:00:10.169Z"
   },
   {
    "duration": 53,
    "start_time": "2022-07-28T08:00:10.267Z"
   },
   {
    "duration": 113,
    "start_time": "2022-07-28T08:00:10.322Z"
   },
   {
    "duration": 41,
    "start_time": "2022-07-28T08:00:10.437Z"
   },
   {
    "duration": 139,
    "start_time": "2022-07-28T08:00:10.480Z"
   },
   {
    "duration": 26,
    "start_time": "2022-07-28T08:00:10.621Z"
   },
   {
    "duration": 61,
    "start_time": "2022-07-28T08:00:10.649Z"
   },
   {
    "duration": 60,
    "start_time": "2022-07-28T08:00:10.713Z"
   },
   {
    "duration": 963,
    "start_time": "2022-07-28T08:00:10.775Z"
   },
   {
    "duration": 19,
    "start_time": "2022-07-28T08:00:11.740Z"
   },
   {
    "duration": 51,
    "start_time": "2022-07-28T08:00:11.763Z"
   },
   {
    "duration": 60,
    "start_time": "2022-07-28T08:00:11.816Z"
   },
   {
    "duration": 3,
    "start_time": "2022-07-28T08:00:11.877Z"
   },
   {
    "duration": 27,
    "start_time": "2022-07-28T08:00:11.881Z"
   },
   {
    "duration": 13,
    "start_time": "2022-07-28T08:00:11.910Z"
   },
   {
    "duration": 15,
    "start_time": "2022-07-28T08:00:11.925Z"
   },
   {
    "duration": 12,
    "start_time": "2022-07-28T08:00:11.942Z"
   },
   {
    "duration": 4,
    "start_time": "2022-07-28T08:00:11.958Z"
   },
   {
    "duration": 389,
    "start_time": "2022-07-28T08:00:11.964Z"
   },
   {
    "duration": 4,
    "start_time": "2022-07-28T08:00:12.355Z"
   },
   {
    "duration": 17,
    "start_time": "2022-07-28T08:00:12.360Z"
   },
   {
    "duration": 40,
    "start_time": "2022-07-28T08:00:12.379Z"
   },
   {
    "duration": 161,
    "start_time": "2022-07-28T08:00:12.421Z"
   },
   {
    "duration": 24,
    "start_time": "2022-07-28T08:00:12.584Z"
   },
   {
    "duration": 12,
    "start_time": "2022-07-28T08:00:12.610Z"
   },
   {
    "duration": 388,
    "start_time": "2022-07-28T08:00:12.623Z"
   },
   {
    "duration": 377,
    "start_time": "2022-07-28T08:00:13.013Z"
   },
   {
    "duration": 2133,
    "start_time": "2022-07-28T08:00:13.392Z"
   },
   {
    "duration": 12,
    "start_time": "2022-07-28T08:00:15.527Z"
   },
   {
    "duration": 275,
    "start_time": "2022-07-28T08:00:15.540Z"
   },
   {
    "duration": 11,
    "start_time": "2022-07-28T08:00:15.818Z"
   },
   {
    "duration": 7,
    "start_time": "2022-07-28T08:00:15.831Z"
   },
   {
    "duration": 329,
    "start_time": "2022-07-28T08:00:15.840Z"
   },
   {
    "duration": 6,
    "start_time": "2022-07-28T08:00:16.171Z"
   },
   {
    "duration": 52,
    "start_time": "2022-07-28T08:00:16.179Z"
   },
   {
    "duration": 1513,
    "start_time": "2022-07-28T08:00:16.233Z"
   },
   {
    "duration": 1365,
    "start_time": "2022-07-28T08:00:17.748Z"
   },
   {
    "duration": 2034,
    "start_time": "2022-07-28T08:00:19.115Z"
   },
   {
    "duration": 1466,
    "start_time": "2022-07-28T08:00:21.151Z"
   },
   {
    "duration": 242,
    "start_time": "2022-07-28T08:00:22.620Z"
   },
   {
    "duration": 182,
    "start_time": "2022-07-28T08:00:22.864Z"
   },
   {
    "duration": 10,
    "start_time": "2022-07-28T08:00:23.047Z"
   },
   {
    "duration": 344,
    "start_time": "2022-07-28T08:00:23.060Z"
   },
   {
    "duration": 8,
    "start_time": "2022-07-28T08:00:23.406Z"
   },
   {
    "duration": 583,
    "start_time": "2022-07-28T08:00:23.416Z"
   },
   {
    "duration": 182,
    "start_time": "2022-07-28T08:00:24.004Z"
   },
   {
    "duration": 18,
    "start_time": "2022-07-28T08:00:24.189Z"
   },
   {
    "duration": 338,
    "start_time": "2022-07-28T08:00:24.209Z"
   },
   {
    "duration": 9,
    "start_time": "2022-07-28T08:00:24.549Z"
   },
   {
    "duration": 459,
    "start_time": "2022-07-28T08:00:24.560Z"
   },
   {
    "duration": 202,
    "start_time": "2022-07-28T08:00:25.021Z"
   },
   {
    "duration": 10,
    "start_time": "2022-07-28T08:00:25.225Z"
   },
   {
    "duration": 259,
    "start_time": "2022-07-28T08:00:25.237Z"
   },
   {
    "duration": 12,
    "start_time": "2022-07-28T08:00:25.498Z"
   },
   {
    "duration": 274,
    "start_time": "2022-07-28T08:00:25.513Z"
   },
   {
    "duration": 186,
    "start_time": "2022-07-28T08:00:25.789Z"
   },
   {
    "duration": 11,
    "start_time": "2022-07-28T08:00:25.977Z"
   },
   {
    "duration": 9,
    "start_time": "2022-07-28T08:00:26.005Z"
   },
   {
    "duration": 5,
    "start_time": "2022-07-28T08:02:36.163Z"
   },
   {
    "duration": 5,
    "start_time": "2022-07-28T08:04:21.912Z"
   },
   {
    "duration": 1203,
    "start_time": "2022-07-28T08:04:50.043Z"
   },
   {
    "duration": 3,
    "start_time": "2022-07-28T08:04:51.249Z"
   },
   {
    "duration": 15,
    "start_time": "2022-07-28T08:04:51.254Z"
   },
   {
    "duration": 9,
    "start_time": "2022-07-28T08:04:51.271Z"
   },
   {
    "duration": 10,
    "start_time": "2022-07-28T08:04:51.282Z"
   },
   {
    "duration": 228,
    "start_time": "2022-07-28T08:04:51.293Z"
   },
   {
    "duration": 59,
    "start_time": "2022-07-28T08:04:51.523Z"
   },
   {
    "duration": 96,
    "start_time": "2022-07-28T08:04:51.583Z"
   },
   {
    "duration": 36,
    "start_time": "2022-07-28T08:04:51.681Z"
   },
   {
    "duration": 40,
    "start_time": "2022-07-28T08:04:51.719Z"
   },
   {
    "duration": 75,
    "start_time": "2022-07-28T08:04:51.761Z"
   },
   {
    "duration": 86,
    "start_time": "2022-07-28T08:04:51.838Z"
   },
   {
    "duration": 30,
    "start_time": "2022-07-28T08:04:51.926Z"
   },
   {
    "duration": 127,
    "start_time": "2022-07-28T08:04:51.960Z"
   },
   {
    "duration": 41,
    "start_time": "2022-07-28T08:04:52.089Z"
   },
   {
    "duration": 103,
    "start_time": "2022-07-28T08:04:52.133Z"
   },
   {
    "duration": 23,
    "start_time": "2022-07-28T08:04:52.238Z"
   },
   {
    "duration": 51,
    "start_time": "2022-07-28T08:04:52.263Z"
   },
   {
    "duration": 55,
    "start_time": "2022-07-28T08:04:52.317Z"
   },
   {
    "duration": 1002,
    "start_time": "2022-07-28T08:04:52.374Z"
   },
   {
    "duration": 17,
    "start_time": "2022-07-28T08:04:53.378Z"
   },
   {
    "duration": 30,
    "start_time": "2022-07-28T08:04:53.405Z"
   },
   {
    "duration": 68,
    "start_time": "2022-07-28T08:04:53.436Z"
   },
   {
    "duration": 3,
    "start_time": "2022-07-28T08:04:53.506Z"
   },
   {
    "duration": 9,
    "start_time": "2022-07-28T08:04:53.512Z"
   },
   {
    "duration": 14,
    "start_time": "2022-07-28T08:04:53.523Z"
   },
   {
    "duration": 17,
    "start_time": "2022-07-28T08:04:53.539Z"
   },
   {
    "duration": 13,
    "start_time": "2022-07-28T08:04:53.559Z"
   },
   {
    "duration": 36,
    "start_time": "2022-07-28T08:04:53.574Z"
   },
   {
    "duration": 375,
    "start_time": "2022-07-28T08:04:53.611Z"
   },
   {
    "duration": 5,
    "start_time": "2022-07-28T08:04:53.988Z"
   },
   {
    "duration": 43,
    "start_time": "2022-07-28T08:04:54.005Z"
   },
   {
    "duration": 21,
    "start_time": "2022-07-28T08:04:54.050Z"
   },
   {
    "duration": 169,
    "start_time": "2022-07-28T08:04:54.073Z"
   },
   {
    "duration": 12,
    "start_time": "2022-07-28T08:04:54.245Z"
   },
   {
    "duration": 6,
    "start_time": "2022-07-28T08:04:54.259Z"
   },
   {
    "duration": 7,
    "start_time": "2022-07-28T08:05:05.411Z"
   },
   {
    "duration": 7,
    "start_time": "2022-07-28T08:06:11.823Z"
   },
   {
    "duration": 8,
    "start_time": "2022-07-28T08:06:26.354Z"
   },
   {
    "duration": 10,
    "start_time": "2022-07-28T08:07:09.731Z"
   },
   {
    "duration": 9,
    "start_time": "2022-07-28T08:07:30.246Z"
   },
   {
    "duration": 7,
    "start_time": "2022-07-28T08:16:00.830Z"
   },
   {
    "duration": 116,
    "start_time": "2022-07-28T08:16:25.874Z"
   },
   {
    "duration": 3,
    "start_time": "2022-07-28T08:16:35.002Z"
   },
   {
    "duration": 8,
    "start_time": "2022-07-28T08:16:35.007Z"
   },
   {
    "duration": 8,
    "start_time": "2022-07-28T08:16:35.017Z"
   },
   {
    "duration": 3,
    "start_time": "2022-07-28T08:16:35.054Z"
   },
   {
    "duration": 7,
    "start_time": "2022-07-28T08:16:35.059Z"
   },
   {
    "duration": 206,
    "start_time": "2022-07-28T08:16:35.068Z"
   },
   {
    "duration": 52,
    "start_time": "2022-07-28T08:16:35.276Z"
   },
   {
    "duration": 104,
    "start_time": "2022-07-28T08:16:35.331Z"
   },
   {
    "duration": 16,
    "start_time": "2022-07-28T08:16:35.437Z"
   },
   {
    "duration": 60,
    "start_time": "2022-07-28T08:16:35.455Z"
   },
   {
    "duration": 34,
    "start_time": "2022-07-28T08:16:35.517Z"
   },
   {
    "duration": 84,
    "start_time": "2022-07-28T08:16:35.553Z"
   },
   {
    "duration": 23,
    "start_time": "2022-07-28T08:16:35.638Z"
   },
   {
    "duration": 131,
    "start_time": "2022-07-28T08:16:35.665Z"
   },
   {
    "duration": 43,
    "start_time": "2022-07-28T08:16:35.803Z"
   },
   {
    "duration": 92,
    "start_time": "2022-07-28T08:16:35.848Z"
   },
   {
    "duration": 19,
    "start_time": "2022-07-28T08:16:35.942Z"
   },
   {
    "duration": 59,
    "start_time": "2022-07-28T08:16:35.963Z"
   },
   {
    "duration": 80,
    "start_time": "2022-07-28T08:16:36.024Z"
   },
   {
    "duration": 1121,
    "start_time": "2022-07-28T08:16:36.106Z"
   },
   {
    "duration": 20,
    "start_time": "2022-07-28T08:16:37.229Z"
   },
   {
    "duration": 46,
    "start_time": "2022-07-28T08:16:37.252Z"
   },
   {
    "duration": 51,
    "start_time": "2022-07-28T08:16:37.304Z"
   },
   {
    "duration": 3,
    "start_time": "2022-07-28T08:16:37.357Z"
   },
   {
    "duration": 30,
    "start_time": "2022-07-28T08:16:37.361Z"
   },
   {
    "duration": 24,
    "start_time": "2022-07-28T08:16:37.393Z"
   },
   {
    "duration": 26,
    "start_time": "2022-07-28T08:16:37.419Z"
   },
   {
    "duration": 27,
    "start_time": "2022-07-28T08:16:37.447Z"
   },
   {
    "duration": 9,
    "start_time": "2022-07-28T08:16:37.476Z"
   },
   {
    "duration": 361,
    "start_time": "2022-07-28T08:16:37.487Z"
   },
   {
    "duration": 5,
    "start_time": "2022-07-28T08:16:37.849Z"
   },
   {
    "duration": 15,
    "start_time": "2022-07-28T08:16:37.859Z"
   },
   {
    "duration": 40,
    "start_time": "2022-07-28T08:16:37.876Z"
   },
   {
    "duration": 158,
    "start_time": "2022-07-28T08:16:37.918Z"
   },
   {
    "duration": 9,
    "start_time": "2022-07-28T08:16:38.078Z"
   },
   {
    "duration": 23,
    "start_time": "2022-07-28T08:16:38.088Z"
   },
   {
    "duration": 319,
    "start_time": "2022-07-28T08:16:38.113Z"
   },
   {
    "duration": 370,
    "start_time": "2022-07-28T08:16:38.434Z"
   },
   {
    "duration": 2080,
    "start_time": "2022-07-28T08:16:38.806Z"
   },
   {
    "duration": 21,
    "start_time": "2022-07-28T08:16:40.888Z"
   },
   {
    "duration": 186,
    "start_time": "2022-07-28T08:16:40.911Z"
   },
   {
    "duration": 10,
    "start_time": "2022-07-28T08:16:41.103Z"
   },
   {
    "duration": 11,
    "start_time": "2022-07-28T08:16:41.115Z"
   },
   {
    "duration": 329,
    "start_time": "2022-07-28T08:16:41.128Z"
   },
   {
    "duration": 7,
    "start_time": "2022-07-28T08:16:41.460Z"
   },
   {
    "duration": 50,
    "start_time": "2022-07-28T08:16:41.470Z"
   },
   {
    "duration": 1308,
    "start_time": "2022-07-28T08:16:41.522Z"
   },
   {
    "duration": 1079,
    "start_time": "2022-07-28T08:16:42.832Z"
   },
   {
    "duration": 2170,
    "start_time": "2022-07-28T08:16:43.913Z"
   },
   {
    "duration": 1336,
    "start_time": "2022-07-28T08:16:46.085Z"
   },
   {
    "duration": 235,
    "start_time": "2022-07-28T08:16:47.423Z"
   },
   {
    "duration": 454,
    "start_time": "2022-07-28T08:16:47.660Z"
   },
   {
    "duration": 12,
    "start_time": "2022-07-28T08:16:48.116Z"
   },
   {
    "duration": 357,
    "start_time": "2022-07-28T08:16:48.131Z"
   },
   {
    "duration": 16,
    "start_time": "2022-07-28T08:16:48.490Z"
   },
   {
    "duration": 581,
    "start_time": "2022-07-28T08:16:48.508Z"
   },
   {
    "duration": 169,
    "start_time": "2022-07-28T08:16:49.091Z"
   },
   {
    "duration": 10,
    "start_time": "2022-07-28T08:16:49.262Z"
   },
   {
    "duration": 308,
    "start_time": "2022-07-28T08:16:49.275Z"
   },
   {
    "duration": 20,
    "start_time": "2022-07-28T08:16:49.585Z"
   },
   {
    "duration": 245,
    "start_time": "2022-07-28T08:16:49.607Z"
   },
   {
    "duration": 197,
    "start_time": "2022-07-28T08:16:49.854Z"
   },
   {
    "duration": 11,
    "start_time": "2022-07-28T08:16:50.053Z"
   },
   {
    "duration": 7,
    "start_time": "2022-07-28T08:16:50.069Z"
   },
   {
    "duration": 4,
    "start_time": "2022-07-28T09:43:00.197Z"
   },
   {
    "duration": 21,
    "start_time": "2022-07-28T09:43:00.203Z"
   },
   {
    "duration": 11,
    "start_time": "2022-07-28T09:43:00.226Z"
   },
   {
    "duration": 7,
    "start_time": "2022-07-28T09:43:00.239Z"
   },
   {
    "duration": 201,
    "start_time": "2022-07-28T09:43:00.250Z"
   },
   {
    "duration": 53,
    "start_time": "2022-07-28T09:43:00.452Z"
   },
   {
    "duration": 100,
    "start_time": "2022-07-28T09:43:00.507Z"
   },
   {
    "duration": 17,
    "start_time": "2022-07-28T09:43:00.609Z"
   },
   {
    "duration": 33,
    "start_time": "2022-07-28T09:43:00.628Z"
   },
   {
    "duration": 73,
    "start_time": "2022-07-28T09:43:00.664Z"
   },
   {
    "duration": 81,
    "start_time": "2022-07-28T09:43:00.739Z"
   },
   {
    "duration": 24,
    "start_time": "2022-07-28T09:43:00.821Z"
   },
   {
    "duration": 128,
    "start_time": "2022-07-28T09:43:00.848Z"
   },
   {
    "duration": 45,
    "start_time": "2022-07-28T09:43:00.978Z"
   },
   {
    "duration": 102,
    "start_time": "2022-07-28T09:43:01.026Z"
   },
   {
    "duration": 21,
    "start_time": "2022-07-28T09:43:01.129Z"
   },
   {
    "duration": 28,
    "start_time": "2022-07-28T09:43:01.151Z"
   },
   {
    "duration": 62,
    "start_time": "2022-07-28T09:43:01.204Z"
   },
   {
    "duration": 1094,
    "start_time": "2022-07-28T09:43:01.268Z"
   },
   {
    "duration": 18,
    "start_time": "2022-07-28T09:43:02.364Z"
   },
   {
    "duration": 41,
    "start_time": "2022-07-28T09:43:02.385Z"
   },
   {
    "duration": 47,
    "start_time": "2022-07-28T09:43:02.428Z"
   },
   {
    "duration": 27,
    "start_time": "2022-07-28T09:43:02.478Z"
   },
   {
    "duration": 19,
    "start_time": "2022-07-28T09:43:02.507Z"
   },
   {
    "duration": 28,
    "start_time": "2022-07-28T09:43:02.528Z"
   },
   {
    "duration": 21,
    "start_time": "2022-07-28T09:43:02.558Z"
   },
   {
    "duration": 24,
    "start_time": "2022-07-28T09:43:02.581Z"
   },
   {
    "duration": 26,
    "start_time": "2022-07-28T09:43:02.606Z"
   },
   {
    "duration": 372,
    "start_time": "2022-07-28T09:43:02.634Z"
   },
   {
    "duration": 5,
    "start_time": "2022-07-28T09:43:03.008Z"
   },
   {
    "duration": 30,
    "start_time": "2022-07-28T09:43:03.015Z"
   },
   {
    "duration": 16,
    "start_time": "2022-07-28T09:43:03.047Z"
   },
   {
    "duration": 20,
    "start_time": "2022-07-28T09:43:19.636Z"
   },
   {
    "duration": 10,
    "start_time": "2022-07-28T09:43:33.673Z"
   },
   {
    "duration": 1380,
    "start_time": "2022-07-28T09:51:16.590Z"
   },
   {
    "duration": 4,
    "start_time": "2022-07-28T09:51:17.972Z"
   },
   {
    "duration": 21,
    "start_time": "2022-07-28T09:51:17.977Z"
   },
   {
    "duration": 16,
    "start_time": "2022-07-28T09:51:18.001Z"
   },
   {
    "duration": 213,
    "start_time": "2022-07-28T09:51:18.019Z"
   },
   {
    "duration": 61,
    "start_time": "2022-07-28T09:51:18.234Z"
   },
   {
    "duration": 110,
    "start_time": "2022-07-28T09:51:18.297Z"
   },
   {
    "duration": 16,
    "start_time": "2022-07-28T09:51:18.409Z"
   },
   {
    "duration": 36,
    "start_time": "2022-07-28T09:51:18.427Z"
   },
   {
    "duration": 72,
    "start_time": "2022-07-28T09:51:18.466Z"
   },
   {
    "duration": 96,
    "start_time": "2022-07-28T09:51:18.540Z"
   },
   {
    "duration": 25,
    "start_time": "2022-07-28T09:51:18.638Z"
   },
   {
    "duration": 126,
    "start_time": "2022-07-28T09:51:18.665Z"
   },
   {
    "duration": 42,
    "start_time": "2022-07-28T09:51:18.793Z"
   },
   {
    "duration": 99,
    "start_time": "2022-07-28T09:51:18.837Z"
   },
   {
    "duration": 19,
    "start_time": "2022-07-28T09:51:18.938Z"
   },
   {
    "duration": 50,
    "start_time": "2022-07-28T09:51:18.959Z"
   },
   {
    "duration": 57,
    "start_time": "2022-07-28T09:51:19.011Z"
   },
   {
    "duration": 994,
    "start_time": "2022-07-28T09:51:19.069Z"
   },
   {
    "duration": 19,
    "start_time": "2022-07-28T09:51:20.065Z"
   },
   {
    "duration": 42,
    "start_time": "2022-07-28T09:51:20.086Z"
   },
   {
    "duration": 77,
    "start_time": "2022-07-28T09:51:20.131Z"
   },
   {
    "duration": 4,
    "start_time": "2022-07-28T09:51:20.210Z"
   },
   {
    "duration": 24,
    "start_time": "2022-07-28T09:51:20.216Z"
   },
   {
    "duration": 18,
    "start_time": "2022-07-28T09:51:20.242Z"
   },
   {
    "duration": 16,
    "start_time": "2022-07-28T09:51:20.263Z"
   },
   {
    "duration": 24,
    "start_time": "2022-07-28T09:51:20.281Z"
   },
   {
    "duration": 6,
    "start_time": "2022-07-28T09:51:20.309Z"
   },
   {
    "duration": 396,
    "start_time": "2022-07-28T09:51:20.317Z"
   },
   {
    "duration": 5,
    "start_time": "2022-07-28T09:51:20.715Z"
   },
   {
    "duration": 25,
    "start_time": "2022-07-28T09:51:20.722Z"
   },
   {
    "duration": 24,
    "start_time": "2022-07-28T09:51:20.749Z"
   },
   {
    "duration": 192,
    "start_time": "2022-07-28T09:51:20.775Z"
   },
   {
    "duration": 11,
    "start_time": "2022-07-28T09:51:20.969Z"
   },
   {
    "duration": 29,
    "start_time": "2022-07-28T09:51:20.981Z"
   },
   {
    "duration": 427,
    "start_time": "2022-07-28T09:51:21.012Z"
   },
   {
    "duration": 393,
    "start_time": "2022-07-28T09:51:21.441Z"
   },
   {
    "duration": 2139,
    "start_time": "2022-07-28T09:51:21.836Z"
   },
   {
    "duration": 10,
    "start_time": "2022-07-28T09:51:23.977Z"
   },
   {
    "duration": 295,
    "start_time": "2022-07-28T09:51:23.989Z"
   },
   {
    "duration": 20,
    "start_time": "2022-07-28T09:51:24.285Z"
   },
   {
    "duration": 7,
    "start_time": "2022-07-28T09:51:24.307Z"
   },
   {
    "duration": 346,
    "start_time": "2022-07-28T09:51:24.316Z"
   },
   {
    "duration": 7,
    "start_time": "2022-07-28T09:51:24.664Z"
   },
   {
    "duration": 52,
    "start_time": "2022-07-28T09:51:24.672Z"
   },
   {
    "duration": 1222,
    "start_time": "2022-07-28T09:51:24.725Z"
   },
   {
    "duration": 1342,
    "start_time": "2022-07-28T09:51:25.950Z"
   },
   {
    "duration": 2204,
    "start_time": "2022-07-28T09:51:27.294Z"
   },
   {
    "duration": 1661,
    "start_time": "2022-07-28T09:51:29.503Z"
   },
   {
    "duration": 248,
    "start_time": "2022-07-28T09:51:31.166Z"
   },
   {
    "duration": 191,
    "start_time": "2022-07-28T09:51:31.416Z"
   },
   {
    "duration": 11,
    "start_time": "2022-07-28T09:51:31.610Z"
   },
   {
    "duration": 351,
    "start_time": "2022-07-28T09:51:31.623Z"
   },
   {
    "duration": 8,
    "start_time": "2022-07-28T09:51:31.977Z"
   },
   {
    "duration": 605,
    "start_time": "2022-07-28T09:51:31.987Z"
   },
   {
    "duration": 172,
    "start_time": "2022-07-28T09:51:32.594Z"
   },
   {
    "duration": 12,
    "start_time": "2022-07-28T09:51:32.768Z"
   },
   {
    "duration": 347,
    "start_time": "2022-07-28T09:51:32.783Z"
   },
   {
    "duration": 9,
    "start_time": "2022-07-28T09:51:33.133Z"
   },
   {
    "duration": 498,
    "start_time": "2022-07-28T09:51:33.144Z"
   },
   {
    "duration": 179,
    "start_time": "2022-07-28T09:51:33.644Z"
   },
   {
    "duration": 10,
    "start_time": "2022-07-28T09:51:33.825Z"
   },
   {
    "duration": 241,
    "start_time": "2022-07-28T09:51:33.837Z"
   },
   {
    "duration": 9,
    "start_time": "2022-07-28T09:51:34.080Z"
   },
   {
    "duration": 283,
    "start_time": "2022-07-28T09:51:34.091Z"
   },
   {
    "duration": 198,
    "start_time": "2022-07-28T09:51:34.377Z"
   },
   {
    "duration": 27,
    "start_time": "2022-07-28T09:51:34.577Z"
   },
   {
    "duration": 9,
    "start_time": "2022-07-28T09:51:34.606Z"
   },
   {
    "duration": 1867,
    "start_time": "2022-07-29T12:09:53.297Z"
   },
   {
    "duration": 3,
    "start_time": "2022-07-29T12:09:55.166Z"
   },
   {
    "duration": 8,
    "start_time": "2022-07-29T12:09:55.170Z"
   },
   {
    "duration": 4,
    "start_time": "2022-07-29T12:10:05.140Z"
   },
   {
    "duration": 174,
    "start_time": "2022-07-29T12:10:06.257Z"
   },
   {
    "duration": 3,
    "start_time": "2022-07-29T12:10:14.610Z"
   },
   {
    "duration": 21,
    "start_time": "2022-07-29T12:10:21.073Z"
   },
   {
    "duration": 6,
    "start_time": "2022-07-29T12:10:34.005Z"
   },
   {
    "duration": 3,
    "start_time": "2022-07-29T12:11:44.073Z"
   },
   {
    "duration": 6,
    "start_time": "2022-07-29T12:12:10.892Z"
   },
   {
    "duration": 4,
    "start_time": "2022-07-29T12:12:28.297Z"
   },
   {
    "duration": 7,
    "start_time": "2022-07-29T12:12:30.666Z"
   },
   {
    "duration": 1690,
    "start_time": "2022-07-29T12:23:55.022Z"
   },
   {
    "duration": 3,
    "start_time": "2022-07-29T12:23:56.714Z"
   },
   {
    "duration": 6,
    "start_time": "2022-07-29T12:23:56.719Z"
   },
   {
    "duration": 11,
    "start_time": "2022-07-29T12:23:56.726Z"
   },
   {
    "duration": 5,
    "start_time": "2022-07-29T12:23:56.738Z"
   },
   {
    "duration": 179,
    "start_time": "2022-07-29T12:23:56.744Z"
   },
   {
    "duration": 50,
    "start_time": "2022-07-29T12:23:56.924Z"
   },
   {
    "duration": 83,
    "start_time": "2022-07-29T12:23:56.976Z"
   },
   {
    "duration": 13,
    "start_time": "2022-07-29T12:23:57.060Z"
   },
   {
    "duration": 28,
    "start_time": "2022-07-29T12:23:57.075Z"
   },
   {
    "duration": 59,
    "start_time": "2022-07-29T12:23:57.104Z"
   },
   {
    "duration": 48,
    "start_time": "2022-07-29T12:23:57.165Z"
   },
   {
    "duration": 47,
    "start_time": "2022-07-29T12:23:57.215Z"
   },
   {
    "duration": 16,
    "start_time": "2022-07-29T12:23:57.266Z"
   },
   {
    "duration": 8,
    "start_time": "2022-07-29T12:23:57.284Z"
   },
   {
    "duration": 30,
    "start_time": "2022-07-29T12:23:57.294Z"
   },
   {
    "duration": 85,
    "start_time": "2022-07-29T12:23:57.326Z"
   },
   {
    "duration": 15,
    "start_time": "2022-07-29T12:23:57.413Z"
   },
   {
    "duration": 40,
    "start_time": "2022-07-29T12:23:57.430Z"
   },
   {
    "duration": 47,
    "start_time": "2022-07-29T12:23:57.471Z"
   },
   {
    "duration": 876,
    "start_time": "2022-07-29T12:23:57.520Z"
   },
   {
    "duration": 16,
    "start_time": "2022-07-29T12:23:58.398Z"
   },
   {
    "duration": 39,
    "start_time": "2022-07-29T12:23:58.415Z"
   },
   {
    "duration": 41,
    "start_time": "2022-07-29T12:23:58.456Z"
   },
   {
    "duration": 3,
    "start_time": "2022-07-29T12:23:58.499Z"
   },
   {
    "duration": 7,
    "start_time": "2022-07-29T12:23:58.503Z"
   },
   {
    "duration": 8,
    "start_time": "2022-07-29T12:23:58.511Z"
   },
   {
    "duration": 39,
    "start_time": "2022-07-29T12:23:58.520Z"
   },
   {
    "duration": 9,
    "start_time": "2022-07-29T12:23:58.560Z"
   },
   {
    "duration": 4,
    "start_time": "2022-07-29T12:23:58.571Z"
   },
   {
    "duration": 303,
    "start_time": "2022-07-29T12:23:58.576Z"
   },
   {
    "duration": 4,
    "start_time": "2022-07-29T12:23:58.880Z"
   },
   {
    "duration": 13,
    "start_time": "2022-07-29T12:23:58.885Z"
   },
   {
    "duration": 16,
    "start_time": "2022-07-29T12:23:58.899Z"
   },
   {
    "duration": 160,
    "start_time": "2022-07-29T12:23:58.917Z"
   },
   {
    "duration": 9,
    "start_time": "2022-07-29T12:23:59.079Z"
   },
   {
    "duration": 6,
    "start_time": "2022-07-29T12:23:59.090Z"
   },
   {
    "duration": 262,
    "start_time": "2022-07-29T12:23:59.098Z"
   },
   {
    "duration": 360,
    "start_time": "2022-07-29T12:23:59.362Z"
   },
   {
    "duration": 1673,
    "start_time": "2022-07-29T12:23:59.723Z"
   },
   {
    "duration": 9,
    "start_time": "2022-07-29T12:24:01.399Z"
   },
   {
    "duration": 143,
    "start_time": "2022-07-29T12:24:01.409Z"
   },
   {
    "duration": 8,
    "start_time": "2022-07-29T12:24:01.553Z"
   },
   {
    "duration": 19,
    "start_time": "2022-07-29T12:24:01.562Z"
   },
   {
    "duration": 251,
    "start_time": "2022-07-29T12:24:01.582Z"
   },
   {
    "duration": 6,
    "start_time": "2022-07-29T12:24:01.834Z"
   },
   {
    "duration": 7,
    "start_time": "2022-07-29T12:24:19.401Z"
   },
   {
    "duration": 9,
    "start_time": "2022-07-29T12:24:48.777Z"
   },
   {
    "duration": 9,
    "start_time": "2022-07-29T12:25:09.459Z"
   },
   {
    "duration": 33,
    "start_time": "2022-07-29T12:25:20.577Z"
   },
   {
    "duration": 27,
    "start_time": "2022-07-29T12:25:32.057Z"
   },
   {
    "duration": 4,
    "start_time": "2022-07-29T12:25:50.347Z"
   },
   {
    "duration": 5,
    "start_time": "2022-07-29T12:26:12.689Z"
   },
   {
    "duration": 4,
    "start_time": "2022-07-29T12:26:21.065Z"
   },
   {
    "duration": 95,
    "start_time": "2022-07-29T12:28:53.606Z"
   },
   {
    "duration": 12,
    "start_time": "2022-07-29T12:35:04.933Z"
   },
   {
    "duration": 1814,
    "start_time": "2022-07-29T12:36:55.923Z"
   },
   {
    "duration": 3,
    "start_time": "2022-07-29T12:36:57.739Z"
   },
   {
    "duration": 7,
    "start_time": "2022-07-29T12:36:57.744Z"
   },
   {
    "duration": 4,
    "start_time": "2022-07-29T12:36:57.753Z"
   },
   {
    "duration": 9,
    "start_time": "2022-07-29T12:36:57.758Z"
   },
   {
    "duration": 182,
    "start_time": "2022-07-29T12:36:57.769Z"
   },
   {
    "duration": 46,
    "start_time": "2022-07-29T12:36:57.953Z"
   },
   {
    "duration": 81,
    "start_time": "2022-07-29T12:36:58.000Z"
   },
   {
    "duration": 12,
    "start_time": "2022-07-29T12:36:58.083Z"
   },
   {
    "duration": 27,
    "start_time": "2022-07-29T12:36:58.097Z"
   },
   {
    "duration": 55,
    "start_time": "2022-07-29T12:36:58.126Z"
   },
   {
    "duration": 70,
    "start_time": "2022-07-29T12:36:58.182Z"
   },
   {
    "duration": 25,
    "start_time": "2022-07-29T12:36:58.255Z"
   },
   {
    "duration": 17,
    "start_time": "2022-07-29T12:36:58.281Z"
   },
   {
    "duration": 3,
    "start_time": "2022-07-29T12:36:58.300Z"
   },
   {
    "duration": 63,
    "start_time": "2022-07-29T12:36:58.305Z"
   },
   {
    "duration": 65,
    "start_time": "2022-07-29T12:36:58.370Z"
   },
   {
    "duration": 16,
    "start_time": "2022-07-29T12:36:58.453Z"
   },
   {
    "duration": 21,
    "start_time": "2022-07-29T12:36:58.471Z"
   },
   {
    "duration": 69,
    "start_time": "2022-07-29T12:36:58.494Z"
   },
   {
    "duration": 871,
    "start_time": "2022-07-29T12:36:58.565Z"
   },
   {
    "duration": 22,
    "start_time": "2022-07-29T12:36:59.439Z"
   },
   {
    "duration": 20,
    "start_time": "2022-07-29T12:36:59.463Z"
   },
   {
    "duration": 68,
    "start_time": "2022-07-29T12:36:59.485Z"
   },
   {
    "duration": 3,
    "start_time": "2022-07-29T12:36:59.554Z"
   },
   {
    "duration": 13,
    "start_time": "2022-07-29T12:36:59.558Z"
   },
   {
    "duration": 11,
    "start_time": "2022-07-29T12:36:59.573Z"
   },
   {
    "duration": 28,
    "start_time": "2022-07-29T12:36:59.588Z"
   },
   {
    "duration": 18,
    "start_time": "2022-07-29T12:36:59.618Z"
   },
   {
    "duration": 9,
    "start_time": "2022-07-29T12:36:59.638Z"
   },
   {
    "duration": 306,
    "start_time": "2022-07-29T12:36:59.649Z"
   },
   {
    "duration": 5,
    "start_time": "2022-07-29T12:36:59.957Z"
   },
   {
    "duration": 16,
    "start_time": "2022-07-29T12:36:59.963Z"
   },
   {
    "duration": 21,
    "start_time": "2022-07-29T12:36:59.981Z"
   },
   {
    "duration": 156,
    "start_time": "2022-07-29T12:37:00.003Z"
   },
   {
    "duration": 9,
    "start_time": "2022-07-29T12:37:00.161Z"
   },
   {
    "duration": 25,
    "start_time": "2022-07-29T12:37:00.172Z"
   },
   {
    "duration": 269,
    "start_time": "2022-07-29T12:37:00.198Z"
   },
   {
    "duration": 363,
    "start_time": "2022-07-29T12:37:00.468Z"
   },
   {
    "duration": 1659,
    "start_time": "2022-07-29T12:37:00.833Z"
   },
   {
    "duration": 11,
    "start_time": "2022-07-29T12:37:02.494Z"
   },
   {
    "duration": 156,
    "start_time": "2022-07-29T12:37:02.506Z"
   },
   {
    "duration": 9,
    "start_time": "2022-07-29T12:37:02.664Z"
   },
   {
    "duration": 10,
    "start_time": "2022-07-29T12:37:02.674Z"
   },
   {
    "duration": 273,
    "start_time": "2022-07-29T12:37:02.685Z"
   },
   {
    "duration": 6,
    "start_time": "2022-07-29T12:37:02.960Z"
   },
   {
    "duration": 32,
    "start_time": "2022-07-29T12:37:02.968Z"
   },
   {
    "duration": 1055,
    "start_time": "2022-07-29T12:37:03.001Z"
   },
   {
    "duration": 899,
    "start_time": "2022-07-29T12:37:04.058Z"
   },
   {
    "duration": 1746,
    "start_time": "2022-07-29T12:37:04.959Z"
   },
   {
    "duration": 1165,
    "start_time": "2022-07-29T12:37:06.707Z"
   },
   {
    "duration": 196,
    "start_time": "2022-07-29T12:37:07.873Z"
   },
   {
    "duration": 157,
    "start_time": "2022-07-29T12:37:08.070Z"
   },
   {
    "duration": 10,
    "start_time": "2022-07-29T12:37:08.229Z"
   },
   {
    "duration": 432,
    "start_time": "2022-07-29T12:37:08.252Z"
   },
   {
    "duration": 7,
    "start_time": "2022-07-29T12:37:08.686Z"
   },
   {
    "duration": 533,
    "start_time": "2022-07-29T12:37:08.695Z"
   },
   {
    "duration": 154,
    "start_time": "2022-07-29T12:37:09.230Z"
   },
   {
    "duration": 9,
    "start_time": "2022-07-29T12:37:09.386Z"
   },
   {
    "duration": 253,
    "start_time": "2022-07-29T12:37:09.397Z"
   },
   {
    "duration": 8,
    "start_time": "2022-07-29T12:37:09.652Z"
   },
   {
    "duration": 204,
    "start_time": "2022-07-29T12:37:09.661Z"
   },
   {
    "duration": 138,
    "start_time": "2022-07-29T12:37:09.866Z"
   },
   {
    "duration": 8,
    "start_time": "2022-07-29T12:37:10.006Z"
   },
   {
    "duration": 194,
    "start_time": "2022-07-29T12:37:10.016Z"
   },
   {
    "duration": 7,
    "start_time": "2022-07-29T12:37:10.212Z"
   },
   {
    "duration": 219,
    "start_time": "2022-07-29T12:37:10.221Z"
   },
   {
    "duration": 149,
    "start_time": "2022-07-29T12:37:10.452Z"
   },
   {
    "duration": 12,
    "start_time": "2022-07-29T12:37:10.602Z"
   },
   {
    "duration": 8,
    "start_time": "2022-07-29T12:37:10.616Z"
   },
   {
    "duration": 34,
    "start_time": "2022-07-29T12:37:10.626Z"
   },
   {
    "duration": 22,
    "start_time": "2022-07-29T12:37:10.661Z"
   },
   {
    "duration": 11,
    "start_time": "2022-07-29T12:37:10.684Z"
   },
   {
    "duration": 12,
    "start_time": "2022-07-29T12:37:10.697Z"
   },
   {
    "duration": 12,
    "start_time": "2022-07-29T12:37:10.711Z"
   },
   {
    "duration": 32,
    "start_time": "2022-07-29T12:37:10.724Z"
   },
   {
    "duration": 13,
    "start_time": "2022-07-29T12:37:10.758Z"
   },
   {
    "duration": 21,
    "start_time": "2022-07-29T12:37:10.773Z"
   },
   {
    "duration": 10,
    "start_time": "2022-07-29T12:37:10.795Z"
   },
   {
    "duration": 1829,
    "start_time": "2022-07-29T12:38:51.181Z"
   },
   {
    "duration": 2,
    "start_time": "2022-07-29T12:38:53.012Z"
   },
   {
    "duration": 8,
    "start_time": "2022-07-29T12:38:53.016Z"
   },
   {
    "duration": 4,
    "start_time": "2022-07-29T12:38:53.026Z"
   },
   {
    "duration": 7,
    "start_time": "2022-07-29T12:38:53.031Z"
   },
   {
    "duration": 184,
    "start_time": "2022-07-29T12:38:53.040Z"
   },
   {
    "duration": 48,
    "start_time": "2022-07-29T12:38:53.226Z"
   },
   {
    "duration": 87,
    "start_time": "2022-07-29T12:38:53.277Z"
   },
   {
    "duration": 14,
    "start_time": "2022-07-29T12:38:53.366Z"
   },
   {
    "duration": 29,
    "start_time": "2022-07-29T12:38:53.383Z"
   },
   {
    "duration": 75,
    "start_time": "2022-07-29T12:38:53.413Z"
   },
   {
    "duration": 95,
    "start_time": "2022-07-29T12:38:53.490Z"
   },
   {
    "duration": 22,
    "start_time": "2022-07-29T12:38:53.587Z"
   },
   {
    "duration": 43,
    "start_time": "2022-07-29T12:38:53.611Z"
   },
   {
    "duration": 5,
    "start_time": "2022-07-29T12:38:53.656Z"
   },
   {
    "duration": 41,
    "start_time": "2022-07-29T12:38:53.663Z"
   },
   {
    "duration": 83,
    "start_time": "2022-07-29T12:38:53.706Z"
   },
   {
    "duration": 18,
    "start_time": "2022-07-29T12:38:53.790Z"
   },
   {
    "duration": 45,
    "start_time": "2022-07-29T12:38:53.810Z"
   },
   {
    "duration": 50,
    "start_time": "2022-07-29T12:38:53.857Z"
   },
   {
    "duration": 979,
    "start_time": "2022-07-29T12:38:53.909Z"
   },
   {
    "duration": 18,
    "start_time": "2022-07-29T12:38:54.889Z"
   },
   {
    "duration": 46,
    "start_time": "2022-07-29T12:38:54.909Z"
   },
   {
    "duration": 48,
    "start_time": "2022-07-29T12:38:54.957Z"
   },
   {
    "duration": 3,
    "start_time": "2022-07-29T12:38:55.007Z"
   },
   {
    "duration": 23,
    "start_time": "2022-07-29T12:38:55.011Z"
   },
   {
    "duration": 21,
    "start_time": "2022-07-29T12:38:55.035Z"
   },
   {
    "duration": 16,
    "start_time": "2022-07-29T12:38:55.061Z"
   },
   {
    "duration": 16,
    "start_time": "2022-07-29T12:38:55.079Z"
   },
   {
    "duration": 6,
    "start_time": "2022-07-29T12:38:55.097Z"
   },
   {
    "duration": 390,
    "start_time": "2022-07-29T12:38:55.105Z"
   },
   {
    "duration": 5,
    "start_time": "2022-07-29T12:38:55.497Z"
   },
   {
    "duration": 19,
    "start_time": "2022-07-29T12:38:55.503Z"
   },
   {
    "duration": 44,
    "start_time": "2022-07-29T12:38:55.524Z"
   },
   {
    "duration": 176,
    "start_time": "2022-07-29T12:38:55.571Z"
   },
   {
    "duration": 9,
    "start_time": "2022-07-29T12:38:55.752Z"
   },
   {
    "duration": 11,
    "start_time": "2022-07-29T12:38:55.763Z"
   },
   {
    "duration": 370,
    "start_time": "2022-07-29T12:38:55.777Z"
   },
   {
    "duration": 462,
    "start_time": "2022-07-29T12:38:56.152Z"
   },
   {
    "duration": 1861,
    "start_time": "2022-07-29T12:38:56.616Z"
   },
   {
    "duration": 10,
    "start_time": "2022-07-29T12:38:58.479Z"
   },
   {
    "duration": 150,
    "start_time": "2022-07-29T12:38:58.490Z"
   },
   {
    "duration": 17,
    "start_time": "2022-07-29T12:38:58.642Z"
   },
   {
    "duration": 7,
    "start_time": "2022-07-29T12:38:58.660Z"
   },
   {
    "duration": 296,
    "start_time": "2022-07-29T12:38:58.669Z"
   },
   {
    "duration": 7,
    "start_time": "2022-07-29T12:38:58.967Z"
   },
   {
    "duration": 41,
    "start_time": "2022-07-29T12:38:58.976Z"
   },
   {
    "duration": 1069,
    "start_time": "2022-07-29T12:38:59.019Z"
   },
   {
    "duration": 914,
    "start_time": "2022-07-29T12:39:00.089Z"
   },
   {
    "duration": 1682,
    "start_time": "2022-07-29T12:39:01.005Z"
   },
   {
    "duration": 1154,
    "start_time": "2022-07-29T12:39:02.689Z"
   },
   {
    "duration": 200,
    "start_time": "2022-07-29T12:39:03.845Z"
   },
   {
    "duration": 143,
    "start_time": "2022-07-29T12:39:04.046Z"
   },
   {
    "duration": 8,
    "start_time": "2022-07-29T12:39:04.191Z"
   },
   {
    "duration": 406,
    "start_time": "2022-07-29T12:39:04.200Z"
   },
   {
    "duration": 8,
    "start_time": "2022-07-29T12:39:04.607Z"
   },
   {
    "duration": 505,
    "start_time": "2022-07-29T12:39:04.617Z"
   },
   {
    "duration": 135,
    "start_time": "2022-07-29T12:39:05.124Z"
   },
   {
    "duration": 9,
    "start_time": "2022-07-29T12:39:05.260Z"
   },
   {
    "duration": 261,
    "start_time": "2022-07-29T12:39:05.270Z"
   },
   {
    "duration": 7,
    "start_time": "2022-07-29T12:39:05.532Z"
   },
   {
    "duration": 215,
    "start_time": "2022-07-29T12:39:05.540Z"
   },
   {
    "duration": 144,
    "start_time": "2022-07-29T12:39:05.756Z"
   },
   {
    "duration": 9,
    "start_time": "2022-07-29T12:39:05.902Z"
   },
   {
    "duration": 291,
    "start_time": "2022-07-29T12:39:05.913Z"
   },
   {
    "duration": 9,
    "start_time": "2022-07-29T12:39:06.206Z"
   },
   {
    "duration": 225,
    "start_time": "2022-07-29T12:39:06.217Z"
   },
   {
    "duration": 147,
    "start_time": "2022-07-29T12:39:06.444Z"
   },
   {
    "duration": 13,
    "start_time": "2022-07-29T12:39:06.593Z"
   },
   {
    "duration": 19,
    "start_time": "2022-07-29T12:39:06.608Z"
   },
   {
    "duration": 27,
    "start_time": "2022-07-29T12:39:06.629Z"
   },
   {
    "duration": 12,
    "start_time": "2022-07-29T12:39:06.657Z"
   },
   {
    "duration": 10,
    "start_time": "2022-07-29T12:39:06.670Z"
   },
   {
    "duration": 11,
    "start_time": "2022-07-29T12:39:06.682Z"
   },
   {
    "duration": 11,
    "start_time": "2022-07-29T12:39:06.695Z"
   },
   {
    "duration": 7,
    "start_time": "2022-07-29T12:39:06.707Z"
   },
   {
    "duration": 44,
    "start_time": "2022-07-29T12:39:06.716Z"
   },
   {
    "duration": 22,
    "start_time": "2022-07-29T12:39:06.762Z"
   },
   {
    "duration": 12,
    "start_time": "2022-07-29T12:39:06.786Z"
   },
   {
    "duration": 58,
    "start_time": "2022-07-29T12:39:06.799Z"
   },
   {
    "duration": 121,
    "start_time": "2022-07-29T12:39:06.858Z"
   },
   {
    "duration": 4,
    "start_time": "2022-07-29T12:39:06.983Z"
   },
   {
    "duration": 39,
    "start_time": "2022-07-29T12:39:06.988Z"
   },
   {
    "duration": 418,
    "start_time": "2022-07-29T12:39:07.028Z"
   },
   {
    "duration": 32,
    "start_time": "2022-07-29T12:39:07.448Z"
   },
   {
    "duration": 1574,
    "start_time": "2022-07-29T13:05:09.203Z"
   },
   {
    "duration": 3,
    "start_time": "2022-07-29T13:05:10.779Z"
   },
   {
    "duration": 15,
    "start_time": "2022-07-29T13:05:10.783Z"
   },
   {
    "duration": 11,
    "start_time": "2022-07-29T13:05:10.799Z"
   },
   {
    "duration": 6,
    "start_time": "2022-07-29T13:05:10.812Z"
   },
   {
    "duration": 192,
    "start_time": "2022-07-29T13:05:10.819Z"
   },
   {
    "duration": 50,
    "start_time": "2022-07-29T13:05:11.013Z"
   },
   {
    "duration": 67,
    "start_time": "2022-07-29T13:05:11.065Z"
   },
   {
    "duration": 20,
    "start_time": "2022-07-29T13:05:11.134Z"
   },
   {
    "duration": 37,
    "start_time": "2022-07-29T13:05:11.156Z"
   },
   {
    "duration": 31,
    "start_time": "2022-07-29T13:05:11.194Z"
   },
   {
    "duration": 72,
    "start_time": "2022-07-29T13:05:11.226Z"
   },
   {
    "duration": 19,
    "start_time": "2022-07-29T13:05:11.300Z"
   },
   {
    "duration": 34,
    "start_time": "2022-07-29T13:05:11.321Z"
   },
   {
    "duration": 3,
    "start_time": "2022-07-29T13:05:11.357Z"
   },
   {
    "duration": 33,
    "start_time": "2022-07-29T13:05:11.361Z"
   },
   {
    "duration": 89,
    "start_time": "2022-07-29T13:05:11.396Z"
   },
   {
    "duration": 16,
    "start_time": "2022-07-29T13:05:11.486Z"
   },
   {
    "duration": 23,
    "start_time": "2022-07-29T13:05:11.503Z"
   },
   {
    "duration": 79,
    "start_time": "2022-07-29T13:05:11.527Z"
   },
   {
    "duration": 882,
    "start_time": "2022-07-29T13:05:11.608Z"
   },
   {
    "duration": 17,
    "start_time": "2022-07-29T13:05:12.492Z"
   },
   {
    "duration": 20,
    "start_time": "2022-07-29T13:05:12.511Z"
   },
   {
    "duration": 65,
    "start_time": "2022-07-29T13:05:12.533Z"
   },
   {
    "duration": 3,
    "start_time": "2022-07-29T13:05:12.600Z"
   },
   {
    "duration": 17,
    "start_time": "2022-07-29T13:05:12.605Z"
   },
   {
    "duration": 29,
    "start_time": "2022-07-29T13:05:12.624Z"
   },
   {
    "duration": 17,
    "start_time": "2022-07-29T13:05:12.659Z"
   },
   {
    "duration": 15,
    "start_time": "2022-07-29T13:05:12.678Z"
   },
   {
    "duration": 8,
    "start_time": "2022-07-29T13:05:12.695Z"
   },
   {
    "duration": 310,
    "start_time": "2022-07-29T13:05:12.705Z"
   },
   {
    "duration": 4,
    "start_time": "2022-07-29T13:05:13.017Z"
   },
   {
    "duration": 17,
    "start_time": "2022-07-29T13:05:13.022Z"
   },
   {
    "duration": 25,
    "start_time": "2022-07-29T13:05:13.041Z"
   },
   {
    "duration": 154,
    "start_time": "2022-07-29T13:05:13.068Z"
   },
   {
    "duration": 8,
    "start_time": "2022-07-29T13:05:13.224Z"
   },
   {
    "duration": 22,
    "start_time": "2022-07-29T13:05:13.234Z"
   },
   {
    "duration": 252,
    "start_time": "2022-07-29T13:05:13.257Z"
   },
   {
    "duration": 366,
    "start_time": "2022-07-29T13:05:13.510Z"
   },
   {
    "duration": 1777,
    "start_time": "2022-07-29T13:05:13.878Z"
   },
   {
    "duration": 10,
    "start_time": "2022-07-29T13:05:15.656Z"
   },
   {
    "duration": 144,
    "start_time": "2022-07-29T13:05:15.667Z"
   },
   {
    "duration": 10,
    "start_time": "2022-07-29T13:05:15.813Z"
   },
   {
    "duration": 13,
    "start_time": "2022-07-29T13:05:15.825Z"
   },
   {
    "duration": 288,
    "start_time": "2022-07-29T13:05:15.852Z"
   },
   {
    "duration": 13,
    "start_time": "2022-07-29T13:05:16.141Z"
   },
   {
    "duration": 48,
    "start_time": "2022-07-29T13:05:16.156Z"
   },
   {
    "duration": 1078,
    "start_time": "2022-07-29T13:05:16.205Z"
   },
   {
    "duration": 914,
    "start_time": "2022-07-29T13:05:17.285Z"
   },
   {
    "duration": 1725,
    "start_time": "2022-07-29T13:05:18.200Z"
   },
   {
    "duration": 1223,
    "start_time": "2022-07-29T13:05:19.927Z"
   },
   {
    "duration": 201,
    "start_time": "2022-07-29T13:05:21.152Z"
   },
   {
    "duration": 168,
    "start_time": "2022-07-29T13:05:21.355Z"
   },
   {
    "duration": 10,
    "start_time": "2022-07-29T13:05:21.525Z"
   },
   {
    "duration": 404,
    "start_time": "2022-07-29T13:05:21.537Z"
   },
   {
    "duration": 11,
    "start_time": "2022-07-29T13:05:21.943Z"
   },
   {
    "duration": 472,
    "start_time": "2022-07-29T13:05:21.955Z"
   },
   {
    "duration": 136,
    "start_time": "2022-07-29T13:05:22.429Z"
   },
   {
    "duration": 8,
    "start_time": "2022-07-29T13:05:22.567Z"
   },
   {
    "duration": 267,
    "start_time": "2022-07-29T13:05:22.576Z"
   },
   {
    "duration": 10,
    "start_time": "2022-07-29T13:05:22.845Z"
   },
   {
    "duration": 214,
    "start_time": "2022-07-29T13:05:22.856Z"
   },
   {
    "duration": 140,
    "start_time": "2022-07-29T13:05:23.072Z"
   },
   {
    "duration": 9,
    "start_time": "2022-07-29T13:05:23.213Z"
   },
   {
    "duration": 192,
    "start_time": "2022-07-29T13:05:23.223Z"
   },
   {
    "duration": 7,
    "start_time": "2022-07-29T13:05:23.416Z"
   },
   {
    "duration": 221,
    "start_time": "2022-07-29T13:05:23.424Z"
   },
   {
    "duration": 150,
    "start_time": "2022-07-29T13:05:23.647Z"
   },
   {
    "duration": 11,
    "start_time": "2022-07-29T13:05:23.798Z"
   },
   {
    "duration": 9,
    "start_time": "2022-07-29T13:05:23.810Z"
   },
   {
    "duration": 39,
    "start_time": "2022-07-29T13:05:23.820Z"
   },
   {
    "duration": 18,
    "start_time": "2022-07-29T13:05:23.860Z"
   },
   {
    "duration": 12,
    "start_time": "2022-07-29T13:05:23.880Z"
   },
   {
    "duration": 14,
    "start_time": "2022-07-29T13:05:23.894Z"
   },
   {
    "duration": 11,
    "start_time": "2022-07-29T13:05:23.910Z"
   },
   {
    "duration": 7,
    "start_time": "2022-07-29T13:05:23.953Z"
   },
   {
    "duration": 15,
    "start_time": "2022-07-29T13:05:23.961Z"
   },
   {
    "duration": 22,
    "start_time": "2022-07-29T13:05:23.977Z"
   },
   {
    "duration": 14,
    "start_time": "2022-07-29T13:05:24.001Z"
   },
   {
    "duration": 1728,
    "start_time": "2022-07-29T13:09:28.433Z"
   },
   {
    "duration": 2,
    "start_time": "2022-07-29T13:09:30.163Z"
   },
   {
    "duration": 17,
    "start_time": "2022-07-29T13:09:30.166Z"
   },
   {
    "duration": 11,
    "start_time": "2022-07-29T13:09:30.185Z"
   },
   {
    "duration": 28,
    "start_time": "2022-07-29T13:09:30.198Z"
   },
   {
    "duration": 198,
    "start_time": "2022-07-29T13:09:30.227Z"
   },
   {
    "duration": 45,
    "start_time": "2022-07-29T13:09:30.426Z"
   },
   {
    "duration": 84,
    "start_time": "2022-07-29T13:09:30.473Z"
   },
   {
    "duration": 12,
    "start_time": "2022-07-29T13:09:30.558Z"
   },
   {
    "duration": 39,
    "start_time": "2022-07-29T13:09:30.573Z"
   },
   {
    "duration": 52,
    "start_time": "2022-07-29T13:09:30.615Z"
   },
   {
    "duration": 47,
    "start_time": "2022-07-29T13:09:30.669Z"
   },
   {
    "duration": 47,
    "start_time": "2022-07-29T13:09:30.717Z"
   },
   {
    "duration": 16,
    "start_time": "2022-07-29T13:09:30.765Z"
   },
   {
    "duration": 8,
    "start_time": "2022-07-29T13:09:30.783Z"
   },
   {
    "duration": 49,
    "start_time": "2022-07-29T13:09:30.793Z"
   },
   {
    "duration": 77,
    "start_time": "2022-07-29T13:09:30.844Z"
   },
   {
    "duration": 31,
    "start_time": "2022-07-29T13:09:30.923Z"
   },
   {
    "duration": 23,
    "start_time": "2022-07-29T13:09:30.956Z"
   },
   {
    "duration": 49,
    "start_time": "2022-07-29T13:09:30.981Z"
   },
   {
    "duration": 873,
    "start_time": "2022-07-29T13:09:31.032Z"
   },
   {
    "duration": 16,
    "start_time": "2022-07-29T13:09:31.906Z"
   },
   {
    "duration": 34,
    "start_time": "2022-07-29T13:09:31.924Z"
   },
   {
    "duration": 47,
    "start_time": "2022-07-29T13:09:31.960Z"
   },
   {
    "duration": 3,
    "start_time": "2022-07-29T13:09:32.008Z"
   },
   {
    "duration": 17,
    "start_time": "2022-07-29T13:09:32.012Z"
   },
   {
    "duration": 29,
    "start_time": "2022-07-29T13:09:32.030Z"
   },
   {
    "duration": 26,
    "start_time": "2022-07-29T13:09:32.063Z"
   },
   {
    "duration": 10,
    "start_time": "2022-07-29T13:09:32.091Z"
   },
   {
    "duration": 3,
    "start_time": "2022-07-29T13:09:32.103Z"
   },
   {
    "duration": 302,
    "start_time": "2022-07-29T13:09:32.108Z"
   },
   {
    "duration": 4,
    "start_time": "2022-07-29T13:09:32.411Z"
   },
   {
    "duration": 20,
    "start_time": "2022-07-29T13:09:32.416Z"
   },
   {
    "duration": 29,
    "start_time": "2022-07-29T13:09:32.438Z"
   },
   {
    "duration": 165,
    "start_time": "2022-07-29T13:09:32.468Z"
   },
   {
    "duration": 19,
    "start_time": "2022-07-29T13:09:32.634Z"
   },
   {
    "duration": 6,
    "start_time": "2022-07-29T13:09:32.654Z"
   },
   {
    "duration": 261,
    "start_time": "2022-07-29T13:09:32.661Z"
   },
   {
    "duration": 375,
    "start_time": "2022-07-29T13:09:32.923Z"
   },
   {
    "duration": 1848,
    "start_time": "2022-07-29T13:09:33.299Z"
   },
   {
    "duration": 13,
    "start_time": "2022-07-29T13:09:35.148Z"
   },
   {
    "duration": 158,
    "start_time": "2022-07-29T13:09:35.163Z"
   },
   {
    "duration": 9,
    "start_time": "2022-07-29T13:09:35.323Z"
   },
   {
    "duration": 21,
    "start_time": "2022-07-29T13:09:35.333Z"
   },
   {
    "duration": 300,
    "start_time": "2022-07-29T13:09:35.355Z"
   },
   {
    "duration": 7,
    "start_time": "2022-07-29T13:09:35.657Z"
   },
   {
    "duration": 46,
    "start_time": "2022-07-29T13:09:35.665Z"
   },
   {
    "duration": 1470,
    "start_time": "2022-07-29T13:09:35.712Z"
   },
   {
    "duration": 1103,
    "start_time": "2022-07-29T13:09:37.184Z"
   },
   {
    "duration": 1903,
    "start_time": "2022-07-29T13:09:38.289Z"
   },
   {
    "duration": 1156,
    "start_time": "2022-07-29T13:09:40.194Z"
   },
   {
    "duration": 201,
    "start_time": "2022-07-29T13:09:41.351Z"
   },
   {
    "duration": 155,
    "start_time": "2022-07-29T13:09:41.554Z"
   },
   {
    "duration": 9,
    "start_time": "2022-07-29T13:09:41.710Z"
   },
   {
    "duration": 441,
    "start_time": "2022-07-29T13:09:41.720Z"
   },
   {
    "duration": 7,
    "start_time": "2022-07-29T13:09:42.162Z"
   },
   {
    "duration": 533,
    "start_time": "2022-07-29T13:09:42.171Z"
   },
   {
    "duration": 168,
    "start_time": "2022-07-29T13:09:42.706Z"
   },
   {
    "duration": 12,
    "start_time": "2022-07-29T13:09:42.876Z"
   },
   {
    "duration": 296,
    "start_time": "2022-07-29T13:09:42.890Z"
   },
   {
    "duration": 8,
    "start_time": "2022-07-29T13:09:43.188Z"
   },
   {
    "duration": 288,
    "start_time": "2022-07-29T13:09:43.198Z"
   },
   {
    "duration": 151,
    "start_time": "2022-07-29T13:09:43.488Z"
   },
   {
    "duration": 17,
    "start_time": "2022-07-29T13:09:43.640Z"
   },
   {
    "duration": 214,
    "start_time": "2022-07-29T13:09:43.658Z"
   },
   {
    "duration": 11,
    "start_time": "2022-07-29T13:09:43.874Z"
   },
   {
    "duration": 281,
    "start_time": "2022-07-29T13:09:43.887Z"
   },
   {
    "duration": 163,
    "start_time": "2022-07-29T13:09:44.169Z"
   },
   {
    "duration": 21,
    "start_time": "2022-07-29T13:09:44.333Z"
   },
   {
    "duration": 14,
    "start_time": "2022-07-29T13:09:44.356Z"
   },
   {
    "duration": 18,
    "start_time": "2022-07-29T13:09:44.372Z"
   },
   {
    "duration": 11,
    "start_time": "2022-07-29T13:09:44.391Z"
   },
   {
    "duration": 11,
    "start_time": "2022-07-29T13:09:44.404Z"
   },
   {
    "duration": 43,
    "start_time": "2022-07-29T13:09:44.416Z"
   },
   {
    "duration": 12,
    "start_time": "2022-07-29T13:09:44.460Z"
   },
   {
    "duration": 7,
    "start_time": "2022-07-29T13:09:44.474Z"
   },
   {
    "duration": 15,
    "start_time": "2022-07-29T13:09:44.483Z"
   },
   {
    "duration": 27,
    "start_time": "2022-07-29T13:09:44.499Z"
   },
   {
    "duration": 44,
    "start_time": "2022-07-29T13:09:44.527Z"
   },
   {
    "duration": 44,
    "start_time": "2022-07-29T13:09:44.573Z"
   },
   {
    "duration": 179,
    "start_time": "2022-07-29T13:09:44.619Z"
   },
   {
    "duration": 3,
    "start_time": "2022-07-29T13:09:44.803Z"
   },
   {
    "duration": 65,
    "start_time": "2022-07-29T13:09:44.808Z"
   },
   {
    "duration": 511,
    "start_time": "2022-07-29T13:09:44.875Z"
   },
   {
    "duration": 4,
    "start_time": "2022-07-29T13:10:58.674Z"
   },
   {
    "duration": 30,
    "start_time": "2022-07-29T13:11:27.990Z"
   }
  ],
  "kernelspec": {
   "display_name": "Python 3 (ipykernel)",
   "language": "python",
   "name": "python3"
  },
  "language_info": {
   "codemirror_mode": {
    "name": "ipython",
    "version": 3
   },
   "file_extension": ".py",
   "mimetype": "text/x-python",
   "name": "python",
   "nbconvert_exporter": "python",
   "pygments_lexer": "ipython3",
   "version": "3.9.7"
  },
  "toc": {
   "base_numbering": 1,
   "nav_menu": {},
   "number_sections": true,
   "sideBar": true,
   "skip_h1_title": true,
   "title_cell": "Table of Contents",
   "title_sidebar": "Contents",
   "toc_cell": false,
   "toc_position": {},
   "toc_section_display": true,
   "toc_window_display": false
  }
 },
 "nbformat": 4,
 "nbformat_minor": 5
}
